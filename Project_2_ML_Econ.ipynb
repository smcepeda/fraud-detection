{
  "nbformat": 4,
  "nbformat_minor": 0,
  "metadata": {
    "colab": {
      "name": "Project_2_ML_Econ.ipynb",
      "provenance": [],
      "collapsed_sections": [],
      "toc_visible": true
    },
    "kernelspec": {
      "name": "python3",
      "display_name": "Python 3"
    },
    "accelerator": "TPU"
  },
  "cells": [
    {
      "cell_type": "markdown",
      "metadata": {
        "id": "h_zagxANlmvw"
      },
      "source": [
        "# *Project 2: Credit Card Dataset*\n"
      ]
    },
    {
      "cell_type": "markdown",
      "metadata": {
        "id": "Ruh2su75luQs"
      },
      "source": [
        "We try to build a machine learning model to predict if an applicant is 'good' or 'bad' client. <br>\r\n",
        "The definition of 'good' or 'bad' is not given, so we differentiate it ourselves. \r\n",
        "\r\n",
        "The dataset contains two csv files, which can be merged by client ID: <br>\r\n",
        "application_record.csv <br>\r\n",
        "credit_record.csv <br>\r\n",
        "\r\n",
        "\r\n",
        "\r\n"
      ]
    },
    {
      "cell_type": "markdown",
      "metadata": {
        "id": "8TF7399-l46X"
      },
      "source": [
        "Project Overview"
      ]
    },
    {
      "cell_type": "markdown",
      "metadata": {
        "id": "TLwiERZrmUgH"
      },
      "source": [
        "## Importing Relevant Libraries"
      ]
    },
    {
      "cell_type": "code",
      "metadata": {
        "id": "wy1sMAmmlL-R",
        "colab": {
          "base_uri": "https://localhost:8080/",
          "height": 51
        },
        "outputId": "c0978bc1-8841-4c8a-be08-4b133d594ba1"
      },
      "source": [
        "%matplotlib inline\n",
        "%reload_ext autoreload\n",
        "%load_ext autoreload\n",
        "%autoreload 2\n",
        "\n",
        "# General math, csv and plotting modules.\n",
        "import pandas as pd\n",
        "import csv\n",
        "import numpy as np\n",
        "import matplotlib.pyplot as plt\n",
        "\n",
        "# Widget and formatting modules\n",
        "import ipywidgets\n",
        "from ipywidgets import interact, interactive, interact_manual\n",
        "import pylab\n",
        "import seaborn as sns\n",
        "pylab.rcParams['figure.figsize'] = (10, 5)\n",
        "\n",
        "# Visualization Libraries\n",
        "import io\n",
        "import plotly.offline as py\n",
        "py.init_notebook_mode(connected=True)\n",
        "import plotly.graph_objs as go\n",
        "import plotly.tools as tls\n",
        "import plotly.figure_factory as ff\n",
        "from mpl_toolkits.mplot3d import Axes3D\n",
        "from plotly.subplots import make_subplots\n",
        "from matplotlib.pyplot import figure\n",
        "\n",
        "# Loading the required libraries \n",
        "from fancyimpute import IterativeImputer as MICE\n",
        "import sklearn\n",
        "from sklearn import linear_model\n",
        "from sklearn.preprocessing import LabelEncoder\n",
        "from sklearn.model_selection import train_test_split\n",
        "from sklearn.preprocessing import scale, PolynomialFeatures\n",
        "from sklearn.metrics import mean_squared_error, r2_score\n",
        "from sklearn import preprocessing\n",
        "from sklearn.preprocessing import StandardScaler\n",
        "from sklearn.linear_model import LogisticRegression\n",
        "from sklearn.linear_model import LogisticRegressionCV\n",
        "from sklearn.model_selection import StratifiedKFold\n",
        "from sklearn.feature_selection import SelectKBest\n",
        "from sklearn.feature_selection import chi2\n",
        "from sklearn.model_selection import cross_val_score\n",
        "from sklearn.ensemble import ExtraTreesClassifier\n",
        "from sklearn.decomposition import PCA\n",
        "from sklearn.metrics import classification_report, confusion_matrix \n",
        "from sklearn.metrics import recall_score\n",
        "from sklearn.metrics import precision_score\n",
        "from sklearn.metrics import accuracy_score\n",
        "from sklearn.model_selection import GridSearchCV\n",
        "from sklearn.metrics import roc_auc_score\n",
        "from sklearn.metrics import roc_curve\n",
        "from sklearn.svm import SVC\n",
        "from sklearn.metrics import f1_score\n",
        "from sklearn.metrics import precision_recall_curve\n",
        "from sklearn.metrics import average_precision_score\n",
        "from sklearn.preprocessing import MinMaxScaler\n",
        "from sklearn.metrics import cohen_kappa_score\n",
        "from imblearn.over_sampling import SMOTE\n",
        "from imblearn.combine import SMOTETomek\n",
        "from yellowbrick.classifier import DiscriminationThreshold\n",
        "from sklearn.ensemble import RandomForestClassifier\n",
        "from sklearn.neighbors import KNeighborsClassifier\n",
        "from sklearn.tree import DecisionTreeClassifier\n",
        "from sklearn.metrics import accuracy_score\n",
        "from keras.models import Sequential\n",
        "from keras.layers import Dense\n",
        "from sklearn.linear_model import ElasticNet, Lasso,  BayesianRidge, LassoLarsIC\n",
        "from sklearn.ensemble import RandomForestRegressor,  GradientBoostingRegressor\n",
        "from sklearn.kernel_ridge import KernelRidge\n",
        "from sklearn.pipeline import make_pipeline\n",
        "from sklearn.preprocessing import RobustScaler\n",
        "from sklearn.base import BaseEstimator, TransformerMixin, RegressorMixin, clone\n",
        "from sklearn.model_selection import KFold, cross_val_score, train_test_split\n",
        "from sklearn.metrics import mean_squared_error\n",
        "from sklearn.gaussian_process import GaussianProcessRegressor\n",
        "from sklearn.gaussian_process.kernels import WhiteKernel, ExpSineSquared\n",
        "from sklearn.tree import export_graphviz\n",
        "from sklearn import tree\n",
        "from IPython.display import Image\n",
        "\n",
        "# Avoiding warnings\n",
        "import warnings\n",
        "warnings.filterwarnings('ignore')\n",
        "\n",
        "from scipy import stats\n",
        "from scipy.stats import norm, skew #for some statistics\n",
        "pd.set_option('display.float_format', lambda x: '{:.3f}'.format(x)) #Limiting floats output to 3 decimal points"
      ],
      "execution_count": 448,
      "outputs": [
        {
          "output_type": "stream",
          "text": [
            "The autoreload extension is already loaded. To reload it, use:\n",
            "  %reload_ext autoreload\n"
          ],
          "name": "stdout"
        },
        {
          "output_type": "display_data",
          "data": {
            "text/html": [
              "        <script type=\"text/javascript\">\n",
              "        window.PlotlyConfig = {MathJaxConfig: 'local'};\n",
              "        if (window.MathJax) {MathJax.Hub.Config({SVG: {font: \"STIX-Web\"}});}\n",
              "        if (typeof require !== 'undefined') {\n",
              "        require.undef(\"plotly\");\n",
              "        requirejs.config({\n",
              "            paths: {\n",
              "                'plotly': ['https://cdn.plot.ly/plotly-latest.min']\n",
              "            }\n",
              "        });\n",
              "        require(['plotly'], function(Plotly) {\n",
              "            window._Plotly = Plotly;\n",
              "        });\n",
              "        }\n",
              "        </script>\n",
              "        "
            ]
          },
          "metadata": {
            "tags": []
          }
        }
      ]
    },
    {
      "cell_type": "markdown",
      "metadata": {
        "id": "3cbPDJN3mWwP"
      },
      "source": [
        "## Read Dataset"
      ]
    },
    {
      "cell_type": "code",
      "metadata": {
        "id": "iHQIevqb-1HT",
        "colab": {
          "base_uri": "https://localhost:8080/"
        },
        "outputId": "b9533539-2126-4809-a705-1c0051b52845"
      },
      "source": [
        "from google.colab import drive\r\n",
        "drive.mount('/content/drive')"
      ],
      "execution_count": 449,
      "outputs": [
        {
          "output_type": "stream",
          "text": [
            "Drive already mounted at /content/drive; to attempt to forcibly remount, call drive.mount(\"/content/drive\", force_remount=True).\n"
          ],
          "name": "stdout"
        }
      ]
    },
    {
      "cell_type": "code",
      "metadata": {
        "id": "wYyapjCEmbk3",
        "colab": {
          "base_uri": "https://localhost:8080/"
        },
        "outputId": "896b3f87-6d77-44a3-df36-95b4ea349e78"
      },
      "source": [
        "data = pd.read_csv('/content/drive/MyDrive/ML4EconProject/application_record.csv') \r\n",
        "data.head()\r\n",
        "data.shape"
      ],
      "execution_count": 450,
      "outputs": [
        {
          "output_type": "execute_result",
          "data": {
            "text/plain": [
              "(438557, 18)"
            ]
          },
          "metadata": {
            "tags": []
          },
          "execution_count": 450
        }
      ]
    },
    {
      "cell_type": "markdown",
      "metadata": {
        "id": "LrmuCnMgVPxE"
      },
      "source": [
        "We observe some duplicate values and we drop them."
      ]
    },
    {
      "cell_type": "code",
      "metadata": {
        "colab": {
          "base_uri": "https://localhost:8080/",
          "height": 213
        },
        "id": "hFdOSnnzUrsk",
        "outputId": "3e470125-bb9a-4137-8113-2ce5817a454e"
      },
      "source": [
        "data.loc[data.DAYS_EMPLOYED==-1194].loc[data.DAYS_BIRTH== -10554]"
      ],
      "execution_count": 451,
      "outputs": [
        {
          "output_type": "execute_result",
          "data": {
            "text/html": [
              "<div>\n",
              "<style scoped>\n",
              "    .dataframe tbody tr th:only-of-type {\n",
              "        vertical-align: middle;\n",
              "    }\n",
              "\n",
              "    .dataframe tbody tr th {\n",
              "        vertical-align: top;\n",
              "    }\n",
              "\n",
              "    .dataframe thead th {\n",
              "        text-align: right;\n",
              "    }\n",
              "</style>\n",
              "<table border=\"1\" class=\"dataframe\">\n",
              "  <thead>\n",
              "    <tr style=\"text-align: right;\">\n",
              "      <th></th>\n",
              "      <th>ID</th>\n",
              "      <th>CODE_GENDER</th>\n",
              "      <th>FLAG_OWN_CAR</th>\n",
              "      <th>FLAG_OWN_REALTY</th>\n",
              "      <th>CNT_CHILDREN</th>\n",
              "      <th>AMT_INCOME_TOTAL</th>\n",
              "      <th>NAME_INCOME_TYPE</th>\n",
              "      <th>NAME_EDUCATION_TYPE</th>\n",
              "      <th>NAME_FAMILY_STATUS</th>\n",
              "      <th>NAME_HOUSING_TYPE</th>\n",
              "      <th>DAYS_BIRTH</th>\n",
              "      <th>DAYS_EMPLOYED</th>\n",
              "      <th>FLAG_MOBIL</th>\n",
              "      <th>FLAG_WORK_PHONE</th>\n",
              "      <th>FLAG_PHONE</th>\n",
              "      <th>FLAG_EMAIL</th>\n",
              "      <th>OCCUPATION_TYPE</th>\n",
              "      <th>CNT_FAM_MEMBERS</th>\n",
              "    </tr>\n",
              "  </thead>\n",
              "  <tbody>\n",
              "    <tr>\n",
              "      <th>213</th>\n",
              "      <td>5009031</td>\n",
              "      <td>F</td>\n",
              "      <td>N</td>\n",
              "      <td>Y</td>\n",
              "      <td>0</td>\n",
              "      <td>315000.000</td>\n",
              "      <td>Working</td>\n",
              "      <td>Secondary / secondary special</td>\n",
              "      <td>Single / not married</td>\n",
              "      <td>House / apartment</td>\n",
              "      <td>-10554</td>\n",
              "      <td>-1194</td>\n",
              "      <td>1</td>\n",
              "      <td>0</td>\n",
              "      <td>0</td>\n",
              "      <td>0</td>\n",
              "      <td>Accountants</td>\n",
              "      <td>1.000</td>\n",
              "    </tr>\n",
              "    <tr>\n",
              "      <th>214</th>\n",
              "      <td>5009032</td>\n",
              "      <td>F</td>\n",
              "      <td>N</td>\n",
              "      <td>Y</td>\n",
              "      <td>0</td>\n",
              "      <td>315000.000</td>\n",
              "      <td>Working</td>\n",
              "      <td>Secondary / secondary special</td>\n",
              "      <td>Single / not married</td>\n",
              "      <td>House / apartment</td>\n",
              "      <td>-10554</td>\n",
              "      <td>-1194</td>\n",
              "      <td>1</td>\n",
              "      <td>0</td>\n",
              "      <td>0</td>\n",
              "      <td>0</td>\n",
              "      <td>Accountants</td>\n",
              "      <td>1.000</td>\n",
              "    </tr>\n",
              "    <tr>\n",
              "      <th>215</th>\n",
              "      <td>6153669</td>\n",
              "      <td>F</td>\n",
              "      <td>N</td>\n",
              "      <td>Y</td>\n",
              "      <td>0</td>\n",
              "      <td>315000.000</td>\n",
              "      <td>Working</td>\n",
              "      <td>Secondary / secondary special</td>\n",
              "      <td>Single / not married</td>\n",
              "      <td>House / apartment</td>\n",
              "      <td>-10554</td>\n",
              "      <td>-1194</td>\n",
              "      <td>1</td>\n",
              "      <td>0</td>\n",
              "      <td>0</td>\n",
              "      <td>0</td>\n",
              "      <td>Accountants</td>\n",
              "      <td>1.000</td>\n",
              "    </tr>\n",
              "  </tbody>\n",
              "</table>\n",
              "</div>"
            ],
            "text/plain": [
              "          ID CODE_GENDER  ... OCCUPATION_TYPE CNT_FAM_MEMBERS\n",
              "213  5009031           F  ...     Accountants           1.000\n",
              "214  5009032           F  ...     Accountants           1.000\n",
              "215  6153669           F  ...     Accountants           1.000\n",
              "\n",
              "[3 rows x 18 columns]"
            ]
          },
          "metadata": {
            "tags": []
          },
          "execution_count": 451
        }
      ]
    },
    {
      "cell_type": "code",
      "metadata": {
        "colab": {
          "base_uri": "https://localhost:8080/",
          "height": 524
        },
        "id": "XsRwOEFfVSRg",
        "outputId": "a3aa6fc8-5118-40e1-f421-55d45374343c"
      },
      "source": [
        "data=data.drop_duplicates(subset=data.columns[1:], keep='first', inplace=False)\r\n",
        "data"
      ],
      "execution_count": 452,
      "outputs": [
        {
          "output_type": "execute_result",
          "data": {
            "text/html": [
              "<div>\n",
              "<style scoped>\n",
              "    .dataframe tbody tr th:only-of-type {\n",
              "        vertical-align: middle;\n",
              "    }\n",
              "\n",
              "    .dataframe tbody tr th {\n",
              "        vertical-align: top;\n",
              "    }\n",
              "\n",
              "    .dataframe thead th {\n",
              "        text-align: right;\n",
              "    }\n",
              "</style>\n",
              "<table border=\"1\" class=\"dataframe\">\n",
              "  <thead>\n",
              "    <tr style=\"text-align: right;\">\n",
              "      <th></th>\n",
              "      <th>ID</th>\n",
              "      <th>CODE_GENDER</th>\n",
              "      <th>FLAG_OWN_CAR</th>\n",
              "      <th>FLAG_OWN_REALTY</th>\n",
              "      <th>CNT_CHILDREN</th>\n",
              "      <th>AMT_INCOME_TOTAL</th>\n",
              "      <th>NAME_INCOME_TYPE</th>\n",
              "      <th>NAME_EDUCATION_TYPE</th>\n",
              "      <th>NAME_FAMILY_STATUS</th>\n",
              "      <th>NAME_HOUSING_TYPE</th>\n",
              "      <th>DAYS_BIRTH</th>\n",
              "      <th>DAYS_EMPLOYED</th>\n",
              "      <th>FLAG_MOBIL</th>\n",
              "      <th>FLAG_WORK_PHONE</th>\n",
              "      <th>FLAG_PHONE</th>\n",
              "      <th>FLAG_EMAIL</th>\n",
              "      <th>OCCUPATION_TYPE</th>\n",
              "      <th>CNT_FAM_MEMBERS</th>\n",
              "    </tr>\n",
              "  </thead>\n",
              "  <tbody>\n",
              "    <tr>\n",
              "      <th>0</th>\n",
              "      <td>5008804</td>\n",
              "      <td>M</td>\n",
              "      <td>Y</td>\n",
              "      <td>Y</td>\n",
              "      <td>0</td>\n",
              "      <td>427500.000</td>\n",
              "      <td>Working</td>\n",
              "      <td>Higher education</td>\n",
              "      <td>Civil marriage</td>\n",
              "      <td>Rented apartment</td>\n",
              "      <td>-12005</td>\n",
              "      <td>-4542</td>\n",
              "      <td>1</td>\n",
              "      <td>1</td>\n",
              "      <td>0</td>\n",
              "      <td>0</td>\n",
              "      <td>NaN</td>\n",
              "      <td>2.000</td>\n",
              "    </tr>\n",
              "    <tr>\n",
              "      <th>2</th>\n",
              "      <td>5008806</td>\n",
              "      <td>M</td>\n",
              "      <td>Y</td>\n",
              "      <td>Y</td>\n",
              "      <td>0</td>\n",
              "      <td>112500.000</td>\n",
              "      <td>Working</td>\n",
              "      <td>Secondary / secondary special</td>\n",
              "      <td>Married</td>\n",
              "      <td>House / apartment</td>\n",
              "      <td>-21474</td>\n",
              "      <td>-1134</td>\n",
              "      <td>1</td>\n",
              "      <td>0</td>\n",
              "      <td>0</td>\n",
              "      <td>0</td>\n",
              "      <td>Security staff</td>\n",
              "      <td>2.000</td>\n",
              "    </tr>\n",
              "    <tr>\n",
              "      <th>3</th>\n",
              "      <td>5008808</td>\n",
              "      <td>F</td>\n",
              "      <td>N</td>\n",
              "      <td>Y</td>\n",
              "      <td>0</td>\n",
              "      <td>270000.000</td>\n",
              "      <td>Commercial associate</td>\n",
              "      <td>Secondary / secondary special</td>\n",
              "      <td>Single / not married</td>\n",
              "      <td>House / apartment</td>\n",
              "      <td>-19110</td>\n",
              "      <td>-3051</td>\n",
              "      <td>1</td>\n",
              "      <td>0</td>\n",
              "      <td>1</td>\n",
              "      <td>1</td>\n",
              "      <td>Sales staff</td>\n",
              "      <td>1.000</td>\n",
              "    </tr>\n",
              "    <tr>\n",
              "      <th>7</th>\n",
              "      <td>5008812</td>\n",
              "      <td>F</td>\n",
              "      <td>N</td>\n",
              "      <td>Y</td>\n",
              "      <td>0</td>\n",
              "      <td>283500.000</td>\n",
              "      <td>Pensioner</td>\n",
              "      <td>Higher education</td>\n",
              "      <td>Separated</td>\n",
              "      <td>House / apartment</td>\n",
              "      <td>-22464</td>\n",
              "      <td>365243</td>\n",
              "      <td>1</td>\n",
              "      <td>0</td>\n",
              "      <td>0</td>\n",
              "      <td>0</td>\n",
              "      <td>NaN</td>\n",
              "      <td>1.000</td>\n",
              "    </tr>\n",
              "    <tr>\n",
              "      <th>10</th>\n",
              "      <td>5008815</td>\n",
              "      <td>M</td>\n",
              "      <td>Y</td>\n",
              "      <td>Y</td>\n",
              "      <td>0</td>\n",
              "      <td>270000.000</td>\n",
              "      <td>Working</td>\n",
              "      <td>Higher education</td>\n",
              "      <td>Married</td>\n",
              "      <td>House / apartment</td>\n",
              "      <td>-16872</td>\n",
              "      <td>-769</td>\n",
              "      <td>1</td>\n",
              "      <td>1</td>\n",
              "      <td>1</td>\n",
              "      <td>1</td>\n",
              "      <td>Accountants</td>\n",
              "      <td>2.000</td>\n",
              "    </tr>\n",
              "    <tr>\n",
              "      <th>...</th>\n",
              "      <td>...</td>\n",
              "      <td>...</td>\n",
              "      <td>...</td>\n",
              "      <td>...</td>\n",
              "      <td>...</td>\n",
              "      <td>...</td>\n",
              "      <td>...</td>\n",
              "      <td>...</td>\n",
              "      <td>...</td>\n",
              "      <td>...</td>\n",
              "      <td>...</td>\n",
              "      <td>...</td>\n",
              "      <td>...</td>\n",
              "      <td>...</td>\n",
              "      <td>...</td>\n",
              "      <td>...</td>\n",
              "      <td>...</td>\n",
              "      <td>...</td>\n",
              "    </tr>\n",
              "    <tr>\n",
              "      <th>438541</th>\n",
              "      <td>6837707</td>\n",
              "      <td>M</td>\n",
              "      <td>N</td>\n",
              "      <td>Y</td>\n",
              "      <td>0</td>\n",
              "      <td>202500.000</td>\n",
              "      <td>Working</td>\n",
              "      <td>Higher education</td>\n",
              "      <td>Civil marriage</td>\n",
              "      <td>House / apartment</td>\n",
              "      <td>-13510</td>\n",
              "      <td>-2309</td>\n",
              "      <td>1</td>\n",
              "      <td>1</td>\n",
              "      <td>0</td>\n",
              "      <td>0</td>\n",
              "      <td>Laborers</td>\n",
              "      <td>2.000</td>\n",
              "    </tr>\n",
              "    <tr>\n",
              "      <th>438545</th>\n",
              "      <td>6839651</td>\n",
              "      <td>F</td>\n",
              "      <td>N</td>\n",
              "      <td>Y</td>\n",
              "      <td>3</td>\n",
              "      <td>99000.000</td>\n",
              "      <td>Pensioner</td>\n",
              "      <td>Secondary / secondary special</td>\n",
              "      <td>Single / not married</td>\n",
              "      <td>House / apartment</td>\n",
              "      <td>-18832</td>\n",
              "      <td>365243</td>\n",
              "      <td>1</td>\n",
              "      <td>0</td>\n",
              "      <td>0</td>\n",
              "      <td>0</td>\n",
              "      <td>NaN</td>\n",
              "      <td>1.000</td>\n",
              "    </tr>\n",
              "    <tr>\n",
              "      <th>438547</th>\n",
              "      <td>6839917</td>\n",
              "      <td>F</td>\n",
              "      <td>N</td>\n",
              "      <td>Y</td>\n",
              "      <td>0</td>\n",
              "      <td>180000.000</td>\n",
              "      <td>Pensioner</td>\n",
              "      <td>Higher education</td>\n",
              "      <td>Married</td>\n",
              "      <td>House / apartment</td>\n",
              "      <td>-10966</td>\n",
              "      <td>-2704</td>\n",
              "      <td>1</td>\n",
              "      <td>0</td>\n",
              "      <td>0</td>\n",
              "      <td>0</td>\n",
              "      <td>NaN</td>\n",
              "      <td>2.000</td>\n",
              "    </tr>\n",
              "    <tr>\n",
              "      <th>438552</th>\n",
              "      <td>6840104</td>\n",
              "      <td>M</td>\n",
              "      <td>N</td>\n",
              "      <td>Y</td>\n",
              "      <td>0</td>\n",
              "      <td>135000.000</td>\n",
              "      <td>Pensioner</td>\n",
              "      <td>Secondary / secondary special</td>\n",
              "      <td>Separated</td>\n",
              "      <td>House / apartment</td>\n",
              "      <td>-22717</td>\n",
              "      <td>365243</td>\n",
              "      <td>1</td>\n",
              "      <td>0</td>\n",
              "      <td>0</td>\n",
              "      <td>0</td>\n",
              "      <td>NaN</td>\n",
              "      <td>1.000</td>\n",
              "    </tr>\n",
              "    <tr>\n",
              "      <th>438553</th>\n",
              "      <td>6840222</td>\n",
              "      <td>F</td>\n",
              "      <td>N</td>\n",
              "      <td>N</td>\n",
              "      <td>0</td>\n",
              "      <td>103500.000</td>\n",
              "      <td>Working</td>\n",
              "      <td>Secondary / secondary special</td>\n",
              "      <td>Single / not married</td>\n",
              "      <td>House / apartment</td>\n",
              "      <td>-15939</td>\n",
              "      <td>-3007</td>\n",
              "      <td>1</td>\n",
              "      <td>0</td>\n",
              "      <td>0</td>\n",
              "      <td>0</td>\n",
              "      <td>Laborers</td>\n",
              "      <td>1.000</td>\n",
              "    </tr>\n",
              "  </tbody>\n",
              "</table>\n",
              "<p>90085 rows × 18 columns</p>\n",
              "</div>"
            ],
            "text/plain": [
              "             ID CODE_GENDER  ... OCCUPATION_TYPE CNT_FAM_MEMBERS\n",
              "0       5008804           M  ...             NaN           2.000\n",
              "2       5008806           M  ...  Security staff           2.000\n",
              "3       5008808           F  ...     Sales staff           1.000\n",
              "7       5008812           F  ...             NaN           1.000\n",
              "10      5008815           M  ...     Accountants           2.000\n",
              "...         ...         ...  ...             ...             ...\n",
              "438541  6837707           M  ...        Laborers           2.000\n",
              "438545  6839651           F  ...             NaN           1.000\n",
              "438547  6839917           F  ...             NaN           2.000\n",
              "438552  6840104           M  ...             NaN           1.000\n",
              "438553  6840222           F  ...        Laborers           1.000\n",
              "\n",
              "[90085 rows x 18 columns]"
            ]
          },
          "metadata": {
            "tags": []
          },
          "execution_count": 452
        }
      ]
    },
    {
      "cell_type": "code",
      "metadata": {
        "id": "1SmiFuQOmbcX",
        "colab": {
          "base_uri": "https://localhost:8080/",
          "height": 419
        },
        "outputId": "c77322fb-f113-445c-8faf-1658b118ff8c"
      },
      "source": [
        "credit=pd.read_csv('/content/drive/MyDrive/ML4EconProject/credit_record.csv') \r\n",
        "credit"
      ],
      "execution_count": 453,
      "outputs": [
        {
          "output_type": "execute_result",
          "data": {
            "text/html": [
              "<div>\n",
              "<style scoped>\n",
              "    .dataframe tbody tr th:only-of-type {\n",
              "        vertical-align: middle;\n",
              "    }\n",
              "\n",
              "    .dataframe tbody tr th {\n",
              "        vertical-align: top;\n",
              "    }\n",
              "\n",
              "    .dataframe thead th {\n",
              "        text-align: right;\n",
              "    }\n",
              "</style>\n",
              "<table border=\"1\" class=\"dataframe\">\n",
              "  <thead>\n",
              "    <tr style=\"text-align: right;\">\n",
              "      <th></th>\n",
              "      <th>ID</th>\n",
              "      <th>MONTHS_BALANCE</th>\n",
              "      <th>STATUS</th>\n",
              "    </tr>\n",
              "  </thead>\n",
              "  <tbody>\n",
              "    <tr>\n",
              "      <th>0</th>\n",
              "      <td>5001711</td>\n",
              "      <td>0</td>\n",
              "      <td>X</td>\n",
              "    </tr>\n",
              "    <tr>\n",
              "      <th>1</th>\n",
              "      <td>5001711</td>\n",
              "      <td>-1</td>\n",
              "      <td>0</td>\n",
              "    </tr>\n",
              "    <tr>\n",
              "      <th>2</th>\n",
              "      <td>5001711</td>\n",
              "      <td>-2</td>\n",
              "      <td>0</td>\n",
              "    </tr>\n",
              "    <tr>\n",
              "      <th>3</th>\n",
              "      <td>5001711</td>\n",
              "      <td>-3</td>\n",
              "      <td>0</td>\n",
              "    </tr>\n",
              "    <tr>\n",
              "      <th>4</th>\n",
              "      <td>5001712</td>\n",
              "      <td>0</td>\n",
              "      <td>C</td>\n",
              "    </tr>\n",
              "    <tr>\n",
              "      <th>...</th>\n",
              "      <td>...</td>\n",
              "      <td>...</td>\n",
              "      <td>...</td>\n",
              "    </tr>\n",
              "    <tr>\n",
              "      <th>1048570</th>\n",
              "      <td>5150487</td>\n",
              "      <td>-25</td>\n",
              "      <td>C</td>\n",
              "    </tr>\n",
              "    <tr>\n",
              "      <th>1048571</th>\n",
              "      <td>5150487</td>\n",
              "      <td>-26</td>\n",
              "      <td>C</td>\n",
              "    </tr>\n",
              "    <tr>\n",
              "      <th>1048572</th>\n",
              "      <td>5150487</td>\n",
              "      <td>-27</td>\n",
              "      <td>C</td>\n",
              "    </tr>\n",
              "    <tr>\n",
              "      <th>1048573</th>\n",
              "      <td>5150487</td>\n",
              "      <td>-28</td>\n",
              "      <td>C</td>\n",
              "    </tr>\n",
              "    <tr>\n",
              "      <th>1048574</th>\n",
              "      <td>5150487</td>\n",
              "      <td>-29</td>\n",
              "      <td>C</td>\n",
              "    </tr>\n",
              "  </tbody>\n",
              "</table>\n",
              "<p>1048575 rows × 3 columns</p>\n",
              "</div>"
            ],
            "text/plain": [
              "              ID  MONTHS_BALANCE STATUS\n",
              "0        5001711               0      X\n",
              "1        5001711              -1      0\n",
              "2        5001711              -2      0\n",
              "3        5001711              -3      0\n",
              "4        5001712               0      C\n",
              "...          ...             ...    ...\n",
              "1048570  5150487             -25      C\n",
              "1048571  5150487             -26      C\n",
              "1048572  5150487             -27      C\n",
              "1048573  5150487             -28      C\n",
              "1048574  5150487             -29      C\n",
              "\n",
              "[1048575 rows x 3 columns]"
            ]
          },
          "metadata": {
            "tags": []
          },
          "execution_count": 453
        }
      ]
    },
    {
      "cell_type": "markdown",
      "metadata": {
        "id": "TkW2O1H6IF7D"
      },
      "source": [
        "Information about STATUS: <br>\r\n",
        " 0: 1-29 days past due <br>\r\n",
        " 1: 30-59 days past due <br>\r\n",
        " 2: 60-89 days overdue <br>\r\n",
        "  3: 90-119 days overdue <br>\r\n",
        "  4: 120-149 days overdue  <br>\r\n",
        "  5: Overdue or bad debts, write-offs for more than 150 days  <br>\r\n",
        "  C: paid off that month <br>\r\n",
        "  X: No loan for the month <br>\r\n",
        "\r\n",
        "We consider users who overdue for more than 60 days as target risk users. We label them as '1'. "
      ]
    },
    {
      "cell_type": "code",
      "metadata": {
        "id": "BMzTpTxqInG5"
      },
      "source": [
        "credit['label'] = None\r\n",
        "credit['label'][credit['STATUS'] =='2']= 'Yes'\r\n",
        "credit['label'][credit['STATUS'] =='3']='Yes' \r\n",
        "credit['label'][credit['STATUS'] =='4']='Yes' \r\n",
        "credit['label'][credit['STATUS'] =='5']='Yes' "
      ],
      "execution_count": 454,
      "outputs": []
    },
    {
      "cell_type": "code",
      "metadata": {
        "id": "Ro5UE_NnIyNO"
      },
      "source": [
        "df=credit.groupby('ID').count()\r\n",
        "df['label'][df['label'] > 0]=1 \r\n",
        "df['label'][df['label'] == 0]=0 \r\n",
        "df = df[['label']]"
      ],
      "execution_count": 455,
      "outputs": []
    },
    {
      "cell_type": "code",
      "metadata": {
        "colab": {
          "base_uri": "https://localhost:8080/"
        },
        "id": "DZDW9DhTJJVv",
        "outputId": "29be73ed-a1a9-4480-e877-6541ce20208a"
      },
      "source": [
        "print(df['label'].value_counts())"
      ],
      "execution_count": 456,
      "outputs": [
        {
          "output_type": "stream",
          "text": [
            "0    45318\n",
            "1      667\n",
            "Name: label, dtype: int64\n"
          ],
          "name": "stdout"
        }
      ]
    },
    {
      "cell_type": "code",
      "metadata": {
        "colab": {
          "base_uri": "https://localhost:8080/",
          "height": 541
        },
        "id": "cyz3XWK_JOW-",
        "outputId": "5413b1d3-5558-4444-d55c-9714ce26a236"
      },
      "source": [
        "df=pd.merge(data,df,how='inner',on='ID')\r\n",
        "df"
      ],
      "execution_count": 457,
      "outputs": [
        {
          "output_type": "execute_result",
          "data": {
            "text/html": [
              "<div>\n",
              "<style scoped>\n",
              "    .dataframe tbody tr th:only-of-type {\n",
              "        vertical-align: middle;\n",
              "    }\n",
              "\n",
              "    .dataframe tbody tr th {\n",
              "        vertical-align: top;\n",
              "    }\n",
              "\n",
              "    .dataframe thead th {\n",
              "        text-align: right;\n",
              "    }\n",
              "</style>\n",
              "<table border=\"1\" class=\"dataframe\">\n",
              "  <thead>\n",
              "    <tr style=\"text-align: right;\">\n",
              "      <th></th>\n",
              "      <th>ID</th>\n",
              "      <th>CODE_GENDER</th>\n",
              "      <th>FLAG_OWN_CAR</th>\n",
              "      <th>FLAG_OWN_REALTY</th>\n",
              "      <th>CNT_CHILDREN</th>\n",
              "      <th>AMT_INCOME_TOTAL</th>\n",
              "      <th>NAME_INCOME_TYPE</th>\n",
              "      <th>NAME_EDUCATION_TYPE</th>\n",
              "      <th>NAME_FAMILY_STATUS</th>\n",
              "      <th>NAME_HOUSING_TYPE</th>\n",
              "      <th>DAYS_BIRTH</th>\n",
              "      <th>DAYS_EMPLOYED</th>\n",
              "      <th>FLAG_MOBIL</th>\n",
              "      <th>FLAG_WORK_PHONE</th>\n",
              "      <th>FLAG_PHONE</th>\n",
              "      <th>FLAG_EMAIL</th>\n",
              "      <th>OCCUPATION_TYPE</th>\n",
              "      <th>CNT_FAM_MEMBERS</th>\n",
              "      <th>label</th>\n",
              "    </tr>\n",
              "  </thead>\n",
              "  <tbody>\n",
              "    <tr>\n",
              "      <th>0</th>\n",
              "      <td>5008804</td>\n",
              "      <td>M</td>\n",
              "      <td>Y</td>\n",
              "      <td>Y</td>\n",
              "      <td>0</td>\n",
              "      <td>427500.000</td>\n",
              "      <td>Working</td>\n",
              "      <td>Higher education</td>\n",
              "      <td>Civil marriage</td>\n",
              "      <td>Rented apartment</td>\n",
              "      <td>-12005</td>\n",
              "      <td>-4542</td>\n",
              "      <td>1</td>\n",
              "      <td>1</td>\n",
              "      <td>0</td>\n",
              "      <td>0</td>\n",
              "      <td>NaN</td>\n",
              "      <td>2.000</td>\n",
              "      <td>0</td>\n",
              "    </tr>\n",
              "    <tr>\n",
              "      <th>1</th>\n",
              "      <td>5008806</td>\n",
              "      <td>M</td>\n",
              "      <td>Y</td>\n",
              "      <td>Y</td>\n",
              "      <td>0</td>\n",
              "      <td>112500.000</td>\n",
              "      <td>Working</td>\n",
              "      <td>Secondary / secondary special</td>\n",
              "      <td>Married</td>\n",
              "      <td>House / apartment</td>\n",
              "      <td>-21474</td>\n",
              "      <td>-1134</td>\n",
              "      <td>1</td>\n",
              "      <td>0</td>\n",
              "      <td>0</td>\n",
              "      <td>0</td>\n",
              "      <td>Security staff</td>\n",
              "      <td>2.000</td>\n",
              "      <td>0</td>\n",
              "    </tr>\n",
              "    <tr>\n",
              "      <th>2</th>\n",
              "      <td>5008808</td>\n",
              "      <td>F</td>\n",
              "      <td>N</td>\n",
              "      <td>Y</td>\n",
              "      <td>0</td>\n",
              "      <td>270000.000</td>\n",
              "      <td>Commercial associate</td>\n",
              "      <td>Secondary / secondary special</td>\n",
              "      <td>Single / not married</td>\n",
              "      <td>House / apartment</td>\n",
              "      <td>-19110</td>\n",
              "      <td>-3051</td>\n",
              "      <td>1</td>\n",
              "      <td>0</td>\n",
              "      <td>1</td>\n",
              "      <td>1</td>\n",
              "      <td>Sales staff</td>\n",
              "      <td>1.000</td>\n",
              "      <td>0</td>\n",
              "    </tr>\n",
              "    <tr>\n",
              "      <th>3</th>\n",
              "      <td>5008812</td>\n",
              "      <td>F</td>\n",
              "      <td>N</td>\n",
              "      <td>Y</td>\n",
              "      <td>0</td>\n",
              "      <td>283500.000</td>\n",
              "      <td>Pensioner</td>\n",
              "      <td>Higher education</td>\n",
              "      <td>Separated</td>\n",
              "      <td>House / apartment</td>\n",
              "      <td>-22464</td>\n",
              "      <td>365243</td>\n",
              "      <td>1</td>\n",
              "      <td>0</td>\n",
              "      <td>0</td>\n",
              "      <td>0</td>\n",
              "      <td>NaN</td>\n",
              "      <td>1.000</td>\n",
              "      <td>0</td>\n",
              "    </tr>\n",
              "    <tr>\n",
              "      <th>4</th>\n",
              "      <td>5008815</td>\n",
              "      <td>M</td>\n",
              "      <td>Y</td>\n",
              "      <td>Y</td>\n",
              "      <td>0</td>\n",
              "      <td>270000.000</td>\n",
              "      <td>Working</td>\n",
              "      <td>Higher education</td>\n",
              "      <td>Married</td>\n",
              "      <td>House / apartment</td>\n",
              "      <td>-16872</td>\n",
              "      <td>-769</td>\n",
              "      <td>1</td>\n",
              "      <td>1</td>\n",
              "      <td>1</td>\n",
              "      <td>1</td>\n",
              "      <td>Accountants</td>\n",
              "      <td>2.000</td>\n",
              "      <td>0</td>\n",
              "    </tr>\n",
              "    <tr>\n",
              "      <th>...</th>\n",
              "      <td>...</td>\n",
              "      <td>...</td>\n",
              "      <td>...</td>\n",
              "      <td>...</td>\n",
              "      <td>...</td>\n",
              "      <td>...</td>\n",
              "      <td>...</td>\n",
              "      <td>...</td>\n",
              "      <td>...</td>\n",
              "      <td>...</td>\n",
              "      <td>...</td>\n",
              "      <td>...</td>\n",
              "      <td>...</td>\n",
              "      <td>...</td>\n",
              "      <td>...</td>\n",
              "      <td>...</td>\n",
              "      <td>...</td>\n",
              "      <td>...</td>\n",
              "      <td>...</td>\n",
              "    </tr>\n",
              "    <tr>\n",
              "      <th>9704</th>\n",
              "      <td>5148694</td>\n",
              "      <td>F</td>\n",
              "      <td>N</td>\n",
              "      <td>N</td>\n",
              "      <td>0</td>\n",
              "      <td>180000.000</td>\n",
              "      <td>Pensioner</td>\n",
              "      <td>Secondary / secondary special</td>\n",
              "      <td>Civil marriage</td>\n",
              "      <td>Municipal apartment</td>\n",
              "      <td>-20600</td>\n",
              "      <td>-198</td>\n",
              "      <td>1</td>\n",
              "      <td>0</td>\n",
              "      <td>0</td>\n",
              "      <td>0</td>\n",
              "      <td>Laborers</td>\n",
              "      <td>2.000</td>\n",
              "      <td>1</td>\n",
              "    </tr>\n",
              "    <tr>\n",
              "      <th>9705</th>\n",
              "      <td>5149055</td>\n",
              "      <td>F</td>\n",
              "      <td>N</td>\n",
              "      <td>Y</td>\n",
              "      <td>0</td>\n",
              "      <td>112500.000</td>\n",
              "      <td>Commercial associate</td>\n",
              "      <td>Secondary / secondary special</td>\n",
              "      <td>Married</td>\n",
              "      <td>House / apartment</td>\n",
              "      <td>-15837</td>\n",
              "      <td>-2694</td>\n",
              "      <td>1</td>\n",
              "      <td>1</td>\n",
              "      <td>1</td>\n",
              "      <td>0</td>\n",
              "      <td>NaN</td>\n",
              "      <td>2.000</td>\n",
              "      <td>1</td>\n",
              "    </tr>\n",
              "    <tr>\n",
              "      <th>9706</th>\n",
              "      <td>5149729</td>\n",
              "      <td>M</td>\n",
              "      <td>Y</td>\n",
              "      <td>Y</td>\n",
              "      <td>0</td>\n",
              "      <td>90000.000</td>\n",
              "      <td>Working</td>\n",
              "      <td>Secondary / secondary special</td>\n",
              "      <td>Married</td>\n",
              "      <td>House / apartment</td>\n",
              "      <td>-19101</td>\n",
              "      <td>-1721</td>\n",
              "      <td>1</td>\n",
              "      <td>0</td>\n",
              "      <td>0</td>\n",
              "      <td>0</td>\n",
              "      <td>NaN</td>\n",
              "      <td>2.000</td>\n",
              "      <td>1</td>\n",
              "    </tr>\n",
              "    <tr>\n",
              "      <th>9707</th>\n",
              "      <td>5149838</td>\n",
              "      <td>F</td>\n",
              "      <td>N</td>\n",
              "      <td>Y</td>\n",
              "      <td>0</td>\n",
              "      <td>157500.000</td>\n",
              "      <td>Pensioner</td>\n",
              "      <td>Higher education</td>\n",
              "      <td>Married</td>\n",
              "      <td>House / apartment</td>\n",
              "      <td>-12387</td>\n",
              "      <td>-1325</td>\n",
              "      <td>1</td>\n",
              "      <td>0</td>\n",
              "      <td>1</td>\n",
              "      <td>1</td>\n",
              "      <td>Medicine staff</td>\n",
              "      <td>2.000</td>\n",
              "      <td>1</td>\n",
              "    </tr>\n",
              "    <tr>\n",
              "      <th>9708</th>\n",
              "      <td>5150337</td>\n",
              "      <td>M</td>\n",
              "      <td>N</td>\n",
              "      <td>Y</td>\n",
              "      <td>0</td>\n",
              "      <td>112500.000</td>\n",
              "      <td>Working</td>\n",
              "      <td>Secondary / secondary special</td>\n",
              "      <td>Single / not married</td>\n",
              "      <td>Rented apartment</td>\n",
              "      <td>-9188</td>\n",
              "      <td>-1193</td>\n",
              "      <td>1</td>\n",
              "      <td>0</td>\n",
              "      <td>0</td>\n",
              "      <td>0</td>\n",
              "      <td>Laborers</td>\n",
              "      <td>1.000</td>\n",
              "      <td>1</td>\n",
              "    </tr>\n",
              "  </tbody>\n",
              "</table>\n",
              "<p>9709 rows × 19 columns</p>\n",
              "</div>"
            ],
            "text/plain": [
              "           ID CODE_GENDER FLAG_OWN_CAR  ... OCCUPATION_TYPE  CNT_FAM_MEMBERS  label\n",
              "0     5008804           M            Y  ...             NaN            2.000      0\n",
              "1     5008806           M            Y  ...  Security staff            2.000      0\n",
              "2     5008808           F            N  ...     Sales staff            1.000      0\n",
              "3     5008812           F            N  ...             NaN            1.000      0\n",
              "4     5008815           M            Y  ...     Accountants            2.000      0\n",
              "...       ...         ...          ...  ...             ...              ...    ...\n",
              "9704  5148694           F            N  ...        Laborers            2.000      1\n",
              "9705  5149055           F            N  ...             NaN            2.000      1\n",
              "9706  5149729           M            Y  ...             NaN            2.000      1\n",
              "9707  5149838           F            N  ...  Medicine staff            2.000      1\n",
              "9708  5150337           M            N  ...        Laborers            1.000      1\n",
              "\n",
              "[9709 rows x 19 columns]"
            ]
          },
          "metadata": {
            "tags": []
          },
          "execution_count": 457
        }
      ]
    },
    {
      "cell_type": "code",
      "metadata": {
        "colab": {
          "base_uri": "https://localhost:8080/"
        },
        "id": "a50oA8oQY_r7",
        "outputId": "6c0480b0-8783-4ef6-eb63-ceb1e08075d3"
      },
      "source": [
        "data.shape"
      ],
      "execution_count": 458,
      "outputs": [
        {
          "output_type": "execute_result",
          "data": {
            "text/plain": [
              "(90085, 18)"
            ]
          },
          "metadata": {
            "tags": []
          },
          "execution_count": 458
        }
      ]
    },
    {
      "cell_type": "code",
      "metadata": {
        "colab": {
          "base_uri": "https://localhost:8080/"
        },
        "id": "G5ZVNejYJYWh",
        "outputId": "f5e98dac-5f01-415b-afa4-49ff1b449eba"
      },
      "source": [
        "df.columns"
      ],
      "execution_count": 459,
      "outputs": [
        {
          "output_type": "execute_result",
          "data": {
            "text/plain": [
              "Index(['ID', 'CODE_GENDER', 'FLAG_OWN_CAR', 'FLAG_OWN_REALTY', 'CNT_CHILDREN',\n",
              "       'AMT_INCOME_TOTAL', 'NAME_INCOME_TYPE', 'NAME_EDUCATION_TYPE',\n",
              "       'NAME_FAMILY_STATUS', 'NAME_HOUSING_TYPE', 'DAYS_BIRTH',\n",
              "       'DAYS_EMPLOYED', 'FLAG_MOBIL', 'FLAG_WORK_PHONE', 'FLAG_PHONE',\n",
              "       'FLAG_EMAIL', 'OCCUPATION_TYPE', 'CNT_FAM_MEMBERS', 'label'],\n",
              "      dtype='object')"
            ]
          },
          "metadata": {
            "tags": []
          },
          "execution_count": 459
        }
      ]
    },
    {
      "cell_type": "markdown",
      "metadata": {
        "id": "vnL8pHm3KGfy"
      },
      "source": [
        "We change the names of the columns for better understanding."
      ]
    },
    {
      "cell_type": "code",
      "metadata": {
        "id": "99RW1HYMJYMJ"
      },
      "source": [
        "df.rename(columns={'ID':'ClientID','CODE_GENDER':'Gender','FLAG_OWN_CAR':'Car','FLAG_OWN_REALTY':'Reality',\r\n",
        "                   'CNT_CHILDREN':'Children','AMT_INCOME_TOTAL':'Total_Income', 'NAME_INCOME_TYPE':'Income_Type',\r\n",
        "                    'NAME_EDUCATION_TYPE':'Education','NAME_FAMILY_STATUS':'Family_Status',\r\n",
        "                    'NAME_HOUSING_TYPE':'Housing_Type', 'DAYS_BIRTH':'Birthday', 'DAYS_EMPLOYED':'Employment_Day', \r\n",
        "                   \t'FLAG_MOBIL': 'Has_Mobile', 'FLAG_EMAIL':'Email','FLAG_WORK_PHONE':'Workphone',\r\n",
        "                    'FLAG_PHONE':'Phone','CNT_FAM_MEMBERS':'Family_Size',\r\n",
        "                   'OCCUPATION_TYPE':'Occupation' },inplace=True)"
      ],
      "execution_count": 460,
      "outputs": []
    },
    {
      "cell_type": "code",
      "metadata": {
        "colab": {
          "base_uri": "https://localhost:8080/",
          "height": 343
        },
        "id": "7CRoQUWUJYAD",
        "outputId": "1607ed3a-7f4e-4a22-8a39-8cb0969a0f11"
      },
      "source": [
        "df.head()"
      ],
      "execution_count": 432,
      "outputs": [
        {
          "output_type": "execute_result",
          "data": {
            "text/html": [
              "<div>\n",
              "<style scoped>\n",
              "    .dataframe tbody tr th:only-of-type {\n",
              "        vertical-align: middle;\n",
              "    }\n",
              "\n",
              "    .dataframe tbody tr th {\n",
              "        vertical-align: top;\n",
              "    }\n",
              "\n",
              "    .dataframe thead th {\n",
              "        text-align: right;\n",
              "    }\n",
              "</style>\n",
              "<table border=\"1\" class=\"dataframe\">\n",
              "  <thead>\n",
              "    <tr style=\"text-align: right;\">\n",
              "      <th></th>\n",
              "      <th>ClientID</th>\n",
              "      <th>Gender</th>\n",
              "      <th>Car</th>\n",
              "      <th>Reality</th>\n",
              "      <th>Children</th>\n",
              "      <th>Total_Income</th>\n",
              "      <th>Income_Type</th>\n",
              "      <th>Education</th>\n",
              "      <th>Family_Status</th>\n",
              "      <th>Housing_Type</th>\n",
              "      <th>Birthday</th>\n",
              "      <th>Employment_Day</th>\n",
              "      <th>Has_Mobile</th>\n",
              "      <th>Workphone</th>\n",
              "      <th>Phone</th>\n",
              "      <th>Email</th>\n",
              "      <th>Occupation</th>\n",
              "      <th>Family_Size</th>\n",
              "      <th>label</th>\n",
              "    </tr>\n",
              "  </thead>\n",
              "  <tbody>\n",
              "    <tr>\n",
              "      <th>0</th>\n",
              "      <td>5008804</td>\n",
              "      <td>M</td>\n",
              "      <td>Y</td>\n",
              "      <td>Y</td>\n",
              "      <td>0</td>\n",
              "      <td>427500.000</td>\n",
              "      <td>Working</td>\n",
              "      <td>Higher education</td>\n",
              "      <td>Civil marriage</td>\n",
              "      <td>Rented apartment</td>\n",
              "      <td>-12005</td>\n",
              "      <td>-4542</td>\n",
              "      <td>1</td>\n",
              "      <td>1</td>\n",
              "      <td>0</td>\n",
              "      <td>0</td>\n",
              "      <td>NaN</td>\n",
              "      <td>2.000</td>\n",
              "      <td>0</td>\n",
              "    </tr>\n",
              "    <tr>\n",
              "      <th>1</th>\n",
              "      <td>5008806</td>\n",
              "      <td>M</td>\n",
              "      <td>Y</td>\n",
              "      <td>Y</td>\n",
              "      <td>0</td>\n",
              "      <td>112500.000</td>\n",
              "      <td>Working</td>\n",
              "      <td>Secondary / secondary special</td>\n",
              "      <td>Married</td>\n",
              "      <td>House / apartment</td>\n",
              "      <td>-21474</td>\n",
              "      <td>-1134</td>\n",
              "      <td>1</td>\n",
              "      <td>0</td>\n",
              "      <td>0</td>\n",
              "      <td>0</td>\n",
              "      <td>Security staff</td>\n",
              "      <td>2.000</td>\n",
              "      <td>0</td>\n",
              "    </tr>\n",
              "    <tr>\n",
              "      <th>2</th>\n",
              "      <td>5008808</td>\n",
              "      <td>F</td>\n",
              "      <td>N</td>\n",
              "      <td>Y</td>\n",
              "      <td>0</td>\n",
              "      <td>270000.000</td>\n",
              "      <td>Commercial associate</td>\n",
              "      <td>Secondary / secondary special</td>\n",
              "      <td>Single / not married</td>\n",
              "      <td>House / apartment</td>\n",
              "      <td>-19110</td>\n",
              "      <td>-3051</td>\n",
              "      <td>1</td>\n",
              "      <td>0</td>\n",
              "      <td>1</td>\n",
              "      <td>1</td>\n",
              "      <td>Sales staff</td>\n",
              "      <td>1.000</td>\n",
              "      <td>0</td>\n",
              "    </tr>\n",
              "    <tr>\n",
              "      <th>3</th>\n",
              "      <td>5008812</td>\n",
              "      <td>F</td>\n",
              "      <td>N</td>\n",
              "      <td>Y</td>\n",
              "      <td>0</td>\n",
              "      <td>283500.000</td>\n",
              "      <td>Pensioner</td>\n",
              "      <td>Higher education</td>\n",
              "      <td>Separated</td>\n",
              "      <td>House / apartment</td>\n",
              "      <td>-22464</td>\n",
              "      <td>365243</td>\n",
              "      <td>1</td>\n",
              "      <td>0</td>\n",
              "      <td>0</td>\n",
              "      <td>0</td>\n",
              "      <td>NaN</td>\n",
              "      <td>1.000</td>\n",
              "      <td>0</td>\n",
              "    </tr>\n",
              "    <tr>\n",
              "      <th>4</th>\n",
              "      <td>5008815</td>\n",
              "      <td>M</td>\n",
              "      <td>Y</td>\n",
              "      <td>Y</td>\n",
              "      <td>0</td>\n",
              "      <td>270000.000</td>\n",
              "      <td>Working</td>\n",
              "      <td>Higher education</td>\n",
              "      <td>Married</td>\n",
              "      <td>House / apartment</td>\n",
              "      <td>-16872</td>\n",
              "      <td>-769</td>\n",
              "      <td>1</td>\n",
              "      <td>1</td>\n",
              "      <td>1</td>\n",
              "      <td>1</td>\n",
              "      <td>Accountants</td>\n",
              "      <td>2.000</td>\n",
              "      <td>0</td>\n",
              "    </tr>\n",
              "  </tbody>\n",
              "</table>\n",
              "</div>"
            ],
            "text/plain": [
              "   ClientID Gender Car Reality  ...  Email      Occupation Family_Size label\n",
              "0   5008804      M   Y       Y  ...      0             NaN       2.000     0\n",
              "1   5008806      M   Y       Y  ...      0  Security staff       2.000     0\n",
              "2   5008808      F   N       Y  ...      1     Sales staff       1.000     0\n",
              "3   5008812      F   N       Y  ...      0             NaN       1.000     0\n",
              "4   5008815      M   Y       Y  ...      1     Accountants       2.000     0\n",
              "\n",
              "[5 rows x 19 columns]"
            ]
          },
          "metadata": {
            "tags": []
          },
          "execution_count": 432
        }
      ]
    },
    {
      "cell_type": "code",
      "metadata": {
        "colab": {
          "base_uri": "https://localhost:8080/",
          "height": 444
        },
        "id": "G4wCCyjKJXi1",
        "outputId": "d206e790-8ea4-4c40-d632-7241e5e5814a"
      },
      "source": [
        "df.describe(include='all') "
      ],
      "execution_count": 433,
      "outputs": [
        {
          "output_type": "execute_result",
          "data": {
            "text/html": [
              "<div>\n",
              "<style scoped>\n",
              "    .dataframe tbody tr th:only-of-type {\n",
              "        vertical-align: middle;\n",
              "    }\n",
              "\n",
              "    .dataframe tbody tr th {\n",
              "        vertical-align: top;\n",
              "    }\n",
              "\n",
              "    .dataframe thead th {\n",
              "        text-align: right;\n",
              "    }\n",
              "</style>\n",
              "<table border=\"1\" class=\"dataframe\">\n",
              "  <thead>\n",
              "    <tr style=\"text-align: right;\">\n",
              "      <th></th>\n",
              "      <th>ClientID</th>\n",
              "      <th>Gender</th>\n",
              "      <th>Car</th>\n",
              "      <th>Reality</th>\n",
              "      <th>Children</th>\n",
              "      <th>Total_Income</th>\n",
              "      <th>Income_Type</th>\n",
              "      <th>Education</th>\n",
              "      <th>Family_Status</th>\n",
              "      <th>Housing_Type</th>\n",
              "      <th>Birthday</th>\n",
              "      <th>Employment_Day</th>\n",
              "      <th>Has_Mobile</th>\n",
              "      <th>Workphone</th>\n",
              "      <th>Phone</th>\n",
              "      <th>Email</th>\n",
              "      <th>Occupation</th>\n",
              "      <th>Family_Size</th>\n",
              "      <th>label</th>\n",
              "    </tr>\n",
              "  </thead>\n",
              "  <tbody>\n",
              "    <tr>\n",
              "      <th>count</th>\n",
              "      <td>9709.000</td>\n",
              "      <td>9709</td>\n",
              "      <td>9709</td>\n",
              "      <td>9709</td>\n",
              "      <td>9709.000</td>\n",
              "      <td>9709.000</td>\n",
              "      <td>9709</td>\n",
              "      <td>9709</td>\n",
              "      <td>9709</td>\n",
              "      <td>9709</td>\n",
              "      <td>9709.000</td>\n",
              "      <td>9709.000</td>\n",
              "      <td>9709.000</td>\n",
              "      <td>9709.000</td>\n",
              "      <td>9709.000</td>\n",
              "      <td>9709.000</td>\n",
              "      <td>6715</td>\n",
              "      <td>9709.000</td>\n",
              "      <td>9709.000</td>\n",
              "    </tr>\n",
              "    <tr>\n",
              "      <th>unique</th>\n",
              "      <td>nan</td>\n",
              "      <td>2</td>\n",
              "      <td>2</td>\n",
              "      <td>2</td>\n",
              "      <td>nan</td>\n",
              "      <td>nan</td>\n",
              "      <td>5</td>\n",
              "      <td>5</td>\n",
              "      <td>5</td>\n",
              "      <td>6</td>\n",
              "      <td>nan</td>\n",
              "      <td>nan</td>\n",
              "      <td>nan</td>\n",
              "      <td>nan</td>\n",
              "      <td>nan</td>\n",
              "      <td>nan</td>\n",
              "      <td>18</td>\n",
              "      <td>nan</td>\n",
              "      <td>nan</td>\n",
              "    </tr>\n",
              "    <tr>\n",
              "      <th>top</th>\n",
              "      <td>nan</td>\n",
              "      <td>F</td>\n",
              "      <td>N</td>\n",
              "      <td>Y</td>\n",
              "      <td>nan</td>\n",
              "      <td>nan</td>\n",
              "      <td>Working</td>\n",
              "      <td>Secondary / secondary special</td>\n",
              "      <td>Married</td>\n",
              "      <td>House / apartment</td>\n",
              "      <td>nan</td>\n",
              "      <td>nan</td>\n",
              "      <td>nan</td>\n",
              "      <td>nan</td>\n",
              "      <td>nan</td>\n",
              "      <td>nan</td>\n",
              "      <td>Laborers</td>\n",
              "      <td>nan</td>\n",
              "      <td>nan</td>\n",
              "    </tr>\n",
              "    <tr>\n",
              "      <th>freq</th>\n",
              "      <td>nan</td>\n",
              "      <td>6323</td>\n",
              "      <td>6139</td>\n",
              "      <td>6520</td>\n",
              "      <td>nan</td>\n",
              "      <td>nan</td>\n",
              "      <td>4960</td>\n",
              "      <td>6761</td>\n",
              "      <td>6530</td>\n",
              "      <td>8684</td>\n",
              "      <td>nan</td>\n",
              "      <td>nan</td>\n",
              "      <td>nan</td>\n",
              "      <td>nan</td>\n",
              "      <td>nan</td>\n",
              "      <td>nan</td>\n",
              "      <td>1724</td>\n",
              "      <td>nan</td>\n",
              "      <td>nan</td>\n",
              "    </tr>\n",
              "    <tr>\n",
              "      <th>mean</th>\n",
              "      <td>5076104.679</td>\n",
              "      <td>NaN</td>\n",
              "      <td>NaN</td>\n",
              "      <td>NaN</td>\n",
              "      <td>0.423</td>\n",
              "      <td>181228.195</td>\n",
              "      <td>NaN</td>\n",
              "      <td>NaN</td>\n",
              "      <td>NaN</td>\n",
              "      <td>NaN</td>\n",
              "      <td>-15991.812</td>\n",
              "      <td>61732.846</td>\n",
              "      <td>1.000</td>\n",
              "      <td>0.217</td>\n",
              "      <td>0.288</td>\n",
              "      <td>0.088</td>\n",
              "      <td>NaN</td>\n",
              "      <td>2.183</td>\n",
              "      <td>0.021</td>\n",
              "    </tr>\n",
              "    <tr>\n",
              "      <th>std</th>\n",
              "      <td>40802.696</td>\n",
              "      <td>NaN</td>\n",
              "      <td>NaN</td>\n",
              "      <td>NaN</td>\n",
              "      <td>0.767</td>\n",
              "      <td>99277.305</td>\n",
              "      <td>NaN</td>\n",
              "      <td>NaN</td>\n",
              "      <td>NaN</td>\n",
              "      <td>NaN</td>\n",
              "      <td>4246.224</td>\n",
              "      <td>139656.323</td>\n",
              "      <td>0.000</td>\n",
              "      <td>0.413</td>\n",
              "      <td>0.453</td>\n",
              "      <td>0.283</td>\n",
              "      <td>NaN</td>\n",
              "      <td>0.933</td>\n",
              "      <td>0.144</td>\n",
              "    </tr>\n",
              "    <tr>\n",
              "      <th>min</th>\n",
              "      <td>5008804.000</td>\n",
              "      <td>NaN</td>\n",
              "      <td>NaN</td>\n",
              "      <td>NaN</td>\n",
              "      <td>0.000</td>\n",
              "      <td>27000.000</td>\n",
              "      <td>NaN</td>\n",
              "      <td>NaN</td>\n",
              "      <td>NaN</td>\n",
              "      <td>NaN</td>\n",
              "      <td>-25152.000</td>\n",
              "      <td>-15713.000</td>\n",
              "      <td>1.000</td>\n",
              "      <td>0.000</td>\n",
              "      <td>0.000</td>\n",
              "      <td>0.000</td>\n",
              "      <td>NaN</td>\n",
              "      <td>1.000</td>\n",
              "      <td>0.000</td>\n",
              "    </tr>\n",
              "    <tr>\n",
              "      <th>25%</th>\n",
              "      <td>5036955.000</td>\n",
              "      <td>NaN</td>\n",
              "      <td>NaN</td>\n",
              "      <td>NaN</td>\n",
              "      <td>0.000</td>\n",
              "      <td>112500.000</td>\n",
              "      <td>NaN</td>\n",
              "      <td>NaN</td>\n",
              "      <td>NaN</td>\n",
              "      <td>NaN</td>\n",
              "      <td>-19565.000</td>\n",
              "      <td>-2995.000</td>\n",
              "      <td>1.000</td>\n",
              "      <td>0.000</td>\n",
              "      <td>0.000</td>\n",
              "      <td>0.000</td>\n",
              "      <td>NaN</td>\n",
              "      <td>2.000</td>\n",
              "      <td>0.000</td>\n",
              "    </tr>\n",
              "    <tr>\n",
              "      <th>50%</th>\n",
              "      <td>5069449.000</td>\n",
              "      <td>NaN</td>\n",
              "      <td>NaN</td>\n",
              "      <td>NaN</td>\n",
              "      <td>0.000</td>\n",
              "      <td>157500.000</td>\n",
              "      <td>NaN</td>\n",
              "      <td>NaN</td>\n",
              "      <td>NaN</td>\n",
              "      <td>NaN</td>\n",
              "      <td>-15611.000</td>\n",
              "      <td>-1374.000</td>\n",
              "      <td>1.000</td>\n",
              "      <td>0.000</td>\n",
              "      <td>0.000</td>\n",
              "      <td>0.000</td>\n",
              "      <td>NaN</td>\n",
              "      <td>2.000</td>\n",
              "      <td>0.000</td>\n",
              "    </tr>\n",
              "    <tr>\n",
              "      <th>75%</th>\n",
              "      <td>5112986.000</td>\n",
              "      <td>NaN</td>\n",
              "      <td>NaN</td>\n",
              "      <td>NaN</td>\n",
              "      <td>1.000</td>\n",
              "      <td>225000.000</td>\n",
              "      <td>NaN</td>\n",
              "      <td>NaN</td>\n",
              "      <td>NaN</td>\n",
              "      <td>NaN</td>\n",
              "      <td>-12440.000</td>\n",
              "      <td>-339.000</td>\n",
              "      <td>1.000</td>\n",
              "      <td>0.000</td>\n",
              "      <td>1.000</td>\n",
              "      <td>0.000</td>\n",
              "      <td>NaN</td>\n",
              "      <td>3.000</td>\n",
              "      <td>0.000</td>\n",
              "    </tr>\n",
              "    <tr>\n",
              "      <th>max</th>\n",
              "      <td>5150479.000</td>\n",
              "      <td>NaN</td>\n",
              "      <td>NaN</td>\n",
              "      <td>NaN</td>\n",
              "      <td>19.000</td>\n",
              "      <td>1575000.000</td>\n",
              "      <td>NaN</td>\n",
              "      <td>NaN</td>\n",
              "      <td>NaN</td>\n",
              "      <td>NaN</td>\n",
              "      <td>-7489.000</td>\n",
              "      <td>365243.000</td>\n",
              "      <td>1.000</td>\n",
              "      <td>1.000</td>\n",
              "      <td>1.000</td>\n",
              "      <td>1.000</td>\n",
              "      <td>NaN</td>\n",
              "      <td>20.000</td>\n",
              "      <td>1.000</td>\n",
              "    </tr>\n",
              "  </tbody>\n",
              "</table>\n",
              "</div>"
            ],
            "text/plain": [
              "          ClientID Gender   Car  ... Occupation  Family_Size    label\n",
              "count     9709.000   9709  9709  ...       6715     9709.000 9709.000\n",
              "unique         nan      2     2  ...         18          nan      nan\n",
              "top            nan      F     N  ...   Laborers          nan      nan\n",
              "freq           nan   6323  6139  ...       1724          nan      nan\n",
              "mean   5076104.679    NaN   NaN  ...        NaN        2.183    0.021\n",
              "std      40802.696    NaN   NaN  ...        NaN        0.933    0.144\n",
              "min    5008804.000    NaN   NaN  ...        NaN        1.000    0.000\n",
              "25%    5036955.000    NaN   NaN  ...        NaN        2.000    0.000\n",
              "50%    5069449.000    NaN   NaN  ...        NaN        2.000    0.000\n",
              "75%    5112986.000    NaN   NaN  ...        NaN        3.000    0.000\n",
              "max    5150479.000    NaN   NaN  ...        NaN       20.000    1.000\n",
              "\n",
              "[11 rows x 19 columns]"
            ]
          },
          "metadata": {
            "tags": []
          },
          "execution_count": 433
        }
      ]
    },
    {
      "cell_type": "code",
      "metadata": {
        "id": "ZWoHO1kUMxS7"
      },
      "source": [
        "df.dropna(axis=0, inplace=True)"
      ],
      "execution_count": 434,
      "outputs": []
    },
    {
      "cell_type": "code",
      "metadata": {
        "colab": {
          "base_uri": "https://localhost:8080/",
          "height": 297
        },
        "id": "J3QGtbJ1PNKt",
        "outputId": "612c2276-2a80-4387-ea8e-ae98924db0eb"
      },
      "source": [
        "df.describe(include=[np.number])"
      ],
      "execution_count": 435,
      "outputs": [
        {
          "output_type": "execute_result",
          "data": {
            "text/html": [
              "<div>\n",
              "<style scoped>\n",
              "    .dataframe tbody tr th:only-of-type {\n",
              "        vertical-align: middle;\n",
              "    }\n",
              "\n",
              "    .dataframe tbody tr th {\n",
              "        vertical-align: top;\n",
              "    }\n",
              "\n",
              "    .dataframe thead th {\n",
              "        text-align: right;\n",
              "    }\n",
              "</style>\n",
              "<table border=\"1\" class=\"dataframe\">\n",
              "  <thead>\n",
              "    <tr style=\"text-align: right;\">\n",
              "      <th></th>\n",
              "      <th>ClientID</th>\n",
              "      <th>Children</th>\n",
              "      <th>Total_Income</th>\n",
              "      <th>Birthday</th>\n",
              "      <th>Employment_Day</th>\n",
              "      <th>Has_Mobile</th>\n",
              "      <th>Workphone</th>\n",
              "      <th>Phone</th>\n",
              "      <th>Email</th>\n",
              "      <th>Family_Size</th>\n",
              "      <th>label</th>\n",
              "    </tr>\n",
              "  </thead>\n",
              "  <tbody>\n",
              "    <tr>\n",
              "      <th>count</th>\n",
              "      <td>6715.000</td>\n",
              "      <td>6715.000</td>\n",
              "      <td>6715.000</td>\n",
              "      <td>6715.000</td>\n",
              "      <td>6715.000</td>\n",
              "      <td>6715.000</td>\n",
              "      <td>6715.000</td>\n",
              "      <td>6715.000</td>\n",
              "      <td>6715.000</td>\n",
              "      <td>6715.000</td>\n",
              "      <td>6715.000</td>\n",
              "    </tr>\n",
              "    <tr>\n",
              "      <th>mean</th>\n",
              "      <td>5076510.377</td>\n",
              "      <td>0.508</td>\n",
              "      <td>189606.358</td>\n",
              "      <td>-14769.037</td>\n",
              "      <td>-2485.386</td>\n",
              "      <td>1.000</td>\n",
              "      <td>0.267</td>\n",
              "      <td>0.287</td>\n",
              "      <td>0.097</td>\n",
              "      <td>2.282</td>\n",
              "      <td>0.020</td>\n",
              "    </tr>\n",
              "    <tr>\n",
              "      <th>std</th>\n",
              "      <td>40919.491</td>\n",
              "      <td>0.819</td>\n",
              "      <td>102224.724</td>\n",
              "      <td>3529.228</td>\n",
              "      <td>2299.573</td>\n",
              "      <td>0.000</td>\n",
              "      <td>0.442</td>\n",
              "      <td>0.452</td>\n",
              "      <td>0.296</td>\n",
              "      <td>0.977</td>\n",
              "      <td>0.139</td>\n",
              "    </tr>\n",
              "    <tr>\n",
              "      <th>min</th>\n",
              "      <td>5008806.000</td>\n",
              "      <td>0.000</td>\n",
              "      <td>27000.000</td>\n",
              "      <td>-24611.000</td>\n",
              "      <td>-15713.000</td>\n",
              "      <td>1.000</td>\n",
              "      <td>0.000</td>\n",
              "      <td>0.000</td>\n",
              "      <td>0.000</td>\n",
              "      <td>1.000</td>\n",
              "      <td>0.000</td>\n",
              "    </tr>\n",
              "    <tr>\n",
              "      <th>25%</th>\n",
              "      <td>5036962.000</td>\n",
              "      <td>0.000</td>\n",
              "      <td>126000.000</td>\n",
              "      <td>-17448.000</td>\n",
              "      <td>-3350.500</td>\n",
              "      <td>1.000</td>\n",
              "      <td>0.000</td>\n",
              "      <td>0.000</td>\n",
              "      <td>0.000</td>\n",
              "      <td>2.000</td>\n",
              "      <td>0.000</td>\n",
              "    </tr>\n",
              "    <tr>\n",
              "      <th>50%</th>\n",
              "      <td>5078898.000</td>\n",
              "      <td>0.000</td>\n",
              "      <td>166500.000</td>\n",
              "      <td>-14548.000</td>\n",
              "      <td>-1788.000</td>\n",
              "      <td>1.000</td>\n",
              "      <td>0.000</td>\n",
              "      <td>0.000</td>\n",
              "      <td>0.000</td>\n",
              "      <td>2.000</td>\n",
              "      <td>0.000</td>\n",
              "    </tr>\n",
              "    <tr>\n",
              "      <th>75%</th>\n",
              "      <td>5113032.500</td>\n",
              "      <td>1.000</td>\n",
              "      <td>225000.000</td>\n",
              "      <td>-11919.500</td>\n",
              "      <td>-859.000</td>\n",
              "      <td>1.000</td>\n",
              "      <td>1.000</td>\n",
              "      <td>1.000</td>\n",
              "      <td>0.000</td>\n",
              "      <td>3.000</td>\n",
              "      <td>0.000</td>\n",
              "    </tr>\n",
              "    <tr>\n",
              "      <th>max</th>\n",
              "      <td>5150467.000</td>\n",
              "      <td>19.000</td>\n",
              "      <td>1575000.000</td>\n",
              "      <td>-7489.000</td>\n",
              "      <td>-17.000</td>\n",
              "      <td>1.000</td>\n",
              "      <td>1.000</td>\n",
              "      <td>1.000</td>\n",
              "      <td>1.000</td>\n",
              "      <td>20.000</td>\n",
              "      <td>1.000</td>\n",
              "    </tr>\n",
              "  </tbody>\n",
              "</table>\n",
              "</div>"
            ],
            "text/plain": [
              "         ClientID  Children  Total_Income  ...    Email  Family_Size    label\n",
              "count    6715.000  6715.000      6715.000  ... 6715.000     6715.000 6715.000\n",
              "mean  5076510.377     0.508    189606.358  ...    0.097        2.282    0.020\n",
              "std     40919.491     0.819    102224.724  ...    0.296        0.977    0.139\n",
              "min   5008806.000     0.000     27000.000  ...    0.000        1.000    0.000\n",
              "25%   5036962.000     0.000    126000.000  ...    0.000        2.000    0.000\n",
              "50%   5078898.000     0.000    166500.000  ...    0.000        2.000    0.000\n",
              "75%   5113032.500     1.000    225000.000  ...    0.000        3.000    0.000\n",
              "max   5150467.000    19.000   1575000.000  ...    1.000       20.000    1.000\n",
              "\n",
              "[8 rows x 11 columns]"
            ]
          },
          "metadata": {
            "tags": []
          },
          "execution_count": 435
        }
      ]
    },
    {
      "cell_type": "markdown",
      "metadata": {
        "id": "z7CAtwOgqtHS"
      },
      "source": [
        "## Data Cleaning"
      ]
    },
    {
      "cell_type": "markdown",
      "metadata": {
        "id": "TpPxqtad5IMk"
      },
      "source": [
        "There are 7 binary variables in the dataset. Namely: Gender, Car, Realty, Mobile, Workphone, Phone and Email. However, since every applicant has a mobile, we drop column Mobile. <br>\r\n"
      ]
    },
    {
      "cell_type": "code",
      "metadata": {
        "id": "NbgPuUayDetk"
      },
      "source": [
        "df= df.drop(['Has_Mobile'], axis=1)"
      ],
      "execution_count": 436,
      "outputs": []
    },
    {
      "cell_type": "markdown",
      "metadata": {
        "id": "Ej63tqTPoLeR"
      },
      "source": [
        "We divide each employment day by 365 in order to have the feauture as years.(keeping only the float number)"
      ]
    },
    {
      "cell_type": "code",
      "metadata": {
        "id": "SNApxK38nxLM"
      },
      "source": [
        "df['Employment_Day']=-df['Employment_Day']//365\r\n"
      ],
      "execution_count": 437,
      "outputs": []
    },
    {
      "cell_type": "code",
      "metadata": {
        "id": "P-1LO3d4p2YE"
      },
      "source": [
        "df=df.rename(columns={\"Employment_Day\": \"Employment_Years\"})"
      ],
      "execution_count": 438,
      "outputs": []
    },
    {
      "cell_type": "markdown",
      "metadata": {
        "id": "sDod_UpSpAZW"
      },
      "source": [
        "We convert Birth days to age number."
      ]
    },
    {
      "cell_type": "code",
      "metadata": {
        "id": "Ih7rMxQnoJqg"
      },
      "source": [
        "df['Birthday']= - df['Birthday'] //365"
      ],
      "execution_count": 439,
      "outputs": []
    },
    {
      "cell_type": "code",
      "metadata": {
        "id": "MyLPaSNPSnP6"
      },
      "source": [
        "df=df.rename(columns={\"Birthday\": \"Age\"})"
      ],
      "execution_count": 440,
      "outputs": []
    },
    {
      "cell_type": "code",
      "metadata": {
        "colab": {
          "base_uri": "https://localhost:8080/",
          "height": 360
        },
        "id": "x1TLF3HirfvK",
        "outputId": "043b9dd1-c290-477c-a954-10b5ff6276d1"
      },
      "source": [
        "df.head(5)"
      ],
      "execution_count": 441,
      "outputs": [
        {
          "output_type": "execute_result",
          "data": {
            "text/html": [
              "<div>\n",
              "<style scoped>\n",
              "    .dataframe tbody tr th:only-of-type {\n",
              "        vertical-align: middle;\n",
              "    }\n",
              "\n",
              "    .dataframe tbody tr th {\n",
              "        vertical-align: top;\n",
              "    }\n",
              "\n",
              "    .dataframe thead th {\n",
              "        text-align: right;\n",
              "    }\n",
              "</style>\n",
              "<table border=\"1\" class=\"dataframe\">\n",
              "  <thead>\n",
              "    <tr style=\"text-align: right;\">\n",
              "      <th></th>\n",
              "      <th>ClientID</th>\n",
              "      <th>Gender</th>\n",
              "      <th>Car</th>\n",
              "      <th>Reality</th>\n",
              "      <th>Children</th>\n",
              "      <th>Total_Income</th>\n",
              "      <th>Income_Type</th>\n",
              "      <th>Education</th>\n",
              "      <th>Family_Status</th>\n",
              "      <th>Housing_Type</th>\n",
              "      <th>Age</th>\n",
              "      <th>Employment_Years</th>\n",
              "      <th>Workphone</th>\n",
              "      <th>Phone</th>\n",
              "      <th>Email</th>\n",
              "      <th>Occupation</th>\n",
              "      <th>Family_Size</th>\n",
              "      <th>label</th>\n",
              "    </tr>\n",
              "  </thead>\n",
              "  <tbody>\n",
              "    <tr>\n",
              "      <th>1</th>\n",
              "      <td>5008806</td>\n",
              "      <td>M</td>\n",
              "      <td>Y</td>\n",
              "      <td>Y</td>\n",
              "      <td>0</td>\n",
              "      <td>112500.000</td>\n",
              "      <td>Working</td>\n",
              "      <td>Secondary / secondary special</td>\n",
              "      <td>Married</td>\n",
              "      <td>House / apartment</td>\n",
              "      <td>58</td>\n",
              "      <td>3</td>\n",
              "      <td>0</td>\n",
              "      <td>0</td>\n",
              "      <td>0</td>\n",
              "      <td>Security staff</td>\n",
              "      <td>2.000</td>\n",
              "      <td>0</td>\n",
              "    </tr>\n",
              "    <tr>\n",
              "      <th>2</th>\n",
              "      <td>5008808</td>\n",
              "      <td>F</td>\n",
              "      <td>N</td>\n",
              "      <td>Y</td>\n",
              "      <td>0</td>\n",
              "      <td>270000.000</td>\n",
              "      <td>Commercial associate</td>\n",
              "      <td>Secondary / secondary special</td>\n",
              "      <td>Single / not married</td>\n",
              "      <td>House / apartment</td>\n",
              "      <td>52</td>\n",
              "      <td>8</td>\n",
              "      <td>0</td>\n",
              "      <td>1</td>\n",
              "      <td>1</td>\n",
              "      <td>Sales staff</td>\n",
              "      <td>1.000</td>\n",
              "      <td>0</td>\n",
              "    </tr>\n",
              "    <tr>\n",
              "      <th>4</th>\n",
              "      <td>5008815</td>\n",
              "      <td>M</td>\n",
              "      <td>Y</td>\n",
              "      <td>Y</td>\n",
              "      <td>0</td>\n",
              "      <td>270000.000</td>\n",
              "      <td>Working</td>\n",
              "      <td>Higher education</td>\n",
              "      <td>Married</td>\n",
              "      <td>House / apartment</td>\n",
              "      <td>46</td>\n",
              "      <td>2</td>\n",
              "      <td>1</td>\n",
              "      <td>1</td>\n",
              "      <td>1</td>\n",
              "      <td>Accountants</td>\n",
              "      <td>2.000</td>\n",
              "      <td>0</td>\n",
              "    </tr>\n",
              "    <tr>\n",
              "      <th>5</th>\n",
              "      <td>5008819</td>\n",
              "      <td>M</td>\n",
              "      <td>Y</td>\n",
              "      <td>Y</td>\n",
              "      <td>0</td>\n",
              "      <td>135000.000</td>\n",
              "      <td>Commercial associate</td>\n",
              "      <td>Secondary / secondary special</td>\n",
              "      <td>Married</td>\n",
              "      <td>House / apartment</td>\n",
              "      <td>48</td>\n",
              "      <td>3</td>\n",
              "      <td>0</td>\n",
              "      <td>0</td>\n",
              "      <td>0</td>\n",
              "      <td>Laborers</td>\n",
              "      <td>2.000</td>\n",
              "      <td>0</td>\n",
              "    </tr>\n",
              "    <tr>\n",
              "      <th>6</th>\n",
              "      <td>5008825</td>\n",
              "      <td>F</td>\n",
              "      <td>Y</td>\n",
              "      <td>N</td>\n",
              "      <td>0</td>\n",
              "      <td>130500.000</td>\n",
              "      <td>Working</td>\n",
              "      <td>Incomplete higher</td>\n",
              "      <td>Married</td>\n",
              "      <td>House / apartment</td>\n",
              "      <td>29</td>\n",
              "      <td>3</td>\n",
              "      <td>0</td>\n",
              "      <td>0</td>\n",
              "      <td>0</td>\n",
              "      <td>Accountants</td>\n",
              "      <td>2.000</td>\n",
              "      <td>0</td>\n",
              "    </tr>\n",
              "  </tbody>\n",
              "</table>\n",
              "</div>"
            ],
            "text/plain": [
              "   ClientID Gender Car Reality  ...  Email      Occupation Family_Size label\n",
              "1   5008806      M   Y       Y  ...      0  Security staff       2.000     0\n",
              "2   5008808      F   N       Y  ...      1     Sales staff       1.000     0\n",
              "4   5008815      M   Y       Y  ...      1     Accountants       2.000     0\n",
              "5   5008819      M   Y       Y  ...      0        Laborers       2.000     0\n",
              "6   5008825      F   Y       N  ...      0     Accountants       2.000     0\n",
              "\n",
              "[5 rows x 18 columns]"
            ]
          },
          "metadata": {
            "tags": []
          },
          "execution_count": 441
        }
      ]
    },
    {
      "cell_type": "markdown",
      "metadata": {
        "id": "mpEPt_oTmafH"
      },
      "source": [
        "## Initial EDA"
      ]
    },
    {
      "cell_type": "code",
      "metadata": {
        "colab": {
          "base_uri": "https://localhost:8080/"
        },
        "id": "HrxxavDepZDZ",
        "outputId": "088e577d-14ac-4afa-d805-c03a2a3f26a9"
      },
      "source": [
        "df.groupby(\"Gender\")[\"Gender\"].count()"
      ],
      "execution_count": 442,
      "outputs": [
        {
          "output_type": "execute_result",
          "data": {
            "text/plain": [
              "Gender\n",
              "F    4039\n",
              "M    2676\n",
              "Name: Gender, dtype: int64"
            ]
          },
          "metadata": {
            "tags": []
          },
          "execution_count": 442
        }
      ]
    },
    {
      "cell_type": "markdown",
      "metadata": {
        "id": "mtDvXoyORPZV"
      },
      "source": [
        "We observe that 4039/2676= 60.15% of the clients are female, as it can also be seen in the below plot."
      ]
    },
    {
      "cell_type": "code",
      "metadata": {
        "colab": {
          "base_uri": "https://localhost:8080/",
          "height": 417
        },
        "id": "4k6uQxSotx5P",
        "outputId": "e6f81be5-9de0-47a7-c6e7-6e16af54566c"
      },
      "source": [
        "import plotly.express as px\r\n",
        "fig = px.pie(df, names=\"Gender\", title='Gender',width=400, height=400)\r\n",
        "\r\n",
        "fig.show(renderer=\"colab\")"
      ],
      "execution_count": 443,
      "outputs": [
        {
          "output_type": "display_data",
          "data": {
            "text/html": [
              "<html>\n",
              "<head><meta charset=\"utf-8\" /></head>\n",
              "<body>\n",
              "    <div>\n",
              "            <script src=\"https://cdnjs.cloudflare.com/ajax/libs/mathjax/2.7.5/MathJax.js?config=TeX-AMS-MML_SVG\"></script><script type=\"text/javascript\">if (window.MathJax) {MathJax.Hub.Config({SVG: {font: \"STIX-Web\"}});}</script>\n",
              "                <script type=\"text/javascript\">window.PlotlyConfig = {MathJaxConfig: 'local'};</script>\n",
              "        <script src=\"https://cdn.plot.ly/plotly-latest.min.js\"></script>    \n",
              "            <div id=\"2f354b9c-ce22-477b-a263-332b86f38128\" class=\"plotly-graph-div\" style=\"height:400px; width:400px;\"></div>\n",
              "            <script type=\"text/javascript\">\n",
              "                \n",
              "                    window.PLOTLYENV=window.PLOTLYENV || {};\n",
              "                    \n",
              "                if (document.getElementById(\"2f354b9c-ce22-477b-a263-332b86f38128\")) {\n",
              "                    Plotly.newPlot(\n",
              "                        '2f354b9c-ce22-477b-a263-332b86f38128',\n",
              "                        [{\"domain\": {\"x\": [0.0, 1.0], \"y\": [0.0, 1.0]}, \"hoverlabel\": {\"namelength\": 0}, \"hovertemplate\": \"Gender=%{label}\", \"labels\": [\"M\", \"F\", \"M\", \"M\", \"F\", \"F\", \"M\", \"M\", \"M\", \"F\", \"F\", \"M\", \"F\", \"F\", \"F\", \"F\", \"M\", \"F\", \"M\", \"F\", \"F\", \"M\", \"M\", \"F\", \"F\", \"F\", \"F\", \"F\", \"F\", \"M\", \"F\", \"M\", \"F\", \"F\", \"M\", \"F\", \"M\", \"M\", \"M\", \"M\", \"F\", \"F\", \"M\", \"M\", \"F\", \"F\", \"M\", \"F\", \"F\", \"M\", \"F\", \"F\", \"F\", \"F\", \"M\", \"F\", \"M\", \"F\", \"F\", \"M\", \"M\", \"F\", \"F\", \"M\", \"F\", \"M\", \"M\", \"M\", \"F\", \"F\", \"M\", \"F\", \"M\", \"F\", \"M\", \"F\", \"M\", \"F\", \"M\", \"F\", \"F\", \"M\", \"M\", \"M\", \"M\", \"F\", \"F\", \"M\", \"M\", \"F\", \"F\", \"M\", \"M\", \"M\", \"F\", \"F\", \"M\", \"F\", \"F\", \"F\", \"F\", \"F\", \"F\", \"F\", \"M\", \"F\", \"F\", \"M\", \"M\", \"F\", \"M\", \"F\", \"F\", \"F\", \"M\", \"F\", \"F\", \"F\", \"M\", \"M\", \"M\", \"F\", \"F\", \"F\", \"M\", \"F\", \"M\", \"F\", \"M\", \"M\", \"F\", \"M\", \"M\", \"M\", \"F\", \"F\", \"M\", \"F\", \"F\", \"M\", \"F\", \"M\", \"F\", \"F\", \"F\", \"M\", \"F\", \"M\", \"F\", \"F\", \"F\", \"F\", \"F\", \"F\", \"M\", \"F\", \"F\", \"F\", \"M\", \"M\", \"F\", \"F\", \"F\", \"F\", \"M\", \"F\", \"F\", \"M\", \"F\", \"F\", \"M\", \"M\", \"F\", \"M\", \"M\", \"F\", \"F\", \"M\", \"M\", \"M\", \"F\", \"F\", \"F\", \"F\", \"F\", \"M\", \"F\", \"F\", \"M\", \"F\", \"F\", \"M\", \"F\", \"F\", \"F\", \"M\", \"F\", \"F\", \"F\", \"F\", \"F\", \"M\", \"F\", \"F\", \"F\", \"F\", \"M\", \"M\", \"M\", \"F\", \"F\", \"M\", \"F\", \"M\", \"F\", \"M\", \"M\", \"F\", \"F\", \"F\", \"F\", \"F\", \"M\", \"M\", \"M\", \"M\", \"F\", \"M\", \"M\", \"M\", \"F\", \"M\", \"M\", \"F\", \"F\", \"M\", \"F\", \"M\", \"F\", \"F\", \"M\", \"F\", \"F\", \"F\", \"F\", \"F\", \"F\", \"M\", \"F\", \"F\", \"F\", \"F\", \"F\", \"M\", \"F\", \"M\", \"F\", \"M\", \"F\", \"F\", \"F\", \"M\", \"M\", \"F\", \"F\", \"M\", \"F\", \"M\", \"M\", \"F\", \"F\", \"F\", \"F\", \"M\", \"F\", \"M\", \"F\", \"F\", \"M\", \"M\", \"F\", \"F\", \"M\", \"M\", \"F\", \"F\", \"M\", \"F\", \"F\", \"M\", \"M\", \"M\", \"F\", \"F\", \"F\", \"F\", \"F\", \"F\", \"F\", \"F\", \"F\", \"F\", \"M\", \"F\", \"M\", \"F\", \"M\", \"F\", \"M\", \"F\", \"F\", \"F\", \"M\", \"M\", \"F\", \"F\", \"F\", \"F\", \"F\", \"F\", \"M\", \"F\", \"M\", \"M\", \"F\", \"M\", \"F\", \"F\", \"M\", \"F\", \"F\", \"M\", \"M\", \"M\", \"F\", \"F\", \"F\", \"M\", \"M\", \"F\", \"F\", \"F\", \"F\", \"M\", \"M\", \"M\", \"M\", \"M\", \"F\", \"F\", \"F\", \"F\", \"F\", \"F\", \"F\", \"F\", \"F\", \"F\", \"F\", \"F\", \"F\", \"F\", \"M\", \"F\", \"F\", \"F\", \"M\", \"F\", \"F\", \"F\", \"F\", \"F\", \"M\", \"M\", \"M\", \"F\", \"M\", \"F\", \"F\", \"F\", \"F\", \"F\", \"M\", \"M\", \"F\", \"M\", \"M\", \"M\", \"F\", \"M\", \"F\", \"F\", \"F\", \"F\", \"F\", \"F\", \"M\", \"M\", \"M\", \"F\", \"F\", \"F\", \"M\", \"F\", \"F\", \"F\", \"M\", \"M\", \"M\", \"M\", \"F\", \"F\", \"F\", \"F\", \"M\", \"F\", \"M\", \"F\", \"M\", \"M\", \"F\", \"F\", \"M\", \"F\", \"F\", \"M\", \"F\", \"F\", \"F\", \"F\", \"F\", \"M\", \"F\", \"F\", \"M\", \"F\", \"M\", \"F\", \"M\", \"M\", \"F\", \"M\", \"F\", \"F\", \"F\", \"M\", \"M\", \"F\", \"F\", \"M\", \"F\", \"M\", \"M\", \"M\", \"F\", \"M\", \"M\", \"F\", \"F\", \"M\", \"F\", \"F\", \"F\", \"F\", \"M\", \"M\", \"M\", \"M\", \"F\", \"F\", \"F\", \"F\", \"M\", \"F\", \"F\", \"F\", \"M\", \"F\", \"M\", \"M\", \"F\", \"F\", \"F\", \"F\", \"F\", \"M\", \"M\", \"F\", \"M\", \"F\", \"F\", \"M\", \"M\", \"F\", \"M\", \"F\", \"F\", \"F\", \"F\", \"F\", \"F\", \"M\", \"M\", \"F\", \"M\", \"F\", \"F\", \"M\", \"F\", \"F\", \"M\", \"F\", \"F\", \"M\", \"M\", \"M\", \"F\", \"F\", \"M\", \"F\", \"F\", \"F\", \"M\", \"F\", \"M\", \"M\", \"F\", \"M\", \"M\", \"F\", \"M\", \"M\", \"M\", \"F\", \"F\", \"M\", \"F\", \"F\", \"M\", \"F\", \"F\", \"M\", \"F\", \"M\", \"F\", \"M\", \"F\", \"F\", \"F\", \"M\", \"F\", \"F\", \"F\", \"F\", \"F\", \"F\", \"F\", \"M\", \"M\", \"F\", \"F\", \"F\", \"M\", \"F\", \"F\", \"F\", \"M\", \"M\", \"F\", \"F\", \"M\", \"F\", \"F\", \"F\", \"M\", \"M\", \"F\", \"M\", \"F\", \"F\", \"M\", \"F\", \"M\", \"F\", \"F\", \"M\", \"F\", \"F\", \"M\", \"M\", \"F\", \"M\", \"F\", \"F\", \"F\", \"M\", \"F\", \"F\", \"M\", \"F\", \"F\", \"F\", \"M\", \"F\", \"F\", \"M\", \"F\", \"F\", \"F\", \"F\", \"M\", \"M\", \"M\", \"M\", \"F\", \"F\", \"F\", \"F\", \"M\", \"M\", \"F\", \"F\", \"M\", \"F\", \"M\", \"M\", \"M\", \"M\", \"M\", \"F\", \"M\", \"F\", \"F\", \"F\", \"M\", \"F\", \"F\", \"F\", \"M\", \"M\", \"F\", \"F\", \"F\", \"F\", \"M\", \"F\", \"F\", \"M\", \"F\", \"F\", \"F\", \"M\", \"F\", \"F\", \"F\", \"M\", \"F\", \"F\", \"F\", \"M\", \"F\", \"M\", \"M\", \"F\", \"M\", \"M\", \"F\", \"F\", \"F\", \"F\", \"M\", \"M\", \"F\", \"F\", \"F\", \"F\", \"M\", \"M\", \"M\", \"F\", \"M\", \"F\", \"F\", \"M\", \"F\", \"F\", \"F\", \"F\", \"M\", \"M\", \"M\", \"M\", \"F\", \"M\", \"F\", \"F\", \"F\", \"F\", \"F\", \"M\", \"M\", \"F\", \"F\", \"M\", \"F\", \"F\", \"F\", \"F\", \"F\", \"M\", \"F\", \"M\", \"F\", \"M\", \"F\", \"M\", \"F\", \"F\", \"F\", \"F\", \"M\", \"F\", \"F\", \"M\", \"F\", \"F\", \"F\", \"M\", \"F\", \"M\", \"M\", \"M\", \"F\", \"F\", \"F\", \"F\", \"F\", \"F\", \"F\", \"M\", \"F\", \"F\", \"M\", \"M\", \"F\", \"F\", \"F\", \"F\", \"M\", \"F\", \"F\", \"F\", \"M\", \"F\", \"M\", \"F\", \"F\", \"F\", \"M\", \"F\", \"M\", \"F\", \"F\", \"F\", \"F\", \"F\", \"F\", \"M\", \"M\", \"M\", \"F\", \"F\", \"F\", \"M\", \"M\", \"F\", \"M\", \"M\", \"M\", \"F\", \"F\", \"M\", \"F\", \"M\", \"F\", \"M\", \"F\", \"F\", \"M\", \"M\", \"F\", \"M\", \"M\", \"F\", \"M\", \"F\", \"F\", \"F\", \"M\", \"M\", \"M\", \"F\", \"M\", \"M\", \"F\", \"M\", \"M\", \"M\", \"F\", \"F\", \"M\", \"F\", \"F\", \"F\", \"F\", \"F\", \"M\", \"M\", \"F\", \"F\", \"F\", \"F\", \"M\", \"F\", \"F\", \"M\", \"F\", \"F\", \"M\", \"M\", \"M\", \"M\", \"M\", \"F\", \"M\", \"F\", \"F\", \"M\", \"M\", \"F\", \"M\", \"F\", \"F\", \"F\", \"M\", \"F\", \"M\", \"M\", \"F\", \"F\", \"M\", \"M\", \"F\", \"F\", \"M\", \"F\", \"F\", \"F\", \"F\", \"F\", \"F\", \"M\", \"F\", \"M\", \"M\", \"M\", \"F\", \"F\", \"F\", \"M\", \"M\", \"F\", \"F\", \"M\", \"M\", \"F\", \"M\", \"F\", \"M\", \"M\", \"M\", \"M\", \"F\", \"F\", \"F\", \"M\", \"F\", \"M\", \"F\", \"F\", \"F\", \"M\", \"F\", \"F\", \"F\", \"M\", \"F\", \"F\", \"F\", \"F\", \"F\", \"F\", \"F\", \"F\", \"M\", \"F\", \"F\", \"F\", \"F\", \"F\", \"M\", \"M\", \"M\", \"M\", \"M\", \"M\", \"F\", \"F\", \"M\", \"F\", \"F\", \"F\", \"F\", \"F\", \"F\", \"M\", \"M\", \"M\", \"M\", \"M\", \"F\", \"F\", \"F\", \"F\", \"M\", \"M\", \"F\", \"F\", \"F\", \"M\", \"F\", \"F\", \"F\", \"F\", \"F\", \"F\", \"F\", \"F\", \"F\", \"M\", \"M\", \"F\", \"F\", \"F\", \"M\", \"F\", \"F\", \"F\", \"M\", \"M\", \"F\", \"M\", \"F\", \"F\", \"M\", \"F\", \"F\", \"M\", \"M\", \"M\", \"F\", \"F\", \"M\", \"M\", \"M\", \"F\", \"F\", \"F\", \"F\", \"F\", \"M\", \"F\", \"F\", \"M\", \"F\", \"M\", \"M\", \"F\", \"F\", \"F\", \"M\", \"F\", \"M\", \"F\", \"F\", \"M\", \"F\", \"M\", \"M\", \"F\", \"F\", \"F\", \"M\", \"F\", \"M\", \"F\", \"F\", \"F\", \"M\", \"M\", \"F\", \"M\", \"F\", \"F\", \"F\", \"M\", \"M\", \"M\", \"M\", \"F\", \"F\", \"F\", \"M\", \"M\", \"F\", \"F\", \"M\", \"F\", \"F\", \"M\", \"F\", \"M\", \"M\", \"M\", \"M\", \"F\", \"F\", \"F\", \"F\", \"M\", \"F\", \"F\", \"M\", \"F\", \"M\", \"M\", \"F\", \"M\", \"M\", \"M\", \"F\", \"F\", \"M\", \"M\", \"F\", \"M\", \"F\", \"F\", \"M\", \"F\", \"F\", \"F\", \"M\", \"F\", \"F\", \"F\", \"F\", \"F\", \"M\", \"M\", \"F\", \"F\", \"F\", \"M\", \"M\", \"M\", \"F\", \"F\", \"F\", \"F\", \"F\", \"F\", \"F\", \"M\", \"F\", \"M\", \"F\", \"F\", \"F\", \"F\", \"F\", \"F\", \"F\", \"F\", \"M\", \"M\", \"M\", \"M\", \"M\", \"F\", \"F\", \"M\", \"F\", \"F\", \"F\", \"F\", \"M\", \"F\", \"F\", \"M\", \"F\", \"M\", \"F\", \"M\", \"M\", \"M\", \"F\", \"M\", \"M\", \"F\", \"M\", \"M\", \"F\", \"F\", \"F\", \"F\", \"F\", \"M\", \"F\", \"M\", \"F\", \"M\", \"M\", \"M\", \"F\", \"F\", \"M\", \"F\", \"F\", \"F\", \"F\", \"F\", \"M\", \"M\", \"F\", \"F\", \"F\", \"M\", \"F\", \"F\", \"F\", \"M\", \"F\", \"F\", \"M\", \"F\", \"F\", \"F\", \"F\", \"F\", \"F\", \"F\", \"M\", \"F\", \"F\", \"M\", \"F\", \"M\", \"F\", \"M\", \"M\", \"M\", \"F\", \"F\", \"M\", \"M\", \"M\", \"F\", \"M\", \"F\", \"F\", \"M\", \"M\", \"M\", \"F\", \"F\", \"F\", \"M\", \"M\", \"F\", \"F\", \"M\", \"F\", \"M\", \"M\", \"F\", \"M\", \"F\", \"F\", \"M\", \"F\", \"F\", \"F\", \"M\", \"F\", \"M\", \"F\", \"F\", \"M\", \"M\", \"M\", \"F\", \"F\", \"F\", \"M\", \"F\", \"F\", \"M\", \"F\", \"M\", \"F\", \"M\", \"F\", \"F\", \"M\", \"M\", \"M\", \"M\", \"F\", \"M\", \"F\", \"M\", \"F\", \"F\", \"F\", \"F\", \"F\", \"M\", \"M\", \"M\", \"F\", \"M\", \"F\", \"M\", \"F\", \"M\", \"M\", \"M\", \"F\", \"F\", \"M\", \"F\", \"F\", \"F\", \"F\", \"M\", \"F\", \"F\", \"F\", \"F\", \"F\", \"M\", \"F\", \"M\", \"M\", \"F\", \"F\", \"F\", \"F\", \"M\", \"F\", \"F\", \"F\", \"M\", \"F\", \"F\", \"F\", \"M\", \"F\", \"M\", \"M\", \"F\", \"M\", \"F\", \"F\", \"F\", \"M\", \"F\", \"F\", \"F\", \"M\", \"F\", \"F\", \"F\", \"F\", \"M\", \"M\", \"F\", \"M\", \"F\", \"F\", \"F\", \"F\", \"M\", \"F\", \"M\", \"F\", \"M\", \"F\", \"F\", \"F\", \"M\", \"F\", \"M\", \"M\", \"F\", \"M\", \"F\", \"M\", \"F\", \"M\", \"M\", \"F\", \"M\", \"F\", \"M\", \"F\", \"M\", \"M\", \"F\", \"F\", \"F\", \"M\", \"F\", \"F\", \"F\", \"M\", \"F\", \"M\", \"M\", \"M\", \"F\", \"M\", \"F\", \"F\", \"F\", \"F\", \"F\", \"M\", \"F\", \"F\", \"F\", \"F\", \"M\", \"F\", \"F\", \"M\", \"M\", \"F\", \"F\", \"F\", \"F\", \"F\", \"F\", \"F\", \"F\", \"M\", \"M\", \"M\", \"M\", \"F\", \"F\", \"M\", \"F\", \"M\", \"F\", \"F\", \"M\", \"F\", \"M\", \"M\", \"M\", \"M\", \"F\", \"F\", \"M\", \"M\", \"M\", \"F\", \"F\", \"F\", \"F\", \"M\", \"F\", \"M\", \"M\", \"M\", \"F\", \"F\", \"F\", \"M\", \"M\", \"M\", \"M\", \"F\", \"M\", \"F\", \"F\", \"F\", \"F\", \"F\", \"M\", \"F\", \"F\", \"M\", \"F\", \"M\", \"M\", \"F\", \"F\", \"F\", \"F\", \"F\", \"F\", \"F\", \"F\", \"M\", \"F\", \"M\", \"F\", \"M\", \"F\", \"M\", \"F\", \"F\", \"F\", \"M\", \"M\", \"F\", \"F\", \"M\", \"F\", \"F\", \"F\", \"F\", \"F\", \"F\", \"M\", \"F\", \"F\", \"F\", \"M\", \"F\", \"F\", \"F\", \"F\", \"F\", \"M\", \"F\", \"F\", \"M\", \"M\", \"F\", \"M\", \"M\", \"F\", \"F\", \"F\", \"F\", \"F\", \"F\", \"M\", \"M\", \"M\", \"M\", \"F\", \"F\", \"F\", \"F\", \"F\", \"M\", \"F\", \"F\", \"F\", \"F\", \"F\", \"F\", \"F\", \"F\", \"F\", \"F\", \"F\", \"M\", \"F\", \"F\", \"M\", \"M\", \"F\", \"F\", \"F\", \"M\", \"M\", \"M\", \"F\", \"M\", \"F\", \"F\", \"F\", \"F\", \"F\", \"M\", \"M\", \"F\", \"F\", \"F\", \"M\", \"F\", \"M\", \"M\", \"F\", \"M\", \"F\", \"F\", \"F\", \"M\", \"M\", \"M\", \"M\", \"M\", \"F\", \"F\", \"F\", \"F\", \"M\", \"M\", \"F\", \"F\", \"M\", \"M\", \"F\", \"M\", \"F\", \"M\", \"M\", \"F\", \"M\", \"F\", \"F\", \"F\", \"M\", \"F\", \"M\", \"F\", \"M\", \"F\", \"M\", \"F\", \"M\", \"F\", \"M\", \"M\", \"M\", \"F\", \"F\", \"M\", \"F\", \"M\", \"F\", \"F\", \"F\", \"F\", \"F\", \"M\", \"M\", \"M\", \"F\", \"M\", \"F\", \"F\", \"F\", \"F\", \"M\", \"F\", \"F\", \"M\", \"M\", \"M\", \"F\", \"F\", \"M\", \"M\", \"F\", \"F\", \"F\", \"F\", \"F\", \"F\", \"F\", \"F\", \"F\", \"F\", \"F\", \"F\", \"F\", \"F\", \"M\", \"M\", \"M\", \"M\", \"M\", \"F\", \"F\", \"F\", \"M\", \"M\", \"M\", \"F\", \"F\", \"F\", \"F\", \"F\", \"F\", \"F\", \"F\", \"F\", \"F\", \"F\", \"M\", \"F\", \"F\", \"F\", \"F\", \"F\", \"F\", \"F\", \"F\", \"M\", \"F\", \"F\", \"F\", \"F\", \"M\", \"M\", \"F\", \"F\", \"M\", \"M\", \"F\", \"M\", \"F\", \"F\", \"F\", \"F\", \"F\", \"F\", \"F\", \"M\", \"F\", \"M\", \"F\", \"M\", \"F\", \"M\", \"M\", \"F\", \"F\", \"M\", \"M\", \"M\", \"F\", \"F\", \"M\", \"M\", \"F\", \"F\", \"F\", \"F\", \"F\", \"F\", \"F\", \"F\", \"M\", \"F\", \"F\", \"F\", \"M\", \"F\", \"F\", \"F\", \"F\", \"F\", \"F\", \"F\", \"M\", \"M\", \"F\", \"F\", \"M\", \"F\", \"M\", \"F\", \"M\", \"F\", \"M\", \"F\", \"M\", \"F\", \"F\", \"M\", \"M\", \"M\", \"M\", \"F\", \"M\", \"F\", \"F\", \"F\", \"F\", \"M\", \"F\", \"M\", \"F\", \"F\", \"F\", \"F\", \"F\", \"F\", \"F\", \"M\", \"M\", \"F\", \"F\", \"F\", \"M\", \"F\", \"M\", \"F\", \"F\", \"F\", \"M\", \"F\", \"F\", \"F\", \"F\", \"M\", \"F\", \"F\", \"F\", \"M\", \"M\", \"M\", \"F\", \"M\", \"F\", \"F\", \"F\", \"F\", \"F\", \"F\", \"M\", \"F\", \"F\", \"F\", \"M\", \"M\", \"F\", \"F\", \"F\", \"M\", \"F\", \"M\", \"M\", \"F\", \"F\", \"M\", \"M\", \"F\", \"F\", \"M\", \"M\", \"F\", \"M\", \"F\", \"M\", \"M\", \"M\", \"F\", \"F\", \"F\", \"F\", \"M\", \"F\", \"F\", \"F\", \"F\", \"F\", \"M\", \"M\", \"M\", \"F\", \"F\", \"F\", \"M\", \"M\", \"M\", \"M\", \"M\", \"F\", \"M\", \"F\", \"F\", \"M\", \"F\", \"F\", \"F\", \"F\", \"F\", \"F\", \"M\", \"M\", \"F\", \"F\", \"M\", \"F\", \"M\", \"F\", \"F\", \"F\", \"M\", \"F\", \"F\", \"F\", \"F\", \"F\", \"F\", \"M\", \"M\", \"F\", \"F\", \"F\", \"F\", \"F\", \"F\", \"M\", \"F\", \"F\", \"F\", \"M\", \"M\", \"F\", \"F\", \"F\", \"M\", \"F\", \"M\", \"F\", \"F\", \"M\", \"F\", \"M\", \"M\", \"F\", \"F\", \"F\", \"F\", \"F\", \"F\", \"F\", \"M\", \"F\", \"F\", \"F\", \"F\", \"M\", \"F\", \"F\", \"F\", \"F\", \"F\", \"M\", \"M\", \"F\", \"F\", \"F\", \"F\", \"M\", \"F\", \"F\", \"F\", \"F\", \"F\", \"M\", \"M\", \"M\", \"M\", \"F\", \"F\", \"F\", \"F\", \"F\", \"F\", \"M\", \"F\", \"M\", \"F\", \"M\", \"F\", \"F\", \"F\", \"F\", \"F\", \"F\", \"F\", \"M\", \"F\", \"F\", \"M\", \"M\", \"F\", \"F\", \"M\", \"F\", \"F\", \"M\", \"F\", \"F\", \"F\", \"F\", \"F\", \"F\", \"M\", \"F\", \"F\", \"F\", \"M\", \"F\", \"F\", \"M\", \"M\", \"M\", \"F\", \"F\", \"F\", \"F\", \"F\", \"F\", \"F\", \"F\", \"F\", \"F\", \"M\", \"F\", \"F\", \"M\", \"F\", \"F\", \"F\", \"M\", \"F\", \"M\", \"F\", \"F\", \"F\", \"F\", \"F\", \"F\", \"F\", \"M\", \"F\", \"F\", \"F\", \"F\", \"F\", \"F\", \"F\", \"F\", \"F\", \"F\", \"F\", \"F\", \"M\", \"F\", \"M\", \"F\", \"F\", \"M\", \"M\", \"M\", \"F\", \"M\", \"F\", \"F\", \"F\", \"M\", \"M\", \"M\", \"M\", \"M\", \"M\", \"F\", \"M\", \"F\", \"F\", \"F\", \"F\", \"F\", \"F\", \"M\", \"F\", \"F\", \"M\", \"M\", \"F\", \"F\", \"M\", \"F\", \"F\", \"M\", \"M\", \"F\", \"F\", \"F\", \"F\", \"F\", \"F\", \"M\", \"F\", \"M\", \"M\", \"M\", \"M\", \"M\", \"F\", \"F\", \"F\", \"M\", \"F\", \"M\", \"F\", \"M\", \"F\", \"F\", \"F\", \"F\", \"M\", \"F\", \"F\", \"M\", \"M\", \"F\", \"M\", \"M\", \"M\", \"F\", \"F\", \"F\", \"M\", \"F\", \"F\", \"M\", \"F\", \"F\", \"F\", \"F\", \"F\", \"F\", \"F\", \"F\", \"F\", \"M\", \"F\", \"M\", \"M\", \"F\", \"M\", \"F\", \"M\", \"M\", \"M\", \"F\", \"F\", \"M\", \"M\", \"M\", \"F\", \"M\", \"F\", \"M\", \"F\", \"F\", \"F\", \"F\", \"M\", \"M\", \"F\", \"F\", \"F\", \"M\", \"F\", \"F\", \"F\", \"F\", \"M\", \"M\", \"F\", \"M\", \"F\", \"M\", \"M\", \"F\", \"M\", \"F\", \"M\", \"F\", \"M\", \"F\", \"F\", \"M\", \"F\", \"F\", \"M\", \"F\", \"F\", \"M\", \"F\", \"M\", \"F\", \"F\", \"F\", \"F\", \"F\", \"M\", \"F\", \"F\", \"M\", \"F\", \"M\", \"F\", \"F\", \"F\", \"M\", \"F\", \"M\", \"F\", \"F\", \"F\", \"F\", \"F\", \"F\", \"M\", \"F\", \"F\", \"M\", \"F\", \"F\", \"M\", \"M\", \"F\", \"F\", \"F\", \"F\", \"M\", \"M\", \"M\", \"F\", \"M\", \"M\", \"F\", \"M\", \"F\", \"F\", \"F\", \"F\", \"M\", \"M\", \"F\", \"M\", \"F\", \"F\", \"M\", \"F\", \"F\", \"F\", \"M\", \"M\", \"M\", \"F\", \"F\", \"M\", \"M\", \"M\", \"M\", \"F\", \"F\", \"F\", \"M\", \"F\", \"F\", \"F\", \"F\", \"F\", \"M\", \"M\", \"F\", \"F\", \"F\", \"F\", \"F\", \"F\", \"F\", \"M\", \"M\", \"M\", \"M\", \"F\", \"F\", \"F\", \"F\", \"F\", \"M\", \"F\", \"M\", \"F\", \"F\", \"M\", \"M\", \"F\", \"F\", \"F\", \"F\", \"F\", \"M\", \"M\", \"M\", \"F\", \"F\", \"F\", \"M\", \"F\", \"M\", \"M\", \"M\", \"M\", \"M\", \"F\", \"M\", \"F\", \"F\", \"F\", \"F\", \"M\", \"M\", \"M\", \"M\", \"F\", \"F\", \"M\", \"F\", \"M\", \"F\", \"F\", \"M\", \"F\", \"M\", \"M\", \"M\", \"F\", \"F\", \"F\", \"M\", \"F\", \"F\", \"M\", \"M\", \"F\", \"M\", \"F\", \"F\", \"M\", \"F\", \"F\", \"F\", \"F\", \"F\", \"F\", \"F\", \"F\", \"F\", \"M\", \"F\", \"M\", \"F\", \"M\", \"F\", \"M\", \"F\", \"F\", \"F\", \"M\", \"M\", \"M\", \"F\", \"M\", \"F\", \"M\", \"F\", \"M\", \"F\", \"F\", \"F\", \"F\", \"F\", \"M\", \"M\", \"M\", \"M\", \"M\", \"M\", \"F\", \"M\", \"M\", \"M\", \"F\", \"M\", \"M\", \"M\", \"F\", \"F\", \"M\", \"F\", \"M\", \"F\", \"M\", \"M\", \"F\", \"F\", \"M\", \"F\", \"F\", \"F\", \"F\", \"F\", \"M\", \"F\", \"F\", \"F\", \"F\", \"F\", \"F\", \"F\", \"F\", \"M\", \"F\", \"F\", \"M\", \"M\", \"M\", \"F\", \"F\", \"F\", \"F\", \"F\", \"F\", \"F\", \"F\", \"M\", \"M\", \"M\", \"M\", \"M\", \"M\", \"M\", \"M\", \"M\", \"F\", \"M\", \"F\", \"M\", \"F\", \"F\", \"F\", \"F\", \"F\", \"F\", \"M\", \"F\", \"M\", \"M\", \"M\", \"M\", \"F\", \"F\", \"F\", \"F\", \"F\", \"M\", \"F\", \"F\", \"F\", \"F\", \"F\", \"M\", \"M\", \"M\", \"M\", \"M\", \"F\", \"M\", \"M\", \"M\", \"M\", \"M\", \"M\", \"M\", \"F\", \"M\", \"M\", \"F\", \"F\", \"F\", \"F\", \"F\", \"F\", \"F\", \"F\", \"M\", \"F\", \"M\", \"F\", \"M\", \"M\", \"F\", \"F\", \"F\", \"M\", \"M\", \"F\", \"M\", \"M\", \"F\", \"F\", \"M\", \"M\", \"F\", \"F\", \"M\", \"F\", \"M\", \"M\", \"F\", \"M\", \"F\", \"F\", \"M\", \"F\", \"F\", \"F\", \"M\", \"F\", \"F\", \"F\", \"M\", \"F\", \"F\", \"F\", \"F\", \"F\", \"F\", \"M\", \"M\", \"M\", \"M\", \"F\", \"M\", \"M\", \"F\", \"F\", \"M\", \"F\", \"M\", \"F\", \"M\", \"F\", \"F\", \"F\", \"F\", \"M\", \"F\", \"F\", \"M\", \"F\", \"F\", \"F\", \"M\", \"M\", \"M\", \"M\", \"M\", \"F\", \"M\", \"M\", \"F\", \"F\", \"M\", \"M\", \"M\", \"M\", \"F\", \"M\", \"F\", \"F\", \"F\", \"F\", \"F\", \"M\", \"F\", \"F\", \"M\", \"M\", \"F\", \"F\", \"M\", \"F\", \"M\", \"M\", \"M\", \"F\", \"F\", \"M\", \"F\", \"F\", \"F\", \"M\", \"F\", \"F\", \"M\", \"F\", \"M\", \"F\", \"F\", \"F\", \"F\", \"M\", \"M\", \"M\", \"F\", \"M\", \"F\", \"F\", \"M\", \"M\", \"M\", \"F\", \"F\", \"F\", \"M\", \"M\", \"M\", \"F\", \"F\", \"F\", \"M\", \"F\", \"M\", \"M\", \"F\", \"F\", \"M\", \"M\", \"F\", \"F\", \"M\", \"M\", \"F\", \"F\", \"F\", \"M\", \"M\", \"F\", \"M\", \"M\", \"M\", \"F\", \"F\", \"M\", \"F\", \"F\", \"F\", \"F\", \"F\", \"F\", \"M\", \"M\", \"F\", \"M\", \"M\", \"F\", \"F\", \"F\", \"M\", \"M\", \"M\", \"F\", \"F\", \"F\", \"F\", \"F\", \"F\", \"M\", \"F\", \"F\", \"F\", \"F\", \"F\", \"F\", \"F\", \"F\", \"M\", \"M\", \"F\", \"F\", \"F\", \"M\", \"F\", \"M\", \"F\", \"F\", \"F\", \"F\", \"F\", \"M\", \"M\", \"F\", \"F\", \"M\", \"M\", \"M\", \"F\", \"F\", \"M\", \"F\", \"F\", \"F\", \"M\", \"M\", \"F\", \"F\", \"F\", \"F\", \"M\", \"F\", \"F\", \"F\", \"M\", \"F\", \"F\", \"F\", \"M\", \"F\", \"F\", \"F\", \"F\", \"F\", \"F\", \"M\", \"M\", \"M\", \"F\", \"F\", \"M\", \"F\", \"F\", \"M\", \"F\", \"M\", \"F\", \"F\", \"F\", \"F\", \"M\", \"M\", \"M\", \"M\", \"F\", \"M\", \"F\", \"M\", \"M\", \"F\", \"F\", \"M\", \"M\", \"M\", \"F\", \"F\", \"M\", \"M\", \"F\", \"F\", \"M\", \"F\", \"F\", \"F\", \"M\", \"F\", \"F\", \"F\", \"F\", \"M\", \"M\", \"F\", \"M\", \"F\", \"F\", \"F\", \"F\", \"F\", \"F\", \"F\", \"F\", \"M\", \"F\", \"M\", \"F\", \"M\", \"F\", \"F\", \"F\", \"F\", \"F\", \"F\", \"M\", \"M\", \"F\", \"M\", \"M\", \"F\", \"M\", \"F\", \"F\", \"M\", \"M\", \"M\", \"F\", \"F\", \"M\", \"M\", \"F\", \"F\", \"M\", \"M\", \"M\", \"F\", \"M\", \"F\", \"F\", \"F\", \"M\", \"F\", \"F\", \"F\", \"F\", \"M\", \"F\", \"F\", \"F\", \"F\", \"F\", \"F\", \"M\", \"F\", \"M\", \"M\", \"M\", \"M\", \"M\", \"M\", \"F\", \"F\", \"M\", \"F\", \"F\", \"F\", \"F\", \"F\", \"F\", \"F\", \"F\", \"F\", \"F\", \"F\", \"F\", \"M\", \"F\", \"M\", \"F\", \"F\", \"F\", \"F\", \"M\", \"F\", \"F\", \"M\", \"F\", \"F\", \"M\", \"F\", \"M\", \"F\", \"M\", \"F\", \"F\", \"M\", \"F\", \"M\", \"M\", \"M\", \"M\", \"M\", \"F\", \"F\", \"F\", \"F\", \"M\", \"M\", \"F\", \"F\", \"F\", \"M\", \"M\", \"F\", \"M\", \"F\", \"M\", \"F\", \"F\", \"M\", \"F\", \"M\", \"M\", \"F\", \"F\", \"F\", \"F\", \"M\", \"M\", \"M\", \"M\", \"M\", \"F\", \"M\", \"M\", \"F\", \"F\", \"F\", \"M\", \"M\", \"F\", \"M\", \"F\", \"M\", \"F\", \"F\", \"F\", \"F\", \"M\", \"F\", \"M\", \"M\", \"F\", \"F\", \"F\", \"F\", \"F\", \"F\", \"M\", \"M\", \"F\", \"F\", \"F\", \"M\", \"F\", \"F\", \"M\", \"F\", \"F\", \"M\", \"F\", \"F\", \"M\", \"M\", \"M\", \"F\", \"M\", \"F\", \"M\", \"M\", \"F\", \"F\", \"M\", \"M\", \"M\", \"F\", \"F\", \"M\", \"M\", \"F\", \"M\", \"M\", \"F\", \"F\", \"F\", \"M\", \"F\", \"F\", \"F\", \"F\", \"M\", \"F\", \"M\", \"F\", \"F\", \"F\", \"M\", \"M\", \"F\", \"F\", \"F\", \"F\", \"F\", \"F\", \"F\", \"F\", \"F\", \"M\", \"F\", \"F\", \"F\", \"F\", \"F\", \"M\", \"F\", \"F\", \"F\", \"F\", \"F\", \"M\", \"M\", \"F\", \"M\", \"F\", \"F\", \"F\", \"M\", \"M\", \"M\", \"F\", \"F\", \"F\", \"M\", \"F\", \"M\", \"M\", \"F\", \"F\", \"M\", \"M\", \"F\", \"F\", \"M\", \"M\", \"F\", \"F\", \"F\", \"M\", \"M\", \"M\", \"F\", \"F\", \"M\", \"M\", \"F\", \"M\", \"F\", \"F\", \"F\", \"F\", \"F\", \"M\", \"M\", \"M\", \"F\", \"F\", \"M\", \"M\", \"F\", \"M\", \"F\", \"M\", \"F\", \"F\", \"F\", \"M\", \"M\", \"F\", \"F\", \"F\", \"F\", \"M\", \"F\", \"F\", \"F\", \"F\", \"M\", \"F\", \"M\", \"F\", \"F\", \"M\", \"F\", \"M\", \"M\", \"F\", \"M\", \"F\", \"F\", \"F\", \"F\", \"M\", \"M\", \"F\", \"M\", \"F\", \"M\", \"M\", \"F\", \"F\", \"F\", \"F\", \"M\", \"M\", \"M\", \"M\", \"M\", \"F\", \"F\", \"F\", \"M\", \"F\", \"F\", \"F\", \"M\", \"F\", \"M\", \"M\", \"M\", \"F\", \"F\", \"M\", \"M\", \"F\", \"F\", \"F\", \"F\", \"M\", \"F\", \"F\", \"M\", \"M\", \"F\", \"M\", \"M\", \"M\", \"F\", \"F\", \"F\", \"F\", \"F\", \"M\", \"M\", \"M\", \"F\", \"M\", \"F\", \"F\", \"M\", \"M\", \"F\", \"F\", \"F\", \"F\", \"M\", \"M\", \"M\", \"M\", \"F\", \"F\", \"M\", \"F\", \"M\", \"M\", \"F\", \"M\", \"M\", \"F\", \"F\", \"M\", \"M\", \"M\", \"F\", \"M\", \"M\", \"M\", \"F\", \"F\", \"F\", \"M\", \"M\", \"F\", \"F\", \"F\", \"M\", \"F\", \"F\", \"M\", \"M\", \"F\", \"F\", \"F\", \"M\", \"M\", \"M\", \"F\", \"M\", \"M\", \"F\", \"F\", \"F\", \"M\", \"F\", \"M\", \"F\", \"F\", \"M\", \"F\", \"M\", \"M\", \"F\", \"F\", \"M\", \"M\", \"F\", \"F\", \"M\", \"F\", \"M\", \"M\", \"M\", \"F\", \"F\", \"F\", \"F\", \"F\", \"F\", \"F\", \"F\", \"F\", \"F\", \"F\", \"M\", \"F\", \"F\", \"M\", \"F\", \"M\", \"M\", \"M\", \"M\", \"F\", \"F\", \"M\", \"F\", \"M\", \"M\", \"F\", \"F\", \"F\", \"F\", \"F\", \"F\", \"M\", \"F\", \"F\", \"F\", \"M\", \"M\", \"M\", \"M\", \"F\", \"F\", \"M\", \"M\", \"F\", \"F\", \"F\", \"F\", \"F\", \"M\", \"M\", \"M\", \"F\", \"M\", \"M\", \"F\", \"F\", \"M\", \"F\", \"M\", \"M\", \"F\", \"M\", \"F\", \"M\", \"F\", \"M\", \"M\", \"F\", \"F\", \"F\", \"F\", \"M\", \"M\", \"M\", \"F\", \"F\", \"F\", \"F\", \"M\", \"M\", \"F\", \"M\", \"F\", \"F\", \"F\", \"F\", \"F\", \"F\", \"M\", \"F\", \"F\", \"F\", \"M\", \"F\", \"F\", \"F\", \"F\", \"F\", \"F\", \"F\", \"F\", \"F\", \"M\", \"M\", \"M\", \"F\", \"M\", \"F\", \"M\", \"F\", \"F\", \"M\", \"F\", \"M\", \"F\", \"M\", \"F\", \"F\", \"M\", \"F\", \"M\", \"F\", \"F\", \"F\", \"F\", \"F\", \"F\", \"F\", \"F\", \"F\", \"F\", \"F\", \"F\", \"M\", \"F\", \"M\", \"F\", \"F\", \"M\", \"M\", \"F\", \"M\", \"F\", \"M\", \"F\", \"F\", \"M\", \"M\", \"M\", \"F\", \"F\", \"F\", \"M\", \"M\", \"F\", \"M\", \"M\", \"F\", \"M\", \"F\", \"F\", \"F\", \"M\", \"F\", \"F\", \"M\", \"M\", \"M\", \"F\", \"M\", \"F\", \"M\", \"F\", \"F\", \"M\", \"M\", \"M\", \"M\", \"F\", \"F\", \"F\", \"F\", \"M\", \"F\", \"M\", \"M\", \"M\", \"F\", \"F\", \"M\", \"M\", \"F\", \"M\", \"M\", \"F\", \"M\", \"F\", \"M\", \"M\", \"F\", \"M\", \"F\", \"F\", \"M\", \"M\", \"M\", \"M\", \"M\", \"M\", \"F\", \"M\", \"M\", \"F\", \"F\", \"M\", \"M\", \"F\", \"F\", \"M\", \"F\", \"F\", \"F\", \"M\", \"F\", \"F\", \"M\", \"F\", \"M\", \"M\", \"M\", \"M\", \"F\", \"F\", \"F\", \"F\", \"M\", \"F\", \"F\", \"M\", \"F\", \"F\", \"F\", \"M\", \"F\", \"F\", \"M\", \"F\", \"M\", \"M\", \"F\", \"F\", \"F\", \"F\", \"M\", \"F\", \"M\", \"M\", \"F\", \"F\", \"F\", \"M\", \"F\", \"M\", \"M\", \"F\", \"F\", \"F\", \"F\", \"F\", \"F\", \"F\", \"F\", \"F\", \"F\", \"M\", \"M\", \"F\", \"F\", \"F\", \"F\", \"M\", \"M\", \"M\", \"F\", \"F\", \"F\", \"F\", \"F\", \"F\", \"M\", \"F\", \"F\", \"M\", \"M\", \"M\", \"F\", \"M\", \"F\", \"F\", \"M\", \"M\", \"F\", \"M\", \"F\", \"F\", \"M\", \"F\", \"M\", \"M\", \"F\", \"F\", \"F\", \"F\", \"F\", \"F\", \"M\", \"M\", \"M\", \"F\", \"M\", \"F\", \"F\", \"F\", \"F\", \"M\", \"M\", \"F\", \"M\", \"F\", \"M\", \"F\", \"M\", \"F\", \"F\", \"M\", \"M\", \"F\", \"M\", \"M\", \"F\", \"F\", \"F\", \"M\", \"F\", \"M\", \"M\", \"M\", \"F\", \"F\", \"F\", \"M\", \"M\", \"F\", \"F\", \"F\", \"M\", \"F\", \"F\", \"F\", \"F\", \"F\", \"F\", \"F\", \"F\", \"F\", \"F\", \"F\", \"F\", \"F\", \"F\", \"M\", \"F\", \"F\", \"F\", \"F\", \"M\", \"F\", \"F\", \"F\", \"F\", \"M\", \"F\", \"M\", \"F\", \"F\", \"F\", \"M\", \"F\", \"F\", \"F\", \"F\", \"F\", \"M\", \"F\", \"F\", \"F\", \"F\", \"F\", \"F\", \"M\", \"F\", \"F\", \"F\", \"F\", \"F\", \"F\", \"F\", \"F\", \"M\", \"M\", \"F\", \"F\", \"F\", \"F\", \"F\", \"F\", \"F\", \"F\", \"M\", \"F\", \"F\", \"F\", \"F\", \"F\", \"M\", \"M\", \"F\", \"F\", \"M\", \"F\", \"F\", \"F\", \"F\", \"F\", \"F\", \"F\", \"M\", \"M\", \"M\", \"F\", \"F\", \"F\", \"F\", \"M\", \"M\", \"F\", \"M\", \"M\", \"F\", \"M\", \"F\", \"M\", \"M\", \"F\", \"F\", \"F\", \"M\", \"F\", \"M\", \"M\", \"F\", \"F\", \"F\", \"M\", \"F\", \"F\", \"F\", \"F\", \"M\", \"M\", \"M\", \"M\", \"F\", \"F\", \"M\", \"M\", \"M\", \"M\", \"M\", \"F\", \"M\", \"F\", \"M\", \"F\", \"M\", \"F\", \"F\", \"F\", \"F\", \"F\", \"F\", \"F\", \"F\", \"M\", \"M\", \"M\", \"M\", \"F\", \"F\", \"M\", \"M\", \"M\", \"F\", \"F\", \"F\", \"M\", \"M\", \"F\", \"F\", \"F\", \"F\", \"F\", \"F\", \"F\", \"F\", \"M\", \"F\", \"F\", \"F\", \"M\", \"M\", \"M\", \"F\", \"F\", \"F\", \"F\", \"F\", \"F\", \"F\", \"F\", \"M\", \"F\", \"F\", \"F\", \"F\", \"M\", \"M\", \"F\", \"F\", \"M\", \"F\", \"F\", \"F\", \"F\", \"M\", \"F\", \"F\", \"F\", \"M\", \"F\", \"F\", \"F\", \"F\", \"F\", \"M\", \"F\", \"F\", \"F\", \"F\", \"M\", \"F\", \"M\", \"M\", \"F\", \"F\", \"F\", \"F\", \"F\", \"M\", \"M\", \"M\", \"F\", \"F\", \"F\", \"M\", \"M\", \"F\", \"F\", \"M\", \"F\", \"F\", \"F\", \"F\", \"F\", \"F\", \"M\", \"F\", \"F\", \"M\", \"F\", \"M\", \"F\", \"F\", \"F\", \"F\", \"F\", \"F\", \"M\", \"F\", \"F\", \"F\", \"F\", \"F\", \"F\", \"F\", \"F\", \"F\", \"F\", \"F\", \"F\", \"F\", \"F\", \"M\", \"F\", \"F\", \"F\", \"M\", \"F\", \"F\", \"F\", \"F\", \"F\", \"F\", \"F\", \"F\", \"F\", \"F\", \"F\", \"M\", \"F\", \"M\", \"M\", \"M\", \"F\", \"M\", \"M\", \"F\", \"M\", \"M\", \"M\", \"M\", \"F\", \"M\", \"M\", \"M\", \"M\", \"F\", \"M\", \"M\", \"F\", \"F\", \"F\", \"F\", \"F\", \"F\", \"M\", \"F\", \"M\", \"F\", \"M\", \"M\", \"M\", \"F\", \"F\", \"M\", \"F\", \"F\", \"F\", \"F\", \"M\", \"F\", \"F\", \"F\", \"M\", \"F\", \"M\", \"M\", \"M\", \"F\", \"F\", \"F\", \"M\", \"F\", \"F\", \"F\", \"F\", \"M\", \"M\", \"M\", \"F\", \"F\", \"M\", \"F\", \"F\", \"M\", \"M\", \"M\", \"M\", \"M\", \"M\", \"M\", \"F\", \"M\", \"M\", \"M\", \"F\", \"F\", \"M\", \"M\", \"F\", \"F\", \"F\", \"F\", \"F\", \"M\", \"M\", \"M\", \"F\", \"F\", \"F\", \"M\", \"F\", \"M\", \"F\", \"M\", \"F\", \"F\", \"F\", \"F\", \"M\", \"F\", \"M\", \"F\", \"F\", \"F\", \"F\", \"F\", \"F\", \"F\", \"M\", \"F\", \"F\", \"F\", \"F\", \"F\", \"F\", \"F\", \"M\", \"F\", \"F\", \"F\", \"F\", \"F\", \"F\", \"M\", \"F\", \"M\", \"F\", \"F\", \"F\", \"F\", \"M\", \"F\", \"F\", \"F\", \"M\", \"M\", \"F\", \"M\", \"F\", \"M\", \"F\", \"F\", \"F\", \"F\", \"M\", \"F\", \"F\", \"M\", \"F\", \"F\", \"F\", \"F\", \"F\", \"F\", \"F\", \"F\", \"M\", \"F\", \"M\", \"M\", \"F\", \"F\", \"F\", \"F\", \"M\", \"F\", \"M\", \"M\", \"F\", \"M\", \"F\", \"F\", \"F\", \"M\", \"M\", \"F\", \"M\", \"F\", \"M\", \"F\", \"F\", \"M\", \"F\", \"F\", \"F\", \"F\", \"F\", \"F\", \"M\", \"F\", \"M\", \"M\", \"M\", \"F\", \"F\", \"M\", \"F\", \"M\", \"M\", \"M\", \"M\", \"F\", \"F\", \"M\", \"F\", \"F\", \"F\", \"F\", \"M\", \"F\", \"F\", \"F\", \"F\", \"M\", \"F\", \"F\", \"F\", \"F\", \"F\", \"F\", \"F\", \"F\", \"F\", \"F\", \"F\", \"M\", \"F\", \"F\", \"F\", \"F\", \"F\", \"F\", \"F\", \"F\", \"F\", \"F\", \"F\", \"F\", \"M\", \"M\", \"M\", \"M\", \"F\", \"F\", \"M\", \"F\", \"F\", \"M\", \"M\", \"F\", \"F\", \"F\", \"F\", \"F\", \"F\", \"M\", \"F\", \"M\", \"F\", \"M\", \"F\", \"M\", \"M\", \"M\", \"F\", \"F\", \"M\", \"F\", \"F\", \"M\", \"F\", \"M\", \"F\", \"M\", \"M\", \"F\", \"M\", \"M\", \"F\", \"F\", \"F\", \"F\", \"M\", \"M\", \"F\", \"F\", \"F\", \"F\", \"M\", \"F\", \"M\", \"F\", \"F\", \"M\", \"M\", \"F\", \"M\", \"F\", \"F\", \"F\", \"F\", \"F\", \"F\", \"F\", \"F\", \"F\", \"F\", \"M\", \"M\", \"F\", \"F\", \"F\", \"M\", \"M\", \"M\", \"M\", \"F\", \"M\", \"F\", \"M\", \"M\", \"F\", \"M\", \"M\", \"F\", \"M\", \"F\", \"M\", \"F\", \"M\", \"F\", \"M\", \"F\", \"F\", \"F\", \"F\", \"F\", \"F\", \"F\", \"F\", \"F\", \"F\", \"F\", \"M\", \"M\", \"M\", \"M\", \"F\", \"M\", \"M\", \"F\", \"F\", \"F\", \"M\", \"M\", \"M\", \"F\", \"M\", \"F\", \"M\", \"M\", \"M\", \"F\", \"F\", \"M\", \"M\", \"M\", \"F\", \"F\", \"M\", \"F\", \"M\", \"M\", \"F\", \"F\", \"M\", \"M\", \"F\", \"F\", \"M\", \"F\", \"F\", \"M\", \"M\", \"M\", \"M\", \"F\", \"M\", \"F\", \"F\", \"M\", \"M\", \"M\", \"F\", \"M\", \"F\", \"M\", \"F\", \"M\", \"F\", \"M\", \"M\", \"F\", \"F\", \"F\", \"M\", \"F\", \"F\", \"M\", \"F\", \"M\", \"M\", \"F\", \"F\", \"F\", \"F\", \"F\", \"F\", \"F\", \"F\", \"M\", \"F\", \"F\", \"F\", \"F\", \"F\", \"F\", \"M\", \"M\", \"M\", \"F\", \"F\", \"F\", \"F\", \"F\", \"M\", \"F\", \"M\", \"F\", \"F\", \"F\", \"M\", \"F\", \"F\", \"M\", \"M\", \"M\", \"M\", \"M\", \"M\", \"M\", \"F\", \"F\", \"F\", \"F\", \"M\", \"M\", \"F\", \"F\", \"F\", \"M\", \"M\", \"M\", \"F\", \"F\", \"F\", \"M\", \"F\", \"F\", \"F\", \"M\", \"F\", \"F\", \"F\", \"F\", \"M\", \"M\", \"M\", \"M\", \"F\", \"F\", \"F\", \"F\", \"F\", \"M\", \"F\", \"M\", \"M\", \"F\", \"F\", \"F\", \"M\", \"F\", \"M\", \"M\", \"M\", \"F\", \"M\", \"F\", \"F\", \"M\", \"F\", \"F\", \"F\", \"M\", \"F\", \"M\", \"F\", \"F\", \"F\", \"M\", \"M\", \"F\", \"M\", \"M\", \"F\", \"F\", \"F\", \"F\", \"M\", \"F\", \"F\", \"M\", \"F\", \"F\", \"F\", \"M\", \"F\", \"M\", \"F\", \"F\", \"F\", \"F\", \"M\", \"M\", \"F\", \"F\", \"F\", \"F\", \"F\", \"F\", \"F\", \"F\", \"F\", \"F\", \"F\", \"M\", \"F\", \"F\", \"F\", \"F\", \"F\", \"F\", \"F\", \"F\", \"M\", \"M\", \"F\", \"M\", \"F\", \"M\", \"M\", \"M\", \"F\", \"M\", \"F\", \"M\", \"M\", \"M\", \"F\", \"M\", \"F\", \"F\", \"F\", \"F\", \"M\", \"F\", \"F\", \"M\", \"M\", \"M\", \"F\", \"F\", \"F\", \"F\", \"M\", \"F\", \"F\", \"M\", \"F\", \"F\", \"F\", \"M\", \"M\", \"F\", \"F\", \"F\", \"M\", \"F\", \"F\", \"F\", \"M\", \"F\", \"F\", \"F\", \"M\", \"M\", \"M\", \"F\", \"F\", \"F\", \"F\", \"F\", \"M\", \"M\", \"F\", \"F\", \"F\", \"M\", \"F\", \"F\", \"F\", \"F\", \"M\", \"F\", \"M\", \"M\", \"M\", \"F\", \"F\", \"F\", \"M\", \"F\", \"F\", \"F\", \"M\", \"F\", \"M\", \"F\", \"M\", \"M\", \"F\", \"M\", \"M\", \"F\", \"F\", \"F\", \"F\", \"F\", \"M\", \"M\", \"F\", \"F\", \"F\", \"F\", \"F\", \"F\", \"M\", \"M\", \"F\", \"F\", \"F\", \"F\", \"F\", \"M\", \"F\", \"M\", \"M\", \"F\", \"F\", \"F\", \"F\", \"F\", \"F\", \"F\", \"M\", \"M\", \"F\", \"F\", \"M\", \"F\", \"F\", \"F\", \"M\", \"F\", \"M\", \"M\", \"M\", \"M\", \"F\", \"F\", \"F\", \"F\", \"F\", \"M\", \"F\", \"M\", \"M\", \"F\", \"F\", \"F\", \"M\", \"M\", \"F\", \"F\", \"F\", \"M\", \"F\", \"F\", \"F\", \"F\", \"F\", \"M\", \"M\", \"M\", \"M\", \"M\", \"M\", \"F\", \"F\", \"F\", \"F\", \"F\", \"M\", \"F\", \"M\", \"F\", \"F\", \"M\", \"M\", \"M\", \"F\", \"M\", \"M\", \"F\", \"M\", \"F\", \"M\", \"F\", \"M\", \"F\", \"M\", \"M\", \"F\", \"F\", \"M\", \"F\", \"M\", \"F\", \"F\", \"F\", \"M\", \"F\", \"M\", \"F\", \"F\", \"F\", \"M\", \"F\", \"F\", \"M\", \"M\", \"M\", \"F\", \"F\", \"F\", \"M\", \"M\", \"F\", \"F\", \"M\", \"M\", \"M\", \"F\", \"F\", \"F\", \"M\", \"M\", \"F\", \"M\", \"M\", \"F\", \"F\", \"M\", \"M\", \"M\", \"F\", \"F\", \"F\", \"F\", \"F\", \"F\", \"F\", \"M\", \"M\", \"M\", \"F\", \"F\", \"F\", \"F\", \"M\", \"M\", \"F\", \"F\", \"F\", \"F\", \"F\", \"F\", \"F\", \"M\", \"M\", \"M\", \"F\", \"F\", \"F\", \"M\", \"M\", \"F\", \"F\", \"F\", \"F\", \"M\", \"M\", \"F\", \"F\", \"F\", \"F\", \"F\", \"F\", \"F\", \"F\", \"F\", \"F\", \"M\", \"M\", \"M\", \"M\", \"F\", \"F\", \"F\", \"M\", \"F\", \"F\", \"M\", \"F\", \"F\", \"M\", \"F\", \"M\", \"F\", \"F\", \"M\", \"F\", \"F\", \"F\", \"M\", \"M\", \"F\", \"M\", \"F\", \"F\", \"F\", \"F\", \"M\", \"F\", \"F\", \"F\", \"M\", \"F\", \"M\", \"M\", \"F\", \"M\", \"F\", \"M\", \"M\", \"M\", \"M\", \"M\", \"F\", \"M\", \"F\", \"F\", \"F\", \"M\", \"F\", \"F\", \"M\", \"F\", \"F\", \"F\", \"F\", \"F\", \"F\", \"M\", \"F\", \"M\", \"M\", \"M\", \"M\", \"F\", \"M\", \"M\", \"M\", \"M\", \"F\", \"M\", \"F\", \"F\", \"M\", \"F\", \"F\", \"F\", \"F\", \"F\", \"F\", \"M\", \"F\", \"M\", \"F\", \"M\", \"F\", \"M\", \"F\", \"M\", \"F\", \"F\", \"M\", \"M\", \"M\", \"M\", \"F\", \"F\", \"M\", \"F\", \"F\", \"F\", \"F\", \"M\", \"F\", \"F\", \"M\", \"M\", \"F\", \"F\", \"M\", \"F\", \"F\", \"F\", \"F\", \"F\", \"M\", \"F\", \"F\", \"M\", \"M\", \"M\", \"M\", \"F\", \"F\", \"F\", \"F\", \"F\", \"F\", \"F\", \"M\", \"M\", \"M\", \"M\", \"M\", \"M\", \"F\", \"F\", \"M\", \"F\", \"F\", \"F\", \"F\", \"F\", \"F\", \"F\", \"M\", \"F\", \"F\", \"M\", \"F\", \"F\", \"F\", \"F\", \"M\", \"M\", \"M\", \"F\", \"F\", \"M\", \"M\", \"F\", \"F\", \"F\", \"M\", \"M\", \"F\", \"F\", \"M\", \"M\", \"M\", \"M\", \"F\", \"F\", \"M\", \"M\", \"F\", \"M\", \"F\", \"F\", \"M\", \"F\", \"F\", \"M\", \"F\", \"F\", \"M\", \"M\", \"F\", \"M\", \"M\", \"F\", \"M\", \"F\", \"F\", \"F\", \"F\", \"M\", \"M\", \"F\", \"M\", \"F\", \"F\", \"M\", \"M\", \"F\", \"F\", \"M\", \"M\", \"F\", \"F\", \"M\", \"F\", \"F\", \"M\", \"M\", \"M\", \"M\", \"F\", \"F\", \"M\", \"M\", \"M\", \"M\", \"M\", \"F\", \"M\", \"F\", \"F\", \"F\", \"F\", \"F\", \"F\", \"F\", \"M\", \"M\", \"M\", \"F\", \"M\", \"M\", \"F\", \"F\", \"F\", \"F\", \"F\", \"F\", \"M\", \"F\", \"F\", \"F\", \"F\", \"F\", \"F\", \"F\", \"M\", \"F\", \"F\", \"F\", \"M\", \"F\", \"F\", \"M\", \"F\", \"F\", \"F\", \"F\", \"F\", \"F\", \"F\", \"F\", \"F\", \"M\", \"F\", \"F\", \"F\", \"F\", \"F\", \"F\", \"F\", \"M\", \"F\", \"F\", \"M\", \"M\", \"F\", \"F\", \"M\", \"F\", \"F\", \"M\", \"F\", \"F\", \"F\", \"F\", \"F\", \"F\", \"M\", \"F\", \"M\", \"F\", \"F\", \"M\", \"M\", \"F\", \"F\", \"F\", \"M\", \"M\", \"F\", \"F\", \"F\", \"M\", \"F\", \"M\", \"M\", \"M\", \"M\", \"M\", \"M\", \"F\", \"M\", \"M\", \"F\", \"M\", \"M\", \"F\", \"F\", \"M\", \"F\", \"F\", \"F\", \"M\", \"F\", \"M\", \"M\", \"M\", \"F\", \"F\", \"F\", \"F\", \"M\", \"F\", \"M\", \"F\", \"F\", \"F\", \"M\", \"F\", \"M\", \"M\", \"F\", \"F\", \"M\", \"F\", \"F\", \"F\", \"M\", \"M\", \"F\", \"F\", \"F\", \"F\", \"F\", \"M\", \"M\", \"F\", \"M\", \"F\", \"M\", \"F\", \"M\", \"F\", \"M\", \"F\", \"M\", \"M\", \"F\", \"F\", \"F\", \"M\", \"F\", \"F\", \"M\", \"M\", \"M\", \"F\", \"F\", \"M\", \"M\", \"F\", \"F\", \"F\", \"F\", \"M\", \"F\", \"F\", \"F\", \"M\", \"F\", \"F\", \"M\", \"F\", \"M\", \"F\", \"F\", \"M\", \"F\", \"F\", \"M\", \"F\", \"M\", \"M\", \"M\", \"F\", \"M\", \"F\", \"M\", \"F\", \"M\", \"M\", \"F\", \"F\", \"F\", \"F\", \"F\", \"F\", \"M\", \"M\", \"F\", \"F\", \"F\", \"F\", \"M\", \"F\", \"M\", \"M\", \"M\", \"M\", \"M\", \"F\", \"F\", \"F\", \"F\", \"M\", \"F\", \"M\", \"F\", \"F\", \"M\", \"F\", \"M\", \"F\", \"M\", \"M\", \"F\", \"F\", \"F\", \"F\", \"F\", \"F\", \"F\", \"M\", \"F\", \"F\", \"M\", \"F\", \"M\", \"F\", \"M\", \"M\", \"F\", \"M\", \"F\", \"M\", \"F\", \"F\", \"F\", \"F\", \"M\", \"F\", \"F\", \"M\", \"M\", \"F\", \"M\", \"F\", \"M\", \"M\", \"F\", \"M\", \"M\", \"F\", \"M\", \"M\", \"M\", \"M\", \"M\", \"M\", \"F\", \"M\", \"M\", \"F\", \"M\", \"F\", \"F\", \"F\", \"M\", \"F\", \"M\", \"M\", \"F\", \"F\", \"M\", \"M\", \"M\", \"M\", \"M\", \"M\", \"F\", \"M\", \"M\", \"F\", \"M\", \"F\", \"F\", \"F\", \"F\", \"F\", \"F\", \"F\", \"M\", \"M\", \"F\", \"F\", \"F\", \"F\", \"M\", \"M\", \"M\", \"F\", \"M\", \"F\", \"F\", \"F\", \"M\", \"F\", \"M\", \"F\", \"M\", \"F\", \"M\", \"M\", \"M\", \"M\", \"F\", \"M\", \"F\", \"F\", \"M\", \"F\", \"F\", \"M\", \"M\", \"M\", \"F\", \"M\", \"F\", \"F\", \"M\", \"M\", \"F\", \"F\", \"F\", \"M\", \"F\", \"F\", \"F\", \"F\", \"F\", \"F\", \"F\", \"F\", \"F\", \"M\", \"F\", \"M\", \"M\", \"M\", \"F\", \"M\", \"F\", \"M\", \"F\", \"M\", \"M\", \"F\", \"F\", \"F\", \"M\", \"F\", \"F\", \"M\", \"M\", \"F\", \"M\", \"F\", \"F\", \"M\", \"F\", \"M\", \"F\", \"M\", \"F\", \"F\", \"M\", \"M\", \"M\", \"F\", \"M\", \"M\", \"F\", \"F\", \"F\", \"F\", \"F\", \"F\", \"F\", \"F\", \"M\", \"M\", \"M\", \"F\", \"M\", \"F\", \"F\", \"M\", \"F\", \"F\", \"F\", \"F\", \"F\", \"M\", \"M\", \"M\", \"M\", \"F\", \"F\", \"F\", \"F\", \"F\", \"F\", \"M\", \"M\", \"F\", \"M\", \"F\", \"M\", \"F\", \"F\", \"M\", \"M\", \"F\", \"F\", \"M\", \"M\", \"F\", \"F\", \"F\", \"F\", \"F\", \"F\", \"M\", \"M\", \"F\", \"F\", \"M\", \"F\", \"F\", \"F\", \"F\", \"M\", \"F\", \"F\", \"F\", \"F\", \"F\", \"M\", \"F\", \"M\", \"F\", \"M\", \"M\", \"F\", \"M\", \"F\", \"F\", \"F\", \"M\", \"M\", \"F\", \"F\", \"F\", \"F\", \"F\", \"F\", \"F\", \"M\", \"F\", \"F\", \"F\", \"M\", \"F\", \"F\", \"F\", \"M\", \"F\", \"M\", \"F\", \"F\", \"M\", \"F\", \"M\", \"M\", \"M\", \"M\", \"M\", \"M\", \"M\", \"F\", \"F\", \"F\", \"M\", \"M\", \"F\", \"M\", \"F\", \"F\", \"M\", \"M\", \"F\", \"M\", \"F\", \"M\", \"F\", \"F\", \"F\", \"F\", \"F\", \"M\", \"F\", \"F\", \"M\", \"M\", \"M\", \"M\", \"M\", \"F\", \"F\", \"F\", \"F\", \"M\", \"M\", \"M\", \"F\", \"F\", \"F\", \"M\", \"M\", \"F\", \"F\", \"M\", \"M\", \"M\", \"F\", \"F\", \"M\", \"M\", \"F\", \"F\", \"F\", \"M\", \"F\", \"F\", \"M\", \"M\", \"F\", \"F\", \"M\", \"M\", \"M\", \"F\", \"M\", \"F\", \"M\", \"M\", \"F\", \"M\", \"F\", \"M\", \"M\", \"F\", \"F\", \"F\", \"F\", \"M\", \"M\", \"M\", \"F\", \"F\", \"F\", \"F\", \"F\", \"M\", \"M\", \"F\", \"F\", \"M\", \"F\", \"M\", \"M\", \"F\", \"F\", \"F\", \"M\", \"M\", \"F\", \"M\", \"F\", \"F\", \"M\", \"M\", \"F\", \"F\", \"F\", \"F\", \"M\", \"M\", \"M\", \"F\", \"F\", \"M\", \"F\", \"M\", \"M\", \"M\", \"M\", \"F\", \"M\", \"M\", \"F\", \"F\", \"F\", \"F\", \"M\", \"M\", \"F\", \"M\", \"M\", \"F\", \"F\", \"F\", \"M\", \"F\", \"F\", \"M\", \"M\", \"F\", \"F\", \"M\", \"F\", \"M\", \"M\", \"F\", \"F\", \"F\", \"F\", \"F\", \"M\", \"F\", \"F\", \"M\", \"M\", \"F\", \"M\", \"F\", \"F\", \"M\", \"F\", \"F\", \"F\", \"M\", \"F\", \"M\", \"F\", \"M\", \"F\", \"F\", \"F\", \"M\", \"M\", \"F\", \"M\", \"M\", \"M\", \"M\", \"M\", \"F\", \"F\", \"M\", \"F\", \"M\", \"F\", \"M\", \"F\", \"F\", \"M\", \"F\", \"F\", \"F\", \"M\", \"F\", \"M\", \"F\", \"M\", \"M\", \"F\", \"F\", \"M\", \"M\", \"F\", \"M\", \"M\", \"M\", \"F\", \"F\", \"F\", \"F\", \"F\", \"F\", \"M\", \"M\", \"M\", \"M\", \"F\", \"F\", \"F\", \"F\", \"M\", \"M\", \"F\", \"F\", \"F\", \"M\", \"F\", \"M\", \"F\", \"M\", \"M\", \"M\", \"F\", \"M\", \"F\", \"F\", \"F\", \"M\", \"F\", \"F\", \"F\", \"F\", \"M\", \"M\", \"F\", \"F\", \"M\", \"F\", \"M\", \"F\", \"F\", \"F\", \"F\", \"F\", \"F\", \"F\", \"M\", \"F\", \"F\", \"F\", \"F\", \"M\", \"F\", \"F\", \"M\", \"M\", \"F\", \"F\", \"F\", \"M\", \"F\", \"F\", \"F\", \"F\", \"M\", \"F\", \"F\", \"F\", \"F\", \"F\", \"M\", \"M\", \"M\", \"M\", \"M\", \"F\", \"F\", \"F\", \"F\", \"M\", \"F\", \"M\", \"F\", \"F\", \"F\", \"F\", \"F\", \"M\", \"M\", \"M\", \"F\", \"F\", \"F\", \"M\", \"M\", \"F\", \"M\", \"F\", \"F\", \"F\", \"M\", \"F\", \"M\", \"M\", \"M\", \"F\", \"M\", \"F\", \"F\", \"F\", \"M\", \"F\", \"M\", \"F\", \"M\", \"F\", \"M\", \"M\", \"M\", \"M\", \"M\", \"M\", \"F\", \"M\", \"M\", \"M\", \"M\", \"F\", \"F\", \"M\", \"F\", \"M\", \"F\", \"F\", \"F\", \"F\", \"M\", \"F\", \"M\", \"F\", \"M\", \"F\", \"M\", \"F\", \"F\", \"F\", \"F\", \"M\", \"F\", \"F\", \"M\", \"F\", \"F\", \"F\", \"F\", \"F\", \"M\", \"M\", \"F\", \"F\", \"F\", \"F\", \"M\", \"F\", \"F\", \"M\", \"M\", \"M\", \"F\", \"M\", \"M\", \"F\", \"F\", \"M\", \"F\", \"F\", \"M\", \"F\", \"F\", \"F\", \"M\", \"M\", \"M\", \"F\", \"F\", \"F\", \"F\", \"M\", \"M\", \"M\", \"M\", \"M\", \"F\", \"M\", \"F\", \"F\", \"M\", \"M\", \"F\", \"M\", \"M\", \"F\", \"M\", \"F\", \"M\", \"F\", \"F\", \"M\", \"F\", \"M\", \"F\", \"F\", \"F\", \"M\", \"F\", \"F\", \"M\", \"F\", \"M\", \"F\", \"M\", \"F\", \"M\", \"M\", \"F\", \"F\", \"F\", \"F\", \"F\", \"F\", \"F\", \"M\", \"F\", \"M\", \"F\", \"M\", \"F\", \"M\", \"F\", \"F\", \"F\", \"M\", \"M\", \"F\", \"F\", \"M\", \"F\", \"M\", \"F\", \"M\", \"F\", \"M\", \"M\", \"M\", \"M\", \"F\", \"M\", \"F\", \"F\", \"M\", \"F\", \"M\", \"F\", \"F\", \"F\", \"F\", \"M\", \"F\", \"F\", \"F\", \"F\", \"F\", \"F\", \"F\", \"M\", \"M\", \"F\", \"F\", \"M\", \"F\", \"M\", \"F\", \"F\", \"F\", \"F\", \"M\", \"F\", \"M\", \"F\", \"M\", \"F\", \"F\", \"M\", \"F\", \"M\", \"M\", \"F\", \"F\", \"M\", \"F\", \"F\", \"M\", \"M\", \"F\", \"F\", \"F\", \"M\", \"M\", \"F\", \"F\", \"F\", \"F\", \"F\", \"F\", \"F\", \"F\", \"M\", \"M\", \"M\", \"M\", \"F\", \"F\", \"F\", \"M\", \"F\", \"F\", \"F\", \"F\", \"F\", \"M\", \"F\", \"M\", \"F\", \"F\", \"F\", \"M\", \"F\", \"M\", \"F\", \"M\", \"M\", \"F\", \"F\", \"M\", \"M\", \"F\", \"F\", \"M\", \"F\", \"F\", \"F\", \"M\", \"F\", \"M\", \"F\", \"F\", \"F\", \"M\", \"F\", \"F\", \"F\", \"M\", \"M\", \"F\", \"F\", \"M\", \"F\", \"F\", \"F\", \"M\", \"F\", \"F\", \"F\", \"F\", \"M\", \"M\", \"F\", \"M\", \"F\", \"F\", \"F\", \"F\", \"F\", \"F\", \"F\", \"F\", \"M\", \"F\", \"F\", \"M\", \"M\", \"F\", \"M\", \"M\", \"F\", \"F\", \"M\", \"M\", \"M\", \"F\", \"M\", \"F\", \"F\", \"F\", \"F\", \"F\", \"M\", \"F\", \"F\", \"M\", \"M\", \"F\", \"F\", \"M\", \"F\", \"F\", \"F\", \"F\", \"F\", \"M\", \"F\", \"F\", \"F\", \"F\", \"F\", \"F\", \"F\", \"F\", \"F\", \"M\", \"M\", \"F\", \"M\", \"M\", \"F\", \"F\", \"F\", \"F\", \"F\", \"M\", \"M\", \"F\", \"F\", \"F\", \"M\", \"F\", \"F\", \"F\", \"F\", \"F\", \"F\", \"F\", \"M\", \"M\", \"F\", \"F\", \"F\", \"M\", \"F\", \"F\", \"M\", \"F\", \"F\", \"F\", \"F\", \"F\", \"M\", \"F\", \"M\", \"M\", \"M\", \"M\", \"M\", \"M\", \"F\", \"M\", \"F\", \"M\", \"M\", \"M\", \"F\", \"F\", \"M\", \"F\", \"M\", \"M\", \"M\", \"F\", \"F\", \"M\", \"M\", \"F\", \"M\", \"F\", \"F\", \"M\", \"M\", \"F\", \"M\", \"F\", \"M\", \"M\", \"F\", \"F\", \"F\", \"M\", \"M\", \"M\", \"M\", \"M\", \"M\", \"M\", \"M\", \"F\", \"F\", \"M\", \"F\", \"M\", \"F\", \"M\", \"M\", \"F\", \"F\", \"F\", \"M\", \"M\", \"M\", \"M\", \"M\", \"M\", \"F\", \"M\", \"F\", \"F\", \"M\", \"F\", \"F\", \"M\", \"F\", \"M\", \"F\", \"F\", \"F\", \"F\", \"F\", \"F\", \"F\", \"F\", \"M\", \"M\", \"F\", \"M\", \"F\", \"F\", \"F\", \"F\", \"M\", \"F\", \"F\", \"F\", \"M\", \"F\", \"F\", \"F\", \"M\", \"M\", \"F\", \"M\", \"M\", \"M\", \"M\", \"F\", \"M\", \"F\", \"M\", \"F\", \"M\", \"M\", \"M\", \"F\", \"F\", \"F\", \"M\", \"M\", \"M\", \"M\", \"M\", \"M\", \"F\", \"M\", \"F\", \"F\", \"F\", \"M\", \"F\", \"M\", \"M\", \"F\", \"F\", \"M\", \"F\", \"F\", \"M\", \"F\", \"M\", \"M\", \"M\", \"F\", \"F\", \"M\", \"M\", \"M\", \"M\", \"F\", \"M\", \"M\", \"M\", \"M\", \"M\", \"F\", \"M\", \"M\", \"F\", \"M\", \"F\", \"M\", \"M\", \"M\", \"F\", \"M\", \"M\", \"F\", \"M\", \"F\", \"F\", \"M\", \"F\", \"M\", \"F\", \"M\", \"F\", \"F\", \"F\", \"F\", \"M\", \"M\", \"F\", \"M\", \"F\", \"F\", \"M\", \"F\", \"F\", \"F\", \"M\", \"F\", \"M\", \"M\", \"F\", \"F\", \"F\", \"M\", \"F\", \"M\", \"F\", \"M\", \"M\", \"F\", \"F\", \"M\", \"M\", \"F\", \"F\", \"F\", \"M\", \"F\", \"F\", \"M\", \"M\", \"F\", \"M\", \"M\", \"F\", \"M\", \"M\", \"M\", \"M\", \"F\", \"F\", \"M\", \"F\", \"F\", \"F\", \"F\", \"F\", \"F\", \"M\", \"M\", \"M\", \"F\", \"M\", \"F\", \"M\", \"F\", \"M\", \"M\", \"M\", \"M\", \"M\", \"M\", \"F\", \"M\", \"M\", \"F\", \"F\", \"M\", \"F\", \"F\", \"F\", \"F\", \"M\", \"F\", \"M\", \"F\", \"F\", \"M\", \"F\", \"F\", \"F\", \"M\", \"F\", \"F\", \"M\", \"F\", \"F\", \"F\", \"F\", \"M\", \"F\", \"F\", \"M\", \"F\", \"F\", \"F\", \"F\", \"F\", \"F\", \"F\", \"F\", \"M\", \"F\", \"M\", \"M\", \"F\", \"F\", \"M\", \"F\", \"F\", \"M\", \"M\", \"M\", \"M\", \"F\", \"M\", \"F\", \"F\", \"F\", \"M\", \"M\", \"F\", \"M\", \"F\", \"F\", \"M\", \"F\", \"M\", \"F\", \"F\", \"F\", \"F\", \"F\", \"F\", \"M\", \"F\", \"M\", \"M\", \"M\", \"F\", \"F\", \"F\", \"F\", \"F\", \"M\", \"F\", \"F\", \"M\", \"F\", \"F\", \"F\", \"M\", \"F\", \"F\", \"M\", \"F\", \"F\", \"F\", \"F\", \"F\", \"M\", \"M\", \"F\", \"F\", \"M\", \"F\", \"F\", \"F\", \"M\", \"F\", \"M\", \"M\", \"F\", \"M\", \"F\", \"F\", \"M\", \"F\", \"F\", \"F\", \"M\", \"F\", \"M\", \"F\", \"F\", \"M\", \"M\", \"F\", \"F\", \"M\", \"F\", \"M\", \"F\", \"M\", \"M\", \"F\", \"M\", \"M\", \"F\", \"F\", \"M\", \"F\", \"F\", \"F\", \"M\", \"F\", \"F\", \"F\", \"M\", \"F\", \"F\", \"M\", \"M\", \"M\", \"F\", \"M\", \"M\", \"M\", \"F\", \"F\", \"M\", \"F\", \"M\", \"F\", \"F\", \"F\", \"F\", \"M\", \"F\", \"F\", \"F\", \"F\", \"F\", \"M\", \"F\", \"M\", \"F\", \"M\", \"F\", \"F\", \"F\", \"M\", \"M\", \"F\", \"F\", \"F\", \"F\", \"M\", \"F\", \"M\", \"M\", \"M\", \"M\", \"F\", \"F\", \"F\", \"F\", \"F\", \"M\", \"F\", \"F\", \"F\", \"F\", \"M\", \"F\", \"M\", \"M\", \"F\", \"M\", \"F\", \"F\", \"F\", \"M\", \"F\", \"F\", \"M\", \"F\", \"F\", \"F\", \"F\", \"M\", \"F\", \"F\", \"F\", \"F\", \"F\", \"F\", \"M\", \"M\", \"M\", \"F\", \"M\", \"F\", \"M\", \"M\", \"M\", \"M\", \"M\", \"M\", \"F\", \"F\", \"F\", \"F\", \"M\", \"F\", \"M\", \"F\", \"F\", \"F\", \"M\", \"F\", \"F\", \"M\", \"F\", \"F\", \"F\", \"F\", \"F\", \"F\", \"F\", \"F\", \"M\", \"M\", \"F\", \"F\", \"M\", \"F\", \"F\", \"F\", \"F\", \"M\", \"M\", \"M\", \"F\", \"F\", \"F\", \"M\", \"F\", \"F\", \"F\", \"F\", \"F\", \"F\", \"F\", \"F\", \"F\", \"M\", \"M\", \"M\", \"M\", \"F\", \"F\", \"M\", \"F\", \"F\", \"F\", \"M\", \"F\", \"F\", \"F\", \"F\", \"F\", \"M\", \"F\", \"F\", \"F\", \"F\", \"F\", \"M\", \"F\", \"F\", \"F\", \"M\", \"F\", \"F\", \"M\", \"M\", \"M\", \"F\", \"F\", \"F\", \"F\", \"F\", \"F\", \"F\", \"M\", \"F\", \"F\", \"F\", \"F\", \"F\", \"F\", \"F\", \"F\", \"F\", \"M\", \"M\", \"F\", \"M\", \"F\", \"F\", \"F\", \"F\", \"M\", \"F\", \"F\", \"M\", \"M\", \"M\", \"F\", \"F\", \"F\", \"M\", \"F\", \"F\", \"F\", \"M\", \"F\", \"M\", \"M\", \"F\", \"M\", \"F\", \"F\", \"M\", \"M\", \"F\", \"F\", \"F\", \"M\", \"M\", \"M\", \"F\", \"M\", \"F\", \"M\", \"M\", \"M\", \"M\", \"F\", \"M\", \"F\", \"M\", \"M\", \"F\", \"M\", \"M\", \"F\", \"M\", \"F\", \"F\", \"M\", \"F\", \"F\", \"F\", \"F\", \"M\", \"M\", \"M\", \"M\", \"M\", \"M\", \"F\", \"F\", \"M\", \"M\", \"F\", \"M\", \"M\", \"F\", \"M\", \"M\", \"F\", \"F\", \"M\", \"M\", \"M\", \"M\", \"M\", \"F\", \"F\", \"M\", \"M\", \"F\", \"F\", \"F\", \"M\", \"M\", \"F\", \"F\", \"M\", \"M\", \"F\", \"M\", \"F\", \"M\", \"M\", \"F\", \"M\", \"M\", \"M\", \"F\", \"F\", \"F\", \"M\"], \"legendgroup\": \"\", \"name\": \"\", \"showlegend\": true, \"type\": \"pie\"}],\n",
              "                        {\"height\": 400, \"legend\": {\"tracegroupgap\": 0}, \"template\": {\"data\": {\"bar\": [{\"error_x\": {\"color\": \"#2a3f5f\"}, \"error_y\": {\"color\": \"#2a3f5f\"}, \"marker\": {\"line\": {\"color\": \"#E5ECF6\", \"width\": 0.5}}, \"type\": \"bar\"}], \"barpolar\": [{\"marker\": {\"line\": {\"color\": \"#E5ECF6\", \"width\": 0.5}}, \"type\": \"barpolar\"}], \"carpet\": [{\"aaxis\": {\"endlinecolor\": \"#2a3f5f\", \"gridcolor\": \"white\", \"linecolor\": \"white\", \"minorgridcolor\": \"white\", \"startlinecolor\": \"#2a3f5f\"}, \"baxis\": {\"endlinecolor\": \"#2a3f5f\", \"gridcolor\": \"white\", \"linecolor\": \"white\", \"minorgridcolor\": \"white\", \"startlinecolor\": \"#2a3f5f\"}, \"type\": \"carpet\"}], \"choropleth\": [{\"colorbar\": {\"outlinewidth\": 0, \"ticks\": \"\"}, \"type\": \"choropleth\"}], \"contour\": [{\"colorbar\": {\"outlinewidth\": 0, \"ticks\": \"\"}, \"colorscale\": [[0.0, \"#0d0887\"], [0.1111111111111111, \"#46039f\"], [0.2222222222222222, \"#7201a8\"], [0.3333333333333333, \"#9c179e\"], [0.4444444444444444, \"#bd3786\"], [0.5555555555555556, \"#d8576b\"], [0.6666666666666666, \"#ed7953\"], [0.7777777777777778, \"#fb9f3a\"], [0.8888888888888888, \"#fdca26\"], [1.0, \"#f0f921\"]], \"type\": \"contour\"}], \"contourcarpet\": [{\"colorbar\": {\"outlinewidth\": 0, \"ticks\": \"\"}, \"type\": \"contourcarpet\"}], \"heatmap\": [{\"colorbar\": {\"outlinewidth\": 0, \"ticks\": \"\"}, \"colorscale\": [[0.0, \"#0d0887\"], [0.1111111111111111, \"#46039f\"], [0.2222222222222222, \"#7201a8\"], [0.3333333333333333, \"#9c179e\"], [0.4444444444444444, \"#bd3786\"], [0.5555555555555556, \"#d8576b\"], [0.6666666666666666, \"#ed7953\"], [0.7777777777777778, \"#fb9f3a\"], [0.8888888888888888, \"#fdca26\"], [1.0, \"#f0f921\"]], \"type\": \"heatmap\"}], \"heatmapgl\": [{\"colorbar\": {\"outlinewidth\": 0, \"ticks\": \"\"}, \"colorscale\": [[0.0, \"#0d0887\"], [0.1111111111111111, \"#46039f\"], [0.2222222222222222, \"#7201a8\"], [0.3333333333333333, \"#9c179e\"], [0.4444444444444444, \"#bd3786\"], [0.5555555555555556, \"#d8576b\"], [0.6666666666666666, \"#ed7953\"], [0.7777777777777778, \"#fb9f3a\"], [0.8888888888888888, \"#fdca26\"], [1.0, \"#f0f921\"]], \"type\": \"heatmapgl\"}], \"histogram\": [{\"marker\": {\"colorbar\": {\"outlinewidth\": 0, \"ticks\": \"\"}}, \"type\": \"histogram\"}], \"histogram2d\": [{\"colorbar\": {\"outlinewidth\": 0, \"ticks\": \"\"}, \"colorscale\": [[0.0, \"#0d0887\"], [0.1111111111111111, \"#46039f\"], [0.2222222222222222, \"#7201a8\"], [0.3333333333333333, \"#9c179e\"], [0.4444444444444444, \"#bd3786\"], [0.5555555555555556, \"#d8576b\"], [0.6666666666666666, \"#ed7953\"], [0.7777777777777778, \"#fb9f3a\"], [0.8888888888888888, \"#fdca26\"], [1.0, \"#f0f921\"]], \"type\": \"histogram2d\"}], \"histogram2dcontour\": [{\"colorbar\": {\"outlinewidth\": 0, \"ticks\": \"\"}, \"colorscale\": [[0.0, \"#0d0887\"], [0.1111111111111111, \"#46039f\"], [0.2222222222222222, \"#7201a8\"], [0.3333333333333333, \"#9c179e\"], [0.4444444444444444, \"#bd3786\"], [0.5555555555555556, \"#d8576b\"], [0.6666666666666666, \"#ed7953\"], [0.7777777777777778, \"#fb9f3a\"], [0.8888888888888888, \"#fdca26\"], [1.0, \"#f0f921\"]], \"type\": \"histogram2dcontour\"}], \"mesh3d\": [{\"colorbar\": {\"outlinewidth\": 0, \"ticks\": \"\"}, \"type\": \"mesh3d\"}], \"parcoords\": [{\"line\": {\"colorbar\": {\"outlinewidth\": 0, \"ticks\": \"\"}}, \"type\": \"parcoords\"}], \"pie\": [{\"automargin\": true, \"type\": \"pie\"}], \"scatter\": [{\"marker\": {\"colorbar\": {\"outlinewidth\": 0, \"ticks\": \"\"}}, \"type\": \"scatter\"}], \"scatter3d\": [{\"line\": {\"colorbar\": {\"outlinewidth\": 0, \"ticks\": \"\"}}, \"marker\": {\"colorbar\": {\"outlinewidth\": 0, \"ticks\": \"\"}}, \"type\": \"scatter3d\"}], \"scattercarpet\": [{\"marker\": {\"colorbar\": {\"outlinewidth\": 0, \"ticks\": \"\"}}, \"type\": \"scattercarpet\"}], \"scattergeo\": [{\"marker\": {\"colorbar\": {\"outlinewidth\": 0, \"ticks\": \"\"}}, \"type\": \"scattergeo\"}], \"scattergl\": [{\"marker\": {\"colorbar\": {\"outlinewidth\": 0, \"ticks\": \"\"}}, \"type\": \"scattergl\"}], \"scattermapbox\": [{\"marker\": {\"colorbar\": {\"outlinewidth\": 0, \"ticks\": \"\"}}, \"type\": \"scattermapbox\"}], \"scatterpolar\": [{\"marker\": {\"colorbar\": {\"outlinewidth\": 0, \"ticks\": \"\"}}, \"type\": \"scatterpolar\"}], \"scatterpolargl\": [{\"marker\": {\"colorbar\": {\"outlinewidth\": 0, \"ticks\": \"\"}}, \"type\": \"scatterpolargl\"}], \"scatterternary\": [{\"marker\": {\"colorbar\": {\"outlinewidth\": 0, \"ticks\": \"\"}}, \"type\": \"scatterternary\"}], \"surface\": [{\"colorbar\": {\"outlinewidth\": 0, \"ticks\": \"\"}, \"colorscale\": [[0.0, \"#0d0887\"], [0.1111111111111111, \"#46039f\"], [0.2222222222222222, \"#7201a8\"], [0.3333333333333333, \"#9c179e\"], [0.4444444444444444, \"#bd3786\"], [0.5555555555555556, \"#d8576b\"], [0.6666666666666666, \"#ed7953\"], [0.7777777777777778, \"#fb9f3a\"], [0.8888888888888888, \"#fdca26\"], [1.0, \"#f0f921\"]], \"type\": \"surface\"}], \"table\": [{\"cells\": {\"fill\": {\"color\": \"#EBF0F8\"}, \"line\": {\"color\": \"white\"}}, \"header\": {\"fill\": {\"color\": \"#C8D4E3\"}, \"line\": {\"color\": \"white\"}}, \"type\": \"table\"}]}, \"layout\": {\"annotationdefaults\": {\"arrowcolor\": \"#2a3f5f\", \"arrowhead\": 0, \"arrowwidth\": 1}, \"coloraxis\": {\"colorbar\": {\"outlinewidth\": 0, \"ticks\": \"\"}}, \"colorscale\": {\"diverging\": [[0, \"#8e0152\"], [0.1, \"#c51b7d\"], [0.2, \"#de77ae\"], [0.3, \"#f1b6da\"], [0.4, \"#fde0ef\"], [0.5, \"#f7f7f7\"], [0.6, \"#e6f5d0\"], [0.7, \"#b8e186\"], [0.8, \"#7fbc41\"], [0.9, \"#4d9221\"], [1, \"#276419\"]], \"sequential\": [[0.0, \"#0d0887\"], [0.1111111111111111, \"#46039f\"], [0.2222222222222222, \"#7201a8\"], [0.3333333333333333, \"#9c179e\"], [0.4444444444444444, \"#bd3786\"], [0.5555555555555556, \"#d8576b\"], [0.6666666666666666, \"#ed7953\"], [0.7777777777777778, \"#fb9f3a\"], [0.8888888888888888, \"#fdca26\"], [1.0, \"#f0f921\"]], \"sequentialminus\": [[0.0, \"#0d0887\"], [0.1111111111111111, \"#46039f\"], [0.2222222222222222, \"#7201a8\"], [0.3333333333333333, \"#9c179e\"], [0.4444444444444444, \"#bd3786\"], [0.5555555555555556, \"#d8576b\"], [0.6666666666666666, \"#ed7953\"], [0.7777777777777778, \"#fb9f3a\"], [0.8888888888888888, \"#fdca26\"], [1.0, \"#f0f921\"]]}, \"colorway\": [\"#636efa\", \"#EF553B\", \"#00cc96\", \"#ab63fa\", \"#FFA15A\", \"#19d3f3\", \"#FF6692\", \"#B6E880\", \"#FF97FF\", \"#FECB52\"], \"font\": {\"color\": \"#2a3f5f\"}, \"geo\": {\"bgcolor\": \"white\", \"lakecolor\": \"white\", \"landcolor\": \"#E5ECF6\", \"showlakes\": true, \"showland\": true, \"subunitcolor\": \"white\"}, \"hoverlabel\": {\"align\": \"left\"}, \"hovermode\": \"closest\", \"mapbox\": {\"style\": \"light\"}, \"paper_bgcolor\": \"white\", \"plot_bgcolor\": \"#E5ECF6\", \"polar\": {\"angularaxis\": {\"gridcolor\": \"white\", \"linecolor\": \"white\", \"ticks\": \"\"}, \"bgcolor\": \"#E5ECF6\", \"radialaxis\": {\"gridcolor\": \"white\", \"linecolor\": \"white\", \"ticks\": \"\"}}, \"scene\": {\"xaxis\": {\"backgroundcolor\": \"#E5ECF6\", \"gridcolor\": \"white\", \"gridwidth\": 2, \"linecolor\": \"white\", \"showbackground\": true, \"ticks\": \"\", \"zerolinecolor\": \"white\"}, \"yaxis\": {\"backgroundcolor\": \"#E5ECF6\", \"gridcolor\": \"white\", \"gridwidth\": 2, \"linecolor\": \"white\", \"showbackground\": true, \"ticks\": \"\", \"zerolinecolor\": \"white\"}, \"zaxis\": {\"backgroundcolor\": \"#E5ECF6\", \"gridcolor\": \"white\", \"gridwidth\": 2, \"linecolor\": \"white\", \"showbackground\": true, \"ticks\": \"\", \"zerolinecolor\": \"white\"}}, \"shapedefaults\": {\"line\": {\"color\": \"#2a3f5f\"}}, \"ternary\": {\"aaxis\": {\"gridcolor\": \"white\", \"linecolor\": \"white\", \"ticks\": \"\"}, \"baxis\": {\"gridcolor\": \"white\", \"linecolor\": \"white\", \"ticks\": \"\"}, \"bgcolor\": \"#E5ECF6\", \"caxis\": {\"gridcolor\": \"white\", \"linecolor\": \"white\", \"ticks\": \"\"}}, \"title\": {\"x\": 0.05}, \"xaxis\": {\"automargin\": true, \"gridcolor\": \"white\", \"linecolor\": \"white\", \"ticks\": \"\", \"title\": {\"standoff\": 15}, \"zerolinecolor\": \"white\", \"zerolinewidth\": 2}, \"yaxis\": {\"automargin\": true, \"gridcolor\": \"white\", \"linecolor\": \"white\", \"ticks\": \"\", \"title\": {\"standoff\": 15}, \"zerolinecolor\": \"white\", \"zerolinewidth\": 2}}}, \"title\": {\"text\": \"Gender\"}, \"width\": 400},\n",
              "                        {\"responsive\": true}\n",
              "                    ).then(function(){\n",
              "                            \n",
              "var gd = document.getElementById('2f354b9c-ce22-477b-a263-332b86f38128');\n",
              "var x = new MutationObserver(function (mutations, observer) {{\n",
              "        var display = window.getComputedStyle(gd).display;\n",
              "        if (!display || display === 'none') {{\n",
              "            console.log([gd, 'removed!']);\n",
              "            Plotly.purge(gd);\n",
              "            observer.disconnect();\n",
              "        }}\n",
              "}});\n",
              "\n",
              "// Listen for the removal of the full notebook cells\n",
              "var notebookContainer = gd.closest('#notebook-container');\n",
              "if (notebookContainer) {{\n",
              "    x.observe(notebookContainer, {childList: true});\n",
              "}}\n",
              "\n",
              "// Listen for the clearing of the current output cell\n",
              "var outputEl = gd.closest('.output');\n",
              "if (outputEl) {{\n",
              "    x.observe(outputEl, {childList: true});\n",
              "}}\n",
              "\n",
              "                        })\n",
              "                };\n",
              "                \n",
              "            </script>\n",
              "        </div>\n",
              "</body>\n",
              "</html>"
            ]
          },
          "metadata": {
            "tags": []
          }
        }
      ]
    },
    {
      "cell_type": "markdown",
      "metadata": {
        "id": "snACPAZkoPEV"
      },
      "source": [
        "From them, 6583 are classified as \"good\" clients, and 132 as \"bad\" clients. <br>\r\n",
        "However, this creates class imbalance problem in the dataset, since only 2% of the clients are classified as risk clients. "
      ]
    },
    {
      "cell_type": "code",
      "metadata": {
        "colab": {
          "base_uri": "https://localhost:8080/"
        },
        "id": "bFR57cVjlLoq",
        "outputId": "9381d6a9-1db2-4148-9a23-e19621d9dd5f"
      },
      "source": [
        "df.groupby(\"label\")[\"label\"].count()"
      ],
      "execution_count": 444,
      "outputs": [
        {
          "output_type": "execute_result",
          "data": {
            "text/plain": [
              "label\n",
              "0    6583\n",
              "1     132\n",
              "Name: label, dtype: int64"
            ]
          },
          "metadata": {
            "tags": []
          },
          "execution_count": 444
        }
      ]
    },
    {
      "cell_type": "markdown",
      "metadata": {
        "id": "c27o33QXsiZE"
      },
      "source": [
        "88% of clients have house or apartment as housing_type and both co-op apartment and office apartment have the lowest percentage, 0.4% and 0.9% respectively."
      ]
    },
    {
      "cell_type": "code",
      "metadata": {
        "colab": {
          "base_uri": "https://localhost:8080/"
        },
        "id": "SPbWH5P4sUeo",
        "outputId": "39e854ff-5b7c-4d2a-a005-7650ebd24a0a"
      },
      "source": [
        "df.groupby(\"Housing_Type\")[\"Housing_Type\"].count()"
      ],
      "execution_count": 445,
      "outputs": [
        {
          "output_type": "execute_result",
          "data": {
            "text/plain": [
              "Housing_Type\n",
              "Co-op apartment          28\n",
              "House / apartment      5922\n",
              "Municipal apartment     233\n",
              "Office apartment         58\n",
              "Rented apartment        112\n",
              "With parents            362\n",
              "Name: Housing_Type, dtype: int64"
            ]
          },
          "metadata": {
            "tags": []
          },
          "execution_count": 445
        }
      ]
    },
    {
      "cell_type": "code",
      "metadata": {
        "colab": {
          "base_uri": "https://localhost:8080/",
          "height": 417
        },
        "id": "3eArXSNSyw1a",
        "outputId": "f46dca26-34b4-4cfe-b6e2-66e74529e8e4"
      },
      "source": [
        "fig = px.pie(df, names=\"Housing_Type\", title='Housing_Type',width=800, height=400)\r\n",
        "\r\n",
        "fig.show(renderer=\"colab\")"
      ],
      "execution_count": 446,
      "outputs": [
        {
          "output_type": "display_data",
          "data": {
            "text/html": [
              "<html>\n",
              "<head><meta charset=\"utf-8\" /></head>\n",
              "<body>\n",
              "    <div>\n",
              "            <script src=\"https://cdnjs.cloudflare.com/ajax/libs/mathjax/2.7.5/MathJax.js?config=TeX-AMS-MML_SVG\"></script><script type=\"text/javascript\">if (window.MathJax) {MathJax.Hub.Config({SVG: {font: \"STIX-Web\"}});}</script>\n",
              "                <script type=\"text/javascript\">window.PlotlyConfig = {MathJaxConfig: 'local'};</script>\n",
              "        <script src=\"https://cdn.plot.ly/plotly-latest.min.js\"></script>    \n",
              "            <div id=\"02a2adcd-6062-4784-b1dc-da644040ef2e\" class=\"plotly-graph-div\" style=\"height:400px; width:800px;\"></div>\n",
              "            <script type=\"text/javascript\">\n",
              "                \n",
              "                    window.PLOTLYENV=window.PLOTLYENV || {};\n",
              "                    \n",
              "                if (document.getElementById(\"02a2adcd-6062-4784-b1dc-da644040ef2e\")) {\n",
              "                    Plotly.newPlot(\n",
              "                        '02a2adcd-6062-4784-b1dc-da644040ef2e',\n",
              "                        [{\"domain\": {\"x\": [0.0, 1.0], \"y\": [0.0, 1.0]}, \"hoverlabel\": {\"namelength\": 0}, \"hovertemplate\": \"Housing_Type=%{label}\", \"labels\": [\"House / apartment\", \"House / apartment\", \"House / apartment\", \"House / apartment\", \"House / apartment\", \"House / apartment\", \"House / apartment\", \"House / apartment\", \"House / apartment\", \"House / apartment\", \"House / apartment\", \"House / apartment\", \"House / apartment\", \"Rented apartment\", \"Rented apartment\", \"House / apartment\", \"House / apartment\", \"House / apartment\", \"House / apartment\", \"House / apartment\", \"House / apartment\", \"House / apartment\", \"House / apartment\", \"House / apartment\", \"House / apartment\", \"House / apartment\", \"House / apartment\", \"House / apartment\", \"House / apartment\", \"House / apartment\", \"House / apartment\", \"House / apartment\", \"Municipal apartment\", \"House / apartment\", \"With parents\", \"House / apartment\", \"House / apartment\", \"House / apartment\", \"House / apartment\", \"House / apartment\", \"House / apartment\", \"House / apartment\", \"With parents\", \"House / apartment\", \"House / apartment\", \"House / apartment\", \"House / apartment\", \"House / apartment\", \"House / apartment\", \"Co-op apartment\", \"House / apartment\", \"House / apartment\", \"House / apartment\", \"House / apartment\", \"With parents\", \"Municipal apartment\", \"House / apartment\", \"House / apartment\", \"With parents\", \"With parents\", \"Municipal apartment\", \"House / apartment\", \"Municipal apartment\", \"House / apartment\", \"House / apartment\", \"House / apartment\", \"House / apartment\", \"House / apartment\", \"House / apartment\", \"House / apartment\", \"House / apartment\", \"House / apartment\", \"House / apartment\", \"House / apartment\", \"House / apartment\", \"House / apartment\", \"House / apartment\", \"House / apartment\", \"House / apartment\", \"House / apartment\", \"House / apartment\", \"Co-op apartment\", \"With parents\", \"Municipal apartment\", \"With parents\", \"House / apartment\", \"Municipal apartment\", \"House / apartment\", \"House / apartment\", \"House / apartment\", \"House / apartment\", \"House / apartment\", \"Co-op apartment\", \"House / apartment\", \"House / apartment\", \"House / apartment\", \"House / apartment\", \"House / apartment\", \"House / apartment\", \"House / apartment\", \"House / apartment\", \"House / apartment\", \"House / apartment\", \"House / apartment\", \"House / apartment\", \"House / apartment\", \"House / apartment\", \"House / apartment\", \"House / apartment\", \"House / apartment\", \"Municipal apartment\", \"House / apartment\", \"With parents\", \"House / apartment\", \"House / apartment\", \"House / apartment\", \"House / apartment\", \"House / apartment\", \"House / apartment\", \"House / apartment\", \"Municipal apartment\", \"House / apartment\", \"House / apartment\", \"House / apartment\", \"With parents\", \"House / apartment\", \"House / apartment\", \"House / apartment\", \"House / apartment\", \"House / apartment\", \"House / apartment\", \"With parents\", \"Rented apartment\", \"House / apartment\", \"House / apartment\", \"Municipal apartment\", \"House / apartment\", \"House / apartment\", \"House / apartment\", \"House / apartment\", \"House / apartment\", \"House / apartment\", \"House / apartment\", \"House / apartment\", \"House / apartment\", \"Office apartment\", \"House / apartment\", \"House / apartment\", \"House / apartment\", \"House / apartment\", \"House / apartment\", \"House / apartment\", \"House / apartment\", \"House / apartment\", \"House / apartment\", \"House / apartment\", \"House / apartment\", \"House / apartment\", \"Municipal apartment\", \"House / apartment\", \"With parents\", \"House / apartment\", \"House / apartment\", \"Municipal apartment\", \"House / apartment\", \"House / apartment\", \"House / apartment\", \"House / apartment\", \"House / apartment\", \"House / apartment\", \"House / apartment\", \"House / apartment\", \"House / apartment\", \"House / apartment\", \"With parents\", \"House / apartment\", \"House / apartment\", \"House / apartment\", \"House / apartment\", \"House / apartment\", \"House / apartment\", \"House / apartment\", \"House / apartment\", \"House / apartment\", \"House / apartment\", \"House / apartment\", \"House / apartment\", \"With parents\", \"With parents\", \"House / apartment\", \"House / apartment\", \"House / apartment\", \"House / apartment\", \"House / apartment\", \"House / apartment\", \"House / apartment\", \"House / apartment\", \"House / apartment\", \"House / apartment\", \"House / apartment\", \"House / apartment\", \"House / apartment\", \"House / apartment\", \"Rented apartment\", \"House / apartment\", \"House / apartment\", \"House / apartment\", \"Office apartment\", \"House / apartment\", \"House / apartment\", \"House / apartment\", \"House / apartment\", \"House / apartment\", \"House / apartment\", \"House / apartment\", \"House / apartment\", \"House / apartment\", \"House / apartment\", \"House / apartment\", \"House / apartment\", \"House / apartment\", \"House / apartment\", \"House / apartment\", \"House / apartment\", \"House / apartment\", \"House / apartment\", \"House / apartment\", \"House / apartment\", \"House / apartment\", \"House / apartment\", \"House / apartment\", \"House / apartment\", \"House / apartment\", \"House / apartment\", \"House / apartment\", \"House / apartment\", \"House / apartment\", \"House / apartment\", \"With parents\", \"House / apartment\", \"House / apartment\", \"Municipal apartment\", \"House / apartment\", \"Municipal apartment\", \"House / apartment\", \"House / apartment\", \"House / apartment\", \"House / apartment\", \"House / apartment\", \"House / apartment\", \"House / apartment\", \"House / apartment\", \"House / apartment\", \"House / apartment\", \"House / apartment\", \"House / apartment\", \"House / apartment\", \"House / apartment\", \"Rented apartment\", \"House / apartment\", \"House / apartment\", \"House / apartment\", \"House / apartment\", \"House / apartment\", \"House / apartment\", \"House / apartment\", \"Municipal apartment\", \"House / apartment\", \"House / apartment\", \"Rented apartment\", \"House / apartment\", \"House / apartment\", \"House / apartment\", \"With parents\", \"House / apartment\", \"House / apartment\", \"House / apartment\", \"Municipal apartment\", \"House / apartment\", \"House / apartment\", \"House / apartment\", \"House / apartment\", \"House / apartment\", \"House / apartment\", \"House / apartment\", \"House / apartment\", \"House / apartment\", \"With parents\", \"House / apartment\", \"House / apartment\", \"House / apartment\", \"House / apartment\", \"House / apartment\", \"House / apartment\", \"House / apartment\", \"House / apartment\", \"House / apartment\", \"Rented apartment\", \"House / apartment\", \"House / apartment\", \"House / apartment\", \"House / apartment\", \"House / apartment\", \"House / apartment\", \"House / apartment\", \"House / apartment\", \"House / apartment\", \"With parents\", \"House / apartment\", \"House / apartment\", \"House / apartment\", \"House / apartment\", \"House / apartment\", \"House / apartment\", \"With parents\", \"House / apartment\", \"House / apartment\", \"House / apartment\", \"House / apartment\", \"House / apartment\", \"House / apartment\", \"House / apartment\", \"With parents\", \"House / apartment\", \"Municipal apartment\", \"House / apartment\", \"House / apartment\", \"House / apartment\", \"With parents\", \"House / apartment\", \"House / apartment\", \"House / apartment\", \"House / apartment\", \"House / apartment\", \"House / apartment\", \"Rented apartment\", \"House / apartment\", \"House / apartment\", \"Municipal apartment\", \"House / apartment\", \"House / apartment\", \"House / apartment\", \"House / apartment\", \"House / apartment\", \"House / apartment\", \"House / apartment\", \"House / apartment\", \"House / apartment\", \"House / apartment\", \"House / apartment\", \"House / apartment\", \"House / apartment\", \"House / apartment\", \"House / apartment\", \"House / apartment\", \"House / apartment\", \"House / apartment\", \"House / apartment\", \"House / apartment\", \"House / apartment\", \"House / apartment\", \"House / apartment\", \"House / apartment\", \"House / apartment\", \"House / apartment\", \"House / apartment\", \"House / apartment\", \"House / apartment\", \"House / apartment\", \"House / apartment\", \"House / apartment\", \"House / apartment\", \"Rented apartment\", \"House / apartment\", \"House / apartment\", \"House / apartment\", \"House / apartment\", \"House / apartment\", \"House / apartment\", \"House / apartment\", \"With parents\", \"House / apartment\", \"House / apartment\", \"House / apartment\", \"House / apartment\", \"House / apartment\", \"House / apartment\", \"House / apartment\", \"House / apartment\", \"Office apartment\", \"House / apartment\", \"With parents\", \"House / apartment\", \"House / apartment\", \"Rented apartment\", \"House / apartment\", \"House / apartment\", \"House / apartment\", \"House / apartment\", \"House / apartment\", \"House / apartment\", \"House / apartment\", \"House / apartment\", \"Municipal apartment\", \"House / apartment\", \"House / apartment\", \"House / apartment\", \"House / apartment\", \"House / apartment\", \"House / apartment\", \"House / apartment\", \"House / apartment\", \"Office apartment\", \"House / apartment\", \"House / apartment\", \"House / apartment\", \"House / apartment\", \"House / apartment\", \"House / apartment\", \"House / apartment\", \"House / apartment\", \"House / apartment\", \"House / apartment\", \"Municipal apartment\", \"House / apartment\", \"House / apartment\", \"With parents\", \"House / apartment\", \"House / apartment\", \"House / apartment\", \"House / apartment\", \"House / apartment\", \"House / apartment\", \"House / apartment\", \"House / apartment\", \"House / apartment\", \"House / apartment\", \"House / apartment\", \"House / apartment\", \"With parents\", \"House / apartment\", \"House / apartment\", \"House / apartment\", \"House / apartment\", \"House / apartment\", \"House / apartment\", \"House / apartment\", \"House / apartment\", \"House / apartment\", \"House / apartment\", \"House / apartment\", \"House / apartment\", \"House / apartment\", \"With parents\", \"House / apartment\", \"House / apartment\", \"House / apartment\", \"House / apartment\", \"With parents\", \"Municipal apartment\", \"House / apartment\", \"With parents\", \"House / apartment\", \"House / apartment\", \"House / apartment\", \"House / apartment\", \"House / apartment\", \"House / apartment\", \"House / apartment\", \"House / apartment\", \"House / apartment\", \"With parents\", \"House / apartment\", \"House / apartment\", \"House / apartment\", \"House / apartment\", \"Rented apartment\", \"House / apartment\", \"House / apartment\", \"House / apartment\", \"House / apartment\", \"Rented apartment\", \"House / apartment\", \"House / apartment\", \"House / apartment\", \"House / apartment\", \"House / apartment\", \"House / apartment\", \"House / apartment\", \"House / apartment\", \"House / apartment\", \"House / apartment\", \"House / apartment\", \"House / apartment\", \"With parents\", \"House / apartment\", \"House / apartment\", \"House / apartment\", \"House / apartment\", \"House / apartment\", \"House / apartment\", \"House / apartment\", \"House / apartment\", \"House / apartment\", \"House / apartment\", \"House / apartment\", \"House / apartment\", \"House / apartment\", \"House / apartment\", \"House / apartment\", \"House / apartment\", \"Municipal apartment\", \"House / apartment\", \"House / apartment\", \"House / apartment\", \"House / apartment\", \"House / apartment\", \"House / apartment\", \"House / apartment\", \"Municipal apartment\", \"House / apartment\", \"House / apartment\", \"House / apartment\", \"House / apartment\", \"House / apartment\", \"House / apartment\", \"House / apartment\", \"House / apartment\", \"House / apartment\", \"House / apartment\", \"House / apartment\", \"House / apartment\", \"House / apartment\", \"House / apartment\", \"House / apartment\", \"House / apartment\", \"House / apartment\", \"House / apartment\", \"House / apartment\", \"House / apartment\", \"House / apartment\", \"House / apartment\", \"House / apartment\", \"House / apartment\", \"House / apartment\", \"House / apartment\", \"House / apartment\", \"House / apartment\", \"House / apartment\", \"House / apartment\", \"House / apartment\", \"House / apartment\", \"House / apartment\", \"House / apartment\", \"House / apartment\", \"Municipal apartment\", \"House / apartment\", \"House / apartment\", \"House / apartment\", \"House / apartment\", \"House / apartment\", \"House / apartment\", \"House / apartment\", \"House / apartment\", \"House / apartment\", \"House / apartment\", \"House / apartment\", \"House / apartment\", \"House / apartment\", \"House / apartment\", \"House / apartment\", \"House / apartment\", \"House / apartment\", \"House / apartment\", \"House / apartment\", \"House / apartment\", \"House / apartment\", \"House / apartment\", \"House / apartment\", \"House / apartment\", \"House / apartment\", \"House / apartment\", \"House / apartment\", \"House / apartment\", \"House / apartment\", \"House / apartment\", \"House / apartment\", \"House / apartment\", \"House / apartment\", \"House / apartment\", \"House / apartment\", \"With parents\", \"House / apartment\", \"House / apartment\", \"House / apartment\", \"House / apartment\", \"House / apartment\", \"House / apartment\", \"House / apartment\", \"House / apartment\", \"House / apartment\", \"House / apartment\", \"House / apartment\", \"House / apartment\", \"House / apartment\", \"House / apartment\", \"House / apartment\", \"House / apartment\", \"House / apartment\", \"House / apartment\", \"House / apartment\", \"House / apartment\", \"House / apartment\", \"House / apartment\", \"House / apartment\", \"House / apartment\", \"House / apartment\", \"House / apartment\", \"House / apartment\", \"House / apartment\", \"Rented apartment\", \"House / apartment\", \"House / apartment\", \"House / apartment\", \"House / apartment\", \"House / apartment\", \"House / apartment\", \"House / apartment\", \"House / apartment\", \"House / apartment\", \"House / apartment\", \"House / apartment\", \"With parents\", \"House / apartment\", \"Municipal apartment\", \"House / apartment\", \"House / apartment\", \"House / apartment\", \"House / apartment\", \"With parents\", \"House / apartment\", \"House / apartment\", \"House / apartment\", \"House / apartment\", \"House / apartment\", \"House / apartment\", \"House / apartment\", \"House / apartment\", \"With parents\", \"House / apartment\", \"House / apartment\", \"House / apartment\", \"House / apartment\", \"With parents\", \"House / apartment\", \"House / apartment\", \"House / apartment\", \"House / apartment\", \"House / apartment\", \"House / apartment\", \"With parents\", \"House / apartment\", \"House / apartment\", \"Municipal apartment\", \"House / apartment\", \"House / apartment\", \"House / apartment\", \"With parents\", \"House / apartment\", \"House / apartment\", \"With parents\", \"House / apartment\", \"House / apartment\", \"House / apartment\", \"House / apartment\", \"House / apartment\", \"House / apartment\", \"House / apartment\", \"With parents\", \"House / apartment\", \"House / apartment\", \"House / apartment\", \"House / apartment\", \"House / apartment\", \"Municipal apartment\", \"House / apartment\", \"With parents\", \"House / apartment\", \"House / apartment\", \"With parents\", \"House / apartment\", \"House / apartment\", \"House / apartment\", \"House / apartment\", \"House / apartment\", \"House / apartment\", \"House / apartment\", \"House / apartment\", \"House / apartment\", \"House / apartment\", \"Rented apartment\", \"House / apartment\", \"House / apartment\", \"House / apartment\", \"House / apartment\", \"House / apartment\", \"House / apartment\", \"With parents\", \"House / apartment\", \"With parents\", \"House / apartment\", \"House / apartment\", \"House / apartment\", \"House / apartment\", \"House / apartment\", \"House / apartment\", \"With parents\", \"House / apartment\", \"House / apartment\", \"House / apartment\", \"With parents\", \"House / apartment\", \"House / apartment\", \"House / apartment\", \"House / apartment\", \"House / apartment\", \"House / apartment\", \"House / apartment\", \"House / apartment\", \"House / apartment\", \"With parents\", \"House / apartment\", \"House / apartment\", \"House / apartment\", \"House / apartment\", \"House / apartment\", \"House / apartment\", \"House / apartment\", \"House / apartment\", \"With parents\", \"House / apartment\", \"House / apartment\", \"With parents\", \"House / apartment\", \"House / apartment\", \"House / apartment\", \"House / apartment\", \"House / apartment\", \"House / apartment\", \"House / apartment\", \"House / apartment\", \"House / apartment\", \"House / apartment\", \"House / apartment\", \"Rented apartment\", \"House / apartment\", \"House / apartment\", \"House / apartment\", \"House / apartment\", \"Municipal apartment\", \"House / apartment\", \"House / apartment\", \"House / apartment\", \"Municipal apartment\", \"House / apartment\", \"House / apartment\", \"House / apartment\", \"House / apartment\", \"House / apartment\", \"House / apartment\", \"House / apartment\", \"House / apartment\", \"House / apartment\", \"House / apartment\", \"House / apartment\", \"House / apartment\", \"House / apartment\", \"House / apartment\", \"House / apartment\", \"House / apartment\", \"House / apartment\", \"House / apartment\", \"House / apartment\", \"House / apartment\", \"House / apartment\", \"House / apartment\", \"House / apartment\", \"House / apartment\", \"House / apartment\", \"House / apartment\", \"House / apartment\", \"House / apartment\", \"Office apartment\", \"House / apartment\", \"House / apartment\", \"House / apartment\", \"House / apartment\", \"House / apartment\", \"House / apartment\", \"House / apartment\", \"Municipal apartment\", \"House / apartment\", \"House / apartment\", \"House / apartment\", \"House / apartment\", \"House / apartment\", \"House / apartment\", \"With parents\", \"House / apartment\", \"House / apartment\", \"House / apartment\", \"House / apartment\", \"House / apartment\", \"House / apartment\", \"House / apartment\", \"House / apartment\", \"House / apartment\", \"House / apartment\", \"House / apartment\", \"House / apartment\", \"House / apartment\", \"House / apartment\", \"House / apartment\", \"Municipal apartment\", \"House / apartment\", \"House / apartment\", \"House / apartment\", \"House / apartment\", \"House / apartment\", \"House / apartment\", \"House / apartment\", \"House / apartment\", \"House / apartment\", \"House / apartment\", \"House / apartment\", \"House / apartment\", \"House / apartment\", \"With parents\", \"Municipal apartment\", \"House / apartment\", \"House / apartment\", \"House / apartment\", \"House / apartment\", \"House / apartment\", \"House / apartment\", \"House / apartment\", \"House / apartment\", \"House / apartment\", \"House / apartment\", \"House / apartment\", \"House / apartment\", \"Rented apartment\", \"House / apartment\", \"House / apartment\", \"House / apartment\", \"House / apartment\", \"House / apartment\", \"House / apartment\", \"House / apartment\", \"With parents\", \"House / apartment\", \"House / apartment\", \"House / apartment\", \"House / apartment\", \"Municipal apartment\", \"House / apartment\", \"House / apartment\", \"Municipal apartment\", \"House / apartment\", \"House / apartment\", \"Municipal apartment\", \"With parents\", \"House / apartment\", \"House / apartment\", \"House / apartment\", \"House / apartment\", \"Rented apartment\", \"Municipal apartment\", \"House / apartment\", \"House / apartment\", \"Municipal apartment\", \"With parents\", \"House / apartment\", \"House / apartment\", \"House / apartment\", \"Municipal apartment\", \"House / apartment\", \"House / apartment\", \"Municipal apartment\", \"House / apartment\", \"House / apartment\", \"House / apartment\", \"House / apartment\", \"House / apartment\", \"House / apartment\", \"House / apartment\", \"House / apartment\", \"House / apartment\", \"Municipal apartment\", \"House / apartment\", \"House / apartment\", \"House / apartment\", \"House / apartment\", \"House / apartment\", \"House / apartment\", \"House / apartment\", \"House / apartment\", \"House / apartment\", \"House / apartment\", \"Municipal apartment\", \"House / apartment\", \"Co-op apartment\", \"Rented apartment\", \"House / apartment\", \"Rented apartment\", \"House / apartment\", \"House / apartment\", \"House / apartment\", \"House / apartment\", \"House / apartment\", \"House / apartment\", \"House / apartment\", \"House / apartment\", \"House / apartment\", \"House / apartment\", \"House / apartment\", \"House / apartment\", \"House / apartment\", \"Rented apartment\", \"House / apartment\", \"House / apartment\", \"House / apartment\", \"House / apartment\", \"House / apartment\", \"House / apartment\", \"House / apartment\", \"House / apartment\", \"House / apartment\", \"Municipal apartment\", \"House / apartment\", \"House / apartment\", \"House / apartment\", \"House / apartment\", \"House / apartment\", \"House / apartment\", \"House / apartment\", \"House / apartment\", \"House / apartment\", \"House / apartment\", \"House / apartment\", \"House / apartment\", \"House / apartment\", \"House / apartment\", \"House / apartment\", \"House / apartment\", \"House / apartment\", \"House / apartment\", \"House / apartment\", \"House / apartment\", \"With parents\", \"House / apartment\", \"House / apartment\", \"House / apartment\", \"House / apartment\", \"House / apartment\", \"House / apartment\", \"Municipal apartment\", \"House / apartment\", \"House / apartment\", \"House / apartment\", \"House / apartment\", \"House / apartment\", \"House / apartment\", \"House / apartment\", \"House / apartment\", \"House / apartment\", \"House / apartment\", \"House / apartment\", \"With parents\", \"House / apartment\", \"House / apartment\", \"House / apartment\", \"House / apartment\", \"Office apartment\", \"Municipal apartment\", \"House / apartment\", \"With parents\", \"House / apartment\", \"House / apartment\", \"House / apartment\", \"House / apartment\", \"House / apartment\", \"House / apartment\", \"House / apartment\", \"House / apartment\", \"House / apartment\", \"House / apartment\", \"House / apartment\", \"House / apartment\", \"Office apartment\", \"House / apartment\", \"House / apartment\", \"House / apartment\", \"House / apartment\", \"House / apartment\", \"House / apartment\", \"House / apartment\", \"House / apartment\", \"Rented apartment\", \"House / apartment\", \"House / apartment\", \"House / apartment\", \"House / apartment\", \"House / apartment\", \"House / apartment\", \"House / apartment\", \"With parents\", \"House / apartment\", \"House / apartment\", \"House / apartment\", \"House / apartment\", \"House / apartment\", \"House / apartment\", \"House / apartment\", \"House / apartment\", \"House / apartment\", \"House / apartment\", \"House / apartment\", \"House / apartment\", \"Rented apartment\", \"Rented apartment\", \"House / apartment\", \"House / apartment\", \"House / apartment\", \"House / apartment\", \"House / apartment\", \"House / apartment\", \"House / apartment\", \"House / apartment\", \"House / apartment\", \"House / apartment\", \"House / apartment\", \"House / apartment\", \"House / apartment\", \"House / apartment\", \"House / apartment\", \"House / apartment\", \"House / apartment\", \"House / apartment\", \"House / apartment\", \"House / apartment\", \"House / apartment\", \"House / apartment\", \"House / apartment\", \"House / apartment\", \"House / apartment\", \"House / apartment\", \"House / apartment\", \"House / apartment\", \"House / apartment\", \"House / apartment\", \"House / apartment\", \"House / apartment\", \"House / apartment\", \"House / apartment\", \"House / apartment\", \"House / apartment\", \"House / apartment\", \"With parents\", \"House / apartment\", \"House / apartment\", \"House / apartment\", \"House / apartment\", \"House / apartment\", \"House / apartment\", \"House / apartment\", \"House / apartment\", \"House / apartment\", \"House / apartment\", \"House / apartment\", \"House / apartment\", \"House / apartment\", \"House / apartment\", \"House / apartment\", \"House / apartment\", \"House / apartment\", \"House / apartment\", \"House / apartment\", \"House / apartment\", \"House / apartment\", \"House / apartment\", \"House / apartment\", \"House / apartment\", \"House / apartment\", \"Municipal apartment\", \"House / apartment\", \"House / apartment\", \"House / apartment\", \"House / apartment\", \"House / apartment\", \"House / apartment\", \"House / apartment\", \"House / apartment\", \"House / apartment\", \"House / apartment\", \"House / apartment\", \"House / apartment\", \"House / apartment\", \"House / apartment\", \"House / apartment\", \"House / apartment\", \"House / apartment\", \"House / apartment\", \"House / apartment\", \"House / apartment\", \"House / apartment\", \"House / apartment\", \"House / apartment\", \"House / apartment\", \"House / apartment\", \"House / apartment\", \"With parents\", \"House / apartment\", \"House / apartment\", \"House / apartment\", \"House / apartment\", \"House / apartment\", \"House / apartment\", \"House / apartment\", \"House / apartment\", \"House / apartment\", \"House / apartment\", \"House / apartment\", \"With parents\", \"Rented apartment\", \"House / apartment\", \"House / apartment\", \"House / apartment\", \"House / apartment\", \"House / apartment\", \"House / apartment\", \"House / apartment\", \"House / apartment\", \"Municipal apartment\", \"House / apartment\", \"House / apartment\", \"House / apartment\", \"House / apartment\", \"House / apartment\", \"House / apartment\", \"House / apartment\", \"House / apartment\", \"House / apartment\", \"House / apartment\", \"House / apartment\", \"House / apartment\", \"House / apartment\", \"House / apartment\", \"With parents\", \"House / apartment\", \"House / apartment\", \"House / apartment\", \"House / apartment\", \"House / apartment\", \"House / apartment\", \"House / apartment\", \"House / apartment\", \"House / apartment\", \"House / apartment\", \"House / apartment\", \"House / apartment\", \"House / apartment\", \"With parents\", \"House / apartment\", \"House / apartment\", \"House / apartment\", \"House / apartment\", \"House / apartment\", \"Municipal apartment\", \"House / apartment\", \"House / apartment\", \"With parents\", \"House / apartment\", \"House / apartment\", \"House / apartment\", \"House / apartment\", \"With parents\", \"House / apartment\", \"House / apartment\", \"House / apartment\", \"With parents\", \"House / apartment\", \"House / apartment\", \"House / apartment\", \"House / apartment\", \"Office apartment\", \"House / apartment\", \"House / apartment\", \"House / apartment\", \"House / apartment\", \"House / apartment\", \"House / apartment\", \"House / apartment\", \"House / apartment\", \"House / apartment\", \"House / apartment\", \"House / apartment\", \"House / apartment\", \"House / apartment\", \"With parents\", \"House / apartment\", \"With parents\", \"With parents\", \"House / apartment\", \"House / apartment\", \"House / apartment\", \"House / apartment\", \"With parents\", \"With parents\", \"House / apartment\", \"House / apartment\", \"With parents\", \"House / apartment\", \"House / apartment\", \"House / apartment\", \"House / apartment\", \"House / apartment\", \"House / apartment\", \"House / apartment\", \"House / apartment\", \"House / apartment\", \"House / apartment\", \"House / apartment\", \"House / apartment\", \"House / apartment\", \"Municipal apartment\", \"House / apartment\", \"House / apartment\", \"House / apartment\", \"House / apartment\", \"House / apartment\", \"House / apartment\", \"House / apartment\", \"House / apartment\", \"House / apartment\", \"House / apartment\", \"House / apartment\", \"House / apartment\", \"House / apartment\", \"House / apartment\", \"House / apartment\", \"With parents\", \"House / apartment\", \"House / apartment\", \"House / apartment\", \"House / apartment\", \"House / apartment\", \"House / apartment\", \"House / apartment\", \"House / apartment\", \"With parents\", \"House / apartment\", \"House / apartment\", \"Municipal apartment\", \"Rented apartment\", \"House / apartment\", \"House / apartment\", \"House / apartment\", \"House / apartment\", \"House / apartment\", \"House / apartment\", \"House / apartment\", \"House / apartment\", \"House / apartment\", \"House / apartment\", \"House / apartment\", \"House / apartment\", \"House / apartment\", \"House / apartment\", \"House / apartment\", \"House / apartment\", \"House / apartment\", \"With parents\", \"House / apartment\", \"With parents\", \"House / apartment\", \"House / apartment\", \"House / apartment\", \"House / apartment\", \"House / apartment\", \"House / apartment\", \"House / apartment\", \"House / apartment\", \"House / apartment\", \"House / apartment\", \"House / apartment\", \"House / apartment\", \"House / apartment\", \"House / apartment\", \"House / apartment\", \"House / apartment\", \"House / apartment\", \"House / apartment\", \"House / apartment\", \"House / apartment\", \"House / apartment\", \"House / apartment\", \"House / apartment\", \"House / apartment\", \"House / apartment\", \"House / apartment\", \"House / apartment\", \"House / apartment\", \"House / apartment\", \"House / apartment\", \"House / apartment\", \"House / apartment\", \"House / apartment\", \"House / apartment\", \"House / apartment\", \"House / apartment\", \"House / apartment\", \"House / apartment\", \"House / apartment\", \"House / apartment\", \"House / apartment\", \"House / apartment\", \"House / apartment\", \"House / apartment\", \"House / apartment\", \"House / apartment\", \"House / apartment\", \"House / apartment\", \"House / apartment\", \"House / apartment\", \"House / apartment\", \"House / apartment\", \"House / apartment\", \"House / apartment\", \"House / apartment\", \"House / apartment\", \"House / apartment\", \"House / apartment\", \"House / apartment\", \"House / apartment\", \"Office apartment\", \"House / apartment\", \"House / apartment\", \"House / apartment\", \"House / apartment\", \"House / apartment\", \"House / apartment\", \"Office apartment\", \"Rented apartment\", \"House / apartment\", \"House / apartment\", \"House / apartment\", \"House / apartment\", \"House / apartment\", \"House / apartment\", \"House / apartment\", \"House / apartment\", \"House / apartment\", \"House / apartment\", \"House / apartment\", \"House / apartment\", \"Municipal apartment\", \"House / apartment\", \"With parents\", \"House / apartment\", \"House / apartment\", \"House / apartment\", \"Rented apartment\", \"House / apartment\", \"House / apartment\", \"House / apartment\", \"House / apartment\", \"House / apartment\", \"House / apartment\", \"House / apartment\", \"House / apartment\", \"House / apartment\", \"House / apartment\", \"House / apartment\", \"With parents\", \"House / apartment\", \"House / apartment\", \"House / apartment\", \"House / apartment\", \"House / apartment\", \"House / apartment\", \"House / apartment\", \"House / apartment\", \"House / apartment\", \"House / apartment\", \"Office apartment\", \"House / apartment\", \"House / apartment\", \"House / apartment\", \"House / apartment\", \"House / apartment\", \"House / apartment\", \"House / apartment\", \"House / apartment\", \"House / apartment\", \"House / apartment\", \"House / apartment\", \"House / apartment\", \"House / apartment\", \"House / apartment\", \"House / apartment\", \"House / apartment\", \"House / apartment\", \"House / apartment\", \"Office apartment\", \"House / apartment\", \"House / apartment\", \"House / apartment\", \"House / apartment\", \"House / apartment\", \"Municipal apartment\", \"House / apartment\", \"With parents\", \"House / apartment\", \"House / apartment\", \"House / apartment\", \"House / apartment\", \"House / apartment\", \"House / apartment\", \"House / apartment\", \"House / apartment\", \"House / apartment\", \"House / apartment\", \"House / apartment\", \"House / apartment\", \"Municipal apartment\", \"House / apartment\", \"House / apartment\", \"Municipal apartment\", \"Municipal apartment\", \"House / apartment\", \"House / apartment\", \"House / apartment\", \"House / apartment\", \"House / apartment\", \"House / apartment\", \"With parents\", \"House / apartment\", \"House / apartment\", \"House / apartment\", \"House / apartment\", \"House / apartment\", \"House / apartment\", \"House / apartment\", \"House / apartment\", \"House / apartment\", \"House / apartment\", \"House / apartment\", \"With parents\", \"House / apartment\", \"House / apartment\", \"House / apartment\", \"House / apartment\", \"House / apartment\", \"House / apartment\", \"With parents\", \"House / apartment\", \"House / apartment\", \"House / apartment\", \"House / apartment\", \"House / apartment\", \"House / apartment\", \"House / apartment\", \"House / apartment\", \"House / apartment\", \"House / apartment\", \"House / apartment\", \"Co-op apartment\", \"House / apartment\", \"House / apartment\", \"House / apartment\", \"House / apartment\", \"House / apartment\", \"House / apartment\", \"House / apartment\", \"House / apartment\", \"House / apartment\", \"House / apartment\", \"House / apartment\", \"House / apartment\", \"House / apartment\", \"House / apartment\", \"House / apartment\", \"House / apartment\", \"Office apartment\", \"House / apartment\", \"House / apartment\", \"House / apartment\", \"House / apartment\", \"House / apartment\", \"House / apartment\", \"House / apartment\", \"House / apartment\", \"House / apartment\", \"House / apartment\", \"House / apartment\", \"House / apartment\", \"House / apartment\", \"With parents\", \"House / apartment\", \"House / apartment\", \"House / apartment\", \"House / apartment\", \"House / apartment\", \"House / apartment\", \"Office apartment\", \"House / apartment\", \"House / apartment\", \"House / apartment\", \"With parents\", \"House / apartment\", \"House / apartment\", \"House / apartment\", \"House / apartment\", \"House / apartment\", \"House / apartment\", \"House / apartment\", \"House / apartment\", \"House / apartment\", \"House / apartment\", \"House / apartment\", \"House / apartment\", \"House / apartment\", \"House / apartment\", \"House / apartment\", \"House / apartment\", \"House / apartment\", \"House / apartment\", \"House / apartment\", \"House / apartment\", \"House / apartment\", \"House / apartment\", \"House / apartment\", \"With parents\", \"With parents\", \"House / apartment\", \"House / apartment\", \"House / apartment\", \"With parents\", \"House / apartment\", \"House / apartment\", \"House / apartment\", \"Rented apartment\", \"With parents\", \"House / apartment\", \"Municipal apartment\", \"House / apartment\", \"House / apartment\", \"House / apartment\", \"House / apartment\", \"House / apartment\", \"House / apartment\", \"House / apartment\", \"House / apartment\", \"House / apartment\", \"House / apartment\", \"With parents\", \"House / apartment\", \"House / apartment\", \"House / apartment\", \"House / apartment\", \"House / apartment\", \"Office apartment\", \"With parents\", \"House / apartment\", \"House / apartment\", \"House / apartment\", \"House / apartment\", \"House / apartment\", \"House / apartment\", \"House / apartment\", \"House / apartment\", \"House / apartment\", \"House / apartment\", \"House / apartment\", \"House / apartment\", \"House / apartment\", \"Municipal apartment\", \"House / apartment\", \"House / apartment\", \"House / apartment\", \"House / apartment\", \"House / apartment\", \"House / apartment\", \"House / apartment\", \"House / apartment\", \"House / apartment\", \"House / apartment\", \"House / apartment\", \"House / apartment\", \"House / apartment\", \"House / apartment\", \"House / apartment\", \"House / apartment\", \"House / apartment\", \"House / apartment\", \"House / apartment\", \"House / apartment\", \"House / apartment\", \"House / apartment\", \"House / apartment\", \"House / apartment\", \"House / apartment\", \"House / apartment\", \"Municipal apartment\", \"House / apartment\", \"House / apartment\", \"House / apartment\", \"House / apartment\", \"With parents\", \"House / apartment\", \"House / apartment\", \"House / apartment\", \"House / apartment\", \"House / apartment\", \"House / apartment\", \"House / apartment\", \"House / apartment\", \"House / apartment\", \"House / apartment\", \"House / apartment\", \"House / apartment\", \"House / apartment\", \"House / apartment\", \"House / apartment\", \"House / apartment\", \"House / apartment\", \"House / apartment\", \"House / apartment\", \"House / apartment\", \"House / apartment\", \"House / apartment\", \"House / apartment\", \"House / apartment\", \"House / apartment\", \"House / apartment\", \"With parents\", \"House / apartment\", \"House / apartment\", \"House / apartment\", \"House / apartment\", \"House / apartment\", \"House / apartment\", \"With parents\", \"House / apartment\", \"House / apartment\", \"House / apartment\", \"House / apartment\", \"House / apartment\", \"House / apartment\", \"House / apartment\", \"House / apartment\", \"House / apartment\", \"House / apartment\", \"Municipal apartment\", \"House / apartment\", \"Municipal apartment\", \"House / apartment\", \"House / apartment\", \"House / apartment\", \"Co-op apartment\", \"House / apartment\", \"House / apartment\", \"House / apartment\", \"Municipal apartment\", \"House / apartment\", \"House / apartment\", \"House / apartment\", \"House / apartment\", \"House / apartment\", \"House / apartment\", \"House / apartment\", \"House / apartment\", \"House / apartment\", \"House / apartment\", \"House / apartment\", \"Municipal apartment\", \"House / apartment\", \"House / apartment\", \"House / apartment\", \"House / apartment\", \"House / apartment\", \"House / apartment\", \"With parents\", \"Rented apartment\", \"House / apartment\", \"House / apartment\", \"House / apartment\", \"House / apartment\", \"House / apartment\", \"House / apartment\", \"House / apartment\", \"Municipal apartment\", \"House / apartment\", \"House / apartment\", \"House / apartment\", \"House / apartment\", \"With parents\", \"Municipal apartment\", \"House / apartment\", \"House / apartment\", \"House / apartment\", \"House / apartment\", \"With parents\", \"House / apartment\", \"House / apartment\", \"House / apartment\", \"House / apartment\", \"House / apartment\", \"House / apartment\", \"House / apartment\", \"House / apartment\", \"House / apartment\", \"House / apartment\", \"House / apartment\", \"House / apartment\", \"House / apartment\", \"House / apartment\", \"House / apartment\", \"House / apartment\", \"House / apartment\", \"House / apartment\", \"House / apartment\", \"House / apartment\", \"House / apartment\", \"House / apartment\", \"House / apartment\", \"With parents\", \"House / apartment\", \"Municipal apartment\", \"House / apartment\", \"House / apartment\", \"House / apartment\", \"House / apartment\", \"House / apartment\", \"House / apartment\", \"House / apartment\", \"House / apartment\", \"House / apartment\", \"With parents\", \"House / apartment\", \"House / apartment\", \"House / apartment\", \"House / apartment\", \"House / apartment\", \"House / apartment\", \"House / apartment\", \"House / apartment\", \"House / apartment\", \"House / apartment\", \"House / apartment\", \"House / apartment\", \"House / apartment\", \"House / apartment\", \"House / apartment\", \"House / apartment\", \"House / apartment\", \"House / apartment\", \"House / apartment\", \"House / apartment\", \"House / apartment\", \"House / apartment\", \"House / apartment\", \"House / apartment\", \"House / apartment\", \"House / apartment\", \"House / apartment\", \"House / apartment\", \"House / apartment\", \"House / apartment\", \"House / apartment\", \"House / apartment\", \"Municipal apartment\", \"House / apartment\", \"House / apartment\", \"House / apartment\", \"House / apartment\", \"With parents\", \"House / apartment\", \"House / apartment\", \"House / apartment\", \"With parents\", \"House / apartment\", \"House / apartment\", \"House / apartment\", \"House / apartment\", \"House / apartment\", \"House / apartment\", \"With parents\", \"House / apartment\", \"House / apartment\", \"House / apartment\", \"House / apartment\", \"House / apartment\", \"Municipal apartment\", \"House / apartment\", \"House / apartment\", \"House / apartment\", \"House / apartment\", \"House / apartment\", \"House / apartment\", \"House / apartment\", \"With parents\", \"House / apartment\", \"House / apartment\", \"House / apartment\", \"With parents\", \"House / apartment\", \"House / apartment\", \"House / apartment\", \"House / apartment\", \"House / apartment\", \"House / apartment\", \"House / apartment\", \"House / apartment\", \"Municipal apartment\", \"House / apartment\", \"House / apartment\", \"House / apartment\", \"House / apartment\", \"House / apartment\", \"House / apartment\", \"Office apartment\", \"Municipal apartment\", \"House / apartment\", \"House / apartment\", \"House / apartment\", \"With parents\", \"House / apartment\", \"With parents\", \"With parents\", \"House / apartment\", \"House / apartment\", \"House / apartment\", \"House / apartment\", \"With parents\", \"House / apartment\", \"House / apartment\", \"Co-op apartment\", \"House / apartment\", \"House / apartment\", \"House / apartment\", \"House / apartment\", \"House / apartment\", \"House / apartment\", \"House / apartment\", \"House / apartment\", \"House / apartment\", \"House / apartment\", \"Rented apartment\", \"House / apartment\", \"House / apartment\", \"House / apartment\", \"House / apartment\", \"House / apartment\", \"House / apartment\", \"House / apartment\", \"House / apartment\", \"House / apartment\", \"House / apartment\", \"House / apartment\", \"House / apartment\", \"House / apartment\", \"House / apartment\", \"House / apartment\", \"House / apartment\", \"House / apartment\", \"House / apartment\", \"House / apartment\", \"House / apartment\", \"House / apartment\", \"House / apartment\", \"House / apartment\", \"House / apartment\", \"Municipal apartment\", \"House / apartment\", \"House / apartment\", \"House / apartment\", \"House / apartment\", \"House / apartment\", \"House / apartment\", \"House / apartment\", \"Rented apartment\", \"House / apartment\", \"House / apartment\", \"House / apartment\", \"With parents\", \"With parents\", \"House / apartment\", \"House / apartment\", \"House / apartment\", \"House / apartment\", \"House / apartment\", \"House / apartment\", \"House / apartment\", \"House / apartment\", \"House / apartment\", \"House / apartment\", \"Municipal apartment\", \"House / apartment\", \"House / apartment\", \"House / apartment\", \"With parents\", \"House / apartment\", \"House / apartment\", \"House / apartment\", \"House / apartment\", \"With parents\", \"House / apartment\", \"House / apartment\", \"House / apartment\", \"House / apartment\", \"House / apartment\", \"House / apartment\", \"House / apartment\", \"House / apartment\", \"House / apartment\", \"House / apartment\", \"House / apartment\", \"House / apartment\", \"House / apartment\", \"House / apartment\", \"Municipal apartment\", \"House / apartment\", \"House / apartment\", \"House / apartment\", \"House / apartment\", \"House / apartment\", \"With parents\", \"House / apartment\", \"House / apartment\", \"House / apartment\", \"House / apartment\", \"Municipal apartment\", \"House / apartment\", \"House / apartment\", \"House / apartment\", \"House / apartment\", \"House / apartment\", \"House / apartment\", \"Municipal apartment\", \"House / apartment\", \"House / apartment\", \"House / apartment\", \"House / apartment\", \"House / apartment\", \"House / apartment\", \"House / apartment\", \"House / apartment\", \"House / apartment\", \"House / apartment\", \"House / apartment\", \"House / apartment\", \"House / apartment\", \"House / apartment\", \"House / apartment\", \"House / apartment\", \"House / apartment\", \"House / apartment\", \"House / apartment\", \"House / apartment\", \"House / apartment\", \"House / apartment\", \"House / apartment\", \"House / apartment\", \"House / apartment\", \"With parents\", \"House / apartment\", \"House / apartment\", \"House / apartment\", \"House / apartment\", \"House / apartment\", \"Rented apartment\", \"House / apartment\", \"With parents\", \"House / apartment\", \"House / apartment\", \"Municipal apartment\", \"Municipal apartment\", \"House / apartment\", \"House / apartment\", \"House / apartment\", \"House / apartment\", \"House / apartment\", \"House / apartment\", \"House / apartment\", \"Municipal apartment\", \"House / apartment\", \"House / apartment\", \"House / apartment\", \"House / apartment\", \"Municipal apartment\", \"House / apartment\", \"Rented apartment\", \"House / apartment\", \"House / apartment\", \"House / apartment\", \"House / apartment\", \"House / apartment\", \"House / apartment\", \"With parents\", \"House / apartment\", \"House / apartment\", \"House / apartment\", \"House / apartment\", \"House / apartment\", \"House / apartment\", \"House / apartment\", \"House / apartment\", \"House / apartment\", \"House / apartment\", \"House / apartment\", \"House / apartment\", \"House / apartment\", \"House / apartment\", \"House / apartment\", \"House / apartment\", \"House / apartment\", \"House / apartment\", \"House / apartment\", \"House / apartment\", \"House / apartment\", \"House / apartment\", \"House / apartment\", \"House / apartment\", \"House / apartment\", \"House / apartment\", \"House / apartment\", \"House / apartment\", \"House / apartment\", \"House / apartment\", \"House / apartment\", \"With parents\", \"House / apartment\", \"House / apartment\", \"Municipal apartment\", \"House / apartment\", \"Rented apartment\", \"House / apartment\", \"House / apartment\", \"House / apartment\", \"With parents\", \"House / apartment\", \"House / apartment\", \"Municipal apartment\", \"House / apartment\", \"House / apartment\", \"House / apartment\", \"House / apartment\", \"House / apartment\", \"House / apartment\", \"House / apartment\", \"House / apartment\", \"House / apartment\", \"House / apartment\", \"House / apartment\", \"House / apartment\", \"House / apartment\", \"House / apartment\", \"House / apartment\", \"House / apartment\", \"House / apartment\", \"Rented apartment\", \"House / apartment\", \"With parents\", \"House / apartment\", \"House / apartment\", \"House / apartment\", \"House / apartment\", \"House / apartment\", \"House / apartment\", \"House / apartment\", \"House / apartment\", \"House / apartment\", \"House / apartment\", \"House / apartment\", \"House / apartment\", \"House / apartment\", \"Municipal apartment\", \"House / apartment\", \"House / apartment\", \"House / apartment\", \"House / apartment\", \"House / apartment\", \"House / apartment\", \"House / apartment\", \"House / apartment\", \"House / apartment\", \"With parents\", \"House / apartment\", \"House / apartment\", \"House / apartment\", \"House / apartment\", \"House / apartment\", \"House / apartment\", \"House / apartment\", \"With parents\", \"House / apartment\", \"House / apartment\", \"House / apartment\", \"With parents\", \"House / apartment\", \"House / apartment\", \"House / apartment\", \"House / apartment\", \"House / apartment\", \"House / apartment\", \"House / apartment\", \"House / apartment\", \"House / apartment\", \"Office apartment\", \"House / apartment\", \"House / apartment\", \"House / apartment\", \"House / apartment\", \"House / apartment\", \"House / apartment\", \"House / apartment\", \"House / apartment\", \"House / apartment\", \"House / apartment\", \"House / apartment\", \"House / apartment\", \"House / apartment\", \"House / apartment\", \"House / apartment\", \"House / apartment\", \"House / apartment\", \"House / apartment\", \"House / apartment\", \"House / apartment\", \"House / apartment\", \"House / apartment\", \"House / apartment\", \"House / apartment\", \"House / apartment\", \"House / apartment\", \"House / apartment\", \"House / apartment\", \"House / apartment\", \"House / apartment\", \"House / apartment\", \"House / apartment\", \"House / apartment\", \"House / apartment\", \"House / apartment\", \"House / apartment\", \"House / apartment\", \"Municipal apartment\", \"House / apartment\", \"House / apartment\", \"House / apartment\", \"House / apartment\", \"House / apartment\", \"House / apartment\", \"Rented apartment\", \"House / apartment\", \"House / apartment\", \"House / apartment\", \"Municipal apartment\", \"House / apartment\", \"House / apartment\", \"House / apartment\", \"House / apartment\", \"House / apartment\", \"House / apartment\", \"House / apartment\", \"House / apartment\", \"House / apartment\", \"House / apartment\", \"House / apartment\", \"House / apartment\", \"House / apartment\", \"House / apartment\", \"House / apartment\", \"House / apartment\", \"With parents\", \"House / apartment\", \"House / apartment\", \"House / apartment\", \"House / apartment\", \"Rented apartment\", \"Municipal apartment\", \"House / apartment\", \"House / apartment\", \"House / apartment\", \"House / apartment\", \"House / apartment\", \"House / apartment\", \"House / apartment\", \"House / apartment\", \"House / apartment\", \"House / apartment\", \"House / apartment\", \"House / apartment\", \"House / apartment\", \"House / apartment\", \"House / apartment\", \"House / apartment\", \"Municipal apartment\", \"Rented apartment\", \"House / apartment\", \"House / apartment\", \"House / apartment\", \"House / apartment\", \"House / apartment\", \"House / apartment\", \"House / apartment\", \"House / apartment\", \"House / apartment\", \"House / apartment\", \"House / apartment\", \"House / apartment\", \"House / apartment\", \"Office apartment\", \"House / apartment\", \"House / apartment\", \"House / apartment\", \"House / apartment\", \"House / apartment\", \"House / apartment\", \"House / apartment\", \"House / apartment\", \"Municipal apartment\", \"House / apartment\", \"House / apartment\", \"House / apartment\", \"House / apartment\", \"House / apartment\", \"House / apartment\", \"House / apartment\", \"House / apartment\", \"House / apartment\", \"House / apartment\", \"House / apartment\", \"House / apartment\", \"House / apartment\", \"House / apartment\", \"House / apartment\", \"House / apartment\", \"House / apartment\", \"House / apartment\", \"With parents\", \"Municipal apartment\", \"House / apartment\", \"House / apartment\", \"House / apartment\", \"House / apartment\", \"House / apartment\", \"House / apartment\", \"House / apartment\", \"House / apartment\", \"House / apartment\", \"House / apartment\", \"House / apartment\", \"Municipal apartment\", \"House / apartment\", \"House / apartment\", \"House / apartment\", \"House / apartment\", \"House / apartment\", \"House / apartment\", \"House / apartment\", \"House / apartment\", \"House / apartment\", \"House / apartment\", \"House / apartment\", \"House / apartment\", \"House / apartment\", \"House / apartment\", \"House / apartment\", \"House / apartment\", \"House / apartment\", \"House / apartment\", \"With parents\", \"House / apartment\", \"House / apartment\", \"House / apartment\", \"House / apartment\", \"House / apartment\", \"House / apartment\", \"House / apartment\", \"House / apartment\", \"House / apartment\", \"House / apartment\", \"House / apartment\", \"House / apartment\", \"House / apartment\", \"House / apartment\", \"House / apartment\", \"House / apartment\", \"Municipal apartment\", \"House / apartment\", \"House / apartment\", \"House / apartment\", \"House / apartment\", \"House / apartment\", \"House / apartment\", \"House / apartment\", \"House / apartment\", \"House / apartment\", \"House / apartment\", \"House / apartment\", \"House / apartment\", \"House / apartment\", \"House / apartment\", \"House / apartment\", \"House / apartment\", \"House / apartment\", \"House / apartment\", \"House / apartment\", \"Rented apartment\", \"House / apartment\", \"House / apartment\", \"With parents\", \"House / apartment\", \"House / apartment\", \"House / apartment\", \"House / apartment\", \"House / apartment\", \"Office apartment\", \"House / apartment\", \"House / apartment\", \"House / apartment\", \"House / apartment\", \"House / apartment\", \"House / apartment\", \"House / apartment\", \"House / apartment\", \"House / apartment\", \"House / apartment\", \"House / apartment\", \"House / apartment\", \"With parents\", \"Municipal apartment\", \"House / apartment\", \"House / apartment\", \"House / apartment\", \"House / apartment\", \"House / apartment\", \"House / apartment\", \"House / apartment\", \"House / apartment\", \"Municipal apartment\", \"House / apartment\", \"House / apartment\", \"House / apartment\", \"House / apartment\", \"House / apartment\", \"House / apartment\", \"House / apartment\", \"House / apartment\", \"House / apartment\", \"House / apartment\", \"House / apartment\", \"House / apartment\", \"House / apartment\", \"House / apartment\", \"Municipal apartment\", \"House / apartment\", \"House / apartment\", \"House / apartment\", \"House / apartment\", \"House / apartment\", \"House / apartment\", \"House / apartment\", \"House / apartment\", \"House / apartment\", \"House / apartment\", \"House / apartment\", \"House / apartment\", \"House / apartment\", \"House / apartment\", \"Office apartment\", \"House / apartment\", \"House / apartment\", \"House / apartment\", \"House / apartment\", \"House / apartment\", \"House / apartment\", \"House / apartment\", \"House / apartment\", \"House / apartment\", \"House / apartment\", \"With parents\", \"House / apartment\", \"House / apartment\", \"House / apartment\", \"House / apartment\", \"House / apartment\", \"House / apartment\", \"House / apartment\", \"House / apartment\", \"House / apartment\", \"House / apartment\", \"House / apartment\", \"House / apartment\", \"House / apartment\", \"Municipal apartment\", \"House / apartment\", \"House / apartment\", \"House / apartment\", \"House / apartment\", \"House / apartment\", \"House / apartment\", \"House / apartment\", \"Municipal apartment\", \"House / apartment\", \"House / apartment\", \"House / apartment\", \"House / apartment\", \"House / apartment\", \"House / apartment\", \"House / apartment\", \"House / apartment\", \"House / apartment\", \"House / apartment\", \"House / apartment\", \"House / apartment\", \"House / apartment\", \"House / apartment\", \"House / apartment\", \"With parents\", \"House / apartment\", \"House / apartment\", \"House / apartment\", \"House / apartment\", \"House / apartment\", \"House / apartment\", \"House / apartment\", \"Office apartment\", \"House / apartment\", \"House / apartment\", \"Municipal apartment\", \"House / apartment\", \"House / apartment\", \"House / apartment\", \"House / apartment\", \"House / apartment\", \"House / apartment\", \"House / apartment\", \"Municipal apartment\", \"House / apartment\", \"House / apartment\", \"House / apartment\", \"House / apartment\", \"House / apartment\", \"House / apartment\", \"House / apartment\", \"Municipal apartment\", \"House / apartment\", \"House / apartment\", \"House / apartment\", \"House / apartment\", \"House / apartment\", \"House / apartment\", \"House / apartment\", \"House / apartment\", \"House / apartment\", \"With parents\", \"House / apartment\", \"House / apartment\", \"House / apartment\", \"Municipal apartment\", \"House / apartment\", \"House / apartment\", \"House / apartment\", \"House / apartment\", \"House / apartment\", \"House / apartment\", \"House / apartment\", \"House / apartment\", \"House / apartment\", \"House / apartment\", \"House / apartment\", \"House / apartment\", \"House / apartment\", \"House / apartment\", \"House / apartment\", \"House / apartment\", \"Office apartment\", \"House / apartment\", \"House / apartment\", \"Rented apartment\", \"House / apartment\", \"House / apartment\", \"House / apartment\", \"House / apartment\", \"House / apartment\", \"With parents\", \"House / apartment\", \"House / apartment\", \"House / apartment\", \"House / apartment\", \"House / apartment\", \"House / apartment\", \"House / apartment\", \"House / apartment\", \"House / apartment\", \"House / apartment\", \"House / apartment\", \"House / apartment\", \"House / apartment\", \"House / apartment\", \"House / apartment\", \"House / apartment\", \"House / apartment\", \"House / apartment\", \"With parents\", \"House / apartment\", \"House / apartment\", \"House / apartment\", \"House / apartment\", \"House / apartment\", \"House / apartment\", \"House / apartment\", \"House / apartment\", \"House / apartment\", \"With parents\", \"House / apartment\", \"House / apartment\", \"House / apartment\", \"House / apartment\", \"House / apartment\", \"House / apartment\", \"House / apartment\", \"Municipal apartment\", \"House / apartment\", \"House / apartment\", \"House / apartment\", \"House / apartment\", \"House / apartment\", \"House / apartment\", \"House / apartment\", \"House / apartment\", \"House / apartment\", \"With parents\", \"House / apartment\", \"House / apartment\", \"House / apartment\", \"House / apartment\", \"With parents\", \"House / apartment\", \"House / apartment\", \"House / apartment\", \"House / apartment\", \"House / apartment\", \"House / apartment\", \"House / apartment\", \"House / apartment\", \"House / apartment\", \"House / apartment\", \"House / apartment\", \"House / apartment\", \"House / apartment\", \"House / apartment\", \"House / apartment\", \"House / apartment\", \"House / apartment\", \"Municipal apartment\", \"With parents\", \"House / apartment\", \"House / apartment\", \"House / apartment\", \"House / apartment\", \"House / apartment\", \"House / apartment\", \"With parents\", \"House / apartment\", \"House / apartment\", \"Rented apartment\", \"House / apartment\", \"House / apartment\", \"House / apartment\", \"House / apartment\", \"House / apartment\", \"House / apartment\", \"House / apartment\", \"House / apartment\", \"House / apartment\", \"House / apartment\", \"House / apartment\", \"House / apartment\", \"House / apartment\", \"House / apartment\", \"House / apartment\", \"House / apartment\", \"House / apartment\", \"House / apartment\", \"With parents\", \"House / apartment\", \"House / apartment\", \"House / apartment\", \"House / apartment\", \"House / apartment\", \"House / apartment\", \"Rented apartment\", \"House / apartment\", \"House / apartment\", \"House / apartment\", \"House / apartment\", \"House / apartment\", \"House / apartment\", \"House / apartment\", \"House / apartment\", \"House / apartment\", \"House / apartment\", \"House / apartment\", \"House / apartment\", \"House / apartment\", \"House / apartment\", \"House / apartment\", \"House / apartment\", \"House / apartment\", \"House / apartment\", \"House / apartment\", \"House / apartment\", \"House / apartment\", \"With parents\", \"House / apartment\", \"House / apartment\", \"House / apartment\", \"With parents\", \"House / apartment\", \"House / apartment\", \"House / apartment\", \"House / apartment\", \"House / apartment\", \"House / apartment\", \"House / apartment\", \"House / apartment\", \"House / apartment\", \"House / apartment\", \"House / apartment\", \"With parents\", \"House / apartment\", \"House / apartment\", \"House / apartment\", \"House / apartment\", \"House / apartment\", \"House / apartment\", \"House / apartment\", \"House / apartment\", \"Rented apartment\", \"House / apartment\", \"House / apartment\", \"House / apartment\", \"House / apartment\", \"House / apartment\", \"House / apartment\", \"House / apartment\", \"House / apartment\", \"House / apartment\", \"House / apartment\", \"House / apartment\", \"House / apartment\", \"House / apartment\", \"House / apartment\", \"With parents\", \"Municipal apartment\", \"House / apartment\", \"House / apartment\", \"House / apartment\", \"House / apartment\", \"House / apartment\", \"House / apartment\", \"House / apartment\", \"House / apartment\", \"House / apartment\", \"House / apartment\", \"House / apartment\", \"House / apartment\", \"House / apartment\", \"House / apartment\", \"House / apartment\", \"House / apartment\", \"House / apartment\", \"House / apartment\", \"House / apartment\", \"With parents\", \"House / apartment\", \"House / apartment\", \"House / apartment\", \"House / apartment\", \"House / apartment\", \"House / apartment\", \"House / apartment\", \"House / apartment\", \"House / apartment\", \"House / apartment\", \"With parents\", \"House / apartment\", \"House / apartment\", \"House / apartment\", \"House / apartment\", \"House / apartment\", \"House / apartment\", \"House / apartment\", \"House / apartment\", \"House / apartment\", \"House / apartment\", \"House / apartment\", \"House / apartment\", \"House / apartment\", \"House / apartment\", \"House / apartment\", \"House / apartment\", \"House / apartment\", \"House / apartment\", \"House / apartment\", \"House / apartment\", \"House / apartment\", \"House / apartment\", \"House / apartment\", \"House / apartment\", \"House / apartment\", \"House / apartment\", \"Municipal apartment\", \"House / apartment\", \"House / apartment\", \"House / apartment\", \"House / apartment\", \"Rented apartment\", \"With parents\", \"House / apartment\", \"House / apartment\", \"House / apartment\", \"House / apartment\", \"House / apartment\", \"Rented apartment\", \"House / apartment\", \"House / apartment\", \"House / apartment\", \"House / apartment\", \"Rented apartment\", \"House / apartment\", \"House / apartment\", \"House / apartment\", \"House / apartment\", \"House / apartment\", \"House / apartment\", \"House / apartment\", \"House / apartment\", \"House / apartment\", \"House / apartment\", \"House / apartment\", \"House / apartment\", \"Municipal apartment\", \"Rented apartment\", \"Rented apartment\", \"House / apartment\", \"House / apartment\", \"House / apartment\", \"House / apartment\", \"With parents\", \"Municipal apartment\", \"House / apartment\", \"House / apartment\", \"House / apartment\", \"House / apartment\", \"House / apartment\", \"House / apartment\", \"House / apartment\", \"House / apartment\", \"House / apartment\", \"House / apartment\", \"House / apartment\", \"Rented apartment\", \"House / apartment\", \"House / apartment\", \"House / apartment\", \"House / apartment\", \"House / apartment\", \"House / apartment\", \"House / apartment\", \"House / apartment\", \"House / apartment\", \"House / apartment\", \"With parents\", \"House / apartment\", \"House / apartment\", \"House / apartment\", \"House / apartment\", \"House / apartment\", \"House / apartment\", \"House / apartment\", \"House / apartment\", \"House / apartment\", \"House / apartment\", \"House / apartment\", \"House / apartment\", \"House / apartment\", \"Rented apartment\", \"House / apartment\", \"House / apartment\", \"House / apartment\", \"House / apartment\", \"House / apartment\", \"House / apartment\", \"House / apartment\", \"House / apartment\", \"House / apartment\", \"House / apartment\", \"House / apartment\", \"House / apartment\", \"House / apartment\", \"House / apartment\", \"House / apartment\", \"House / apartment\", \"House / apartment\", \"House / apartment\", \"House / apartment\", \"Municipal apartment\", \"House / apartment\", \"House / apartment\", \"House / apartment\", \"House / apartment\", \"House / apartment\", \"House / apartment\", \"House / apartment\", \"House / apartment\", \"House / apartment\", \"House / apartment\", \"House / apartment\", \"House / apartment\", \"House / apartment\", \"Municipal apartment\", \"House / apartment\", \"House / apartment\", \"House / apartment\", \"House / apartment\", \"House / apartment\", \"House / apartment\", \"House / apartment\", \"House / apartment\", \"House / apartment\", \"House / apartment\", \"Rented apartment\", \"House / apartment\", \"House / apartment\", \"House / apartment\", \"House / apartment\", \"House / apartment\", \"House / apartment\", \"House / apartment\", \"House / apartment\", \"House / apartment\", \"House / apartment\", \"House / apartment\", \"House / apartment\", \"House / apartment\", \"House / apartment\", \"House / apartment\", \"With parents\", \"House / apartment\", \"House / apartment\", \"House / apartment\", \"House / apartment\", \"House / apartment\", \"House / apartment\", \"House / apartment\", \"House / apartment\", \"Municipal apartment\", \"House / apartment\", \"Rented apartment\", \"House / apartment\", \"House / apartment\", \"House / apartment\", \"House / apartment\", \"House / apartment\", \"House / apartment\", \"House / apartment\", \"Municipal apartment\", \"House / apartment\", \"House / apartment\", \"With parents\", \"House / apartment\", \"House / apartment\", \"House / apartment\", \"House / apartment\", \"House / apartment\", \"House / apartment\", \"Office apartment\", \"House / apartment\", \"House / apartment\", \"House / apartment\", \"House / apartment\", \"House / apartment\", \"House / apartment\", \"House / apartment\", \"House / apartment\", \"House / apartment\", \"House / apartment\", \"House / apartment\", \"House / apartment\", \"House / apartment\", \"House / apartment\", \"House / apartment\", \"House / apartment\", \"House / apartment\", \"House / apartment\", \"House / apartment\", \"House / apartment\", \"House / apartment\", \"House / apartment\", \"House / apartment\", \"House / apartment\", \"House / apartment\", \"House / apartment\", \"House / apartment\", \"House / apartment\", \"House / apartment\", \"House / apartment\", \"House / apartment\", \"House / apartment\", \"House / apartment\", \"House / apartment\", \"House / apartment\", \"With parents\", \"House / apartment\", \"With parents\", \"House / apartment\", \"House / apartment\", \"House / apartment\", \"Co-op apartment\", \"Municipal apartment\", \"With parents\", \"House / apartment\", \"House / apartment\", \"House / apartment\", \"House / apartment\", \"House / apartment\", \"House / apartment\", \"House / apartment\", \"House / apartment\", \"House / apartment\", \"Office apartment\", \"Municipal apartment\", \"House / apartment\", \"With parents\", \"House / apartment\", \"House / apartment\", \"House / apartment\", \"House / apartment\", \"House / apartment\", \"House / apartment\", \"House / apartment\", \"House / apartment\", \"House / apartment\", \"House / apartment\", \"House / apartment\", \"House / apartment\", \"House / apartment\", \"House / apartment\", \"With parents\", \"With parents\", \"House / apartment\", \"Rented apartment\", \"House / apartment\", \"House / apartment\", \"House / apartment\", \"House / apartment\", \"House / apartment\", \"House / apartment\", \"House / apartment\", \"House / apartment\", \"House / apartment\", \"House / apartment\", \"House / apartment\", \"House / apartment\", \"House / apartment\", \"House / apartment\", \"House / apartment\", \"House / apartment\", \"House / apartment\", \"House / apartment\", \"House / apartment\", \"House / apartment\", \"House / apartment\", \"House / apartment\", \"House / apartment\", \"House / apartment\", \"Municipal apartment\", \"House / apartment\", \"House / apartment\", \"House / apartment\", \"House / apartment\", \"With parents\", \"House / apartment\", \"House / apartment\", \"House / apartment\", \"House / apartment\", \"House / apartment\", \"With parents\", \"House / apartment\", \"House / apartment\", \"House / apartment\", \"House / apartment\", \"House / apartment\", \"With parents\", \"House / apartment\", \"House / apartment\", \"House / apartment\", \"House / apartment\", \"House / apartment\", \"House / apartment\", \"House / apartment\", \"Municipal apartment\", \"House / apartment\", \"House / apartment\", \"House / apartment\", \"House / apartment\", \"House / apartment\", \"House / apartment\", \"House / apartment\", \"House / apartment\", \"House / apartment\", \"House / apartment\", \"House / apartment\", \"House / apartment\", \"House / apartment\", \"House / apartment\", \"House / apartment\", \"House / apartment\", \"House / apartment\", \"House / apartment\", \"Office apartment\", \"House / apartment\", \"House / apartment\", \"House / apartment\", \"House / apartment\", \"House / apartment\", \"House / apartment\", \"House / apartment\", \"House / apartment\", \"House / apartment\", \"House / apartment\", \"House / apartment\", \"House / apartment\", \"House / apartment\", \"House / apartment\", \"House / apartment\", \"House / apartment\", \"House / apartment\", \"House / apartment\", \"Rented apartment\", \"House / apartment\", \"House / apartment\", \"House / apartment\", \"House / apartment\", \"House / apartment\", \"House / apartment\", \"House / apartment\", \"House / apartment\", \"House / apartment\", \"House / apartment\", \"House / apartment\", \"House / apartment\", \"House / apartment\", \"House / apartment\", \"House / apartment\", \"Municipal apartment\", \"House / apartment\", \"House / apartment\", \"House / apartment\", \"House / apartment\", \"House / apartment\", \"House / apartment\", \"House / apartment\", \"House / apartment\", \"House / apartment\", \"House / apartment\", \"With parents\", \"House / apartment\", \"House / apartment\", \"House / apartment\", \"House / apartment\", \"House / apartment\", \"With parents\", \"House / apartment\", \"House / apartment\", \"House / apartment\", \"House / apartment\", \"House / apartment\", \"House / apartment\", \"House / apartment\", \"House / apartment\", \"House / apartment\", \"House / apartment\", \"Municipal apartment\", \"House / apartment\", \"House / apartment\", \"House / apartment\", \"House / apartment\", \"House / apartment\", \"House / apartment\", \"House / apartment\", \"House / apartment\", \"House / apartment\", \"House / apartment\", \"House / apartment\", \"House / apartment\", \"House / apartment\", \"House / apartment\", \"House / apartment\", \"House / apartment\", \"House / apartment\", \"House / apartment\", \"House / apartment\", \"House / apartment\", \"With parents\", \"House / apartment\", \"House / apartment\", \"House / apartment\", \"House / apartment\", \"House / apartment\", \"House / apartment\", \"House / apartment\", \"House / apartment\", \"House / apartment\", \"House / apartment\", \"House / apartment\", \"House / apartment\", \"House / apartment\", \"House / apartment\", \"House / apartment\", \"House / apartment\", \"House / apartment\", \"House / apartment\", \"House / apartment\", \"House / apartment\", \"House / apartment\", \"House / apartment\", \"House / apartment\", \"House / apartment\", \"House / apartment\", \"House / apartment\", \"House / apartment\", \"House / apartment\", \"House / apartment\", \"House / apartment\", \"House / apartment\", \"House / apartment\", \"House / apartment\", \"House / apartment\", \"House / apartment\", \"House / apartment\", \"House / apartment\", \"House / apartment\", \"With parents\", \"House / apartment\", \"House / apartment\", \"House / apartment\", \"House / apartment\", \"With parents\", \"House / apartment\", \"House / apartment\", \"With parents\", \"House / apartment\", \"House / apartment\", \"House / apartment\", \"House / apartment\", \"With parents\", \"House / apartment\", \"House / apartment\", \"House / apartment\", \"House / apartment\", \"House / apartment\", \"House / apartment\", \"House / apartment\", \"House / apartment\", \"House / apartment\", \"House / apartment\", \"House / apartment\", \"House / apartment\", \"With parents\", \"House / apartment\", \"House / apartment\", \"House / apartment\", \"With parents\", \"House / apartment\", \"House / apartment\", \"Municipal apartment\", \"House / apartment\", \"House / apartment\", \"House / apartment\", \"House / apartment\", \"House / apartment\", \"With parents\", \"House / apartment\", \"House / apartment\", \"Co-op apartment\", \"House / apartment\", \"House / apartment\", \"House / apartment\", \"House / apartment\", \"Office apartment\", \"House / apartment\", \"House / apartment\", \"House / apartment\", \"House / apartment\", \"With parents\", \"House / apartment\", \"House / apartment\", \"House / apartment\", \"House / apartment\", \"House / apartment\", \"With parents\", \"House / apartment\", \"House / apartment\", \"House / apartment\", \"House / apartment\", \"Municipal apartment\", \"House / apartment\", \"House / apartment\", \"House / apartment\", \"House / apartment\", \"House / apartment\", \"House / apartment\", \"House / apartment\", \"House / apartment\", \"House / apartment\", \"House / apartment\", \"House / apartment\", \"House / apartment\", \"House / apartment\", \"With parents\", \"House / apartment\", \"House / apartment\", \"House / apartment\", \"With parents\", \"House / apartment\", \"House / apartment\", \"House / apartment\", \"House / apartment\", \"House / apartment\", \"House / apartment\", \"With parents\", \"House / apartment\", \"With parents\", \"House / apartment\", \"House / apartment\", \"House / apartment\", \"House / apartment\", \"House / apartment\", \"House / apartment\", \"House / apartment\", \"House / apartment\", \"House / apartment\", \"House / apartment\", \"Municipal apartment\", \"House / apartment\", \"House / apartment\", \"House / apartment\", \"House / apartment\", \"House / apartment\", \"House / apartment\", \"House / apartment\", \"House / apartment\", \"House / apartment\", \"House / apartment\", \"Rented apartment\", \"House / apartment\", \"House / apartment\", \"Municipal apartment\", \"House / apartment\", \"House / apartment\", \"House / apartment\", \"House / apartment\", \"House / apartment\", \"House / apartment\", \"House / apartment\", \"House / apartment\", \"House / apartment\", \"House / apartment\", \"House / apartment\", \"House / apartment\", \"House / apartment\", \"House / apartment\", \"House / apartment\", \"House / apartment\", \"House / apartment\", \"House / apartment\", \"With parents\", \"House / apartment\", \"House / apartment\", \"House / apartment\", \"House / apartment\", \"House / apartment\", \"House / apartment\", \"House / apartment\", \"House / apartment\", \"House / apartment\", \"House / apartment\", \"House / apartment\", \"House / apartment\", \"House / apartment\", \"House / apartment\", \"House / apartment\", \"House / apartment\", \"House / apartment\", \"House / apartment\", \"House / apartment\", \"House / apartment\", \"House / apartment\", \"House / apartment\", \"House / apartment\", \"House / apartment\", \"With parents\", \"House / apartment\", \"House / apartment\", \"House / apartment\", \"House / apartment\", \"House / apartment\", \"House / apartment\", \"House / apartment\", \"House / apartment\", \"House / apartment\", \"Municipal apartment\", \"House / apartment\", \"House / apartment\", \"With parents\", \"House / apartment\", \"House / apartment\", \"House / apartment\", \"House / apartment\", \"House / apartment\", \"House / apartment\", \"House / apartment\", \"Municipal apartment\", \"House / apartment\", \"House / apartment\", \"House / apartment\", \"House / apartment\", \"House / apartment\", \"House / apartment\", \"House / apartment\", \"House / apartment\", \"House / apartment\", \"House / apartment\", \"House / apartment\", \"House / apartment\", \"House / apartment\", \"House / apartment\", \"House / apartment\", \"House / apartment\", \"House / apartment\", \"House / apartment\", \"House / apartment\", \"House / apartment\", \"House / apartment\", \"House / apartment\", \"House / apartment\", \"House / apartment\", \"House / apartment\", \"House / apartment\", \"House / apartment\", \"House / apartment\", \"House / apartment\", \"House / apartment\", \"House / apartment\", \"House / apartment\", \"House / apartment\", \"With parents\", \"House / apartment\", \"House / apartment\", \"House / apartment\", \"House / apartment\", \"House / apartment\", \"House / apartment\", \"Municipal apartment\", \"With parents\", \"House / apartment\", \"House / apartment\", \"House / apartment\", \"House / apartment\", \"House / apartment\", \"House / apartment\", \"House / apartment\", \"House / apartment\", \"Rented apartment\", \"House / apartment\", \"House / apartment\", \"House / apartment\", \"House / apartment\", \"House / apartment\", \"House / apartment\", \"House / apartment\", \"House / apartment\", \"House / apartment\", \"House / apartment\", \"House / apartment\", \"House / apartment\", \"House / apartment\", \"House / apartment\", \"House / apartment\", \"House / apartment\", \"With parents\", \"House / apartment\", \"House / apartment\", \"House / apartment\", \"House / apartment\", \"House / apartment\", \"House / apartment\", \"House / apartment\", \"House / apartment\", \"House / apartment\", \"House / apartment\", \"House / apartment\", \"House / apartment\", \"House / apartment\", \"House / apartment\", \"House / apartment\", \"House / apartment\", \"House / apartment\", \"House / apartment\", \"House / apartment\", \"House / apartment\", \"House / apartment\", \"House / apartment\", \"Municipal apartment\", \"With parents\", \"House / apartment\", \"House / apartment\", \"House / apartment\", \"House / apartment\", \"House / apartment\", \"House / apartment\", \"House / apartment\", \"House / apartment\", \"House / apartment\", \"House / apartment\", \"House / apartment\", \"House / apartment\", \"House / apartment\", \"House / apartment\", \"House / apartment\", \"House / apartment\", \"House / apartment\", \"House / apartment\", \"House / apartment\", \"House / apartment\", \"House / apartment\", \"House / apartment\", \"House / apartment\", \"House / apartment\", \"House / apartment\", \"With parents\", \"House / apartment\", \"House / apartment\", \"House / apartment\", \"House / apartment\", \"House / apartment\", \"House / apartment\", \"Rented apartment\", \"House / apartment\", \"House / apartment\", \"Municipal apartment\", \"House / apartment\", \"House / apartment\", \"House / apartment\", \"Rented apartment\", \"Municipal apartment\", \"House / apartment\", \"House / apartment\", \"Co-op apartment\", \"House / apartment\", \"House / apartment\", \"House / apartment\", \"House / apartment\", \"House / apartment\", \"House / apartment\", \"House / apartment\", \"House / apartment\", \"With parents\", \"House / apartment\", \"House / apartment\", \"House / apartment\", \"House / apartment\", \"House / apartment\", \"House / apartment\", \"House / apartment\", \"House / apartment\", \"House / apartment\", \"House / apartment\", \"House / apartment\", \"House / apartment\", \"House / apartment\", \"House / apartment\", \"House / apartment\", \"House / apartment\", \"House / apartment\", \"House / apartment\", \"House / apartment\", \"With parents\", \"House / apartment\", \"House / apartment\", \"House / apartment\", \"House / apartment\", \"House / apartment\", \"House / apartment\", \"Municipal apartment\", \"With parents\", \"House / apartment\", \"House / apartment\", \"House / apartment\", \"House / apartment\", \"House / apartment\", \"House / apartment\", \"House / apartment\", \"With parents\", \"House / apartment\", \"Rented apartment\", \"House / apartment\", \"House / apartment\", \"House / apartment\", \"House / apartment\", \"House / apartment\", \"House / apartment\", \"House / apartment\", \"House / apartment\", \"House / apartment\", \"Municipal apartment\", \"House / apartment\", \"House / apartment\", \"House / apartment\", \"House / apartment\", \"House / apartment\", \"House / apartment\", \"House / apartment\", \"House / apartment\", \"House / apartment\", \"House / apartment\", \"House / apartment\", \"House / apartment\", \"With parents\", \"House / apartment\", \"House / apartment\", \"House / apartment\", \"Municipal apartment\", \"Municipal apartment\", \"With parents\", \"House / apartment\", \"House / apartment\", \"House / apartment\", \"With parents\", \"House / apartment\", \"House / apartment\", \"House / apartment\", \"House / apartment\", \"House / apartment\", \"House / apartment\", \"House / apartment\", \"House / apartment\", \"House / apartment\", \"House / apartment\", \"House / apartment\", \"House / apartment\", \"House / apartment\", \"House / apartment\", \"House / apartment\", \"House / apartment\", \"House / apartment\", \"House / apartment\", \"House / apartment\", \"House / apartment\", \"House / apartment\", \"House / apartment\", \"House / apartment\", \"House / apartment\", \"House / apartment\", \"Municipal apartment\", \"Municipal apartment\", \"House / apartment\", \"House / apartment\", \"Rented apartment\", \"House / apartment\", \"House / apartment\", \"Rented apartment\", \"Co-op apartment\", \"House / apartment\", \"House / apartment\", \"House / apartment\", \"House / apartment\", \"House / apartment\", \"With parents\", \"House / apartment\", \"House / apartment\", \"House / apartment\", \"House / apartment\", \"House / apartment\", \"House / apartment\", \"With parents\", \"House / apartment\", \"House / apartment\", \"House / apartment\", \"House / apartment\", \"House / apartment\", \"House / apartment\", \"House / apartment\", \"Municipal apartment\", \"With parents\", \"House / apartment\", \"House / apartment\", \"House / apartment\", \"House / apartment\", \"House / apartment\", \"House / apartment\", \"House / apartment\", \"With parents\", \"House / apartment\", \"House / apartment\", \"House / apartment\", \"Municipal apartment\", \"House / apartment\", \"House / apartment\", \"House / apartment\", \"House / apartment\", \"House / apartment\", \"House / apartment\", \"House / apartment\", \"House / apartment\", \"House / apartment\", \"House / apartment\", \"House / apartment\", \"House / apartment\", \"House / apartment\", \"House / apartment\", \"House / apartment\", \"House / apartment\", \"House / apartment\", \"House / apartment\", \"House / apartment\", \"House / apartment\", \"House / apartment\", \"House / apartment\", \"House / apartment\", \"House / apartment\", \"House / apartment\", \"House / apartment\", \"House / apartment\", \"House / apartment\", \"House / apartment\", \"House / apartment\", \"Office apartment\", \"House / apartment\", \"House / apartment\", \"House / apartment\", \"House / apartment\", \"House / apartment\", \"House / apartment\", \"House / apartment\", \"Municipal apartment\", \"House / apartment\", \"House / apartment\", \"House / apartment\", \"Municipal apartment\", \"House / apartment\", \"House / apartment\", \"House / apartment\", \"House / apartment\", \"House / apartment\", \"House / apartment\", \"With parents\", \"House / apartment\", \"House / apartment\", \"House / apartment\", \"House / apartment\", \"House / apartment\", \"House / apartment\", \"House / apartment\", \"House / apartment\", \"House / apartment\", \"House / apartment\", \"House / apartment\", \"House / apartment\", \"House / apartment\", \"House / apartment\", \"House / apartment\", \"House / apartment\", \"House / apartment\", \"House / apartment\", \"House / apartment\", \"House / apartment\", \"With parents\", \"House / apartment\", \"House / apartment\", \"House / apartment\", \"House / apartment\", \"House / apartment\", \"House / apartment\", \"House / apartment\", \"House / apartment\", \"House / apartment\", \"House / apartment\", \"House / apartment\", \"House / apartment\", \"Rented apartment\", \"House / apartment\", \"House / apartment\", \"House / apartment\", \"House / apartment\", \"House / apartment\", \"House / apartment\", \"House / apartment\", \"House / apartment\", \"House / apartment\", \"House / apartment\", \"House / apartment\", \"House / apartment\", \"House / apartment\", \"House / apartment\", \"Rented apartment\", \"House / apartment\", \"House / apartment\", \"House / apartment\", \"House / apartment\", \"Municipal apartment\", \"House / apartment\", \"House / apartment\", \"House / apartment\", \"With parents\", \"House / apartment\", \"Office apartment\", \"House / apartment\", \"House / apartment\", \"House / apartment\", \"House / apartment\", \"House / apartment\", \"House / apartment\", \"House / apartment\", \"House / apartment\", \"House / apartment\", \"House / apartment\", \"House / apartment\", \"House / apartment\", \"House / apartment\", \"House / apartment\", \"House / apartment\", \"Rented apartment\", \"House / apartment\", \"House / apartment\", \"House / apartment\", \"House / apartment\", \"House / apartment\", \"House / apartment\", \"House / apartment\", \"House / apartment\", \"House / apartment\", \"House / apartment\", \"House / apartment\", \"House / apartment\", \"House / apartment\", \"House / apartment\", \"House / apartment\", \"House / apartment\", \"House / apartment\", \"House / apartment\", \"House / apartment\", \"House / apartment\", \"House / apartment\", \"House / apartment\", \"House / apartment\", \"House / apartment\", \"With parents\", \"House / apartment\", \"House / apartment\", \"House / apartment\", \"House / apartment\", \"House / apartment\", \"House / apartment\", \"House / apartment\", \"House / apartment\", \"House / apartment\", \"Municipal apartment\", \"House / apartment\", \"Municipal apartment\", \"House / apartment\", \"Municipal apartment\", \"House / apartment\", \"House / apartment\", \"House / apartment\", \"House / apartment\", \"House / apartment\", \"House / apartment\", \"House / apartment\", \"With parents\", \"House / apartment\", \"House / apartment\", \"House / apartment\", \"House / apartment\", \"With parents\", \"Municipal apartment\", \"House / apartment\", \"House / apartment\", \"House / apartment\", \"House / apartment\", \"Municipal apartment\", \"House / apartment\", \"House / apartment\", \"House / apartment\", \"House / apartment\", \"House / apartment\", \"House / apartment\", \"House / apartment\", \"House / apartment\", \"Rented apartment\", \"House / apartment\", \"House / apartment\", \"House / apartment\", \"House / apartment\", \"House / apartment\", \"House / apartment\", \"House / apartment\", \"House / apartment\", \"House / apartment\", \"House / apartment\", \"House / apartment\", \"House / apartment\", \"House / apartment\", \"Co-op apartment\", \"House / apartment\", \"House / apartment\", \"House / apartment\", \"Office apartment\", \"House / apartment\", \"With parents\", \"House / apartment\", \"House / apartment\", \"House / apartment\", \"Rented apartment\", \"House / apartment\", \"Municipal apartment\", \"House / apartment\", \"House / apartment\", \"House / apartment\", \"House / apartment\", \"House / apartment\", \"House / apartment\", \"House / apartment\", \"House / apartment\", \"House / apartment\", \"With parents\", \"House / apartment\", \"House / apartment\", \"House / apartment\", \"House / apartment\", \"House / apartment\", \"House / apartment\", \"With parents\", \"House / apartment\", \"House / apartment\", \"House / apartment\", \"House / apartment\", \"House / apartment\", \"House / apartment\", \"House / apartment\", \"House / apartment\", \"House / apartment\", \"House / apartment\", \"House / apartment\", \"House / apartment\", \"House / apartment\", \"House / apartment\", \"House / apartment\", \"House / apartment\", \"Municipal apartment\", \"House / apartment\", \"House / apartment\", \"House / apartment\", \"House / apartment\", \"House / apartment\", \"House / apartment\", \"House / apartment\", \"House / apartment\", \"House / apartment\", \"House / apartment\", \"House / apartment\", \"With parents\", \"House / apartment\", \"House / apartment\", \"House / apartment\", \"With parents\", \"House / apartment\", \"House / apartment\", \"House / apartment\", \"House / apartment\", \"House / apartment\", \"House / apartment\", \"House / apartment\", \"House / apartment\", \"House / apartment\", \"House / apartment\", \"House / apartment\", \"House / apartment\", \"House / apartment\", \"Municipal apartment\", \"House / apartment\", \"House / apartment\", \"House / apartment\", \"House / apartment\", \"House / apartment\", \"House / apartment\", \"House / apartment\", \"House / apartment\", \"House / apartment\", \"House / apartment\", \"House / apartment\", \"House / apartment\", \"House / apartment\", \"House / apartment\", \"House / apartment\", \"House / apartment\", \"House / apartment\", \"House / apartment\", \"House / apartment\", \"House / apartment\", \"House / apartment\", \"House / apartment\", \"House / apartment\", \"House / apartment\", \"House / apartment\", \"Office apartment\", \"House / apartment\", \"House / apartment\", \"House / apartment\", \"House / apartment\", \"House / apartment\", \"House / apartment\", \"House / apartment\", \"House / apartment\", \"House / apartment\", \"House / apartment\", \"With parents\", \"House / apartment\", \"House / apartment\", \"House / apartment\", \"House / apartment\", \"With parents\", \"House / apartment\", \"House / apartment\", \"House / apartment\", \"House / apartment\", \"Municipal apartment\", \"House / apartment\", \"House / apartment\", \"House / apartment\", \"House / apartment\", \"House / apartment\", \"House / apartment\", \"House / apartment\", \"Municipal apartment\", \"House / apartment\", \"House / apartment\", \"House / apartment\", \"House / apartment\", \"House / apartment\", \"House / apartment\", \"House / apartment\", \"House / apartment\", \"House / apartment\", \"House / apartment\", \"House / apartment\", \"House / apartment\", \"House / apartment\", \"House / apartment\", \"House / apartment\", \"House / apartment\", \"House / apartment\", \"House / apartment\", \"House / apartment\", \"House / apartment\", \"House / apartment\", \"House / apartment\", \"House / apartment\", \"House / apartment\", \"House / apartment\", \"House / apartment\", \"House / apartment\", \"House / apartment\", \"House / apartment\", \"Municipal apartment\", \"House / apartment\", \"House / apartment\", \"House / apartment\", \"House / apartment\", \"House / apartment\", \"House / apartment\", \"House / apartment\", \"House / apartment\", \"House / apartment\", \"House / apartment\", \"House / apartment\", \"House / apartment\", \"House / apartment\", \"House / apartment\", \"House / apartment\", \"House / apartment\", \"House / apartment\", \"House / apartment\", \"House / apartment\", \"House / apartment\", \"House / apartment\", \"House / apartment\", \"House / apartment\", \"House / apartment\", \"House / apartment\", \"House / apartment\", \"House / apartment\", \"House / apartment\", \"House / apartment\", \"House / apartment\", \"With parents\", \"With parents\", \"House / apartment\", \"House / apartment\", \"House / apartment\", \"House / apartment\", \"With parents\", \"House / apartment\", \"House / apartment\", \"House / apartment\", \"House / apartment\", \"House / apartment\", \"House / apartment\", \"House / apartment\", \"House / apartment\", \"House / apartment\", \"House / apartment\", \"House / apartment\", \"House / apartment\", \"House / apartment\", \"House / apartment\", \"House / apartment\", \"House / apartment\", \"House / apartment\", \"House / apartment\", \"House / apartment\", \"House / apartment\", \"House / apartment\", \"House / apartment\", \"House / apartment\", \"House / apartment\", \"House / apartment\", \"House / apartment\", \"House / apartment\", \"House / apartment\", \"House / apartment\", \"House / apartment\", \"With parents\", \"House / apartment\", \"House / apartment\", \"House / apartment\", \"With parents\", \"House / apartment\", \"House / apartment\", \"House / apartment\", \"House / apartment\", \"House / apartment\", \"House / apartment\", \"House / apartment\", \"House / apartment\", \"House / apartment\", \"Rented apartment\", \"House / apartment\", \"House / apartment\", \"With parents\", \"House / apartment\", \"House / apartment\", \"House / apartment\", \"House / apartment\", \"House / apartment\", \"House / apartment\", \"Municipal apartment\", \"House / apartment\", \"House / apartment\", \"House / apartment\", \"House / apartment\", \"With parents\", \"House / apartment\", \"House / apartment\", \"House / apartment\", \"Co-op apartment\", \"House / apartment\", \"House / apartment\", \"House / apartment\", \"House / apartment\", \"Municipal apartment\", \"House / apartment\", \"House / apartment\", \"House / apartment\", \"Municipal apartment\", \"With parents\", \"House / apartment\", \"House / apartment\", \"House / apartment\", \"House / apartment\", \"House / apartment\", \"House / apartment\", \"House / apartment\", \"House / apartment\", \"House / apartment\", \"House / apartment\", \"House / apartment\", \"House / apartment\", \"House / apartment\", \"House / apartment\", \"House / apartment\", \"House / apartment\", \"House / apartment\", \"House / apartment\", \"House / apartment\", \"House / apartment\", \"House / apartment\", \"House / apartment\", \"House / apartment\", \"With parents\", \"House / apartment\", \"House / apartment\", \"House / apartment\", \"House / apartment\", \"House / apartment\", \"House / apartment\", \"House / apartment\", \"House / apartment\", \"With parents\", \"House / apartment\", \"House / apartment\", \"House / apartment\", \"House / apartment\", \"House / apartment\", \"House / apartment\", \"With parents\", \"House / apartment\", \"With parents\", \"Municipal apartment\", \"House / apartment\", \"House / apartment\", \"Municipal apartment\", \"House / apartment\", \"House / apartment\", \"House / apartment\", \"House / apartment\", \"House / apartment\", \"House / apartment\", \"House / apartment\", \"With parents\", \"House / apartment\", \"House / apartment\", \"With parents\", \"House / apartment\", \"House / apartment\", \"House / apartment\", \"House / apartment\", \"House / apartment\", \"House / apartment\", \"House / apartment\", \"Rented apartment\", \"House / apartment\", \"House / apartment\", \"House / apartment\", \"House / apartment\", \"House / apartment\", \"House / apartment\", \"House / apartment\", \"House / apartment\", \"House / apartment\", \"House / apartment\", \"House / apartment\", \"House / apartment\", \"House / apartment\", \"House / apartment\", \"House / apartment\", \"House / apartment\", \"House / apartment\", \"House / apartment\", \"House / apartment\", \"House / apartment\", \"House / apartment\", \"House / apartment\", \"House / apartment\", \"House / apartment\", \"House / apartment\", \"House / apartment\", \"House / apartment\", \"House / apartment\", \"House / apartment\", \"With parents\", \"House / apartment\", \"House / apartment\", \"House / apartment\", \"Municipal apartment\", \"House / apartment\", \"With parents\", \"House / apartment\", \"House / apartment\", \"House / apartment\", \"House / apartment\", \"House / apartment\", \"House / apartment\", \"House / apartment\", \"House / apartment\", \"House / apartment\", \"House / apartment\", \"House / apartment\", \"House / apartment\", \"House / apartment\", \"With parents\", \"House / apartment\", \"House / apartment\", \"House / apartment\", \"House / apartment\", \"House / apartment\", \"With parents\", \"House / apartment\", \"House / apartment\", \"House / apartment\", \"House / apartment\", \"House / apartment\", \"House / apartment\", \"Rented apartment\", \"House / apartment\", \"Rented apartment\", \"Municipal apartment\", \"House / apartment\", \"House / apartment\", \"House / apartment\", \"House / apartment\", \"House / apartment\", \"House / apartment\", \"House / apartment\", \"House / apartment\", \"With parents\", \"House / apartment\", \"House / apartment\", \"House / apartment\", \"House / apartment\", \"House / apartment\", \"Municipal apartment\", \"House / apartment\", \"House / apartment\", \"House / apartment\", \"House / apartment\", \"House / apartment\", \"House / apartment\", \"House / apartment\", \"House / apartment\", \"House / apartment\", \"House / apartment\", \"House / apartment\", \"House / apartment\", \"House / apartment\", \"House / apartment\", \"With parents\", \"House / apartment\", \"House / apartment\", \"House / apartment\", \"House / apartment\", \"House / apartment\", \"House / apartment\", \"House / apartment\", \"Municipal apartment\", \"Municipal apartment\", \"House / apartment\", \"With parents\", \"House / apartment\", \"Office apartment\", \"House / apartment\", \"Municipal apartment\", \"House / apartment\", \"House / apartment\", \"Office apartment\", \"House / apartment\", \"House / apartment\", \"House / apartment\", \"House / apartment\", \"With parents\", \"House / apartment\", \"House / apartment\", \"House / apartment\", \"With parents\", \"House / apartment\", \"House / apartment\", \"House / apartment\", \"House / apartment\", \"House / apartment\", \"House / apartment\", \"House / apartment\", \"House / apartment\", \"House / apartment\", \"Office apartment\", \"House / apartment\", \"House / apartment\", \"House / apartment\", \"House / apartment\", \"House / apartment\", \"House / apartment\", \"House / apartment\", \"With parents\", \"House / apartment\", \"House / apartment\", \"Municipal apartment\", \"House / apartment\", \"House / apartment\", \"House / apartment\", \"House / apartment\", \"House / apartment\", \"Municipal apartment\", \"House / apartment\", \"House / apartment\", \"House / apartment\", \"House / apartment\", \"House / apartment\", \"House / apartment\", \"House / apartment\", \"House / apartment\", \"House / apartment\", \"House / apartment\", \"House / apartment\", \"House / apartment\", \"House / apartment\", \"Co-op apartment\", \"House / apartment\", \"House / apartment\", \"House / apartment\", \"House / apartment\", \"House / apartment\", \"With parents\", \"House / apartment\", \"House / apartment\", \"Municipal apartment\", \"House / apartment\", \"House / apartment\", \"House / apartment\", \"House / apartment\", \"House / apartment\", \"Co-op apartment\", \"House / apartment\", \"House / apartment\", \"House / apartment\", \"House / apartment\", \"With parents\", \"House / apartment\", \"House / apartment\", \"House / apartment\", \"House / apartment\", \"House / apartment\", \"Rented apartment\", \"House / apartment\", \"House / apartment\", \"House / apartment\", \"Municipal apartment\", \"House / apartment\", \"House / apartment\", \"House / apartment\", \"House / apartment\", \"House / apartment\", \"House / apartment\", \"House / apartment\", \"House / apartment\", \"House / apartment\", \"House / apartment\", \"House / apartment\", \"House / apartment\", \"House / apartment\", \"Municipal apartment\", \"House / apartment\", \"House / apartment\", \"House / apartment\", \"House / apartment\", \"House / apartment\", \"House / apartment\", \"House / apartment\", \"House / apartment\", \"House / apartment\", \"House / apartment\", \"House / apartment\", \"House / apartment\", \"House / apartment\", \"House / apartment\", \"House / apartment\", \"House / apartment\", \"House / apartment\", \"House / apartment\", \"House / apartment\", \"House / apartment\", \"House / apartment\", \"House / apartment\", \"House / apartment\", \"House / apartment\", \"House / apartment\", \"With parents\", \"House / apartment\", \"House / apartment\", \"House / apartment\", \"House / apartment\", \"House / apartment\", \"House / apartment\", \"House / apartment\", \"House / apartment\", \"House / apartment\", \"House / apartment\", \"House / apartment\", \"House / apartment\", \"House / apartment\", \"House / apartment\", \"House / apartment\", \"With parents\", \"House / apartment\", \"House / apartment\", \"House / apartment\", \"House / apartment\", \"House / apartment\", \"House / apartment\", \"House / apartment\", \"House / apartment\", \"House / apartment\", \"House / apartment\", \"House / apartment\", \"House / apartment\", \"House / apartment\", \"House / apartment\", \"House / apartment\", \"House / apartment\", \"House / apartment\", \"House / apartment\", \"House / apartment\", \"House / apartment\", \"House / apartment\", \"House / apartment\", \"House / apartment\", \"House / apartment\", \"House / apartment\", \"House / apartment\", \"With parents\", \"House / apartment\", \"House / apartment\", \"House / apartment\", \"House / apartment\", \"House / apartment\", \"House / apartment\", \"House / apartment\", \"House / apartment\", \"House / apartment\", \"House / apartment\", \"With parents\", \"House / apartment\", \"House / apartment\", \"House / apartment\", \"House / apartment\", \"House / apartment\", \"House / apartment\", \"House / apartment\", \"House / apartment\", \"House / apartment\", \"House / apartment\", \"Office apartment\", \"House / apartment\", \"House / apartment\", \"Office apartment\", \"House / apartment\", \"House / apartment\", \"House / apartment\", \"House / apartment\", \"House / apartment\", \"House / apartment\", \"House / apartment\", \"House / apartment\", \"House / apartment\", \"House / apartment\", \"House / apartment\", \"Municipal apartment\", \"House / apartment\", \"House / apartment\", \"House / apartment\", \"Municipal apartment\", \"House / apartment\", \"House / apartment\", \"House / apartment\", \"House / apartment\", \"House / apartment\", \"House / apartment\", \"House / apartment\", \"House / apartment\", \"House / apartment\", \"House / apartment\", \"House / apartment\", \"House / apartment\", \"House / apartment\", \"House / apartment\", \"House / apartment\", \"House / apartment\", \"House / apartment\", \"House / apartment\", \"Municipal apartment\", \"Office apartment\", \"House / apartment\", \"With parents\", \"House / apartment\", \"House / apartment\", \"House / apartment\", \"Office apartment\", \"House / apartment\", \"House / apartment\", \"House / apartment\", \"House / apartment\", \"House / apartment\", \"Office apartment\", \"House / apartment\", \"House / apartment\", \"With parents\", \"House / apartment\", \"House / apartment\", \"House / apartment\", \"House / apartment\", \"House / apartment\", \"House / apartment\", \"House / apartment\", \"House / apartment\", \"House / apartment\", \"Municipal apartment\", \"House / apartment\", \"House / apartment\", \"House / apartment\", \"House / apartment\", \"House / apartment\", \"House / apartment\", \"House / apartment\", \"House / apartment\", \"House / apartment\", \"House / apartment\", \"House / apartment\", \"Rented apartment\", \"House / apartment\", \"House / apartment\", \"House / apartment\", \"House / apartment\", \"House / apartment\", \"With parents\", \"House / apartment\", \"House / apartment\", \"House / apartment\", \"House / apartment\", \"House / apartment\", \"House / apartment\", \"House / apartment\", \"House / apartment\", \"House / apartment\", \"House / apartment\", \"House / apartment\", \"House / apartment\", \"House / apartment\", \"House / apartment\", \"House / apartment\", \"House / apartment\", \"House / apartment\", \"House / apartment\", \"House / apartment\", \"House / apartment\", \"House / apartment\", \"House / apartment\", \"House / apartment\", \"House / apartment\", \"House / apartment\", \"House / apartment\", \"House / apartment\", \"House / apartment\", \"House / apartment\", \"House / apartment\", \"House / apartment\", \"With parents\", \"House / apartment\", \"Office apartment\", \"With parents\", \"House / apartment\", \"House / apartment\", \"House / apartment\", \"House / apartment\", \"House / apartment\", \"House / apartment\", \"House / apartment\", \"House / apartment\", \"House / apartment\", \"House / apartment\", \"With parents\", \"House / apartment\", \"House / apartment\", \"House / apartment\", \"House / apartment\", \"House / apartment\", \"House / apartment\", \"House / apartment\", \"House / apartment\", \"House / apartment\", \"House / apartment\", \"House / apartment\", \"House / apartment\", \"House / apartment\", \"House / apartment\", \"House / apartment\", \"House / apartment\", \"House / apartment\", \"House / apartment\", \"House / apartment\", \"House / apartment\", \"With parents\", \"House / apartment\", \"House / apartment\", \"House / apartment\", \"House / apartment\", \"House / apartment\", \"House / apartment\", \"With parents\", \"House / apartment\", \"House / apartment\", \"House / apartment\", \"House / apartment\", \"House / apartment\", \"Municipal apartment\", \"House / apartment\", \"House / apartment\", \"Municipal apartment\", \"House / apartment\", \"House / apartment\", \"House / apartment\", \"House / apartment\", \"House / apartment\", \"House / apartment\", \"House / apartment\", \"House / apartment\", \"House / apartment\", \"House / apartment\", \"House / apartment\", \"House / apartment\", \"House / apartment\", \"House / apartment\", \"Office apartment\", \"House / apartment\", \"House / apartment\", \"House / apartment\", \"House / apartment\", \"House / apartment\", \"House / apartment\", \"Rented apartment\", \"House / apartment\", \"Municipal apartment\", \"Municipal apartment\", \"House / apartment\", \"House / apartment\", \"House / apartment\", \"House / apartment\", \"House / apartment\", \"House / apartment\", \"House / apartment\", \"House / apartment\", \"House / apartment\", \"House / apartment\", \"House / apartment\", \"House / apartment\", \"With parents\", \"With parents\", \"House / apartment\", \"House / apartment\", \"House / apartment\", \"House / apartment\", \"House / apartment\", \"House / apartment\", \"House / apartment\", \"House / apartment\", \"House / apartment\", \"House / apartment\", \"House / apartment\", \"House / apartment\", \"House / apartment\", \"House / apartment\", \"House / apartment\", \"House / apartment\", \"House / apartment\", \"House / apartment\", \"House / apartment\", \"House / apartment\", \"House / apartment\", \"House / apartment\", \"House / apartment\", \"House / apartment\", \"House / apartment\", \"Rented apartment\", \"House / apartment\", \"House / apartment\", \"House / apartment\", \"With parents\", \"House / apartment\", \"Rented apartment\", \"House / apartment\", \"House / apartment\", \"House / apartment\", \"House / apartment\", \"House / apartment\", \"House / apartment\", \"House / apartment\", \"House / apartment\", \"House / apartment\", \"House / apartment\", \"House / apartment\", \"House / apartment\", \"House / apartment\", \"House / apartment\", \"House / apartment\", \"House / apartment\", \"House / apartment\", \"House / apartment\", \"House / apartment\", \"House / apartment\", \"Rented apartment\", \"House / apartment\", \"House / apartment\", \"House / apartment\", \"House / apartment\", \"House / apartment\", \"House / apartment\", \"House / apartment\", \"House / apartment\", \"House / apartment\", \"House / apartment\", \"House / apartment\", \"House / apartment\", \"With parents\", \"House / apartment\", \"House / apartment\", \"House / apartment\", \"Co-op apartment\", \"House / apartment\", \"House / apartment\", \"House / apartment\", \"House / apartment\", \"House / apartment\", \"House / apartment\", \"Municipal apartment\", \"House / apartment\", \"House / apartment\", \"House / apartment\", \"House / apartment\", \"House / apartment\", \"With parents\", \"House / apartment\", \"House / apartment\", \"With parents\", \"House / apartment\", \"House / apartment\", \"House / apartment\", \"House / apartment\", \"House / apartment\", \"House / apartment\", \"House / apartment\", \"House / apartment\", \"With parents\", \"House / apartment\", \"House / apartment\", \"House / apartment\", \"House / apartment\", \"Municipal apartment\", \"House / apartment\", \"House / apartment\", \"House / apartment\", \"House / apartment\", \"House / apartment\", \"House / apartment\", \"House / apartment\", \"House / apartment\", \"House / apartment\", \"House / apartment\", \"House / apartment\", \"With parents\", \"House / apartment\", \"Co-op apartment\", \"House / apartment\", \"Municipal apartment\", \"House / apartment\", \"House / apartment\", \"House / apartment\", \"House / apartment\", \"House / apartment\", \"House / apartment\", \"House / apartment\", \"House / apartment\", \"House / apartment\", \"House / apartment\", \"House / apartment\", \"House / apartment\", \"House / apartment\", \"House / apartment\", \"House / apartment\", \"House / apartment\", \"House / apartment\", \"House / apartment\", \"House / apartment\", \"House / apartment\", \"House / apartment\", \"House / apartment\", \"With parents\", \"House / apartment\", \"Rented apartment\", \"House / apartment\", \"House / apartment\", \"House / apartment\", \"House / apartment\", \"House / apartment\", \"House / apartment\", \"House / apartment\", \"House / apartment\", \"House / apartment\", \"With parents\", \"House / apartment\", \"House / apartment\", \"House / apartment\", \"Municipal apartment\", \"With parents\", \"House / apartment\", \"House / apartment\", \"House / apartment\", \"House / apartment\", \"House / apartment\", \"House / apartment\", \"House / apartment\", \"Municipal apartment\", \"House / apartment\", \"Municipal apartment\", \"House / apartment\", \"House / apartment\", \"House / apartment\", \"House / apartment\", \"House / apartment\", \"House / apartment\", \"House / apartment\", \"House / apartment\", \"House / apartment\", \"House / apartment\", \"House / apartment\", \"House / apartment\", \"House / apartment\", \"House / apartment\", \"House / apartment\", \"House / apartment\", \"Municipal apartment\", \"House / apartment\", \"House / apartment\", \"House / apartment\", \"House / apartment\", \"House / apartment\", \"House / apartment\", \"House / apartment\", \"House / apartment\", \"House / apartment\", \"House / apartment\", \"Rented apartment\", \"House / apartment\", \"With parents\", \"House / apartment\", \"House / apartment\", \"House / apartment\", \"House / apartment\", \"House / apartment\", \"House / apartment\", \"House / apartment\", \"With parents\", \"House / apartment\", \"House / apartment\", \"House / apartment\", \"House / apartment\", \"With parents\", \"House / apartment\", \"House / apartment\", \"House / apartment\", \"House / apartment\", \"House / apartment\", \"House / apartment\", \"House / apartment\", \"House / apartment\", \"House / apartment\", \"With parents\", \"With parents\", \"House / apartment\", \"With parents\", \"House / apartment\", \"House / apartment\", \"House / apartment\", \"House / apartment\", \"House / apartment\", \"House / apartment\", \"House / apartment\", \"House / apartment\", \"House / apartment\", \"House / apartment\", \"House / apartment\", \"House / apartment\", \"House / apartment\", \"House / apartment\", \"House / apartment\", \"House / apartment\", \"House / apartment\", \"House / apartment\", \"House / apartment\", \"House / apartment\", \"House / apartment\", \"House / apartment\", \"With parents\", \"House / apartment\", \"House / apartment\", \"House / apartment\", \"House / apartment\", \"House / apartment\", \"House / apartment\", \"House / apartment\", \"House / apartment\", \"House / apartment\", \"House / apartment\", \"House / apartment\", \"House / apartment\", \"House / apartment\", \"House / apartment\", \"House / apartment\", \"House / apartment\", \"House / apartment\", \"House / apartment\", \"House / apartment\", \"House / apartment\", \"House / apartment\", \"House / apartment\", \"House / apartment\", \"House / apartment\", \"House / apartment\", \"House / apartment\", \"House / apartment\", \"House / apartment\", \"House / apartment\", \"House / apartment\", \"House / apartment\", \"House / apartment\", \"House / apartment\", \"House / apartment\", \"House / apartment\", \"House / apartment\", \"House / apartment\", \"House / apartment\", \"House / apartment\", \"House / apartment\", \"House / apartment\", \"House / apartment\", \"House / apartment\", \"House / apartment\", \"House / apartment\", \"House / apartment\", \"House / apartment\", \"House / apartment\", \"With parents\", \"House / apartment\", \"House / apartment\", \"House / apartment\", \"House / apartment\", \"House / apartment\", \"House / apartment\", \"House / apartment\", \"House / apartment\", \"House / apartment\", \"House / apartment\", \"Municipal apartment\", \"House / apartment\", \"House / apartment\", \"House / apartment\", \"House / apartment\", \"House / apartment\", \"House / apartment\", \"House / apartment\", \"House / apartment\", \"House / apartment\", \"House / apartment\", \"House / apartment\", \"Municipal apartment\", \"House / apartment\", \"House / apartment\", \"House / apartment\", \"House / apartment\", \"House / apartment\", \"House / apartment\", \"House / apartment\", \"House / apartment\", \"Rented apartment\", \"House / apartment\", \"House / apartment\", \"House / apartment\", \"House / apartment\", \"House / apartment\", \"House / apartment\", \"House / apartment\", \"House / apartment\", \"House / apartment\", \"House / apartment\", \"House / apartment\", \"House / apartment\", \"House / apartment\", \"House / apartment\", \"House / apartment\", \"House / apartment\", \"House / apartment\", \"House / apartment\", \"House / apartment\", \"House / apartment\", \"House / apartment\", \"House / apartment\", \"House / apartment\", \"House / apartment\", \"House / apartment\", \"House / apartment\", \"With parents\", \"House / apartment\", \"House / apartment\", \"House / apartment\", \"With parents\", \"House / apartment\", \"House / apartment\", \"With parents\", \"House / apartment\", \"House / apartment\", \"House / apartment\", \"House / apartment\", \"House / apartment\", \"House / apartment\", \"With parents\", \"House / apartment\", \"House / apartment\", \"Municipal apartment\", \"House / apartment\", \"House / apartment\", \"House / apartment\", \"House / apartment\", \"House / apartment\", \"Municipal apartment\", \"House / apartment\", \"House / apartment\", \"House / apartment\", \"House / apartment\", \"House / apartment\", \"House / apartment\", \"House / apartment\", \"House / apartment\", \"House / apartment\", \"House / apartment\", \"House / apartment\", \"House / apartment\", \"With parents\", \"House / apartment\", \"House / apartment\", \"House / apartment\", \"House / apartment\", \"House / apartment\", \"House / apartment\", \"House / apartment\", \"House / apartment\", \"House / apartment\", \"House / apartment\", \"House / apartment\", \"Rented apartment\", \"With parents\", \"House / apartment\", \"House / apartment\", \"Municipal apartment\", \"House / apartment\", \"House / apartment\", \"House / apartment\", \"House / apartment\", \"House / apartment\", \"House / apartment\", \"House / apartment\", \"House / apartment\", \"House / apartment\", \"With parents\", \"House / apartment\", \"House / apartment\", \"House / apartment\", \"House / apartment\", \"House / apartment\", \"With parents\", \"House / apartment\", \"House / apartment\", \"House / apartment\", \"House / apartment\", \"House / apartment\", \"House / apartment\", \"House / apartment\", \"House / apartment\", \"House / apartment\", \"House / apartment\", \"House / apartment\", \"House / apartment\", \"House / apartment\", \"House / apartment\", \"House / apartment\", \"House / apartment\", \"House / apartment\", \"House / apartment\", \"House / apartment\", \"House / apartment\", \"House / apartment\", \"House / apartment\", \"House / apartment\", \"House / apartment\", \"Municipal apartment\", \"House / apartment\", \"House / apartment\", \"House / apartment\", \"House / apartment\", \"House / apartment\", \"House / apartment\", \"House / apartment\", \"House / apartment\", \"House / apartment\", \"House / apartment\", \"House / apartment\", \"House / apartment\", \"House / apartment\", \"House / apartment\", \"Co-op apartment\", \"House / apartment\", \"House / apartment\", \"House / apartment\", \"Office apartment\", \"House / apartment\", \"With parents\", \"House / apartment\", \"House / apartment\", \"House / apartment\", \"House / apartment\", \"House / apartment\", \"House / apartment\", \"House / apartment\", \"House / apartment\", \"House / apartment\", \"House / apartment\", \"House / apartment\", \"House / apartment\", \"House / apartment\", \"House / apartment\", \"House / apartment\", \"House / apartment\", \"House / apartment\", \"House / apartment\", \"House / apartment\", \"House / apartment\", \"House / apartment\", \"House / apartment\", \"House / apartment\", \"House / apartment\", \"House / apartment\", \"House / apartment\", \"House / apartment\", \"House / apartment\", \"Co-op apartment\", \"House / apartment\", \"Municipal apartment\", \"House / apartment\", \"House / apartment\", \"House / apartment\", \"House / apartment\", \"House / apartment\", \"House / apartment\", \"Rented apartment\", \"House / apartment\", \"House / apartment\", \"Rented apartment\", \"House / apartment\", \"House / apartment\", \"House / apartment\", \"House / apartment\", \"House / apartment\", \"Municipal apartment\", \"House / apartment\", \"House / apartment\", \"Rented apartment\", \"House / apartment\", \"House / apartment\", \"House / apartment\", \"House / apartment\", \"House / apartment\", \"House / apartment\", \"House / apartment\", \"With parents\", \"House / apartment\", \"House / apartment\", \"House / apartment\", \"House / apartment\", \"House / apartment\", \"Municipal apartment\", \"House / apartment\", \"House / apartment\", \"House / apartment\", \"House / apartment\", \"House / apartment\", \"House / apartment\", \"House / apartment\", \"House / apartment\", \"House / apartment\", \"House / apartment\", \"House / apartment\", \"House / apartment\", \"House / apartment\", \"House / apartment\", \"House / apartment\", \"House / apartment\", \"House / apartment\", \"House / apartment\", \"House / apartment\", \"Municipal apartment\", \"House / apartment\", \"House / apartment\", \"House / apartment\", \"House / apartment\", \"With parents\", \"House / apartment\", \"Municipal apartment\", \"With parents\", \"House / apartment\", \"House / apartment\", \"House / apartment\", \"House / apartment\", \"House / apartment\", \"House / apartment\", \"House / apartment\", \"House / apartment\", \"House / apartment\", \"House / apartment\", \"House / apartment\", \"House / apartment\", \"House / apartment\", \"House / apartment\", \"House / apartment\", \"House / apartment\", \"House / apartment\", \"House / apartment\", \"House / apartment\", \"House / apartment\", \"Rented apartment\", \"House / apartment\", \"House / apartment\", \"House / apartment\", \"House / apartment\", \"House / apartment\", \"House / apartment\", \"House / apartment\", \"House / apartment\", \"House / apartment\", \"House / apartment\", \"House / apartment\", \"House / apartment\", \"House / apartment\", \"Rented apartment\", \"House / apartment\", \"House / apartment\", \"House / apartment\", \"House / apartment\", \"With parents\", \"House / apartment\", \"House / apartment\", \"House / apartment\", \"House / apartment\", \"House / apartment\", \"House / apartment\", \"House / apartment\", \"House / apartment\", \"Office apartment\", \"House / apartment\", \"House / apartment\", \"House / apartment\", \"House / apartment\", \"House / apartment\", \"House / apartment\", \"House / apartment\", \"House / apartment\", \"Municipal apartment\", \"House / apartment\", \"House / apartment\", \"House / apartment\", \"House / apartment\", \"House / apartment\", \"House / apartment\", \"House / apartment\", \"House / apartment\", \"House / apartment\", \"Office apartment\", \"House / apartment\", \"House / apartment\", \"House / apartment\", \"House / apartment\", \"House / apartment\", \"House / apartment\", \"House / apartment\", \"House / apartment\", \"House / apartment\", \"House / apartment\", \"House / apartment\", \"House / apartment\", \"House / apartment\", \"House / apartment\", \"With parents\", \"House / apartment\", \"House / apartment\", \"House / apartment\", \"House / apartment\", \"Municipal apartment\", \"House / apartment\", \"House / apartment\", \"House / apartment\", \"House / apartment\", \"House / apartment\", \"House / apartment\", \"House / apartment\", \"House / apartment\", \"House / apartment\", \"With parents\", \"House / apartment\", \"House / apartment\", \"House / apartment\", \"House / apartment\", \"House / apartment\", \"House / apartment\", \"Co-op apartment\", \"House / apartment\", \"House / apartment\", \"House / apartment\", \"Municipal apartment\", \"House / apartment\", \"House / apartment\", \"House / apartment\", \"House / apartment\", \"House / apartment\", \"House / apartment\", \"House / apartment\", \"House / apartment\", \"Office apartment\", \"Office apartment\", \"Co-op apartment\", \"House / apartment\", \"House / apartment\", \"House / apartment\", \"House / apartment\", \"House / apartment\", \"House / apartment\", \"House / apartment\", \"House / apartment\", \"House / apartment\", \"Co-op apartment\", \"House / apartment\", \"House / apartment\", \"House / apartment\", \"House / apartment\", \"House / apartment\", \"House / apartment\", \"House / apartment\", \"House / apartment\", \"House / apartment\", \"House / apartment\", \"House / apartment\", \"House / apartment\", \"House / apartment\", \"House / apartment\", \"House / apartment\", \"With parents\", \"House / apartment\", \"House / apartment\", \"House / apartment\", \"House / apartment\", \"House / apartment\", \"House / apartment\", \"House / apartment\", \"House / apartment\", \"House / apartment\", \"House / apartment\", \"House / apartment\", \"House / apartment\", \"House / apartment\", \"House / apartment\", \"House / apartment\", \"House / apartment\", \"House / apartment\", \"House / apartment\", \"House / apartment\", \"House / apartment\", \"House / apartment\", \"House / apartment\", \"House / apartment\", \"House / apartment\", \"House / apartment\", \"With parents\", \"House / apartment\", \"House / apartment\", \"House / apartment\", \"House / apartment\", \"House / apartment\", \"House / apartment\", \"House / apartment\", \"House / apartment\", \"House / apartment\", \"House / apartment\", \"House / apartment\", \"House / apartment\", \"House / apartment\", \"House / apartment\", \"House / apartment\", \"With parents\", \"House / apartment\", \"House / apartment\", \"House / apartment\", \"House / apartment\", \"House / apartment\", \"House / apartment\", \"House / apartment\", \"House / apartment\", \"Municipal apartment\", \"House / apartment\", \"House / apartment\", \"House / apartment\", \"House / apartment\", \"House / apartment\", \"House / apartment\", \"House / apartment\", \"House / apartment\", \"House / apartment\", \"House / apartment\", \"House / apartment\", \"House / apartment\", \"House / apartment\", \"House / apartment\", \"House / apartment\", \"House / apartment\", \"House / apartment\", \"House / apartment\", \"House / apartment\", \"House / apartment\", \"House / apartment\", \"House / apartment\", \"House / apartment\", \"House / apartment\", \"House / apartment\", \"House / apartment\", \"House / apartment\", \"House / apartment\", \"House / apartment\", \"House / apartment\", \"House / apartment\", \"House / apartment\", \"House / apartment\", \"House / apartment\", \"House / apartment\", \"House / apartment\", \"House / apartment\", \"House / apartment\", \"House / apartment\", \"House / apartment\", \"House / apartment\", \"House / apartment\", \"Municipal apartment\", \"House / apartment\", \"Municipal apartment\", \"House / apartment\", \"House / apartment\", \"With parents\", \"House / apartment\", \"House / apartment\", \"House / apartment\", \"With parents\", \"House / apartment\", \"House / apartment\", \"House / apartment\", \"House / apartment\", \"House / apartment\", \"House / apartment\", \"House / apartment\", \"House / apartment\", \"House / apartment\", \"House / apartment\", \"House / apartment\", \"House / apartment\", \"House / apartment\", \"House / apartment\", \"House / apartment\", \"House / apartment\", \"House / apartment\", \"House / apartment\", \"House / apartment\", \"Rented apartment\", \"House / apartment\", \"House / apartment\", \"House / apartment\", \"House / apartment\", \"House / apartment\", \"House / apartment\", \"House / apartment\", \"Municipal apartment\", \"House / apartment\", \"House / apartment\", \"House / apartment\", \"House / apartment\", \"House / apartment\", \"House / apartment\", \"With parents\", \"House / apartment\", \"House / apartment\", \"House / apartment\", \"House / apartment\", \"House / apartment\", \"House / apartment\", \"With parents\", \"House / apartment\", \"House / apartment\", \"House / apartment\", \"House / apartment\", \"House / apartment\", \"House / apartment\", \"House / apartment\", \"House / apartment\", \"Office apartment\", \"House / apartment\", \"House / apartment\", \"House / apartment\", \"House / apartment\", \"House / apartment\", \"House / apartment\", \"House / apartment\", \"House / apartment\", \"House / apartment\", \"House / apartment\", \"House / apartment\", \"With parents\", \"House / apartment\", \"House / apartment\", \"House / apartment\", \"House / apartment\", \"House / apartment\", \"House / apartment\", \"House / apartment\", \"House / apartment\", \"With parents\", \"House / apartment\", \"House / apartment\", \"With parents\", \"House / apartment\", \"House / apartment\", \"House / apartment\", \"House / apartment\", \"House / apartment\", \"House / apartment\", \"House / apartment\", \"House / apartment\", \"Office apartment\", \"House / apartment\", \"Office apartment\", \"House / apartment\", \"House / apartment\", \"House / apartment\", \"With parents\", \"House / apartment\", \"With parents\", \"House / apartment\", \"House / apartment\", \"House / apartment\", \"House / apartment\", \"Rented apartment\", \"House / apartment\", \"House / apartment\", \"House / apartment\", \"House / apartment\", \"House / apartment\", \"House / apartment\", \"House / apartment\", \"House / apartment\", \"House / apartment\", \"House / apartment\", \"House / apartment\", \"House / apartment\", \"House / apartment\", \"With parents\", \"House / apartment\", \"House / apartment\", \"House / apartment\", \"House / apartment\", \"House / apartment\", \"House / apartment\", \"House / apartment\", \"House / apartment\", \"House / apartment\", \"House / apartment\", \"House / apartment\", \"House / apartment\", \"House / apartment\", \"House / apartment\", \"Municipal apartment\", \"House / apartment\", \"House / apartment\", \"House / apartment\", \"House / apartment\", \"House / apartment\", \"Co-op apartment\", \"House / apartment\", \"House / apartment\", \"With parents\", \"House / apartment\", \"House / apartment\", \"House / apartment\", \"House / apartment\", \"House / apartment\", \"House / apartment\", \"House / apartment\", \"House / apartment\", \"House / apartment\", \"With parents\", \"House / apartment\", \"House / apartment\", \"House / apartment\", \"House / apartment\", \"House / apartment\", \"House / apartment\", \"House / apartment\", \"House / apartment\", \"House / apartment\", \"House / apartment\", \"House / apartment\", \"House / apartment\", \"House / apartment\", \"House / apartment\", \"House / apartment\", \"House / apartment\", \"House / apartment\", \"House / apartment\", \"House / apartment\", \"House / apartment\", \"House / apartment\", \"House / apartment\", \"House / apartment\", \"House / apartment\", \"House / apartment\", \"With parents\", \"Rented apartment\", \"House / apartment\", \"House / apartment\", \"House / apartment\", \"House / apartment\", \"With parents\", \"House / apartment\", \"With parents\", \"Office apartment\", \"House / apartment\", \"House / apartment\", \"House / apartment\", \"House / apartment\", \"House / apartment\", \"House / apartment\", \"House / apartment\", \"House / apartment\", \"House / apartment\", \"House / apartment\", \"House / apartment\", \"House / apartment\", \"House / apartment\", \"House / apartment\", \"House / apartment\", \"House / apartment\", \"House / apartment\", \"House / apartment\", \"House / apartment\", \"House / apartment\", \"House / apartment\", \"House / apartment\", \"With parents\", \"House / apartment\", \"Municipal apartment\", \"House / apartment\", \"House / apartment\", \"Municipal apartment\", \"With parents\", \"House / apartment\", \"House / apartment\", \"House / apartment\", \"House / apartment\", \"Office apartment\", \"House / apartment\", \"With parents\", \"House / apartment\", \"House / apartment\", \"House / apartment\", \"House / apartment\", \"House / apartment\", \"House / apartment\", \"House / apartment\", \"Rented apartment\", \"House / apartment\", \"House / apartment\", \"House / apartment\", \"House / apartment\", \"Rented apartment\", \"House / apartment\", \"House / apartment\", \"House / apartment\", \"House / apartment\", \"With parents\", \"House / apartment\", \"House / apartment\", \"House / apartment\", \"House / apartment\", \"House / apartment\", \"Municipal apartment\", \"House / apartment\", \"House / apartment\", \"House / apartment\", \"House / apartment\", \"House / apartment\", \"House / apartment\", \"House / apartment\", \"House / apartment\", \"House / apartment\", \"House / apartment\", \"House / apartment\", \"House / apartment\", \"House / apartment\", \"House / apartment\", \"Municipal apartment\", \"House / apartment\", \"House / apartment\", \"House / apartment\", \"House / apartment\", \"House / apartment\", \"House / apartment\", \"House / apartment\", \"House / apartment\", \"House / apartment\", \"House / apartment\", \"House / apartment\", \"With parents\", \"House / apartment\", \"Rented apartment\", \"House / apartment\", \"House / apartment\", \"House / apartment\", \"House / apartment\", \"House / apartment\", \"House / apartment\", \"House / apartment\", \"House / apartment\", \"House / apartment\", \"House / apartment\", \"House / apartment\", \"House / apartment\", \"House / apartment\", \"House / apartment\", \"House / apartment\", \"House / apartment\", \"House / apartment\", \"House / apartment\", \"House / apartment\", \"House / apartment\", \"House / apartment\", \"House / apartment\", \"House / apartment\", \"House / apartment\", \"House / apartment\", \"House / apartment\", \"House / apartment\", \"Office apartment\", \"House / apartment\", \"House / apartment\", \"House / apartment\", \"House / apartment\", \"House / apartment\", \"Municipal apartment\", \"House / apartment\", \"House / apartment\", \"Rented apartment\", \"House / apartment\", \"House / apartment\", \"House / apartment\", \"House / apartment\", \"House / apartment\", \"House / apartment\", \"House / apartment\", \"House / apartment\", \"House / apartment\", \"House / apartment\", \"House / apartment\", \"House / apartment\", \"House / apartment\", \"House / apartment\", \"House / apartment\", \"House / apartment\", \"House / apartment\", \"Co-op apartment\", \"With parents\", \"House / apartment\", \"House / apartment\", \"House / apartment\", \"House / apartment\", \"House / apartment\", \"House / apartment\", \"House / apartment\", \"House / apartment\", \"House / apartment\", \"House / apartment\", \"House / apartment\", \"House / apartment\", \"House / apartment\", \"House / apartment\", \"House / apartment\", \"Municipal apartment\", \"House / apartment\", \"House / apartment\", \"House / apartment\", \"House / apartment\", \"House / apartment\", \"House / apartment\", \"House / apartment\", \"House / apartment\", \"House / apartment\", \"With parents\", \"House / apartment\", \"House / apartment\", \"House / apartment\", \"House / apartment\", \"House / apartment\", \"House / apartment\", \"House / apartment\", \"Rented apartment\", \"House / apartment\", \"House / apartment\", \"House / apartment\", \"Co-op apartment\", \"House / apartment\", \"House / apartment\", \"House / apartment\", \"House / apartment\", \"Municipal apartment\", \"Office apartment\", \"House / apartment\", \"House / apartment\", \"Rented apartment\", \"House / apartment\", \"House / apartment\", \"House / apartment\", \"House / apartment\", \"House / apartment\", \"House / apartment\", \"House / apartment\", \"With parents\", \"House / apartment\", \"House / apartment\", \"House / apartment\", \"House / apartment\", \"House / apartment\", \"House / apartment\", \"House / apartment\", \"House / apartment\", \"House / apartment\", \"House / apartment\", \"House / apartment\", \"House / apartment\", \"House / apartment\", \"House / apartment\", \"House / apartment\", \"House / apartment\", \"House / apartment\", \"House / apartment\", \"House / apartment\", \"Rented apartment\", \"House / apartment\", \"House / apartment\", \"House / apartment\", \"House / apartment\", \"House / apartment\", \"House / apartment\", \"House / apartment\", \"House / apartment\", \"House / apartment\", \"House / apartment\", \"House / apartment\", \"House / apartment\", \"House / apartment\", \"House / apartment\", \"House / apartment\", \"House / apartment\", \"House / apartment\", \"House / apartment\", \"House / apartment\", \"With parents\", \"House / apartment\", \"Co-op apartment\", \"House / apartment\", \"House / apartment\", \"House / apartment\", \"House / apartment\", \"House / apartment\", \"House / apartment\", \"With parents\", \"House / apartment\", \"House / apartment\", \"House / apartment\", \"House / apartment\", \"House / apartment\", \"House / apartment\", \"House / apartment\", \"House / apartment\", \"House / apartment\", \"House / apartment\", \"House / apartment\", \"House / apartment\", \"House / apartment\", \"House / apartment\", \"House / apartment\", \"House / apartment\", \"House / apartment\", \"With parents\", \"House / apartment\", \"House / apartment\", \"House / apartment\", \"With parents\", \"Municipal apartment\", \"House / apartment\", \"House / apartment\", \"House / apartment\", \"House / apartment\", \"House / apartment\", \"House / apartment\", \"Co-op apartment\", \"House / apartment\", \"House / apartment\", \"House / apartment\", \"House / apartment\", \"House / apartment\", \"House / apartment\", \"House / apartment\", \"House / apartment\", \"House / apartment\", \"House / apartment\", \"House / apartment\", \"House / apartment\", \"House / apartment\", \"With parents\", \"House / apartment\", \"House / apartment\", \"House / apartment\", \"With parents\", \"House / apartment\", \"With parents\", \"House / apartment\", \"House / apartment\", \"Office apartment\", \"House / apartment\", \"House / apartment\", \"House / apartment\", \"House / apartment\", \"House / apartment\", \"House / apartment\", \"House / apartment\", \"House / apartment\", \"House / apartment\", \"House / apartment\", \"House / apartment\", \"Office apartment\", \"House / apartment\", \"House / apartment\", \"House / apartment\", \"House / apartment\", \"House / apartment\", \"House / apartment\", \"House / apartment\", \"Rented apartment\", \"House / apartment\", \"House / apartment\", \"House / apartment\", \"House / apartment\", \"House / apartment\", \"House / apartment\", \"House / apartment\", \"House / apartment\", \"House / apartment\", \"House / apartment\", \"House / apartment\", \"House / apartment\", \"House / apartment\", \"House / apartment\", \"House / apartment\", \"House / apartment\", \"House / apartment\", \"House / apartment\", \"House / apartment\", \"House / apartment\", \"House / apartment\", \"Rented apartment\", \"House / apartment\", \"House / apartment\", \"House / apartment\", \"House / apartment\", \"House / apartment\", \"House / apartment\", \"House / apartment\", \"House / apartment\", \"House / apartment\", \"House / apartment\", \"House / apartment\", \"House / apartment\", \"House / apartment\", \"With parents\", \"House / apartment\", \"House / apartment\", \"House / apartment\", \"House / apartment\", \"House / apartment\", \"House / apartment\", \"House / apartment\", \"House / apartment\", \"House / apartment\", \"House / apartment\", \"House / apartment\", \"House / apartment\", \"House / apartment\", \"House / apartment\", \"House / apartment\", \"House / apartment\", \"House / apartment\", \"House / apartment\", \"House / apartment\", \"House / apartment\", \"House / apartment\", \"House / apartment\", \"With parents\", \"House / apartment\", \"House / apartment\", \"House / apartment\", \"House / apartment\", \"Municipal apartment\", \"With parents\", \"House / apartment\", \"House / apartment\", \"Municipal apartment\", \"House / apartment\", \"House / apartment\", \"With parents\", \"House / apartment\", \"House / apartment\", \"Municipal apartment\", \"House / apartment\", \"House / apartment\", \"House / apartment\", \"House / apartment\", \"House / apartment\", \"House / apartment\", \"House / apartment\", \"House / apartment\", \"Office apartment\", \"House / apartment\", \"House / apartment\", \"House / apartment\", \"House / apartment\", \"Rented apartment\", \"House / apartment\", \"House / apartment\", \"House / apartment\", \"House / apartment\", \"House / apartment\", \"House / apartment\", \"House / apartment\", \"House / apartment\", \"House / apartment\", \"House / apartment\", \"House / apartment\", \"House / apartment\", \"House / apartment\", \"House / apartment\", \"House / apartment\", \"House / apartment\", \"House / apartment\", \"House / apartment\", \"With parents\", \"House / apartment\", \"With parents\", \"House / apartment\", \"House / apartment\", \"House / apartment\", \"House / apartment\", \"House / apartment\", \"House / apartment\", \"House / apartment\", \"With parents\", \"House / apartment\", \"House / apartment\", \"House / apartment\", \"House / apartment\", \"House / apartment\", \"With parents\", \"House / apartment\", \"House / apartment\", \"House / apartment\", \"House / apartment\", \"House / apartment\", \"House / apartment\", \"House / apartment\", \"House / apartment\", \"House / apartment\", \"House / apartment\", \"House / apartment\", \"House / apartment\", \"House / apartment\", \"House / apartment\", \"House / apartment\", \"House / apartment\", \"House / apartment\", \"House / apartment\", \"House / apartment\", \"House / apartment\", \"House / apartment\", \"House / apartment\", \"House / apartment\", \"House / apartment\", \"House / apartment\", \"House / apartment\", \"House / apartment\", \"House / apartment\", \"House / apartment\", \"House / apartment\", \"Rented apartment\", \"House / apartment\", \"House / apartment\", \"House / apartment\", \"House / apartment\", \"House / apartment\", \"House / apartment\", \"Municipal apartment\", \"House / apartment\", \"House / apartment\", \"House / apartment\", \"House / apartment\", \"House / apartment\", \"Co-op apartment\", \"House / apartment\", \"House / apartment\", \"House / apartment\", \"House / apartment\", \"House / apartment\", \"House / apartment\", \"House / apartment\", \"House / apartment\", \"House / apartment\", \"House / apartment\", \"House / apartment\", \"House / apartment\", \"House / apartment\", \"House / apartment\", \"House / apartment\", \"House / apartment\", \"House / apartment\", \"House / apartment\", \"House / apartment\", \"With parents\", \"House / apartment\", \"House / apartment\", \"House / apartment\", \"House / apartment\", \"House / apartment\", \"House / apartment\", \"House / apartment\", \"House / apartment\", \"House / apartment\", \"House / apartment\", \"House / apartment\", \"With parents\", \"House / apartment\", \"House / apartment\", \"With parents\", \"House / apartment\", \"House / apartment\", \"House / apartment\", \"House / apartment\", \"House / apartment\", \"House / apartment\", \"House / apartment\", \"House / apartment\", \"House / apartment\", \"House / apartment\", \"House / apartment\", \"House / apartment\", \"House / apartment\", \"House / apartment\", \"House / apartment\", \"House / apartment\", \"House / apartment\", \"House / apartment\", \"House / apartment\", \"Municipal apartment\", \"House / apartment\", \"House / apartment\", \"House / apartment\", \"House / apartment\", \"House / apartment\", \"House / apartment\", \"Rented apartment\", \"House / apartment\", \"House / apartment\", \"House / apartment\", \"House / apartment\", \"House / apartment\", \"With parents\", \"House / apartment\", \"House / apartment\", \"House / apartment\", \"House / apartment\", \"House / apartment\", \"House / apartment\", \"House / apartment\", \"House / apartment\", \"House / apartment\", \"House / apartment\", \"House / apartment\", \"House / apartment\", \"House / apartment\", \"House / apartment\", \"House / apartment\", \"House / apartment\", \"House / apartment\", \"House / apartment\", \"House / apartment\", \"House / apartment\", \"House / apartment\", \"With parents\", \"House / apartment\", \"House / apartment\", \"With parents\", \"House / apartment\", \"With parents\", \"With parents\", \"House / apartment\", \"House / apartment\", \"House / apartment\", \"House / apartment\", \"House / apartment\", \"House / apartment\", \"House / apartment\", \"Rented apartment\", \"House / apartment\", \"House / apartment\", \"House / apartment\", \"House / apartment\", \"With parents\", \"House / apartment\", \"House / apartment\", \"House / apartment\", \"House / apartment\", \"House / apartment\", \"House / apartment\", \"House / apartment\", \"House / apartment\", \"House / apartment\", \"With parents\", \"Rented apartment\", \"With parents\", \"House / apartment\", \"House / apartment\", \"House / apartment\", \"House / apartment\", \"House / apartment\", \"House / apartment\", \"With parents\", \"House / apartment\", \"House / apartment\", \"House / apartment\", \"House / apartment\", \"With parents\", \"House / apartment\", \"House / apartment\", \"House / apartment\", \"House / apartment\", \"House / apartment\", \"With parents\", \"House / apartment\", \"House / apartment\", \"House / apartment\", \"House / apartment\", \"House / apartment\", \"House / apartment\", \"House / apartment\", \"House / apartment\", \"House / apartment\", \"House / apartment\", \"House / apartment\", \"House / apartment\", \"With parents\", \"With parents\", \"House / apartment\", \"House / apartment\", \"Office apartment\", \"House / apartment\", \"House / apartment\", \"House / apartment\", \"House / apartment\", \"House / apartment\", \"House / apartment\", \"House / apartment\", \"Municipal apartment\", \"House / apartment\", \"House / apartment\", \"House / apartment\", \"House / apartment\", \"House / apartment\", \"House / apartment\", \"House / apartment\", \"House / apartment\", \"Municipal apartment\", \"House / apartment\", \"House / apartment\", \"House / apartment\", \"House / apartment\", \"House / apartment\", \"House / apartment\", \"House / apartment\", \"House / apartment\", \"With parents\", \"House / apartment\", \"House / apartment\", \"With parents\", \"With parents\", \"House / apartment\", \"House / apartment\", \"House / apartment\", \"House / apartment\", \"House / apartment\", \"House / apartment\", \"House / apartment\", \"House / apartment\", \"House / apartment\", \"House / apartment\", \"House / apartment\", \"House / apartment\", \"House / apartment\", \"House / apartment\", \"House / apartment\", \"House / apartment\", \"House / apartment\", \"House / apartment\", \"House / apartment\", \"Municipal apartment\", \"House / apartment\", \"House / apartment\", \"House / apartment\", \"House / apartment\", \"House / apartment\", \"House / apartment\", \"House / apartment\", \"House / apartment\", \"House / apartment\", \"House / apartment\", \"With parents\", \"House / apartment\", \"House / apartment\", \"House / apartment\", \"House / apartment\", \"House / apartment\", \"House / apartment\", \"House / apartment\", \"House / apartment\", \"House / apartment\", \"House / apartment\", \"House / apartment\", \"House / apartment\", \"House / apartment\", \"House / apartment\", \"House / apartment\", \"House / apartment\", \"House / apartment\", \"House / apartment\", \"House / apartment\", \"House / apartment\", \"House / apartment\", \"House / apartment\", \"House / apartment\", \"With parents\", \"House / apartment\", \"House / apartment\", \"House / apartment\", \"House / apartment\", \"With parents\", \"House / apartment\", \"House / apartment\", \"House / apartment\", \"House / apartment\", \"House / apartment\", \"House / apartment\", \"House / apartment\", \"With parents\", \"House / apartment\", \"House / apartment\", \"House / apartment\", \"House / apartment\", \"House / apartment\", \"House / apartment\", \"House / apartment\", \"House / apartment\", \"House / apartment\", \"House / apartment\", \"House / apartment\", \"House / apartment\", \"House / apartment\", \"House / apartment\", \"With parents\", \"House / apartment\", \"With parents\", \"House / apartment\", \"House / apartment\", \"House / apartment\", \"House / apartment\", \"House / apartment\", \"Municipal apartment\", \"House / apartment\", \"Rented apartment\", \"House / apartment\", \"House / apartment\", \"House / apartment\", \"Municipal apartment\", \"House / apartment\", \"Office apartment\", \"House / apartment\", \"House / apartment\", \"Municipal apartment\", \"House / apartment\", \"House / apartment\", \"House / apartment\", \"House / apartment\", \"Municipal apartment\", \"House / apartment\", \"House / apartment\", \"House / apartment\", \"House / apartment\", \"With parents\", \"House / apartment\", \"House / apartment\", \"House / apartment\", \"House / apartment\", \"House / apartment\", \"With parents\", \"House / apartment\", \"House / apartment\", \"House / apartment\", \"House / apartment\", \"House / apartment\", \"House / apartment\", \"House / apartment\", \"House / apartment\", \"House / apartment\", \"House / apartment\", \"House / apartment\", \"Rented apartment\", \"House / apartment\", \"House / apartment\", \"House / apartment\", \"House / apartment\", \"House / apartment\", \"House / apartment\", \"House / apartment\", \"House / apartment\", \"House / apartment\", \"Office apartment\", \"House / apartment\", \"House / apartment\", \"House / apartment\", \"Municipal apartment\", \"Rented apartment\", \"House / apartment\", \"House / apartment\", \"House / apartment\", \"House / apartment\", \"House / apartment\", \"House / apartment\", \"House / apartment\", \"Municipal apartment\", \"House / apartment\", \"House / apartment\", \"House / apartment\", \"House / apartment\", \"House / apartment\", \"Rented apartment\", \"Municipal apartment\", \"House / apartment\", \"House / apartment\", \"House / apartment\", \"House / apartment\", \"House / apartment\", \"With parents\", \"House / apartment\", \"House / apartment\", \"House / apartment\", \"House / apartment\", \"House / apartment\", \"House / apartment\", \"House / apartment\", \"House / apartment\", \"House / apartment\", \"House / apartment\", \"House / apartment\", \"House / apartment\", \"House / apartment\", \"House / apartment\", \"House / apartment\", \"With parents\", \"House / apartment\", \"House / apartment\", \"House / apartment\", \"House / apartment\", \"House / apartment\", \"House / apartment\", \"House / apartment\", \"House / apartment\", \"House / apartment\", \"House / apartment\", \"House / apartment\", \"House / apartment\", \"House / apartment\", \"House / apartment\", \"House / apartment\", \"House / apartment\", \"House / apartment\", \"House / apartment\", \"House / apartment\", \"House / apartment\", \"With parents\", \"House / apartment\", \"House / apartment\", \"House / apartment\", \"House / apartment\", \"House / apartment\", \"With parents\", \"House / apartment\", \"House / apartment\", \"House / apartment\", \"House / apartment\", \"House / apartment\", \"With parents\", \"House / apartment\", \"With parents\", \"House / apartment\", \"House / apartment\", \"House / apartment\", \"House / apartment\", \"House / apartment\", \"Rented apartment\", \"House / apartment\", \"With parents\", \"House / apartment\", \"House / apartment\", \"House / apartment\", \"House / apartment\", \"House / apartment\", \"House / apartment\", \"With parents\", \"House / apartment\", \"House / apartment\", \"House / apartment\", \"House / apartment\", \"Rented apartment\", \"With parents\", \"House / apartment\", \"House / apartment\", \"House / apartment\", \"House / apartment\", \"House / apartment\", \"Municipal apartment\", \"Municipal apartment\", \"Municipal apartment\", \"House / apartment\", \"House / apartment\", \"House / apartment\", \"House / apartment\", \"House / apartment\", \"House / apartment\", \"House / apartment\", \"House / apartment\", \"House / apartment\", \"With parents\", \"House / apartment\", \"Municipal apartment\", \"House / apartment\", \"House / apartment\", \"House / apartment\", \"With parents\", \"House / apartment\", \"House / apartment\", \"House / apartment\", \"House / apartment\", \"House / apartment\", \"House / apartment\", \"House / apartment\", \"House / apartment\", \"House / apartment\", \"House / apartment\", \"Municipal apartment\", \"House / apartment\", \"With parents\", \"House / apartment\", \"House / apartment\", \"House / apartment\", \"House / apartment\", \"House / apartment\", \"House / apartment\", \"House / apartment\", \"Municipal apartment\", \"House / apartment\", \"Rented apartment\", \"House / apartment\", \"House / apartment\", \"House / apartment\", \"House / apartment\", \"House / apartment\", \"House / apartment\", \"House / apartment\", \"House / apartment\", \"House / apartment\", \"House / apartment\", \"House / apartment\", \"With parents\", \"House / apartment\", \"House / apartment\", \"Municipal apartment\", \"House / apartment\", \"House / apartment\", \"House / apartment\", \"House / apartment\", \"House / apartment\", \"House / apartment\", \"House / apartment\", \"House / apartment\", \"House / apartment\", \"House / apartment\", \"House / apartment\", \"House / apartment\", \"House / apartment\", \"House / apartment\", \"With parents\", \"Rented apartment\", \"With parents\", \"House / apartment\", \"House / apartment\", \"House / apartment\", \"House / apartment\", \"House / apartment\", \"House / apartment\", \"House / apartment\", \"House / apartment\", \"House / apartment\", \"House / apartment\", \"House / apartment\", \"Municipal apartment\", \"House / apartment\", \"House / apartment\", \"Municipal apartment\", \"House / apartment\", \"House / apartment\", \"House / apartment\", \"House / apartment\", \"House / apartment\", \"House / apartment\", \"House / apartment\", \"House / apartment\", \"House / apartment\", \"With parents\", \"Municipal apartment\", \"Municipal apartment\", \"House / apartment\", \"House / apartment\", \"House / apartment\", \"Municipal apartment\", \"House / apartment\", \"House / apartment\", \"House / apartment\", \"House / apartment\", \"Municipal apartment\", \"House / apartment\", \"House / apartment\", \"House / apartment\", \"House / apartment\", \"With parents\", \"House / apartment\", \"House / apartment\", \"House / apartment\", \"House / apartment\", \"House / apartment\", \"House / apartment\", \"House / apartment\", \"House / apartment\", \"Municipal apartment\", \"House / apartment\", \"House / apartment\", \"Rented apartment\", \"House / apartment\", \"Municipal apartment\", \"House / apartment\", \"House / apartment\", \"House / apartment\", \"House / apartment\", \"With parents\", \"House / apartment\", \"Municipal apartment\", \"House / apartment\", \"Rented apartment\"], \"legendgroup\": \"\", \"name\": \"\", \"showlegend\": true, \"type\": \"pie\"}],\n",
              "                        {\"height\": 400, \"legend\": {\"tracegroupgap\": 0}, \"template\": {\"data\": {\"bar\": [{\"error_x\": {\"color\": \"#2a3f5f\"}, \"error_y\": {\"color\": \"#2a3f5f\"}, \"marker\": {\"line\": {\"color\": \"#E5ECF6\", \"width\": 0.5}}, \"type\": \"bar\"}], \"barpolar\": [{\"marker\": {\"line\": {\"color\": \"#E5ECF6\", \"width\": 0.5}}, \"type\": \"barpolar\"}], \"carpet\": [{\"aaxis\": {\"endlinecolor\": \"#2a3f5f\", \"gridcolor\": \"white\", \"linecolor\": \"white\", \"minorgridcolor\": \"white\", \"startlinecolor\": \"#2a3f5f\"}, \"baxis\": {\"endlinecolor\": \"#2a3f5f\", \"gridcolor\": \"white\", \"linecolor\": \"white\", \"minorgridcolor\": \"white\", \"startlinecolor\": \"#2a3f5f\"}, \"type\": \"carpet\"}], \"choropleth\": [{\"colorbar\": {\"outlinewidth\": 0, \"ticks\": \"\"}, \"type\": \"choropleth\"}], \"contour\": [{\"colorbar\": {\"outlinewidth\": 0, \"ticks\": \"\"}, \"colorscale\": [[0.0, \"#0d0887\"], [0.1111111111111111, \"#46039f\"], [0.2222222222222222, \"#7201a8\"], [0.3333333333333333, \"#9c179e\"], [0.4444444444444444, \"#bd3786\"], [0.5555555555555556, \"#d8576b\"], [0.6666666666666666, \"#ed7953\"], [0.7777777777777778, \"#fb9f3a\"], [0.8888888888888888, \"#fdca26\"], [1.0, \"#f0f921\"]], \"type\": \"contour\"}], \"contourcarpet\": [{\"colorbar\": {\"outlinewidth\": 0, \"ticks\": \"\"}, \"type\": \"contourcarpet\"}], \"heatmap\": [{\"colorbar\": {\"outlinewidth\": 0, \"ticks\": \"\"}, \"colorscale\": [[0.0, \"#0d0887\"], [0.1111111111111111, \"#46039f\"], [0.2222222222222222, \"#7201a8\"], [0.3333333333333333, \"#9c179e\"], [0.4444444444444444, \"#bd3786\"], [0.5555555555555556, \"#d8576b\"], [0.6666666666666666, \"#ed7953\"], [0.7777777777777778, \"#fb9f3a\"], [0.8888888888888888, \"#fdca26\"], [1.0, \"#f0f921\"]], \"type\": \"heatmap\"}], \"heatmapgl\": [{\"colorbar\": {\"outlinewidth\": 0, \"ticks\": \"\"}, \"colorscale\": [[0.0, \"#0d0887\"], [0.1111111111111111, \"#46039f\"], [0.2222222222222222, \"#7201a8\"], [0.3333333333333333, \"#9c179e\"], [0.4444444444444444, \"#bd3786\"], [0.5555555555555556, \"#d8576b\"], [0.6666666666666666, \"#ed7953\"], [0.7777777777777778, \"#fb9f3a\"], [0.8888888888888888, \"#fdca26\"], [1.0, \"#f0f921\"]], \"type\": \"heatmapgl\"}], \"histogram\": [{\"marker\": {\"colorbar\": {\"outlinewidth\": 0, \"ticks\": \"\"}}, \"type\": \"histogram\"}], \"histogram2d\": [{\"colorbar\": {\"outlinewidth\": 0, \"ticks\": \"\"}, \"colorscale\": [[0.0, \"#0d0887\"], [0.1111111111111111, \"#46039f\"], [0.2222222222222222, \"#7201a8\"], [0.3333333333333333, \"#9c179e\"], [0.4444444444444444, \"#bd3786\"], [0.5555555555555556, \"#d8576b\"], [0.6666666666666666, \"#ed7953\"], [0.7777777777777778, \"#fb9f3a\"], [0.8888888888888888, \"#fdca26\"], [1.0, \"#f0f921\"]], \"type\": \"histogram2d\"}], \"histogram2dcontour\": [{\"colorbar\": {\"outlinewidth\": 0, \"ticks\": \"\"}, \"colorscale\": [[0.0, \"#0d0887\"], [0.1111111111111111, \"#46039f\"], [0.2222222222222222, \"#7201a8\"], [0.3333333333333333, \"#9c179e\"], [0.4444444444444444, \"#bd3786\"], [0.5555555555555556, \"#d8576b\"], [0.6666666666666666, \"#ed7953\"], [0.7777777777777778, \"#fb9f3a\"], [0.8888888888888888, \"#fdca26\"], [1.0, \"#f0f921\"]], \"type\": \"histogram2dcontour\"}], \"mesh3d\": [{\"colorbar\": {\"outlinewidth\": 0, \"ticks\": \"\"}, \"type\": \"mesh3d\"}], \"parcoords\": [{\"line\": {\"colorbar\": {\"outlinewidth\": 0, \"ticks\": \"\"}}, \"type\": \"parcoords\"}], \"pie\": [{\"automargin\": true, \"type\": \"pie\"}], \"scatter\": [{\"marker\": {\"colorbar\": {\"outlinewidth\": 0, \"ticks\": \"\"}}, \"type\": \"scatter\"}], \"scatter3d\": [{\"line\": {\"colorbar\": {\"outlinewidth\": 0, \"ticks\": \"\"}}, \"marker\": {\"colorbar\": {\"outlinewidth\": 0, \"ticks\": \"\"}}, \"type\": \"scatter3d\"}], \"scattercarpet\": [{\"marker\": {\"colorbar\": {\"outlinewidth\": 0, \"ticks\": \"\"}}, \"type\": \"scattercarpet\"}], \"scattergeo\": [{\"marker\": {\"colorbar\": {\"outlinewidth\": 0, \"ticks\": \"\"}}, \"type\": \"scattergeo\"}], \"scattergl\": [{\"marker\": {\"colorbar\": {\"outlinewidth\": 0, \"ticks\": \"\"}}, \"type\": \"scattergl\"}], \"scattermapbox\": [{\"marker\": {\"colorbar\": {\"outlinewidth\": 0, \"ticks\": \"\"}}, \"type\": \"scattermapbox\"}], \"scatterpolar\": [{\"marker\": {\"colorbar\": {\"outlinewidth\": 0, \"ticks\": \"\"}}, \"type\": \"scatterpolar\"}], \"scatterpolargl\": [{\"marker\": {\"colorbar\": {\"outlinewidth\": 0, \"ticks\": \"\"}}, \"type\": \"scatterpolargl\"}], \"scatterternary\": [{\"marker\": {\"colorbar\": {\"outlinewidth\": 0, \"ticks\": \"\"}}, \"type\": \"scatterternary\"}], \"surface\": [{\"colorbar\": {\"outlinewidth\": 0, \"ticks\": \"\"}, \"colorscale\": [[0.0, \"#0d0887\"], [0.1111111111111111, \"#46039f\"], [0.2222222222222222, \"#7201a8\"], [0.3333333333333333, \"#9c179e\"], [0.4444444444444444, \"#bd3786\"], [0.5555555555555556, \"#d8576b\"], [0.6666666666666666, \"#ed7953\"], [0.7777777777777778, \"#fb9f3a\"], [0.8888888888888888, \"#fdca26\"], [1.0, \"#f0f921\"]], \"type\": \"surface\"}], \"table\": [{\"cells\": {\"fill\": {\"color\": \"#EBF0F8\"}, \"line\": {\"color\": \"white\"}}, \"header\": {\"fill\": {\"color\": \"#C8D4E3\"}, \"line\": {\"color\": \"white\"}}, \"type\": \"table\"}]}, \"layout\": {\"annotationdefaults\": {\"arrowcolor\": \"#2a3f5f\", \"arrowhead\": 0, \"arrowwidth\": 1}, \"coloraxis\": {\"colorbar\": {\"outlinewidth\": 0, \"ticks\": \"\"}}, \"colorscale\": {\"diverging\": [[0, \"#8e0152\"], [0.1, \"#c51b7d\"], [0.2, \"#de77ae\"], [0.3, \"#f1b6da\"], [0.4, \"#fde0ef\"], [0.5, \"#f7f7f7\"], [0.6, \"#e6f5d0\"], [0.7, \"#b8e186\"], [0.8, \"#7fbc41\"], [0.9, \"#4d9221\"], [1, \"#276419\"]], \"sequential\": [[0.0, \"#0d0887\"], [0.1111111111111111, \"#46039f\"], [0.2222222222222222, \"#7201a8\"], [0.3333333333333333, \"#9c179e\"], [0.4444444444444444, \"#bd3786\"], [0.5555555555555556, \"#d8576b\"], [0.6666666666666666, \"#ed7953\"], [0.7777777777777778, \"#fb9f3a\"], [0.8888888888888888, \"#fdca26\"], [1.0, \"#f0f921\"]], \"sequentialminus\": [[0.0, \"#0d0887\"], [0.1111111111111111, \"#46039f\"], [0.2222222222222222, \"#7201a8\"], [0.3333333333333333, \"#9c179e\"], [0.4444444444444444, \"#bd3786\"], [0.5555555555555556, \"#d8576b\"], [0.6666666666666666, \"#ed7953\"], [0.7777777777777778, \"#fb9f3a\"], [0.8888888888888888, \"#fdca26\"], [1.0, \"#f0f921\"]]}, \"colorway\": [\"#636efa\", \"#EF553B\", \"#00cc96\", \"#ab63fa\", \"#FFA15A\", \"#19d3f3\", \"#FF6692\", \"#B6E880\", \"#FF97FF\", \"#FECB52\"], \"font\": {\"color\": \"#2a3f5f\"}, \"geo\": {\"bgcolor\": \"white\", \"lakecolor\": \"white\", \"landcolor\": \"#E5ECF6\", \"showlakes\": true, \"showland\": true, \"subunitcolor\": \"white\"}, \"hoverlabel\": {\"align\": \"left\"}, \"hovermode\": \"closest\", \"mapbox\": {\"style\": \"light\"}, \"paper_bgcolor\": \"white\", \"plot_bgcolor\": \"#E5ECF6\", \"polar\": {\"angularaxis\": {\"gridcolor\": \"white\", \"linecolor\": \"white\", \"ticks\": \"\"}, \"bgcolor\": \"#E5ECF6\", \"radialaxis\": {\"gridcolor\": \"white\", \"linecolor\": \"white\", \"ticks\": \"\"}}, \"scene\": {\"xaxis\": {\"backgroundcolor\": \"#E5ECF6\", \"gridcolor\": \"white\", \"gridwidth\": 2, \"linecolor\": \"white\", \"showbackground\": true, \"ticks\": \"\", \"zerolinecolor\": \"white\"}, \"yaxis\": {\"backgroundcolor\": \"#E5ECF6\", \"gridcolor\": \"white\", \"gridwidth\": 2, \"linecolor\": \"white\", \"showbackground\": true, \"ticks\": \"\", \"zerolinecolor\": \"white\"}, \"zaxis\": {\"backgroundcolor\": \"#E5ECF6\", \"gridcolor\": \"white\", \"gridwidth\": 2, \"linecolor\": \"white\", \"showbackground\": true, \"ticks\": \"\", \"zerolinecolor\": \"white\"}}, \"shapedefaults\": {\"line\": {\"color\": \"#2a3f5f\"}}, \"ternary\": {\"aaxis\": {\"gridcolor\": \"white\", \"linecolor\": \"white\", \"ticks\": \"\"}, \"baxis\": {\"gridcolor\": \"white\", \"linecolor\": \"white\", \"ticks\": \"\"}, \"bgcolor\": \"#E5ECF6\", \"caxis\": {\"gridcolor\": \"white\", \"linecolor\": \"white\", \"ticks\": \"\"}}, \"title\": {\"x\": 0.05}, \"xaxis\": {\"automargin\": true, \"gridcolor\": \"white\", \"linecolor\": \"white\", \"ticks\": \"\", \"title\": {\"standoff\": 15}, \"zerolinecolor\": \"white\", \"zerolinewidth\": 2}, \"yaxis\": {\"automargin\": true, \"gridcolor\": \"white\", \"linecolor\": \"white\", \"ticks\": \"\", \"title\": {\"standoff\": 15}, \"zerolinecolor\": \"white\", \"zerolinewidth\": 2}}}, \"title\": {\"text\": \"Housing_Type\"}, \"width\": 800},\n",
              "                        {\"responsive\": true}\n",
              "                    ).then(function(){\n",
              "                            \n",
              "var gd = document.getElementById('02a2adcd-6062-4784-b1dc-da644040ef2e');\n",
              "var x = new MutationObserver(function (mutations, observer) {{\n",
              "        var display = window.getComputedStyle(gd).display;\n",
              "        if (!display || display === 'none') {{\n",
              "            console.log([gd, 'removed!']);\n",
              "            Plotly.purge(gd);\n",
              "            observer.disconnect();\n",
              "        }}\n",
              "}});\n",
              "\n",
              "// Listen for the removal of the full notebook cells\n",
              "var notebookContainer = gd.closest('#notebook-container');\n",
              "if (notebookContainer) {{\n",
              "    x.observe(notebookContainer, {childList: true});\n",
              "}}\n",
              "\n",
              "// Listen for the clearing of the current output cell\n",
              "var outputEl = gd.closest('.output');\n",
              "if (outputEl) {{\n",
              "    x.observe(outputEl, {childList: true});\n",
              "}}\n",
              "\n",
              "                        })\n",
              "                };\n",
              "                \n",
              "            </script>\n",
              "        </div>\n",
              "</body>\n",
              "</html>"
            ]
          },
          "metadata": {
            "tags": []
          }
        }
      ]
    },
    {
      "cell_type": "code",
      "metadata": {
        "colab": {
          "base_uri": "https://localhost:8080/"
        },
        "id": "gB3euHP8ReWP",
        "outputId": "659abcd2-6709-4762-bf48-95fc07b62460"
      },
      "source": [
        "housing_df = df.Housing_Type.value_counts(normalize = True)\r\n",
        "housing_df"
      ],
      "execution_count": 447,
      "outputs": [
        {
          "output_type": "execute_result",
          "data": {
            "text/plain": [
              "House / apartment     0.882\n",
              "With parents          0.054\n",
              "Municipal apartment   0.035\n",
              "Rented apartment      0.017\n",
              "Office apartment      0.009\n",
              "Co-op apartment       0.004\n",
              "Name: Housing_Type, dtype: float64"
            ]
          },
          "metadata": {
            "tags": []
          },
          "execution_count": 447
        }
      ]
    },
    {
      "cell_type": "markdown",
      "metadata": {
        "id": "AmC16gE40wxS"
      },
      "source": [
        "We can see that from \"risk\" clients, none of men have rented apartment, municipal apartment and co-op apartment. Also none of women clients have office apartment."
      ]
    },
    {
      "cell_type": "code",
      "metadata": {
        "colab": {
          "base_uri": "https://localhost:8080/",
          "height": 542
        },
        "id": "PYhatoHHRreK",
        "outputId": "c2fcb693-2818-4c05-cbd9-3e2c06efc018"
      },
      "source": [
        "fig = px.bar(df, x=\"Gender\",y=\"label\", color=\"Housing_Type\", barmode=\"group\",\r\n",
        "labels={\r\n",
        "                     \"label\": \"occurrences\"                     \r\n",
        "                 }\r\n",
        "\r\n",
        ")\r\n",
        "fig.show(renderer=\"colab\")"
      ],
      "execution_count": 464,
      "outputs": [
        {
          "output_type": "display_data",
          "data": {
            "text/html": [
              "<html>\n",
              "<head><meta charset=\"utf-8\" /></head>\n",
              "<body>\n",
              "    <div>\n",
              "            <script src=\"https://cdnjs.cloudflare.com/ajax/libs/mathjax/2.7.5/MathJax.js?config=TeX-AMS-MML_SVG\"></script><script type=\"text/javascript\">if (window.MathJax) {MathJax.Hub.Config({SVG: {font: \"STIX-Web\"}});}</script>\n",
              "                <script type=\"text/javascript\">window.PlotlyConfig = {MathJaxConfig: 'local'};</script>\n",
              "        <script src=\"https://cdn.plot.ly/plotly-latest.min.js\"></script>    \n",
              "            <div id=\"afa5d97d-b979-4416-916c-645c0d78b5a8\" class=\"plotly-graph-div\" style=\"height:525px; width:100%;\"></div>\n",
              "            <script type=\"text/javascript\">\n",
              "                \n",
              "                    window.PLOTLYENV=window.PLOTLYENV || {};\n",
              "                    \n",
              "                if (document.getElementById(\"afa5d97d-b979-4416-916c-645c0d78b5a8\")) {\n",
              "                    Plotly.newPlot(\n",
              "                        'afa5d97d-b979-4416-916c-645c0d78b5a8',\n",
              "                        [{\"alignmentgroup\": \"True\", \"hoverlabel\": {\"namelength\": 0}, \"hovertemplate\": \"Housing_Type=Rented apartment<br>Gender=%{x}<br>occurrences=%{y}\", \"legendgroup\": \"Housing_Type=Rented apartment\", \"marker\": {\"color\": \"#636efa\"}, \"name\": \"Housing_Type=Rented apartment\", \"offsetgroup\": \"Housing_Type=Rented apartment\", \"orientation\": \"v\", \"showlegend\": true, \"textposition\": \"auto\", \"type\": \"bar\", \"x\": [\"M\", \"F\", \"F\", \"F\", \"F\", \"M\", \"F\", \"F\", \"F\", \"F\", \"F\", \"M\", \"F\", \"F\", \"M\", \"F\", \"M\", \"F\", \"M\", \"F\", \"M\", \"M\", \"M\", \"M\", \"M\", \"M\", \"M\", \"M\", \"F\", \"F\", \"M\", \"M\", \"M\", \"F\", \"F\", \"F\", \"M\", \"M\", \"M\", \"M\", \"M\", \"F\", \"M\", \"M\", \"M\", \"M\", \"M\", \"M\", \"M\", \"F\", \"M\", \"M\", \"F\", \"M\", \"M\", \"F\", \"F\", \"F\", \"F\", \"F\", \"F\", \"M\", \"M\", \"F\", \"F\", \"M\", \"M\", \"F\", \"F\", \"F\", \"F\", \"F\", \"M\", \"M\", \"F\", \"F\", \"F\", \"F\", \"F\", \"M\", \"F\", \"M\", \"M\", \"M\", \"F\", \"M\", \"F\", \"F\", \"F\", \"F\", \"F\", \"M\", \"F\", \"M\", \"F\", \"F\", \"F\", \"M\", \"M\", \"F\", \"M\", \"M\", \"M\", \"F\", \"F\", \"M\", \"M\", \"M\", \"M\", \"M\", \"F\", \"F\", \"F\", \"F\", \"F\", \"F\", \"M\", \"M\", \"F\", \"F\", \"M\", \"M\", \"F\", \"F\", \"M\", \"F\", \"M\", \"M\", \"M\", \"M\", \"M\", \"M\", \"M\", \"M\", \"M\", \"F\", \"M\", \"F\", \"M\", \"F\", \"M\", \"F\", \"M\", \"M\"], \"xaxis\": \"x\", \"y\": [0, 0, 0, 0, 0, 0, 0, 0, 0, 0, 0, 0, 0, 0, 0, 0, 0, 0, 0, 0, 0, 0, 0, 0, 0, 0, 0, 0, 0, 0, 0, 0, 0, 0, 0, 0, 0, 0, 0, 0, 0, 0, 0, 0, 0, 0, 0, 0, 0, 0, 0, 0, 0, 0, 0, 0, 0, 0, 0, 0, 0, 0, 0, 0, 0, 0, 0, 0, 0, 0, 0, 0, 0, 0, 0, 0, 0, 0, 0, 0, 0, 0, 0, 0, 0, 0, 0, 0, 0, 0, 0, 0, 0, 0, 0, 0, 0, 0, 0, 0, 0, 0, 0, 0, 0, 0, 0, 0, 0, 0, 0, 0, 0, 0, 0, 0, 0, 0, 0, 0, 0, 0, 0, 0, 0, 0, 0, 0, 0, 0, 0, 0, 0, 0, 0, 0, 0, 0, 0, 0, 0, 1, 1, 1], \"yaxis\": \"y\"}, {\"alignmentgroup\": \"True\", \"hoverlabel\": {\"namelength\": 0}, \"hovertemplate\": \"Housing_Type=House / apartment<br>Gender=%{x}<br>occurrences=%{y}\", \"legendgroup\": \"Housing_Type=House / apartment\", \"marker\": {\"color\": \"#EF553B\"}, \"name\": \"Housing_Type=House / apartment\", \"offsetgroup\": \"Housing_Type=House / apartment\", \"orientation\": \"v\", \"showlegend\": true, \"textposition\": \"auto\", \"type\": \"bar\", \"x\": [\"M\", \"F\", \"F\", \"M\", \"M\", \"F\", \"F\", \"F\", \"M\", \"M\", \"M\", \"F\", \"F\", \"M\", \"F\", \"F\", \"F\", \"M\", \"M\", \"F\", \"M\", \"F\", \"M\", \"F\", \"F\", \"M\", \"M\", \"F\", \"F\", \"F\", \"F\", \"F\", \"F\", \"F\", \"M\", \"F\", \"F\", \"M\", \"F\", \"F\", \"M\", \"M\", \"M\", \"M\", \"F\", \"F\", \"M\", \"F\", \"M\", \"F\", \"M\", \"M\", \"F\", \"F\", \"F\", \"F\", \"F\", \"F\", \"F\", \"F\", \"M\", \"F\", \"F\", \"F\", \"F\", \"F\", \"F\", \"M\", \"F\", \"M\", \"M\", \"M\", \"F\", \"F\", \"M\", \"M\", \"F\", \"M\", \"F\", \"M\", \"F\", \"M\", \"F\", \"M\", \"F\", \"F\", \"M\", \"F\", \"F\", \"F\", \"F\", \"F\", \"F\", \"F\", \"F\", \"M\", \"M\", \"F\", \"F\", \"M\", \"F\", \"M\", \"F\", \"F\", \"F\", \"M\", \"F\", \"F\", \"F\", \"F\", \"F\", \"F\", \"F\", \"F\", \"F\", \"M\", \"M\", \"F\", \"F\", \"M\", \"F\", \"M\", \"F\", \"M\", \"F\", \"F\", \"F\", \"F\", \"F\", \"F\", \"M\", \"F\", \"F\", \"M\", \"F\", \"F\", \"F\", \"F\", \"M\", \"M\", \"F\", \"F\", \"F\", \"F\", \"F\", \"F\", \"M\", \"F\", \"M\", \"M\", \"F\", \"M\", \"F\", \"F\", \"M\", \"F\", \"F\", \"M\", \"F\", \"M\", \"F\", \"F\", \"F\", \"F\", \"M\", \"M\", \"F\", \"F\", \"M\", \"F\", \"M\", \"F\", \"F\", \"M\", \"F\", \"F\", \"F\", \"M\", \"F\", \"F\", \"F\", \"M\", \"F\", \"F\", \"F\", \"F\", \"M\", \"F\", \"F\", \"F\", \"F\", \"F\", \"M\", \"M\", \"F\", \"F\", \"M\", \"F\", \"M\", \"M\", \"F\", \"F\", \"M\", \"M\", \"M\", \"F\", \"F\", \"M\", \"F\", \"F\", \"M\", \"F\", \"M\", \"M\", \"M\", \"F\", \"F\", \"M\", \"F\", \"F\", \"F\", \"F\", \"F\", \"F\", \"M\", \"F\", \"F\", \"F\", \"F\", \"F\", \"M\", \"F\", \"F\", \"F\", \"F\", \"F\", \"M\", \"F\", \"F\", \"F\", \"F\", \"F\", \"F\", \"F\", \"M\", \"M\", \"M\", \"M\", \"F\", \"M\", \"F\", \"F\", \"M\", \"F\", \"M\", \"F\", \"F\", \"M\", \"F\", \"M\", \"F\", \"M\", \"M\", \"F\", \"F\", \"F\", \"F\", \"F\", \"F\", \"F\", \"F\", \"F\", \"M\", \"F\", \"M\", \"M\", \"M\", \"M\", \"F\", \"F\", \"M\", \"M\", \"M\", \"F\", \"M\", \"M\", \"F\", \"F\", \"M\", \"F\", \"F\", \"F\", \"M\", \"F\", \"F\", \"F\", \"M\", \"F\", \"F\", \"F\", \"F\", \"M\", \"F\", \"F\", \"F\", \"F\", \"F\", \"F\", \"F\", \"F\", \"M\", \"F\", \"F\", \"F\", \"M\", \"F\", \"F\", \"M\", \"F\", \"F\", \"F\", \"F\", \"M\", \"M\", \"F\", \"F\", \"M\", \"M\", \"M\", \"M\", \"F\", \"F\", \"F\", \"F\", \"F\", \"F\", \"M\", \"F\", \"M\", \"M\", \"F\", \"F\", \"F\", \"F\", \"F\", \"F\", \"M\", \"F\", \"M\", \"F\", \"F\", \"F\", \"F\", \"M\", \"F\", \"F\", \"M\", \"M\", \"M\", \"M\", \"F\", \"F\", \"F\", \"F\", \"F\", \"F\", \"F\", \"M\", \"F\", \"F\", \"F\", \"F\", \"M\", \"F\", \"M\", \"M\", \"F\", \"M\", \"M\", \"F\", \"F\", \"F\", \"F\", \"F\", \"F\", \"M\", \"M\", \"F\", \"F\", \"F\", \"F\", \"F\", \"F\", \"F\", \"M\", \"F\", \"M\", \"F\", \"M\", \"F\", \"F\", \"F\", \"F\", \"M\", \"F\", \"F\", \"F\", \"M\", \"M\", \"M\", \"F\", \"F\", \"M\", \"F\", \"F\", \"M\", \"F\", \"F\", \"F\", \"F\", \"F\", \"F\", \"M\", \"F\", \"F\", \"F\", \"F\", \"M\", \"M\", \"M\", \"M\", \"M\", \"F\", \"F\", \"F\", \"F\", \"F\", \"F\", \"F\", \"F\", \"F\", \"F\", \"F\", \"F\", \"F\", \"F\", \"F\", \"F\", \"M\", \"F\", \"F\", \"F\", \"M\", \"F\", \"F\", \"F\", \"F\", \"F\", \"F\", \"F\", \"M\", \"M\", \"F\", \"F\", \"M\", \"M\", \"F\", \"F\", \"F\", \"F\", \"F\", \"F\", \"M\", \"M\", \"M\", \"M\", \"F\", \"M\", \"M\", \"M\", \"M\", \"M\", \"F\", \"M\", \"F\", \"F\", \"F\", \"F\", \"F\", \"F\", \"F\", \"M\", \"M\", \"F\", \"F\", \"M\", \"F\", \"F\", \"F\", \"F\", \"F\", \"F\", \"M\", \"F\", \"F\", \"M\", \"M\", \"M\", \"M\", \"F\", \"F\", \"F\", \"F\", \"F\", \"M\", \"F\", \"M\", \"F\", \"M\", \"F\", \"F\", \"M\", \"M\", \"M\", \"F\", \"F\", \"F\", \"F\", \"M\", \"F\", \"M\", \"F\", \"F\", \"F\", \"F\", \"F\", \"F\", \"M\", \"F\", \"F\", \"M\", \"F\", \"M\", \"F\", \"M\", \"F\", \"M\", \"F\", \"F\", \"M\", \"F\", \"F\", \"F\", \"M\", \"F\", \"F\", \"F\", \"M\", \"M\", \"M\", \"F\", \"F\", \"M\", \"F\", \"M\", \"M\", \"F\", \"M\", \"M\", \"F\", \"F\", \"F\", \"M\", \"M\", \"F\", \"F\", \"F\", \"M\", \"M\", \"M\", \"M\", \"F\", \"F\", \"F\", \"F\", \"F\", \"M\", \"F\", \"F\", \"F\", \"F\", \"M\", \"M\", \"F\", \"F\", \"F\", \"F\", \"M\", \"M\", \"F\", \"F\", \"M\", \"F\", \"F\", \"F\", \"M\", \"M\", \"F\", \"M\", \"F\", \"F\", \"M\", \"F\", \"F\", \"F\", \"F\", \"F\", \"F\", \"F\", \"M\", \"F\", \"F\", \"F\", \"M\", \"F\", \"M\", \"F\", \"F\", \"F\", \"F\", \"F\", \"M\", \"F\", \"F\", \"F\", \"F\", \"M\", \"F\", \"M\", \"F\", \"M\", \"M\", \"M\", \"F\", \"F\", \"F\", \"F\", \"F\", \"M\", \"F\", \"F\", \"F\", \"F\", \"F\", \"M\", \"F\", \"M\", \"M\", \"M\", \"F\", \"M\", \"F\", \"F\", \"M\", \"F\", \"F\", \"M\", \"M\", \"M\", \"F\", \"M\", \"F\", \"F\", \"F\", \"F\", \"M\", \"F\", \"F\", \"F\", \"M\", \"F\", \"F\", \"M\", \"M\", \"F\", \"M\", \"M\", \"M\", \"F\", \"F\", \"M\", \"F\", \"F\", \"M\", \"M\", \"F\", \"F\", \"F\", \"F\", \"M\", \"F\", \"F\", \"F\", \"F\", \"F\", \"F\", \"F\", \"M\", \"F\", \"F\", \"M\", \"M\", \"F\", \"F\", \"F\", \"M\", \"F\", \"F\", \"F\", \"M\", \"F\", \"F\", \"F\", \"M\", \"M\", \"F\", \"F\", \"M\", \"F\", \"M\", \"F\", \"F\", \"F\", \"M\", \"M\", \"F\", \"M\", \"F\", \"F\", \"M\", \"F\", \"M\", \"F\", \"F\", \"F\", \"F\", \"M\", \"M\", \"F\", \"F\", \"M\", \"F\", \"F\", \"F\", \"M\", \"M\", \"F\", \"F\", \"F\", \"M\", \"F\", \"M\", \"F\", \"F\", \"F\", \"M\", \"F\", \"F\", \"F\", \"F\", \"M\", \"F\", \"F\", \"F\", \"M\", \"F\", \"F\", \"F\", \"F\", \"M\", \"M\", \"M\", \"M\", \"F\", \"F\", \"F\", \"F\", \"F\", \"F\", \"F\", \"F\", \"F\", \"F\", \"F\", \"F\", \"M\", \"M\", \"F\", \"M\", \"F\", \"M\", \"M\", \"F\", \"M\", \"F\", \"M\", \"M\", \"M\", \"F\", \"M\", \"M\", \"F\", \"F\", \"F\", \"F\", \"F\", \"F\", \"F\", \"F\", \"F\", \"M\", \"F\", \"F\", \"F\", \"F\", \"F\", \"F\", \"M\", \"F\", \"F\", \"M\", \"F\", \"F\", \"F\", \"M\", \"F\", \"F\", \"F\", \"F\", \"F\", \"F\", \"F\", \"M\", \"F\", \"F\", \"F\", \"F\", \"M\", \"M\", \"M\", \"M\", \"F\", \"M\", \"M\", \"F\", \"F\", \"F\", \"F\", \"M\", \"F\", \"F\", \"F\", \"F\", \"F\", \"F\", \"F\", \"M\", \"M\", \"F\", \"M\", \"M\", \"F\", \"F\", \"F\", \"F\", \"F\", \"M\", \"M\", \"F\", \"F\", \"M\", \"F\", \"M\", \"M\", \"F\", \"M\", \"F\", \"M\", \"F\", \"F\", \"F\", \"F\", \"F\", \"F\", \"M\", \"M\", \"F\", \"F\", \"F\", \"F\", \"F\", \"F\", \"M\", \"F\", \"F\", \"F\", \"F\", \"F\", \"F\", \"M\", \"F\", \"F\", \"M\", \"M\", \"F\", \"F\", \"M\", \"M\", \"F\", \"F\", \"F\", \"F\", \"F\", \"F\", \"M\", \"F\", \"F\", \"F\", \"F\", \"M\", \"M\", \"F\", \"M\", \"M\", \"F\", \"M\", \"F\", \"F\", \"F\", \"F\", \"F\", \"F\", \"F\", \"F\", \"F\", \"F\", \"F\", \"M\", \"F\", \"F\", \"F\", \"F\", \"F\", \"F\", \"F\", \"M\", \"F\", \"F\", \"F\", \"F\", \"M\", \"F\", \"F\", \"F\", \"F\", \"F\", \"M\", \"M\", \"M\", \"F\", \"F\", \"F\", \"F\", \"F\", \"F\", \"M\", \"M\", \"M\", \"F\", \"F\", \"F\", \"F\", \"F\", \"M\", \"F\", \"M\", \"F\", \"F\", \"F\", \"M\", \"M\", \"M\", \"F\", \"F\", \"F\", \"M\", \"F\", \"M\", \"F\", \"M\", \"F\", \"F\", \"M\", \"M\", \"F\", \"F\", \"M\", \"F\", \"F\", \"M\", \"F\", \"M\", \"F\", \"F\", \"F\", \"M\", \"M\", \"F\", \"M\", \"M\", \"F\", \"M\", \"M\", \"F\", \"M\", \"F\", \"M\", \"F\", \"M\", \"M\", \"F\", \"F\", \"F\", \"F\", \"M\", \"M\", \"F\", \"F\", \"F\", \"F\", \"F\", \"F\", \"F\", \"F\", \"F\", \"M\", \"F\", \"F\", \"M\", \"F\", \"F\", \"F\", \"F\", \"M\", \"F\", \"M\", \"M\", \"M\", \"M\", \"M\", \"M\", \"F\", \"F\", \"F\", \"F\", \"M\", \"F\", \"F\", \"F\", \"F\", \"F\", \"F\", \"F\", \"F\", \"M\", \"F\", \"F\", \"F\", \"F\", \"M\", \"F\", \"M\", \"M\", \"F\", \"F\", \"F\", \"M\", \"F\", \"F\", \"F\", \"F\", \"F\", \"M\", \"M\", \"F\", \"F\", \"F\", \"F\", \"F\", \"F\", \"F\", \"M\", \"F\", \"F\", \"M\", \"M\", \"F\", \"F\", \"F\", \"F\", \"F\", \"M\", \"F\", \"F\", \"M\", \"M\", \"F\", \"M\", \"F\", \"M\", \"F\", \"F\", \"F\", \"F\", \"F\", \"M\", \"M\", \"F\", \"F\", \"F\", \"F\", \"M\", \"M\", \"M\", \"F\", \"F\", \"F\", \"M\", \"F\", \"F\", \"F\", \"F\", \"F\", \"F\", \"F\", \"F\", \"F\", \"F\", \"M\", \"F\", \"F\", \"F\", \"M\", \"F\", \"F\", \"F\", \"F\", \"F\", \"M\", \"M\", \"F\", \"M\", \"M\", \"F\", \"F\", \"F\", \"F\", \"M\", \"M\", \"F\", \"F\", \"F\", \"F\", \"F\", \"F\", \"M\", \"M\", \"M\", \"F\", \"M\", \"F\", \"M\", \"F\", \"F\", \"F\", \"F\", \"F\", \"M\", \"M\", \"F\", \"M\", \"F\", \"F\", \"F\", \"F\", \"M\", \"F\", \"F\", \"F\", \"F\", \"F\", \"F\", \"F\", \"F\", \"F\", \"F\", \"M\", \"F\", \"F\", \"F\", \"M\", \"F\", \"F\", \"M\", \"F\", \"F\", \"M\", \"F\", \"F\", \"F\", \"M\", \"F\", \"F\", \"F\", \"F\", \"M\", \"F\", \"F\", \"M\", \"F\", \"F\", \"F\", \"M\", \"F\", \"M\", \"M\", \"M\", \"F\", \"F\", \"M\", \"M\", \"M\", \"F\", \"M\", \"F\", \"F\", \"F\", \"F\", \"M\", \"F\", \"F\", \"M\", \"F\", \"F\", \"F\", \"F\", \"M\", \"F\", \"M\", \"F\", \"F\", \"F\", \"M\", \"F\", \"F\", \"M\", \"M\", \"F\", \"F\", \"M\", \"F\", \"M\", \"F\", \"F\", \"F\", \"F\", \"M\", \"F\", \"F\", \"M\", \"F\", \"F\", \"F\", \"M\", \"M\", \"M\", \"F\", \"F\", \"F\", \"F\", \"M\", \"M\", \"F\", \"F\", \"F\", \"M\", \"F\", \"M\", \"F\", \"M\", \"F\", \"F\", \"F\", \"F\", \"M\", \"M\", \"M\", \"M\", \"M\", \"F\", \"F\", \"M\", \"F\", \"F\", \"F\", \"F\", \"F\", \"F\", \"M\", \"F\", \"F\", \"F\", \"F\", \"M\", \"F\", \"M\", \"M\", \"F\", \"M\", \"F\", \"M\", \"M\", \"M\", \"F\", \"F\", \"F\", \"M\", \"F\", \"M\", \"F\", \"M\", \"F\", \"F\", \"F\", \"M\", \"F\", \"F\", \"M\", \"F\", \"F\", \"F\", \"F\", \"F\", \"F\", \"F\", \"M\", \"M\", \"F\", \"F\", \"F\", \"F\", \"F\", \"F\", \"F\", \"M\", \"F\", \"F\", \"F\", \"F\", \"F\", \"F\", \"M\", \"F\", \"F\", \"M\", \"M\", \"F\", \"F\", \"F\", \"F\", \"F\", \"F\", \"F\", \"F\", \"F\", \"M\", \"F\", \"F\", \"M\", \"M\", \"F\", \"F\", \"F\", \"F\", \"F\", \"F\", \"F\", \"F\", \"F\", \"F\", \"F\", \"M\", \"M\", \"F\", \"M\", \"M\", \"M\", \"F\", \"F\", \"F\", \"F\", \"M\", \"F\", \"F\", \"F\", \"F\", \"M\", \"F\", \"F\", \"F\", \"M\", \"F\", \"F\", \"F\", \"F\", \"M\", \"F\", \"F\", \"F\", \"F\", \"M\", \"M\", \"M\", \"F\", \"M\", \"M\", \"F\", \"F\", \"F\", \"F\", \"M\", \"F\", \"F\", \"F\", \"F\", \"F\", \"F\", \"M\", \"F\", \"F\", \"F\", \"F\", \"M\", \"F\", \"M\", \"F\", \"F\", \"F\", \"F\", \"F\", \"M\", \"M\", \"F\", \"F\", \"M\", \"F\", \"F\", \"F\", \"F\", \"M\", \"F\", \"F\", \"F\", \"F\", \"F\", \"M\", \"F\", \"M\", \"F\", \"F\", \"F\", \"F\", \"M\", \"F\", \"F\", \"F\", \"F\", \"M\", \"F\", \"F\", \"F\", \"M\", \"F\", \"F\", \"F\", \"F\", \"F\", \"F\", \"F\", \"F\", \"F\", \"M\", \"F\", \"F\", \"F\", \"M\", \"F\", \"M\", \"M\", \"F\", \"M\", \"M\", \"M\", \"F\", \"M\", \"F\", \"M\", \"M\", \"M\", \"F\", \"F\", \"F\", \"M\", \"F\", \"M\", \"M\", \"F\", \"F\", \"M\", \"M\", \"F\", \"M\", \"F\", \"M\", \"M\", \"M\", \"F\", \"M\", \"F\", \"M\", \"F\", \"F\", \"F\", \"M\", \"F\", \"F\", \"M\", \"F\", \"F\", \"F\", \"M\", \"M\", \"M\", \"F\", \"M\", \"F\", \"F\", \"M\", \"F\", \"F\", \"F\", \"M\", \"M\", \"M\", \"M\", \"F\", \"M\", \"F\", \"F\", \"M\", \"F\", \"F\", \"F\", \"F\", \"F\", \"F\", \"M\", \"F\", \"M\", \"M\", \"M\", \"M\", \"F\", \"M\", \"F\", \"F\", \"F\", \"F\", \"F\", \"M\", \"F\", \"F\", \"M\", \"M\", \"M\", \"M\", \"F\", \"F\", \"M\", \"F\", \"F\", \"F\", \"F\", \"F\", \"F\", \"M\", \"F\", \"F\", \"F\", \"F\", \"M\", \"F\", \"F\", \"F\", \"F\", \"F\", \"F\", \"M\", \"M\", \"M\", \"F\", \"F\", \"F\", \"F\", \"M\", \"F\", \"F\", \"F\", \"M\", \"F\", \"F\", \"M\", \"M\", \"F\", \"F\", \"F\", \"F\", \"M\", \"F\", \"M\", \"F\", \"M\", \"F\", \"F\", \"M\", \"F\", \"M\", \"F\", \"F\", \"F\", \"M\", \"F\", \"F\", \"M\", \"M\", \"F\", \"F\", \"M\", \"F\", \"F\", \"F\", \"F\", \"M\", \"F\", \"M\", \"F\", \"F\", \"F\", \"F\", \"F\", \"M\", \"F\", \"M\", \"F\", \"F\", \"M\", \"F\", \"M\", \"M\", \"M\", \"M\", \"M\", \"F\", \"F\", \"M\", \"F\", \"M\", \"F\", \"F\", \"F\", \"M\", \"M\", \"M\", \"M\", \"F\", \"M\", \"F\", \"F\", \"M\", \"F\", \"M\", \"M\", \"M\", \"F\", \"F\", \"F\", \"F\", \"F\", \"F\", \"M\", \"M\", \"M\", \"F\", \"F\", \"F\", \"M\", \"F\", \"F\", \"F\", \"M\", \"M\", \"F\", \"F\", \"M\", \"F\", \"M\", \"F\", \"F\", \"F\", \"F\", \"F\", \"F\", \"F\", \"M\", \"F\", \"F\", \"F\", \"F\", \"F\", \"F\", \"F\", \"F\", \"F\", \"F\", \"F\", \"F\", \"F\", \"M\", \"M\", \"M\", \"F\", \"F\", \"F\", \"F\", \"F\", \"F\", \"F\", \"F\", \"F\", \"F\", \"F\", \"M\", \"M\", \"M\", \"F\", \"F\", \"F\", \"M\", \"F\", \"F\", \"F\", \"M\", \"F\", \"M\", \"M\", \"M\", \"M\", \"F\", \"F\", \"F\", \"M\", \"M\", \"M\", \"F\", \"M\", \"F\", \"M\", \"F\", \"F\", \"F\", \"F\", \"M\", \"M\", \"F\", \"M\", \"M\", \"M\", \"F\", \"F\", \"F\", \"F\", \"M\", \"M\", \"M\", \"M\", \"F\", \"F\", \"F\", \"M\", \"F\", \"F\", \"F\", \"F\", \"F\", \"F\", \"F\", \"M\", \"F\", \"F\", \"F\", \"M\", \"M\", \"M\", \"F\", \"F\", \"M\", \"F\", \"F\", \"F\", \"F\", \"F\", \"F\", \"M\", \"F\", \"M\", \"F\", \"M\", \"F\", \"F\", \"F\", \"M\", \"F\", \"F\", \"M\", \"F\", \"F\", \"F\", \"M\", \"F\", \"F\", \"M\", \"M\", \"F\", \"F\", \"F\", \"F\", \"F\", \"F\", \"F\", \"M\", \"F\", \"F\", \"F\", \"F\", \"F\", \"F\", \"M\", \"F\", \"F\", \"M\", \"F\", \"F\", \"F\", \"F\", \"F\", \"F\", \"M\", \"F\", \"F\", \"F\", \"F\", \"M\", \"M\", \"F\", \"M\", \"F\", \"M\", \"F\", \"F\", \"F\", \"F\", \"F\", \"F\", \"M\", \"M\", \"F\", \"M\", \"M\", \"F\", \"F\", \"F\", \"F\", \"M\", \"F\", \"F\", \"F\", \"M\", \"F\", \"F\", \"F\", \"M\", \"F\", \"F\", \"F\", \"F\", \"F\", \"M\", \"F\", \"F\", \"F\", \"F\", \"F\", \"M\", \"F\", \"F\", \"M\", \"F\", \"F\", \"F\", \"F\", \"M\", \"F\", \"F\", \"M\", \"F\", \"M\", \"F\", \"F\", \"F\", \"M\", \"M\", \"M\", \"F\", \"M\", \"F\", \"F\", \"F\", \"F\", \"F\", \"M\", \"M\", \"M\", \"F\", \"F\", \"M\", \"F\", \"F\", \"M\", \"F\", \"M\", \"M\", \"F\", \"M\", \"F\", \"F\", \"F\", \"F\", \"M\", \"M\", \"M\", \"M\", \"F\", \"M\", \"F\", \"F\", \"F\", \"F\", \"F\", \"M\", \"F\", \"M\", \"F\", \"M\", \"M\", \"F\", \"F\", \"M\", \"F\", \"M\", \"F\", \"M\", \"F\", \"M\", \"F\", \"M\", \"M\", \"F\", \"M\", \"F\", \"F\", \"M\", \"F\", \"F\", \"F\", \"M\", \"F\", \"F\", \"F\", \"M\", \"F\", \"M\", \"M\", \"M\", \"M\", \"M\", \"F\", \"F\", \"M\", \"F\", \"F\", \"F\", \"F\", \"F\", \"F\", \"M\", \"F\", \"F\", \"F\", \"F\", \"F\", \"F\", \"F\", \"F\", \"F\", \"M\", \"F\", \"M\", \"F\", \"M\", \"F\", \"F\", \"F\", \"F\", \"F\", \"M\", \"F\", \"F\", \"M\", \"M\", \"M\", \"M\", \"F\", \"F\", \"F\", \"F\", \"F\", \"M\", \"M\", \"M\", \"F\", \"F\", \"F\", \"F\", \"M\", \"F\", \"F\", \"F\", \"F\", \"F\", \"F\", \"F\", \"F\", \"F\", \"F\", \"F\", \"F\", \"F\", \"F\", \"M\", \"M\", \"M\", \"M\", \"M\", \"F\", \"F\", \"F\", \"F\", \"M\", \"M\", \"M\", \"M\", \"F\", \"F\", \"F\", \"F\", \"F\", \"F\", \"F\", \"F\", \"F\", \"F\", \"F\", \"F\", \"M\", \"M\", \"F\", \"F\", \"F\", \"F\", \"F\", \"F\", \"F\", \"F\", \"F\", \"F\", \"M\", \"F\", \"F\", \"F\", \"F\", \"M\", \"F\", \"F\", \"F\", \"F\", \"F\", \"M\", \"M\", \"F\", \"F\", \"F\", \"F\", \"M\", \"F\", \"F\", \"M\", \"F\", \"F\", \"F\", \"F\", \"F\", \"F\", \"F\", \"F\", \"F\", \"M\", \"F\", \"M\", \"F\", \"F\", \"F\", \"M\", \"F\", \"F\", \"M\", \"M\", \"F\", \"F\", \"F\", \"M\", \"M\", \"F\", \"F\", \"F\", \"M\", \"M\", \"F\", \"F\", \"F\", \"F\", \"F\", \"F\", \"F\", \"F\", \"F\", \"F\", \"F\", \"M\", \"F\", \"F\", \"F\", \"F\", \"F\", \"F\", \"M\", \"F\", \"M\", \"F\", \"F\", \"F\", \"F\", \"M\", \"F\", \"F\", \"F\", \"F\", \"F\", \"M\", \"F\", \"F\", \"F\", \"F\", \"M\", \"F\", \"F\", \"M\", \"M\", \"F\", \"M\", \"F\", \"M\", \"F\", \"M\", \"F\", \"M\", \"M\", \"F\", \"M\", \"F\", \"F\", \"F\", \"F\", \"F\", \"F\", \"F\", \"F\", \"M\", \"F\", \"F\", \"M\", \"F\", \"M\", \"F\", \"F\", \"F\", \"F\", \"F\", \"F\", \"F\", \"F\", \"F\", \"M\", \"F\", \"F\", \"M\", \"F\", \"F\", \"F\", \"F\", \"F\", \"M\", \"F\", \"M\", \"F\", \"F\", \"M\", \"F\", \"F\", \"F\", \"F\", \"F\", \"F\", \"F\", \"M\", \"F\", \"F\", \"F\", \"F\", \"F\", \"M\", \"M\", \"F\", \"F\", \"M\", \"F\", \"F\", \"F\", \"F\", \"F\", \"F\", \"M\", \"F\", \"F\", \"F\", \"F\", \"M\", \"M\", \"F\", \"M\", \"F\", \"M\", \"F\", \"F\", \"F\", \"F\", \"F\", \"M\", \"F\", \"M\", \"M\", \"F\", \"F\", \"F\", \"F\", \"M\", \"F\", \"M\", \"F\", \"F\", \"M\", \"M\", \"F\", \"M\", \"F\", \"M\", \"F\", \"M\", \"M\", \"F\", \"F\", \"F\", \"F\", \"F\", \"F\", \"F\", \"M\", \"F\", \"M\", \"F\", \"F\", \"F\", \"F\", \"F\", \"M\", \"F\", \"M\", \"M\", \"F\", \"M\", \"F\", \"M\", \"F\", \"F\", \"F\", \"M\", \"F\", \"M\", \"F\", \"M\", \"M\", \"M\", \"M\", \"F\", \"F\", \"M\", \"F\", \"F\", \"M\", \"F\", \"F\", \"F\", \"F\", \"F\", \"F\", \"F\", \"F\", \"F\", \"F\", \"M\", \"F\", \"F\", \"M\", \"F\", \"F\", \"F\", \"F\", \"M\", \"F\", \"M\", \"F\", \"F\", \"F\", \"M\", \"F\", \"M\", \"F\", \"F\", \"F\", \"F\", \"F\", \"M\", \"F\", \"F\", \"F\", \"F\", \"F\", \"F\", \"M\", \"M\", \"M\", \"F\", \"F\", \"F\", \"F\", \"F\", \"M\", \"F\", \"F\", \"F\", \"M\", \"F\", \"M\", \"F\", \"F\", \"F\", \"F\", \"M\", \"F\", \"F\", \"M\", \"F\", \"F\", \"M\", \"F\", \"M\", \"F\", \"F\", \"F\", \"F\", \"F\", \"F\", \"F\", \"F\", \"F\", \"M\", \"F\", \"F\", \"F\", \"F\", \"M\", \"F\", \"F\", \"F\", \"F\", \"F\", \"M\", \"F\", \"M\", \"M\", \"F\", \"F\", \"F\", \"F\", \"F\", \"M\", \"F\", \"M\", \"M\", \"F\", \"F\", \"F\", \"F\", \"F\", \"F\", \"M\", \"M\", \"M\", \"F\", \"M\", \"F\", \"F\", \"F\", \"F\", \"F\", \"F\", \"F\", \"M\", \"F\", \"M\", \"F\", \"F\", \"F\", \"M\", \"F\", \"F\", \"F\", \"F\", \"F\", \"F\", \"F\", \"F\", \"M\", \"F\", \"F\", \"F\", \"F\", \"M\", \"F\", \"F\", \"M\", \"F\", \"F\", \"F\", \"M\", \"F\", \"F\", \"M\", \"F\", \"F\", \"F\", \"F\", \"F\", \"F\", \"M\", \"F\", \"F\", \"F\", \"M\", \"F\", \"F\", \"F\", \"M\", \"F\", \"F\", \"M\", \"F\", \"F\", \"F\", \"F\", \"F\", \"F\", \"M\", \"F\", \"F\", \"M\", \"F\", \"F\", \"F\", \"F\", \"F\", \"F\", \"F\", \"F\", \"F\", \"F\", \"M\", \"F\", \"M\", \"F\", \"F\", \"F\", \"F\", \"F\", \"F\", \"F\", \"M\", \"F\", \"F\", \"F\", \"F\", \"F\", \"F\", \"M\", \"F\", \"M\", \"F\", \"F\", \"M\", \"F\", \"F\", \"F\", \"F\", \"F\", \"F\", \"F\", \"M\", \"F\", \"F\", \"F\", \"F\", \"F\", \"M\", \"F\", \"F\", \"F\", \"F\", \"F\", \"F\", \"F\", \"F\", \"F\", \"M\", \"F\", \"F\", \"F\", \"M\", \"M\", \"F\", \"M\", \"M\", \"F\", \"F\", \"F\", \"F\", \"F\", \"M\", \"M\", \"M\", \"M\", \"M\", \"M\", \"M\", \"M\", \"F\", \"M\", \"F\", \"F\", \"M\", \"F\", \"F\", \"F\", \"M\", \"F\", \"M\", \"F\", \"F\", \"F\", \"M\", \"M\", \"F\", \"M\", \"F\", \"F\", \"F\", \"M\", \"F\", \"F\", \"M\", \"F\", \"F\", \"M\", \"M\", \"F\", \"F\", \"F\", \"F\", \"F\", \"F\", \"M\", \"F\", \"M\", \"M\", \"F\", \"M\", \"M\", \"M\", \"M\", \"M\", \"F\", \"F\", \"F\", \"M\", \"M\", \"F\", \"F\", \"M\", \"F\", \"F\", \"M\", \"F\", \"F\", \"M\", \"F\", \"F\", \"F\", \"F\", \"F\", \"M\", \"F\", \"M\", \"M\", \"F\", \"F\", \"F\", \"M\", \"F\", \"F\", \"M\", \"M\", \"F\", \"F\", \"M\", \"F\", \"F\", \"M\", \"F\", \"F\", \"F\", \"F\", \"F\", \"F\", \"F\", \"F\", \"F\", \"F\", \"F\", \"F\", \"F\", \"F\", \"F\", \"M\", \"F\", \"F\", \"M\", \"M\", \"F\", \"F\", \"F\", \"M\", \"M\", \"M\", \"F\", \"F\", \"F\", \"F\", \"F\", \"M\", \"M\", \"M\", \"F\", \"F\", \"M\", \"F\", \"M\", \"M\", \"F\", \"F\", \"F\", \"F\", \"M\", \"F\", \"F\", \"F\", \"F\", \"M\", \"F\", \"F\", \"M\", \"M\", \"F\", \"F\", \"F\", \"F\", \"F\", \"F\", \"F\", \"M\", \"M\", \"F\", \"F\", \"F\", \"F\", \"F\", \"F\", \"M\", \"M\", \"F\", \"M\", \"F\", \"F\", \"M\", \"M\", \"F\", \"M\", \"F\", \"F\", \"M\", \"F\", \"M\", \"F\", \"F\", \"F\", \"M\", \"F\", \"F\", \"M\", \"F\", \"F\", \"M\", \"F\", \"M\", \"M\", \"F\", \"F\", \"F\", \"F\", \"F\", \"F\", \"M\", \"F\", \"F\", \"M\", \"F\", \"F\", \"M\", \"F\", \"F\", \"F\", \"F\", \"F\", \"F\", \"M\", \"F\", \"M\", \"F\", \"F\", \"M\", \"F\", \"F\", \"F\", \"F\", \"F\", \"F\", \"F\", \"F\", \"M\", \"F\", \"F\", \"M\", \"M\", \"F\", \"F\", \"M\", \"M\", \"F\", \"F\", \"F\", \"M\", \"M\", \"M\", \"F\", \"M\", \"F\", \"M\", \"F\", \"F\", \"F\", \"M\", \"M\", \"F\", \"F\", \"M\", \"F\", \"F\", \"F\", \"M\", \"F\", \"F\", \"F\", \"M\", \"M\", \"M\", \"F\", \"M\", \"F\", \"F\", \"M\", \"M\", \"F\", \"F\", \"M\", \"F\", \"F\", \"M\", \"F\", \"F\", \"F\", \"F\", \"M\", \"F\", \"F\", \"M\", \"M\", \"M\", \"F\", \"F\", \"F\", \"F\", \"F\", \"M\", \"F\", \"F\", \"M\", \"F\", \"F\", \"F\", \"M\", \"M\", \"M\", \"F\", \"F\", \"F\", \"F\", \"F\", \"F\", \"F\", \"M\", \"F\", \"M\", \"F\", \"F\", \"F\", \"F\", \"M\", \"F\", \"F\", \"M\", \"F\", \"F\", \"F\", \"F\", \"F\", \"F\", \"M\", \"M\", \"F\", \"F\", \"F\", \"F\", \"F\", \"M\", \"F\", \"F\", \"M\", \"M\", \"M\", \"M\", \"M\", \"M\", \"F\", \"M\", \"M\", \"M\", \"F\", \"F\", \"F\", \"F\", \"M\", \"M\", \"F\", \"F\", \"F\", \"F\", \"M\", \"F\", \"M\", \"F\", \"F\", \"F\", \"F\", \"M\", \"F\", \"M\", \"M\", \"F\", \"F\", \"F\", \"M\", \"F\", \"F\", \"F\", \"M\", \"M\", \"F\", \"F\", \"M\", \"F\", \"F\", \"M\", \"F\", \"M\", \"F\", \"M\", \"F\", \"F\", \"F\", \"F\", \"F\", \"F\", \"M\", \"M\", \"F\", \"M\", \"F\", \"M\", \"F\", \"M\", \"F\", \"F\", \"F\", \"M\", \"M\", \"F\", \"M\", \"F\", \"F\", \"F\", \"M\", \"F\", \"M\", \"F\", \"F\", \"F\", \"M\", \"F\", \"F\", \"F\", \"F\", \"F\", \"M\", \"M\", \"F\", \"M\", \"M\", \"M\", \"M\", \"F\", \"M\", \"M\", \"F\", \"F\", \"M\", \"F\", \"M\", \"M\", \"F\", \"F\", \"F\", \"M\", \"F\", \"F\", \"F\", \"F\", \"F\", \"M\", \"M\", \"F\", \"F\", \"M\", \"F\", \"F\", \"F\", \"F\", \"F\", \"F\", \"F\", \"M\", \"F\", \"M\", \"F\", \"F\", \"F\", \"F\", \"F\", \"F\", \"F\", \"F\", \"F\", \"F\", \"M\", \"M\", \"F\", \"M\", \"M\", \"M\", \"F\", \"M\", \"F\", \"F\", \"F\", \"F\", \"F\", \"F\", \"F\", \"F\", \"F\", \"M\", \"M\", \"M\", \"F\", \"F\", \"M\", \"M\", \"F\", \"M\", \"F\", \"M\", \"F\", \"M\", \"F\", \"M\", \"F\", \"M\", \"F\", \"M\", \"F\", \"F\", \"F\", \"F\", \"F\", \"F\", \"F\", \"F\", \"F\", \"F\", \"F\", \"F\", \"F\", \"M\", \"F\", \"F\", \"M\", \"F\", \"M\", \"M\", \"F\", \"F\", \"M\", \"M\", \"M\", \"M\", \"F\", \"F\", \"F\", \"F\", \"M\", \"F\", \"M\", \"F\", \"F\", \"F\", \"F\", \"F\", \"F\", \"F\", \"F\", \"M\", \"F\", \"M\", \"M\", \"M\", \"M\", \"F\", \"M\", \"F\", \"M\", \"F\", \"M\", \"M\", \"M\", \"M\", \"M\", \"F\", \"M\", \"M\", \"F\", \"F\", \"F\", \"F\", \"M\", \"F\", \"F\", \"F\", \"F\", \"F\", \"F\", \"F\", \"F\", \"F\", \"F\", \"M\", \"F\", \"M\", \"F\", \"M\", \"M\", \"F\", \"F\", \"F\", \"F\", \"M\", \"F\", \"M\", \"F\", \"F\", \"M\", \"M\", \"F\", \"F\", \"F\", \"M\", \"M\", \"F\", \"F\", \"M\", \"F\", \"M\", \"M\", \"M\", \"F\", \"M\", \"F\", \"F\", \"F\", \"F\", \"F\", \"M\", \"F\", \"F\", \"F\", \"F\", \"M\", \"F\", \"F\", \"F\", \"M\", \"F\", \"F\", \"F\", \"F\", \"F\", \"F\", \"F\", \"F\", \"F\", \"F\", \"M\", \"F\", \"M\", \"M\", \"F\", \"M\", \"F\", \"F\", \"M\", \"M\", \"F\", \"F\", \"M\", \"F\", \"M\", \"F\", \"F\", \"F\", \"F\", \"F\", \"F\", \"F\", \"M\", \"F\", \"M\", \"F\", \"M\", \"F\", \"F\", \"M\", \"F\", \"F\", \"M\", \"M\", \"M\", \"M\", \"F\", \"F\", \"M\", \"F\", \"F\", \"F\", \"F\", \"M\", \"M\", \"M\", \"M\", \"F\", \"M\", \"F\", \"F\", \"F\", \"F\", \"F\", \"M\", \"F\", \"F\", \"M\", \"M\", \"F\", \"M\", \"F\", \"M\", \"F\", \"F\", \"F\", \"M\", \"M\", \"M\", \"M\", \"F\", \"F\", \"F\", \"F\", \"F\", \"M\", \"F\", \"F\", \"M\", \"F\", \"M\", \"F\", \"F\", \"F\", \"F\", \"M\", \"M\", \"F\", \"F\", \"F\", \"M\", \"M\", \"F\", \"F\", \"M\", \"F\", \"F\", \"M\", \"M\", \"M\", \"M\", \"F\", \"F\", \"F\", \"F\", \"M\", \"M\", \"F\", \"M\", \"F\", \"F\", \"F\", \"F\", \"F\", \"M\", \"F\", \"F\", \"M\", \"M\", \"F\", \"F\", \"F\", \"M\", \"F\", \"M\", \"F\", \"F\", \"M\", \"M\", \"F\", \"F\", \"F\", \"F\", \"F\", \"M\", \"F\", \"M\", \"M\", \"M\", \"F\", \"F\", \"M\", \"F\", \"F\", \"F\", \"F\", \"F\", \"F\", \"F\", \"F\", \"M\", \"M\", \"F\", \"M\", \"M\", \"F\", \"F\", \"F\", \"F\", \"M\", \"F\", \"M\", \"F\", \"F\", \"F\", \"F\", \"F\", \"F\", \"F\", \"F\", \"M\", \"F\", \"F\", \"F\", \"F\", \"F\", \"F\", \"F\", \"F\", \"F\", \"M\", \"M\", \"F\", \"F\", \"M\", \"F\", \"F\", \"M\", \"M\", \"F\", \"M\", \"F\", \"M\", \"F\", \"F\", \"F\", \"F\", \"F\", \"M\", \"F\", \"M\", \"F\", \"M\", \"M\", \"M\", \"F\", \"F\", \"F\", \"F\", \"F\", \"F\", \"M\", \"F\", \"F\", \"F\", \"F\", \"M\", \"F\", \"F\", \"F\", \"F\", \"F\", \"F\", \"M\", \"F\", \"F\", \"M\", \"F\", \"F\", \"F\", \"F\", \"F\", \"F\", \"F\", \"F\", \"F\", \"F\", \"F\", \"M\", \"F\", \"F\", \"M\", \"F\", \"M\", \"F\", \"F\", \"F\", \"F\", \"F\", \"F\", \"M\", \"M\", \"M\", \"F\", \"M\", \"F\", \"F\", \"F\", \"M\", \"F\", \"F\", \"M\", \"F\", \"M\", \"F\", \"M\", \"M\", \"M\", \"F\", \"F\", \"F\", \"F\", \"M\", \"M\", \"M\", \"M\", \"F\", \"M\", \"F\", \"F\", \"M\", \"M\", \"M\", \"F\", \"F\", \"M\", \"M\", \"M\", \"F\", \"F\", \"M\", \"F\", \"F\", \"M\", \"F\", \"F\", \"F\", \"M\", \"F\", \"F\", \"F\", \"F\", \"M\", \"F\", \"F\", \"F\", \"F\", \"F\", \"F\", \"M\", \"M\", \"M\", \"F\", \"F\", \"M\", \"F\", \"F\", \"M\", \"F\", \"F\", \"F\", \"F\", \"F\", \"F\", \"F\", \"M\", \"F\", \"F\", \"F\", \"F\", \"F\", \"M\", \"F\", \"M\", \"F\", \"M\", \"F\", \"F\", \"F\", \"F\", \"F\", \"F\", \"F\", \"F\", \"F\", \"F\", \"F\", \"F\", \"F\", \"M\", \"F\", \"M\", \"M\", \"F\", \"F\", \"M\", \"F\", \"F\", \"M\", \"F\", \"F\", \"F\", \"F\", \"M\", \"F\", \"M\", \"F\", \"M\", \"F\", \"F\", \"M\", \"M\", \"F\", \"F\", \"F\", \"F\", \"F\", \"M\", \"M\", \"M\", \"M\", \"F\", \"F\", \"M\", \"F\", \"F\", \"M\", \"M\", \"F\", \"F\", \"F\", \"F\", \"F\", \"M\", \"F\", \"F\", \"F\", \"F\", \"F\", \"F\", \"F\", \"F\", \"F\", \"M\", \"M\", \"F\", \"F\", \"M\", \"F\", \"M\", \"M\", \"M\", \"M\", \"M\", \"M\", \"M\", \"F\", \"M\", \"M\", \"F\", \"M\", \"M\", \"F\", \"F\", \"F\", \"F\", \"F\", \"F\", \"F\", \"F\", \"F\", \"M\", \"F\", \"F\", \"M\", \"F\", \"F\", \"F\", \"M\", \"F\", \"F\", \"M\", \"F\", \"F\", \"F\", \"F\", \"F\", \"F\", \"F\", \"M\", \"F\", \"M\", \"M\", \"M\", \"F\", \"F\", \"F\", \"F\", \"F\", \"F\", \"M\", \"F\", \"M\", \"F\", \"F\", \"F\", \"M\", \"M\", \"F\", \"F\", \"F\", \"M\", \"M\", \"F\", \"F\", \"F\", \"M\", \"M\", \"M\", \"M\", \"M\", \"M\", \"F\", \"F\", \"F\", \"F\", \"F\", \"F\", \"F\", \"M\", \"F\", \"M\", \"F\", \"F\", \"F\", \"M\", \"F\", \"M\", \"F\", \"F\", \"M\", \"F\", \"M\", \"F\", \"F\", \"F\", \"F\", \"M\", \"M\", \"F\", \"F\", \"M\", \"F\", \"F\", \"M\", \"M\", \"F\", \"M\", \"M\", \"F\", \"F\", \"M\", \"M\", \"F\", \"F\", \"F\", \"F\", \"M\", \"M\", \"M\", \"M\", \"F\", \"F\", \"F\", \"F\", \"M\", \"F\", \"M\", \"F\", \"F\", \"F\", \"M\", \"F\", \"M\", \"F\", \"M\", \"M\", \"F\", \"F\", \"F\", \"F\", \"F\", \"F\", \"M\", \"M\", \"F\", \"F\", \"F\", \"F\", \"M\", \"F\", \"F\", \"M\", \"M\", \"F\", \"M\", \"F\", \"F\", \"F\", \"M\", \"M\", \"M\", \"M\", \"F\", \"M\", \"M\", \"F\", \"F\", \"F\", \"F\", \"F\", \"M\", \"M\", \"M\", \"M\", \"F\", \"F\", \"F\", \"F\", \"F\", \"M\", \"F\", \"M\", \"F\", \"M\", \"M\", \"F\", \"F\", \"F\", \"F\", \"F\", \"F\", \"F\", \"M\", \"F\", \"F\", \"F\", \"F\", \"F\", \"F\", \"F\", \"F\", \"M\", \"F\", \"M\", \"F\", \"M\", \"F\", \"F\", \"F\", \"F\", \"F\", \"F\", \"F\", \"M\", \"M\", \"F\", \"F\", \"F\", \"F\", \"F\", \"F\", \"M\", \"M\", \"F\", \"F\", \"F\", \"F\", \"F\", \"F\", \"F\", \"F\", \"F\", \"F\", \"M\", \"F\", \"M\", \"F\", \"F\", \"F\", \"F\", \"F\", \"F\", \"F\", \"F\", \"F\", \"F\", \"F\", \"F\", \"M\", \"F\", \"F\", \"F\", \"F\", \"F\", \"F\", \"F\", \"M\", \"M\", \"M\", \"M\", \"F\", \"F\", \"F\", \"F\", \"M\", \"F\", \"F\", \"F\", \"M\", \"F\", \"M\", \"M\", \"M\", \"F\", \"F\", \"M\", \"F\", \"M\", \"F\", \"F\", \"M\", \"F\", \"M\", \"F\", \"F\", \"F\", \"F\", \"M\", \"M\", \"F\", \"M\", \"F\", \"F\", \"M\", \"M\", \"M\", \"M\", \"F\", \"M\", \"F\", \"F\", \"F\", \"F\", \"M\", \"F\", \"M\", \"M\", \"M\", \"F\", \"M\", \"M\", \"F\", \"F\", \"M\", \"F\", \"M\", \"F\", \"M\", \"F\", \"F\", \"F\", \"M\", \"F\", \"F\", \"F\", \"F\", \"M\", \"F\", \"F\", \"M\", \"F\", \"F\", \"M\", \"F\", \"F\", \"F\", \"F\", \"M\", \"F\", \"M\", \"F\", \"F\", \"M\", \"F\", \"F\", \"M\", \"F\", \"M\", \"M\", \"F\", \"M\", \"F\", \"F\", \"F\", \"F\", \"F\", \"F\", \"F\", \"F\", \"M\", \"F\", \"M\", \"F\", \"M\", \"F\", \"F\", \"F\", \"M\", \"M\", \"F\", \"F\", \"F\", \"F\", \"F\", \"F\", \"M\", \"F\", \"M\", \"F\", \"M\", \"M\", \"M\", \"M\", \"M\", \"F\", \"F\", \"F\", \"F\", \"M\", \"M\", \"F\", \"F\", \"F\", \"F\", \"F\", \"F\", \"M\", \"F\", \"F\", \"M\", \"M\", \"F\", \"F\", \"F\", \"F\", \"M\", \"M\", \"F\", \"F\", \"F\", \"F\", \"F\", \"F\", \"M\", \"F\", \"F\", \"M\", \"M\", \"F\", \"F\", \"M\", \"M\", \"M\", \"F\", \"F\", \"F\", \"F\", \"F\", \"F\", \"F\", \"F\", \"M\", \"F\", \"M\", \"F\", \"F\", \"F\", \"M\", \"F\", \"F\", \"F\", \"M\", \"M\", \"M\", \"F\", \"F\", \"F\", \"M\", \"M\", \"F\", \"M\", \"F\", \"M\", \"F\", \"F\", \"F\", \"M\", \"F\", \"F\", \"M\", \"F\", \"M\", \"F\", \"M\", \"F\", \"M\", \"F\", \"F\", \"M\", \"M\", \"M\", \"F\", \"F\", \"M\", \"M\", \"M\", \"F\", \"F\", \"F\", \"M\", \"M\", \"F\", \"F\", \"M\", \"F\", \"F\", \"M\", \"M\", \"M\", \"F\", \"F\", \"F\", \"F\", \"M\", \"M\", \"M\", \"F\", \"M\", \"M\", \"F\", \"F\", \"F\", \"F\", \"M\", \"F\", \"F\", \"M\", \"F\", \"F\", \"F\", \"M\", \"F\", \"M\", \"F\", \"M\", \"F\", \"F\", \"F\", \"M\", \"M\", \"F\", \"M\", \"F\", \"F\", \"F\", \"M\", \"F\", \"M\", \"M\", \"M\", \"M\", \"M\", \"F\", \"F\", \"F\", \"F\", \"F\", \"F\", \"F\", \"F\", \"F\", \"F\", \"M\", \"F\", \"F\", \"F\", \"M\", \"M\", \"M\", \"M\", \"F\", \"F\", \"M\", \"F\", \"F\", \"M\", \"F\", \"M\", \"F\", \"F\", \"F\", \"F\", \"F\", \"F\", \"F\", \"M\", \"F\", \"F\", \"F\", \"F\", \"F\", \"F\", \"M\", \"M\", \"M\", \"M\", \"F\", \"F\", \"F\", \"F\", \"M\", \"F\", \"F\", \"F\", \"F\", \"F\", \"M\", \"F\", \"F\", \"M\", \"F\", \"M\", \"M\", \"F\", \"M\", \"F\", \"F\", \"M\", \"F\", \"M\", \"F\", \"M\", \"F\", \"F\", \"F\", \"M\", \"M\", \"F\", \"F\", \"F\", \"F\", \"F\", \"F\", \"M\", \"M\", \"M\", \"F\", \"F\", \"F\", \"F\", \"F\", \"F\", \"M\", \"M\", \"F\", \"F\", \"F\", \"F\", \"F\", \"F\", \"F\", \"F\", \"F\", \"F\", \"F\", \"F\", \"M\", \"F\", \"F\", \"F\", \"F\", \"F\", \"F\", \"F\", \"F\", \"F\", \"F\", \"F\", \"F\", \"F\", \"M\", \"M\", \"M\", \"F\", \"F\", \"M\", \"F\", \"F\", \"F\", \"M\", \"M\", \"F\", \"F\", \"M\", \"M\", \"F\", \"F\", \"F\", \"M\", \"F\", \"F\", \"M\", \"F\", \"F\", \"F\", \"F\", \"F\", \"F\", \"F\", \"F\", \"F\", \"F\", \"F\", \"F\", \"F\", \"F\", \"M\", \"M\", \"F\", \"F\", \"F\", \"M\", \"M\", \"F\", \"M\", \"F\", \"M\", \"F\", \"F\", \"F\", \"M\", \"M\", \"F\", \"F\", \"F\", \"M\", \"F\", \"F\", \"F\", \"M\", \"M\", \"F\", \"M\", \"M\", \"F\", \"M\", \"F\", \"F\", \"F\", \"M\", \"F\", \"F\", \"M\", \"M\", \"F\", \"F\", \"M\", \"M\", \"F\", \"F\", \"M\", \"F\", \"F\", \"M\", \"F\", \"M\", \"M\", \"M\", \"M\", \"F\", \"F\", \"M\", \"F\", \"M\", \"F\", \"F\", \"F\", \"M\", \"M\", \"M\", \"M\", \"F\", \"F\", \"M\", \"F\", \"M\", \"F\", \"M\", \"M\", \"M\", \"F\", \"M\", \"F\", \"M\", \"M\", \"F\", \"M\", \"F\", \"F\", \"F\", \"F\", \"F\", \"M\", \"F\", \"M\", \"M\", \"M\", \"M\", \"M\", \"M\", \"F\", \"M\", \"F\", \"M\", \"M\", \"F\", \"F\", \"F\", \"M\", \"F\", \"F\", \"M\", \"F\", \"F\", \"F\", \"F\", \"F\", \"F\", \"F\", \"M\", \"F\", \"M\", \"F\", \"M\", \"M\", \"F\", \"F\", \"M\", \"F\", \"M\", \"M\", \"F\", \"F\", \"F\", \"M\", \"F\", \"F\", \"F\", \"M\", \"M\", \"M\", \"F\", \"F\", \"F\", \"F\", \"F\", \"M\", \"F\", \"F\", \"M\", \"F\", \"M\", \"F\", \"F\", \"F\", \"F\", \"F\", \"F\", \"F\", \"M\", \"F\", \"M\", \"M\", \"F\", \"F\", \"F\", \"F\", \"F\", \"F\", \"M\", \"F\", \"M\", \"M\", \"F\", \"F\", \"F\", \"F\", \"F\", \"F\", \"F\", \"F\", \"F\", \"M\", \"M\", \"F\", \"F\", \"F\", \"F\", \"M\", \"M\", \"F\", \"F\", \"F\", \"M\", \"F\", \"F\", \"F\", \"F\", \"F\", \"F\", \"F\", \"M\", \"F\", \"F\", \"M\", \"M\", \"M\", \"F\", \"F\", \"M\", \"F\", \"M\", \"F\", \"F\", \"F\", \"F\", \"M\", \"F\", \"M\", \"M\", \"F\", \"F\", \"F\", \"M\", \"F\", \"F\", \"F\", \"F\", \"M\", \"F\", \"F\", \"F\", \"F\", \"F\", \"M\", \"F\", \"F\", \"M\", \"F\", \"M\", \"F\", \"F\", \"F\", \"F\", \"M\", \"F\", \"F\", \"F\", \"F\", \"F\", \"F\", \"F\", \"F\", \"F\", \"F\", \"M\", \"F\", \"F\", \"F\", \"F\", \"M\", \"F\", \"F\", \"F\", \"M\", \"M\", \"F\", \"F\", \"M\", \"F\", \"F\", \"F\", \"M\", \"F\", \"F\", \"M\", \"F\", \"M\", \"F\", \"M\", \"F\", \"F\", \"F\", \"F\", \"F\", \"F\", \"M\", \"F\", \"M\", \"M\", \"F\", \"F\", \"F\", \"F\", \"F\", \"F\", \"F\", \"M\", \"F\", \"M\", \"F\", \"F\", \"M\", \"F\", \"F\", \"F\", \"F\", \"F\", \"F\", \"F\", \"F\", \"F\", \"F\", \"F\", \"F\", \"F\", \"F\", \"F\", \"M\", \"F\", \"F\", \"F\", \"M\", \"F\", \"F\", \"F\", \"F\", \"F\", \"F\", \"F\", \"M\", \"F\", \"F\", \"M\", \"F\", \"F\", \"F\", \"F\", \"F\", \"F\", \"F\", \"F\", \"F\", \"F\", \"F\", \"F\", \"F\", \"F\", \"M\", \"F\", \"F\", \"M\", \"F\", \"F\", \"F\", \"F\", \"F\", \"F\", \"M\", \"F\", \"M\", \"F\", \"F\", \"F\", \"F\", \"F\", \"F\", \"F\", \"F\", \"F\", \"F\", \"F\", \"M\", \"M\", \"F\", \"F\", \"F\", \"F\", \"F\", \"F\", \"F\", \"M\", \"M\", \"F\", \"F\", \"F\", \"M\", \"M\", \"F\", \"F\", \"F\", \"F\", \"F\", \"M\", \"M\", \"M\", \"F\", \"F\", \"F\", \"F\", \"M\", \"F\", \"M\", \"M\", \"F\", \"F\", \"M\", \"M\", \"F\", \"F\", \"F\", \"F\", \"F\", \"F\", \"F\", \"M\", \"F\", \"M\", \"M\", \"M\", \"F\", \"F\", \"M\", \"F\", \"F\", \"F\", \"F\", \"F\", \"F\", \"F\", \"F\", \"M\", \"F\", \"M\", \"F\", \"F\", \"M\", \"M\", \"F\", \"F\", \"F\", \"M\", \"M\", \"M\", \"M\", \"M\", \"F\", \"F\", \"M\", \"F\", \"M\", \"F\", \"F\", \"M\", \"F\", \"M\", \"F\", \"F\", \"F\", \"F\", \"F\", \"M\", \"F\", \"M\", \"F\", \"M\", \"F\", \"F\", \"F\", \"F\", \"M\", \"M\", \"M\", \"F\", \"F\", \"F\", \"M\", \"M\", \"F\", \"F\", \"M\", \"F\", \"F\", \"M\", \"F\", \"F\", \"M\", \"M\", \"F\", \"M\", \"F\", \"F\", \"F\", \"F\", \"M\", \"F\", \"M\", \"F\", \"F\", \"F\", \"M\", \"M\", \"M\", \"M\", \"F\", \"F\", \"F\", \"F\", \"F\", \"F\", \"F\", \"F\", \"F\", \"F\", \"F\", \"M\", \"F\", \"F\", \"F\", \"M\", \"F\", \"M\", \"F\", \"F\", \"F\", \"F\", \"F\", \"F\", \"M\", \"F\", \"F\", \"M\", \"F\", \"F\", \"F\", \"F\", \"F\", \"M\", \"F\", \"F\", \"F\", \"F\", \"F\", \"F\", \"F\", \"F\", \"F\", \"M\", \"M\", \"F\", \"F\", \"F\", \"M\", \"F\", \"F\", \"F\", \"F\", \"F\", \"F\", \"F\", \"M\", \"F\", \"M\", \"M\", \"F\", \"F\", \"F\", \"F\", \"F\", \"F\", \"F\", \"M\", \"F\", \"M\", \"F\", \"M\", \"F\", \"M\", \"M\", \"F\", \"F\", \"F\", \"M\", \"M\", \"M\", \"F\", \"F\", \"F\", \"F\", \"M\", \"F\", \"F\", \"F\", \"F\", \"F\", \"F\", \"M\", \"F\", \"F\", \"F\", \"M\", \"F\", \"F\", \"F\", \"F\", \"F\", \"F\", \"F\", \"F\", \"F\", \"F\", \"F\", \"F\", \"F\", \"F\", \"M\", \"F\", \"F\", \"F\", \"F\", \"F\", \"F\", \"F\", \"M\", \"F\", \"F\", \"F\", \"F\", \"F\", \"F\", \"F\", \"F\", \"F\", \"F\", \"F\", \"F\", \"F\", \"F\", \"M\", \"M\", \"F\", \"F\", \"F\", \"F\", \"M\", \"F\", \"F\", \"F\", \"F\", \"F\", \"F\", \"F\", \"F\", \"F\", \"F\", \"F\", \"F\", \"F\", \"M\", \"F\", \"F\", \"M\", \"F\", \"M\", \"M\", \"F\", \"M\", \"M\", \"F\", \"F\", \"M\", \"M\", \"M\", \"M\", \"F\", \"M\", \"F\", \"M\", \"F\", \"M\", \"F\", \"F\", \"M\", \"F\", \"F\", \"F\", \"F\", \"M\", \"F\", \"F\", \"F\", \"F\", \"F\", \"F\", \"M\", \"M\", \"M\", \"F\", \"F\", \"F\", \"M\", \"F\", \"F\", \"F\", \"F\", \"F\", \"F\", \"M\", \"F\", \"F\", \"M\", \"F\", \"M\", \"F\", \"F\", \"F\", \"F\", \"F\", \"F\", \"F\", \"F\", \"M\", \"F\", \"F\", \"M\", \"M\", \"M\", \"F\", \"F\", \"M\", \"F\", \"M\", \"F\", \"M\", \"M\", \"M\", \"M\", \"M\", \"M\", \"F\", \"M\", \"M\", \"F\", \"M\", \"F\", \"F\", \"M\", \"M\", \"F\", \"M\", \"F\", \"F\", \"F\", \"F\", \"F\", \"F\", \"F\", \"F\", \"M\", \"M\", \"F\", \"M\", \"F\", \"M\", \"F\", \"F\", \"M\", \"F\", \"F\", \"F\", \"F\", \"M\", \"F\", \"F\", \"M\", \"F\", \"F\", \"F\", \"F\", \"F\", \"F\", \"M\", \"F\", \"M\", \"F\", \"F\", \"F\", \"F\", \"F\", \"F\", \"F\", \"M\", \"F\", \"M\", \"F\", \"F\", \"F\", \"F\", \"F\", \"F\", \"F\", \"F\", \"F\", \"F\", \"F\", \"M\", \"F\", \"F\", \"F\", \"F\", \"F\", \"F\", \"F\", \"F\", \"M\", \"F\", \"M\", \"F\", \"F\", \"F\", \"F\", \"F\", \"F\", \"F\", \"M\", \"F\", \"F\", \"F\", \"F\", \"M\", \"M\", \"F\", \"F\", \"M\", \"F\", \"M\", \"F\", \"F\", \"F\", \"F\", \"F\", \"M\", \"F\", \"M\", \"F\", \"F\", \"M\", \"F\", \"F\", \"F\", \"F\", \"F\", \"F\", \"F\", \"F\", \"F\", \"M\", \"F\", \"M\", \"F\", \"F\", \"M\", \"F\", \"F\", \"M\", \"F\", \"F\", \"F\", \"F\", \"F\", \"F\", \"M\", \"F\", \"M\", \"M\", \"F\", \"M\", \"F\", \"F\", \"M\", \"M\", \"F\", \"M\", \"F\", \"F\", \"M\", \"M\", \"F\", \"F\", \"F\", \"M\", \"F\", \"F\", \"M\", \"F\", \"F\", \"F\", \"M\", \"F\", \"F\", \"F\", \"F\", \"F\", \"F\", \"F\", \"M\", \"F\", \"M\", \"M\", \"M\", \"F\", \"F\", \"M\", \"F\", \"F\", \"M\", \"M\", \"M\", \"F\", \"M\", \"F\", \"M\", \"F\", \"F\", \"F\", \"F\", \"F\", \"F\", \"M\", \"F\", \"F\", \"M\", \"F\", \"F\", \"F\", \"M\", \"F\", \"F\", \"F\", \"F\", \"F\", \"F\", \"M\", \"M\", \"F\", \"F\", \"M\", \"F\", \"F\", \"F\", \"F\", \"F\", \"M\", \"F\", \"M\", \"F\", \"F\", \"F\", \"F\", \"F\", \"F\", \"F\", \"F\", \"F\", \"F\", \"F\", \"F\", \"F\", \"F\", \"M\", \"M\", \"M\", \"F\", \"F\", \"M\", \"M\", \"F\", \"F\", \"F\", \"F\", \"F\", \"M\", \"F\", \"M\", \"F\", \"F\", \"F\", \"F\", \"F\", \"F\", \"F\", \"M\", \"F\", \"M\", \"F\", \"M\", \"F\", \"M\", \"M\", \"M\", \"F\", \"F\", \"F\", \"M\", \"F\", \"F\", \"F\", \"F\", \"M\", \"F\", \"F\", \"F\", \"M\", \"M\", \"F\", \"M\", \"M\", \"F\", \"F\", \"M\", \"F\", \"F\", \"M\", \"M\", \"F\", \"F\", \"F\", \"F\", \"F\", \"F\", \"F\", \"M\", \"F\", \"F\", \"F\", \"M\", \"M\", \"F\", \"F\", \"F\", \"M\", \"F\", \"M\", \"F\", \"F\", \"F\", \"F\", \"F\", \"F\", \"F\", \"F\", \"F\", \"F\", \"F\", \"M\", \"F\", \"M\", \"F\", \"F\", \"M\", \"M\", \"F\", \"M\", \"M\", \"F\", \"M\", \"M\", \"F\", \"F\", \"F\", \"F\", \"F\", \"M\", \"M\", \"M\", \"F\", \"M\", \"M\", \"F\", \"M\", \"M\", \"F\", \"F\", \"F\", \"M\", \"F\", \"M\", \"F\", \"F\", \"F\", \"F\", \"M\", \"F\", \"F\", \"F\", \"F\", \"F\", \"F\", \"F\", \"F\", \"M\", \"F\", \"F\", \"M\", \"M\", \"F\", \"F\", \"F\", \"F\", \"M\", \"M\", \"F\", \"M\", \"M\", \"F\", \"M\", \"M\", \"F\", \"F\", \"F\", \"F\", \"M\", \"F\", \"F\", \"M\", \"M\", \"F\", \"M\", \"M\", \"F\", \"F\", \"M\", \"M\", \"F\", \"F\", \"F\", \"F\", \"F\", \"M\", \"M\", \"F\", \"F\", \"F\", \"M\", \"M\", \"F\", \"F\", \"F\", \"M\", \"F\", \"F\", \"M\", \"M\", \"F\", \"F\", \"M\", \"M\", \"F\", \"F\", \"F\", \"F\", \"F\", \"F\", \"M\", \"F\", \"F\", \"F\", \"F\", \"M\", \"M\", \"M\", \"F\", \"M\", \"F\", \"F\", \"M\", \"F\", \"M\", \"F\", \"F\", \"M\", \"M\", \"F\", \"F\", \"F\", \"F\", \"F\", \"M\", \"F\", \"M\", \"F\", \"M\", \"F\", \"M\", \"F\", \"F\", \"M\", \"F\", \"F\", \"F\", \"F\", \"F\", \"F\", \"M\", \"F\", \"F\", \"F\", \"F\", \"F\", \"F\", \"M\", \"M\", \"F\", \"M\", \"F\", \"F\", \"F\", \"F\", \"M\", \"F\", \"M\", \"F\", \"M\", \"M\", \"F\", \"F\", \"M\", \"M\", \"M\", \"M\", \"F\", \"M\", \"F\", \"F\", \"M\", \"M\", \"M\", \"F\", \"F\", \"F\", \"F\", \"F\", \"F\", \"M\", \"M\", \"F\", \"F\", \"M\", \"M\", \"M\", \"F\", \"F\", \"F\", \"F\", \"M\", \"F\", \"F\", \"F\", \"F\", \"M\", \"F\", \"F\", \"F\", \"M\", \"M\", \"M\", \"M\", \"F\", \"F\", \"F\", \"F\", \"F\", \"M\", \"F\", \"F\", \"F\", \"F\", \"M\", \"M\", \"M\", \"F\", \"M\", \"F\", \"F\", \"F\", \"F\", \"M\", \"F\", \"F\", \"M\", \"F\", \"M\", \"F\", \"F\", \"F\", \"F\", \"F\", \"M\", \"F\", \"F\", \"F\", \"M\", \"F\", \"M\", \"F\", \"F\", \"F\", \"F\", \"F\", \"M\", \"F\", \"F\", \"F\", \"M\", \"M\", \"F\", \"F\", \"F\", \"M\", \"M\", \"M\", \"F\", \"F\", \"M\", \"F\", \"F\", \"F\", \"F\", \"F\", \"M\", \"M\", \"F\", \"F\", \"F\", \"F\", \"F\", \"F\", \"F\", \"F\", \"F\", \"F\", \"M\", \"F\", \"F\", \"F\", \"M\", \"F\", \"F\", \"F\", \"F\", \"F\", \"F\", \"M\", \"F\", \"F\", \"F\", \"F\", \"F\", \"F\", \"M\", \"F\", \"M\", \"M\", \"F\", \"M\", \"F\", \"F\", \"F\", \"F\", \"M\", \"F\", \"F\", \"M\", \"F\", \"M\", \"F\", \"M\", \"F\", \"M\", \"F\", \"F\", \"F\", \"M\", \"F\", \"F\", \"M\", \"F\", \"M\", \"M\", \"M\", \"F\", \"F\", \"F\", \"M\", \"F\", \"F\", \"M\", \"F\", \"F\", \"F\", \"M\", \"F\", \"F\", \"F\", \"F\", \"M\", \"M\", \"F\", \"F\", \"F\", \"M\", \"F\", \"F\", \"F\", \"F\", \"M\", \"F\", \"F\", \"F\", \"M\", \"M\", \"M\", \"M\", \"F\", \"F\", \"F\", \"F\", \"F\", \"M\", \"M\", \"F\", \"F\", \"F\", \"F\", \"F\", \"F\", \"F\", \"M\", \"M\", \"F\", \"F\", \"F\", \"F\", \"F\", \"M\", \"F\", \"F\", \"F\", \"M\", \"M\", \"F\", \"F\", \"F\", \"M\", \"F\", \"F\", \"F\", \"M\", \"F\", \"M\", \"F\", \"M\", \"M\", \"F\", \"M\", \"M\", \"F\", \"F\", \"F\", \"F\", \"F\", \"F\", \"F\", \"F\", \"F\", \"F\", \"F\", \"M\", \"M\", \"F\", \"F\", \"F\", \"F\", \"F\", \"F\", \"F\", \"F\", \"F\", \"F\", \"F\", \"F\", \"M\", \"M\", \"F\", \"F\", \"F\", \"M\", \"F\", \"F\", \"M\", \"M\", \"M\", \"M\", \"F\", \"F\", \"M\", \"F\", \"F\", \"F\", \"F\", \"F\", \"F\", \"F\", \"M\", \"F\", \"M\", \"F\", \"F\", \"F\", \"M\", \"F\", \"F\", \"F\", \"F\", \"F\", \"M\", \"F\", \"M\", \"M\", \"M\", \"M\", \"F\", \"F\", \"F\", \"F\", \"F\", \"M\", \"F\", \"M\", \"M\", \"M\", \"F\", \"F\", \"F\", \"M\", \"M\", \"F\", \"F\", \"F\", \"M\", \"F\", \"F\", \"F\", \"F\", \"F\", \"F\", \"M\", \"M\", \"M\", \"M\", \"F\", \"F\", \"F\", \"F\", \"F\", \"F\", \"M\", \"F\", \"F\", \"M\", \"F\", \"M\", \"F\", \"F\", \"M\", \"F\", \"M\", \"F\", \"M\", \"F\", \"M\", \"M\", \"F\", \"M\", \"M\", \"M\", \"F\", \"F\", \"F\", \"F\", \"M\", \"F\", \"M\", \"M\", \"F\", \"M\", \"M\", \"M\", \"M\", \"F\", \"F\", \"F\", \"M\", \"F\", \"F\", \"M\", \"F\", \"M\", \"F\", \"F\", \"F\", \"F\", \"M\", \"M\", \"F\", \"F\", \"F\", \"M\", \"F\", \"F\", \"M\", \"M\", \"M\", \"F\", \"M\", \"F\", \"F\", \"F\", \"F\", \"M\", \"M\", \"M\", \"F\", \"F\", \"M\", \"M\", \"F\", \"M\", \"M\", \"F\", \"F\", \"F\", \"M\", \"M\", \"F\", \"F\", \"F\", \"M\", \"M\", \"F\", \"F\", \"M\", \"M\", \"M\", \"F\", \"F\", \"F\", \"F\", \"F\", \"F\", \"F\", \"F\", \"M\", \"F\", \"F\", \"M\", \"F\", \"M\", \"M\", \"M\", \"F\", \"F\", \"F\", \"F\", \"M\", \"M\", \"F\", \"F\", \"M\", \"M\", \"F\", \"F\", \"F\", \"F\", \"F\", \"F\", \"F\", \"F\", \"F\", \"M\", \"F\", \"F\", \"M\", \"F\", \"M\", \"M\", \"F\", \"F\", \"F\", \"F\", \"M\", \"M\", \"F\", \"F\", \"F\", \"F\", \"F\", \"M\", \"F\", \"M\", \"F\", \"F\", \"F\", \"F\", \"F\", \"F\", \"F\", \"F\", \"F\", \"M\", \"F\", \"M\", \"M\", \"M\", \"F\", \"F\", \"M\", \"F\", \"M\", \"F\", \"F\", \"M\", \"F\", \"M\", \"F\", \"F\", \"F\", \"M\", \"F\", \"F\", \"F\", \"F\", \"F\", \"M\", \"F\", \"M\", \"F\", \"F\", \"F\", \"M\", \"F\", \"F\", \"F\", \"M\", \"F\", \"F\", \"M\", \"M\", \"F\", \"F\", \"M\", \"F\", \"M\", \"F\", \"M\", \"F\", \"F\", \"M\", \"M\", \"M\", \"F\", \"F\", \"F\", \"F\", \"F\", \"F\", \"M\", \"F\", \"F\", \"M\", \"F\", \"F\", \"F\", \"F\", \"F\", \"M\", \"M\", \"F\", \"F\", \"M\", \"F\", \"M\", \"F\", \"M\", \"M\", \"M\", \"M\", \"F\", \"F\", \"M\", \"M\", \"F\", \"M\", \"M\", \"M\", \"F\", \"F\", \"F\", \"M\", \"F\", \"F\", \"F\", \"F\", \"F\", \"M\", \"M\", \"F\", \"F\", \"M\", \"F\", \"M\", \"F\", \"M\", \"F\", \"M\", \"F\", \"M\", \"F\", \"M\", \"F\", \"M\", \"M\", \"M\", \"F\", \"F\", \"F\", \"F\", \"F\", \"F\", \"F\", \"F\", \"F\", \"M\", \"F\", \"F\", \"M\", \"M\", \"F\", \"M\", \"F\", \"M\", \"F\", \"F\", \"M\", \"F\", \"F\", \"M\", \"M\", \"F\", \"F\", \"F\", \"F\", \"M\", \"M\", \"M\", \"M\", \"M\", \"F\", \"F\", \"F\", \"F\", \"F\", \"F\", \"F\", \"F\", \"F\", \"M\", \"F\", \"F\", \"F\", \"M\", \"F\", \"F\", \"F\", \"M\", \"M\", \"F\", \"M\", \"F\", \"M\", \"F\", \"F\", \"M\", \"F\", \"M\", \"M\", \"F\", \"F\", \"F\", \"F\", \"M\", \"F\", \"M\", \"F\", \"F\", \"M\", \"F\", \"F\", \"F\", \"F\", \"F\", \"M\", \"F\", \"F\", \"M\", \"F\", \"F\", \"M\", \"M\", \"F\", \"F\", \"M\", \"F\", \"F\", \"F\", \"M\", \"M\", \"F\", \"F\", \"M\", \"M\", \"M\", \"M\", \"F\", \"F\", \"M\", \"M\", \"F\", \"F\", \"F\", \"F\", \"F\", \"M\", \"F\", \"F\", \"M\", \"F\", \"M\", \"F\", \"F\", \"M\", \"F\", \"F\", \"M\", \"F\", \"F\", \"M\", \"F\", \"M\", \"M\", \"F\", \"M\", \"F\", \"F\", \"F\", \"M\", \"M\", \"F\", \"F\", \"F\", \"M\", \"M\", \"F\", \"F\", \"F\", \"M\", \"M\", \"F\", \"F\", \"F\", \"M\", \"F\", \"M\", \"M\", \"M\", \"M\", \"F\", \"F\", \"M\", \"M\", \"M\", \"M\", \"M\", \"M\", \"M\", \"F\", \"F\", \"M\", \"F\", \"F\", \"M\", \"F\", \"F\", \"F\", \"F\", \"M\", \"M\", \"M\", \"F\", \"F\", \"M\", \"F\", \"F\", \"F\", \"F\", \"F\", \"F\", \"F\", \"M\", \"F\", \"F\", \"F\", \"F\", \"F\", \"F\", \"F\", \"F\", \"F\", \"F\", \"F\", \"M\", \"F\", \"M\", \"F\", \"F\", \"M\", \"F\", \"F\", \"F\", \"M\", \"M\", \"F\", \"F\", \"F\", \"F\", \"F\", \"F\", \"F\", \"F\", \"F\", \"M\", \"F\", \"F\", \"F\", \"F\", \"F\", \"F\", \"F\", \"F\", \"F\", \"M\", \"F\", \"F\", \"M\", \"M\", \"F\", \"F\", \"F\", \"M\", \"F\", \"M\", \"F\", \"F\", \"F\", \"F\", \"F\", \"F\", \"M\", \"F\", \"F\", \"F\", \"F\", \"M\", \"F\", \"F\", \"M\", \"F\", \"M\", \"F\", \"F\", \"M\", \"M\", \"F\", \"F\", \"F\", \"F\", \"M\", \"M\", \"F\", \"F\", \"F\", \"F\", \"M\", \"F\", \"M\", \"M\", \"M\", \"M\", \"F\", \"M\", \"M\", \"F\", \"F\", \"M\", \"M\", \"F\", \"M\", \"F\", \"M\", \"F\", \"F\", \"M\", \"M\", \"F\", \"F\", \"F\", \"F\", \"F\", \"M\", \"M\", \"F\", \"F\", \"F\", \"M\", \"F\", \"M\", \"M\", \"M\", \"M\", \"F\", \"F\", \"F\", \"F\", \"M\", \"F\", \"M\", \"F\", \"M\", \"F\", \"F\", \"F\", \"F\", \"F\", \"F\", \"M\", \"F\", \"M\", \"M\", \"F\", \"F\", \"F\", \"M\", \"M\", \"F\", \"F\", \"F\", \"F\", \"F\", \"F\", \"M\", \"M\", \"F\", \"F\", \"F\", \"F\", \"M\", \"F\", \"F\", \"M\", \"F\", \"F\", \"M\", \"F\", \"F\", \"M\", \"F\", \"M\", \"F\", \"F\", \"M\", \"M\", \"F\", \"F\", \"F\", \"M\", \"M\", \"F\", \"F\", \"F\", \"F\", \"F\", \"F\", \"M\", \"F\", \"F\", \"M\", \"M\", \"F\", \"M\", \"F\", \"F\", \"M\", \"M\", \"M\", \"F\", \"F\", \"F\", \"M\", \"F\", \"F\", \"F\", \"M\", \"F\", \"F\", \"F\", \"F\", \"F\", \"M\", \"F\", \"F\", \"M\", \"F\", \"F\", \"F\", \"F\", \"F\", \"F\", \"M\", \"F\", \"M\", \"M\", \"F\", \"F\", \"M\", \"F\", \"M\", \"F\", \"M\", \"M\", \"F\", \"F\", \"F\", \"F\", \"F\", \"F\", \"F\", \"M\", \"F\", \"M\", \"M\", \"F\", \"F\", \"F\", \"F\", \"M\", \"F\", \"M\", \"M\", \"M\", \"M\", \"F\", \"F\", \"F\", \"F\", \"F\", \"M\", \"F\", \"F\", \"M\", \"F\", \"M\", \"F\", \"F\", \"M\", \"M\", \"F\", \"F\", \"F\", \"F\", \"F\", \"F\", \"F\", \"F\", \"M\", \"F\", \"F\", \"M\", \"F\", \"M\", \"F\", \"M\", \"M\", \"F\", \"F\", \"M\", \"F\", \"F\", \"F\", \"F\", \"M\", \"F\", \"F\", \"F\", \"F\", \"F\", \"M\", \"F\", \"F\", \"F\", \"M\", \"M\", \"F\", \"M\", \"F\", \"M\", \"M\", \"M\", \"F\", \"F\", \"F\", \"M\", \"M\", \"M\", \"M\", \"M\", \"M\", \"M\", \"M\", \"F\", \"M\", \"M\", \"F\", \"F\", \"F\", \"M\", \"M\", \"F\", \"F\", \"F\", \"F\", \"M\", \"F\", \"M\", \"F\", \"M\", \"F\", \"F\", \"M\", \"F\", \"M\", \"M\", \"M\", \"M\", \"M\", \"M\", \"F\", \"M\", \"M\", \"F\", \"F\", \"M\", \"F\", \"F\", \"F\", \"F\", \"F\", \"F\", \"F\", \"F\", \"M\", \"M\", \"F\", \"F\", \"M\", \"M\", \"F\", \"F\", \"F\", \"F\", \"M\", \"F\", \"M\", \"M\", \"M\", \"F\", \"F\", \"M\", \"F\", \"M\", \"F\", \"F\", \"M\", \"F\", \"F\", \"M\", \"F\", \"F\", \"M\", \"F\", \"F\", \"M\", \"F\", \"M\", \"M\", \"F\", \"M\", \"F\", \"F\", \"F\", \"M\", \"M\", \"F\", \"F\", \"F\", \"M\", \"F\", \"M\", \"M\", \"F\", \"M\", \"F\", \"F\", \"F\", \"F\", \"F\", \"M\", \"M\", \"F\", \"F\", \"M\", \"F\", \"F\", \"F\", \"F\", \"F\", \"F\", \"F\", \"F\", \"F\", \"F\", \"F\", \"M\", \"F\", \"F\", \"F\", \"M\", \"M\", \"F\", \"M\", \"M\", \"F\", \"F\", \"M\", \"M\", \"F\", \"M\", \"M\", \"F\", \"M\", \"M\", \"F\", \"F\", \"F\", \"F\", \"M\", \"F\", \"F\", \"M\", \"F\", \"F\", \"F\", \"F\", \"M\", \"F\", \"F\", \"M\", \"F\", \"M\", \"F\", \"F\", \"F\", \"F\", \"M\", \"F\", \"M\", \"F\", \"M\", \"F\", \"F\", \"M\", \"M\", \"F\", \"F\", \"F\", \"F\", \"F\", \"F\", \"M\", \"F\", \"F\", \"M\", \"F\", \"M\", \"M\", \"M\", \"M\", \"F\", \"F\", \"F\", \"M\", \"F\", \"F\", \"F\", \"M\", \"F\", \"F\", \"F\", \"F\", \"F\", \"F\", \"F\", \"M\", \"M\", \"M\", \"M\", \"F\", \"F\", \"F\", \"M\", \"F\", \"F\", \"F\", \"F\", \"M\", \"M\", \"M\", \"F\", \"M\", \"F\", \"M\", \"F\", \"F\", \"M\", \"M\", \"F\", \"F\", \"M\", \"F\", \"M\", \"F\", \"F\", \"F\", \"F\", \"F\", \"F\", \"F\", \"M\", \"F\", \"F\", \"M\", \"F\", \"F\", \"F\", \"F\", \"F\", \"F\", \"M\", \"F\", \"F\", \"F\", \"F\", \"F\", \"F\", \"M\", \"M\", \"F\", \"F\", \"M\", \"M\", \"M\", \"F\", \"F\", \"F\", \"F\", \"M\", \"M\", \"F\", \"F\", \"F\", \"M\", \"F\", \"F\", \"F\", \"F\", \"F\", \"F\", \"F\", \"M\", \"F\", \"M\", \"M\", \"M\", \"F\", \"F\", \"M\", \"F\", \"F\", \"F\", \"F\", \"M\", \"F\", \"F\", \"M\", \"F\", \"F\", \"M\", \"F\", \"F\", \"M\", \"M\", \"F\", \"F\", \"M\", \"M\", \"F\", \"M\", \"M\", \"M\", \"M\", \"F\", \"F\", \"M\", \"F\", \"F\", \"F\", \"M\", \"M\", \"F\", \"F\", \"F\", \"M\", \"M\", \"F\", \"M\", \"F\", \"M\", \"F\", \"F\", \"F\", \"F\", \"F\", \"F\", \"M\", \"M\", \"M\", \"F\", \"M\", \"M\", \"M\", \"M\", \"M\", \"F\", \"F\", \"F\", \"F\", \"F\", \"F\", \"M\", \"M\", \"M\", \"F\", \"F\", \"F\", \"F\", \"M\", \"M\", \"M\", \"F\", \"F\", \"M\", \"M\", \"F\", \"M\", \"M\", \"F\", \"F\", \"F\", \"M\", \"F\", \"F\", \"F\", \"F\", \"M\", \"F\", \"F\", \"F\", \"F\", \"F\", \"M\", \"M\", \"F\", \"F\", \"M\", \"M\", \"M\", \"M\", \"M\", \"F\", \"M\", \"M\", \"F\", \"M\", \"F\", \"M\", \"F\", \"F\", \"M\", \"F\", \"M\", \"M\", \"F\", \"F\", \"F\", \"F\", \"M\", \"M\", \"M\", \"F\", \"M\", \"F\", \"F\", \"F\", \"F\", \"F\", \"M\", \"M\", \"F\", \"F\", \"F\", \"M\", \"F\", \"M\", \"M\", \"M\", \"M\", \"M\", \"F\", \"F\", \"F\", \"F\", \"M\", \"M\", \"F\", \"M\", \"F\", \"F\", \"F\", \"F\", \"F\", \"F\", \"M\", \"M\", \"M\", \"F\", \"F\", \"F\", \"F\", \"M\", \"F\", \"M\", \"F\", \"M\", \"M\", \"M\", \"F\", \"F\", \"F\", \"M\", \"F\", \"M\", \"M\", \"M\", \"F\", \"M\", \"M\", \"F\", \"F\", \"F\", \"F\", \"M\", \"F\", \"M\", \"F\", \"M\", \"F\", \"F\", \"F\", \"F\", \"M\", \"F\", \"F\", \"F\", \"F\", \"M\", \"M\", \"F\", \"F\", \"M\", \"F\", \"M\", \"M\", \"F\", \"M\", \"F\", \"F\", \"F\", \"M\", \"M\", \"M\", \"F\", \"F\", \"M\", \"M\", \"F\", \"M\", \"F\", \"M\", \"F\", \"M\", \"F\", \"F\", \"F\", \"F\", \"M\", \"F\", \"F\", \"M\", \"F\", \"M\", \"M\", \"F\", \"F\", \"F\", \"M\", \"M\", \"M\", \"F\", \"F\", \"F\", \"M\", \"F\", \"F\", \"M\", \"M\", \"F\", \"F\", \"F\", \"F\", \"M\", \"F\", \"M\", \"M\", \"F\", \"M\", \"F\", \"F\", \"M\", \"F\", \"F\", \"M\", \"F\", \"F\", \"F\", \"M\", \"F\", \"F\", \"F\", \"M\", \"M\", \"F\", \"F\", \"F\", \"M\", \"F\", \"F\", \"F\", \"F\", \"M\", \"F\", \"F\", \"F\", \"F\", \"M\", \"M\", \"F\", \"M\", \"F\", \"M\", \"F\", \"F\", \"M\", \"F\", \"M\", \"M\", \"F\", \"M\", \"F\", \"M\", \"M\", \"F\", \"F\", \"F\", \"F\", \"F\", \"F\", \"M\", \"M\", \"M\", \"M\", \"F\", \"F\", \"M\", \"M\", \"F\", \"M\", \"F\", \"F\", \"M\", \"F\", \"M\", \"F\", \"F\", \"M\", \"M\", \"M\", \"F\", \"M\", \"F\", \"F\", \"F\", \"F\", \"F\", \"F\", \"F\", \"F\", \"F\", \"M\", \"M\", \"F\", \"F\", \"F\", \"F\", \"M\", \"F\", \"F\", \"M\", \"F\", \"F\", \"F\", \"F\", \"F\", \"F\", \"F\", \"M\", \"F\", \"F\", \"F\", \"F\", \"F\", \"F\", \"F\", \"M\", \"M\", \"F\", \"F\", \"F\", \"M\", \"F\", \"F\", \"F\", \"F\", \"M\", \"F\", \"M\", \"F\", \"F\", \"F\", \"F\", \"F\", \"F\", \"F\", \"M\", \"M\", \"M\", \"M\", \"M\", \"F\", \"F\", \"F\", \"F\", \"M\", \"F\", \"M\", \"F\", \"M\", \"F\", \"M\", \"F\", \"F\", \"F\", \"F\", \"F\", \"M\", \"M\", \"M\", \"M\", \"F\", \"F\", \"F\", \"F\", \"M\", \"M\", \"F\", \"F\", \"F\", \"F\", \"M\", \"F\", \"F\", \"F\", \"M\", \"M\", \"F\", \"M\", \"F\", \"M\", \"F\", \"F\", \"F\", \"M\", \"M\", \"F\", \"M\", \"F\", \"M\", \"M\", \"F\", \"F\", \"M\", \"F\", \"M\", \"M\", \"F\", \"M\", \"F\", \"F\", \"M\", \"M\", \"F\", \"F\", \"M\", \"M\", \"F\", \"M\", \"F\", \"F\", \"F\", \"F\", \"F\", \"M\", \"F\", \"M\", \"F\", \"F\", \"M\", \"F\", \"F\", \"F\", \"M\", \"F\", \"F\", \"F\", \"M\", \"F\", \"F\", \"F\", \"F\", \"F\", \"F\", \"F\", \"F\", \"F\", \"M\", \"F\", \"F\", \"F\", \"F\", \"F\", \"F\", \"M\", \"F\", \"F\", \"M\", \"M\", \"M\", \"M\", \"F\", \"M\", \"M\", \"M\", \"M\", \"M\", \"F\", \"M\", \"F\", \"F\", \"F\", \"M\", \"F\", \"F\", \"F\", \"F\", \"M\", \"M\", \"M\", \"F\", \"F\", \"F\", \"M\", \"M\", \"M\", \"M\", \"M\", \"F\", \"F\", \"M\", \"F\", \"F\", \"M\", \"M\", \"F\", \"M\", \"M\", \"F\", \"M\", \"F\", \"F\", \"M\", \"F\", \"F\", \"M\", \"F\", \"M\", \"F\", \"F\", \"F\", \"F\", \"F\", \"F\", \"F\", \"M\", \"F\", \"F\", \"M\", \"F\", \"M\", \"F\", \"F\", \"M\", \"F\", \"M\", \"F\", \"F\", \"F\", \"F\", \"F\", \"F\", \"F\", \"M\", \"F\", \"F\", \"M\", \"F\", \"M\", \"F\", \"M\", \"F\", \"F\", \"M\", \"F\", \"F\", \"M\", \"F\", \"M\", \"M\", \"F\", \"M\", \"F\", \"F\", \"F\", \"M\", \"M\", \"F\", \"M\", \"M\", \"M\", \"F\", \"M\", \"F\", \"M\", \"F\", \"F\", \"M\", \"F\", \"F\", \"F\", \"F\", \"F\", \"F\", \"M\", \"M\", \"F\", \"F\", \"F\", \"F\", \"F\", \"F\", \"M\", \"F\", \"F\", \"F\", \"F\", \"F\", \"M\", \"F\", \"F\", \"M\", \"F\", \"F\", \"M\", \"M\", \"F\", \"F\", \"F\", \"F\", \"F\", \"F\", \"F\", \"F\", \"F\", \"F\", \"F\", \"M\", \"F\", \"M\", \"M\", \"F\", \"F\", \"M\", \"F\", \"F\", \"F\", \"F\", \"M\", \"M\", \"F\", \"F\", \"M\", \"F\", \"F\", \"F\", \"M\", \"M\", \"M\", \"F\", \"F\", \"F\", \"M\", \"M\", \"M\", \"F\", \"F\", \"M\", \"F\", \"F\", \"F\", \"F\", \"F\", \"F\", \"F\", \"F\", \"F\", \"F\", \"M\", \"M\", \"F\", \"F\", \"M\", \"F\", \"F\", \"F\", \"F\", \"M\", \"F\", \"M\", \"F\", \"F\", \"M\", \"F\", \"F\", \"F\", \"F\", \"M\", \"F\", \"M\", \"F\", \"F\", \"F\", \"M\", \"F\", \"M\", \"F\", \"M\", \"M\", \"M\", \"F\", \"F\", \"M\", \"M\", \"F\", \"F\", \"F\", \"M\", \"F\", \"F\", \"F\", \"M\", \"F\", \"F\", \"F\", \"M\", \"F\", \"F\", \"F\", \"F\", \"M\", \"F\", \"F\", \"F\", \"F\", \"F\", \"F\", \"F\", \"F\", \"M\", \"F\", \"M\", \"F\", \"M\", \"F\", \"M\", \"F\", \"F\", \"F\", \"M\", \"F\", \"F\", \"F\", \"F\", \"F\", \"F\", \"M\", \"F\", \"M\", \"F\", \"F\", \"F\", \"F\", \"F\", \"F\", \"F\", \"F\", \"F\", \"F\", \"M\", \"F\", \"F\", \"F\", \"M\", \"F\", \"M\", \"F\", \"M\", \"M\", \"M\", \"F\", \"M\", \"F\", \"F\", \"F\", \"F\", \"F\", \"F\", \"F\", \"F\", \"M\", \"F\", \"F\", \"M\", \"F\", \"F\", \"F\", \"M\", \"F\", \"M\", \"F\", \"F\", \"F\", \"M\", \"F\", \"F\", \"F\", \"F\", \"F\", \"F\", \"F\", \"F\", \"F\", \"F\", \"F\", \"M\", \"F\", \"M\", \"F\", \"M\", \"M\", \"F\", \"F\", \"F\", \"F\", \"F\", \"F\", \"F\", \"M\", \"F\", \"F\", \"F\", \"F\", \"F\", \"F\", \"M\", \"F\", \"F\", \"F\", \"F\", \"F\", \"F\", \"F\", \"F\", \"F\", \"M\", \"F\", \"F\", \"F\", \"F\", \"M\", \"M\", \"F\", \"F\", \"F\", \"F\", \"M\", \"M\", \"F\", \"F\", \"M\", \"F\", \"F\", \"F\", \"F\", \"F\", \"F\", \"F\", \"F\", \"M\", \"F\", \"M\", \"M\", \"M\", \"M\", \"F\", \"M\", \"M\", \"F\", \"M\", \"M\", \"M\", \"F\", \"F\", \"M\", \"M\", \"F\", \"M\", \"M\", \"F\", \"F\", \"F\", \"F\", \"M\", \"F\", \"M\", \"M\", \"M\", \"F\", \"F\", \"F\", \"M\", \"F\", \"F\", \"F\", \"M\", \"M\", \"F\", \"F\", \"F\", \"F\", \"M\", \"M\", \"F\", \"F\", \"M\", \"M\", \"F\", \"M\", \"F\", \"F\", \"M\", \"F\", \"F\", \"M\", \"M\", \"M\", \"M\", \"M\", \"M\", \"M\", \"F\", \"M\", \"F\", \"F\", \"F\", \"M\", \"M\", \"F\", \"M\", \"F\", \"M\", \"M\", \"M\", \"F\", \"F\", \"F\", \"M\", \"M\", \"F\", \"M\", \"M\", \"F\", \"F\", \"F\", \"M\", \"F\", \"F\", \"M\", \"F\", \"F\", \"F\", \"F\", \"M\", \"M\", \"F\", \"F\", \"F\", \"M\", \"F\", \"F\", \"F\", \"F\", \"F\", \"F\", \"F\", \"F\", \"F\", \"F\", \"F\", \"F\", \"F\", \"F\", \"M\", \"F\", \"M\", \"F\", \"M\", \"F\", \"M\", \"F\", \"F\", \"F\", \"F\", \"M\", \"M\", \"M\", \"F\", \"F\", \"F\", \"F\", \"F\", \"F\", \"M\", \"F\", \"F\", \"F\", \"F\", \"M\", \"M\", \"F\", \"M\", \"M\", \"M\", \"M\", \"F\", \"F\", \"F\", \"F\", \"F\", \"M\", \"F\", \"M\", \"M\", \"M\", \"M\", \"F\", \"F\", \"M\", \"M\", \"M\", \"F\", \"M\", \"M\", \"F\", \"M\", \"F\", \"F\", \"F\", \"F\", \"M\", \"F\", \"M\", \"M\", \"F\", \"F\", \"F\", \"F\", \"M\", \"F\", \"F\", \"F\", \"F\", \"M\", \"M\", \"F\", \"M\", \"M\", \"F\", \"F\", \"M\", \"M\", \"M\", \"M\", \"F\", \"M\", \"M\", \"F\", \"F\", \"M\", \"M\", \"F\", \"M\", \"M\", \"F\", \"F\", \"M\", \"M\", \"F\", \"M\", \"M\", \"M\", \"F\", \"F\", \"M\", \"M\", \"F\", \"M\", \"F\", \"F\", \"M\", \"M\", \"F\", \"F\", \"M\", \"F\", \"F\", \"F\", \"M\", \"M\", \"M\", \"F\", \"F\", \"F\", \"M\", \"M\", \"F\", \"F\", \"F\", \"F\", \"M\", \"F\", \"F\", \"F\", \"M\", \"F\", \"F\", \"M\", \"F\", \"F\", \"M\", \"M\", \"F\", \"F\", \"F\", \"F\", \"F\", \"M\", \"F\", \"M\", \"F\", \"F\", \"M\", \"M\", \"M\", \"F\", \"F\", \"M\", \"M\", \"F\", \"F\", \"F\", \"M\", \"F\", \"M\", \"F\", \"F\", \"F\", \"M\", \"M\", \"M\", \"M\", \"F\", \"F\", \"M\", \"F\", \"F\", \"M\", \"F\", \"F\", \"F\", \"F\", \"F\", \"F\", \"F\", \"F\", \"M\", \"F\", \"M\", \"M\", \"F\", \"M\", \"F\", \"M\", \"F\", \"M\", \"M\", \"M\", \"M\", \"F\", \"M\", \"M\", \"F\", \"M\", \"F\", \"F\", \"F\", \"F\", \"M\", \"M\", \"F\", \"F\", \"F\", \"M\", \"F\", \"M\", \"M\", \"F\", \"F\", \"F\", \"M\", \"F\", \"M\", \"F\", \"M\", \"F\", \"F\", \"F\", \"F\", \"F\", \"F\", \"F\", \"F\", \"M\", \"F\", \"F\", \"M\", \"F\", \"F\", \"F\", \"F\", \"F\", \"F\", \"F\", \"F\", \"M\", \"M\", \"F\", \"F\", \"M\", \"F\", \"M\", \"F\", \"F\", \"F\", \"F\", \"F\", \"F\", \"F\", \"M\", \"M\", \"F\", \"M\", \"F\", \"M\", \"F\", \"F\", \"F\", \"F\", \"F\", \"M\", \"F\", \"F\", \"F\", \"M\", \"F\", \"M\", \"F\", \"F\", \"M\", \"M\", \"F\", \"F\", \"M\", \"F\", \"F\", \"F\", \"F\", \"F\", \"F\", \"M\", \"F\", \"M\", \"M\", \"M\", \"F\", \"F\", \"F\", \"F\", \"F\", \"F\", \"F\", \"F\", \"F\", \"M\", \"F\", \"F\", \"M\", \"F\", \"F\", \"M\", \"F\", \"F\", \"M\", \"F\", \"F\", \"F\", \"F\", \"M\", \"F\", \"F\", \"M\", \"F\", \"F\", \"F\", \"F\", \"F\", \"F\", \"M\", \"M\", \"F\", \"F\", \"F\", \"F\", \"F\", \"M\", \"F\", \"F\", \"F\", \"M\", \"M\", \"F\", \"M\", \"F\", \"F\", \"F\", \"M\", \"F\", \"M\", \"F\", \"F\", \"F\", \"F\", \"M\", \"M\", \"F\", \"F\", \"F\", \"M\", \"M\", \"F\", \"F\", \"M\", \"F\", \"F\", \"M\", \"F\", \"M\", \"F\", \"M\", \"F\", \"F\", \"F\", \"F\", \"M\", \"F\", \"F\", \"M\", \"M\", \"F\", \"M\", \"M\", \"F\", \"F\", \"M\", \"M\", \"F\", \"F\", \"M\", \"F\", \"M\", \"M\", \"F\", \"M\", \"F\", \"F\", \"F\", \"F\", \"F\", \"F\", \"F\", \"M\", \"F\", \"F\", \"F\", \"F\", \"F\", \"F\", \"F\", \"F\", \"F\", \"F\", \"M\", \"F\", \"M\", \"M\", \"F\", \"M\", \"F\", \"M\", \"F\", \"M\", \"F\", \"F\", \"F\", \"F\", \"M\", \"F\", \"F\", \"F\", \"F\", \"M\", \"F\", \"M\", \"F\", \"F\", \"F\", \"F\", \"F\", \"F\", \"F\", \"M\", \"F\", \"F\", \"F\", \"F\", \"M\", \"F\", \"F\", \"M\", \"F\", \"M\", \"M\", \"F\", \"F\", \"F\", \"F\", \"F\", \"M\", \"M\", \"F\", \"M\", \"M\", \"M\", \"M\", \"F\", \"F\", \"F\", \"F\", \"F\", \"M\", \"F\", \"F\", \"M\", \"F\", \"M\", \"F\", \"F\", \"F\", \"F\", \"M\", \"M\", \"F\", \"F\", \"F\", \"M\", \"F\", \"F\", \"M\", \"F\", \"F\", \"F\", \"F\", \"F\", \"M\", \"F\", \"F\", \"M\", \"F\", \"F\", \"F\", \"M\", \"F\", \"F\", \"M\", \"F\", \"F\", \"M\", \"F\", \"F\", \"M\", \"M\", \"M\", \"F\", \"M\", \"M\", \"M\", \"F\", \"F\", \"F\", \"F\", \"M\", \"F\", \"F\", \"F\", \"F\", \"F\", \"M\", \"F\", \"F\", \"M\", \"F\", \"F\", \"F\", \"F\", \"M\", \"F\", \"F\", \"F\", \"F\", \"F\", \"F\", \"M\", \"M\", \"F\", \"M\", \"F\", \"F\", \"M\", \"F\", \"F\", \"F\", \"M\", \"F\", \"M\", \"F\", \"F\", \"F\", \"F\", \"F\", \"M\", \"F\", \"F\", \"F\", \"F\", \"F\", \"F\", \"F\", \"F\", \"F\", \"M\", \"M\", \"F\", \"F\", \"F\", \"M\", \"F\", \"F\", \"M\", \"F\", \"F\", \"F\", \"F\", \"F\", \"M\", \"F\", \"F\", \"F\", \"F\", \"F\", \"F\", \"F\", \"M\", \"F\", \"F\", \"F\", \"F\", \"M\", \"M\", \"M\", \"M\", \"F\", \"F\", \"F\", \"F\", \"F\", \"F\", \"F\", \"F\", \"F\", \"F\", \"F\", \"F\", \"F\", \"F\", \"F\", \"F\", \"M\", \"M\", \"F\", \"F\", \"F\", \"F\", \"F\", \"M\", \"F\", \"F\", \"M\", \"F\", \"F\", \"F\", \"M\", \"F\", \"F\", \"F\", \"F\", \"F\", \"M\", \"F\", \"F\", \"M\", \"F\", \"M\", \"M\", \"F\", \"F\", \"F\", \"M\", \"F\", \"M\", \"F\", \"M\", \"F\", \"F\", \"F\", \"M\", \"F\", \"F\", \"F\", \"F\", \"M\", \"M\", \"M\", \"M\", \"M\", \"F\", \"M\", \"F\", \"M\", \"M\", \"M\", \"F\", \"F\", \"F\", \"F\", \"M\", \"M\", \"F\", \"M\", \"M\", \"F\", \"M\", \"F\", \"F\", \"M\", \"M\", \"F\", \"F\", \"M\", \"M\", \"M\", \"F\", \"M\", \"M\", \"F\", \"M\", \"M\", \"M\", \"F\", \"F\", \"F\", \"F\", \"M\", \"M\", \"M\", \"M\", \"M\", \"F\", \"M\", \"F\", \"F\", \"M\", \"M\", \"F\", \"M\", \"M\", \"M\", \"M\", \"M\", \"M\", \"M\", \"F\", \"F\", \"F\", \"F\", \"F\", \"M\", \"F\", \"F\", \"F\", \"F\", \"F\", \"F\", \"M\", \"F\", \"M\", \"M\", \"F\", \"F\", \"M\", \"F\", \"F\", \"M\", \"F\", \"M\", \"M\", \"F\", \"F\", \"F\", \"F\", \"M\", \"F\"], \"xaxis\": \"x\", \"y\": [0, 0, 0, 0, 0, 0, 0, 0, 0, 0, 0, 0, 0, 0, 0, 0, 0, 0, 0, 0, 0, 0, 0, 0, 0, 0, 0, 0, 0, 0, 0, 0, 0, 0, 0, 0, 0, 0, 0, 0, 0, 0, 0, 0, 0, 0, 0, 0, 0, 0, 0, 0, 0, 0, 0, 0, 0, 0, 0, 0, 0, 0, 0, 0, 0, 0, 0, 0, 0, 0, 0, 0, 0, 0, 0, 0, 0, 0, 0, 0, 0, 0, 0, 0, 0, 0, 0, 0, 0, 0, 0, 0, 0, 0, 0, 0, 0, 0, 0, 0, 0, 0, 0, 0, 0, 0, 0, 0, 0, 0, 0, 0, 0, 0, 0, 0, 0, 0, 0, 0, 0, 0, 0, 0, 0, 0, 0, 0, 0, 0, 0, 0, 0, 0, 0, 0, 0, 0, 0, 0, 0, 0, 0, 0, 0, 0, 0, 0, 0, 0, 0, 0, 0, 0, 0, 0, 0, 0, 0, 0, 0, 0, 0, 0, 0, 0, 0, 0, 0, 0, 0, 0, 0, 0, 0, 0, 0, 0, 0, 0, 0, 0, 0, 0, 0, 0, 0, 0, 0, 0, 0, 0, 0, 0, 0, 0, 0, 0, 0, 0, 0, 0, 0, 0, 0, 0, 0, 0, 0, 0, 0, 0, 0, 0, 0, 0, 0, 0, 0, 0, 0, 0, 0, 0, 0, 0, 0, 0, 0, 0, 0, 0, 0, 0, 0, 0, 0, 0, 0, 0, 0, 0, 0, 0, 0, 0, 0, 0, 0, 0, 0, 0, 0, 0, 0, 1, 0, 0, 0, 0, 0, 0, 0, 0, 0, 0, 0, 0, 0, 0, 0, 0, 0, 0, 0, 0, 0, 0, 0, 0, 0, 0, 0, 0, 0, 0, 0, 0, 0, 0, 0, 0, 0, 0, 0, 0, 0, 0, 0, 0, 0, 0, 0, 0, 0, 0, 0, 0, 0, 0, 0, 0, 0, 0, 0, 0, 0, 0, 0, 0, 0, 0, 0, 0, 0, 0, 0, 0, 0, 0, 0, 0, 0, 0, 0, 0, 0, 0, 0, 0, 0, 0, 0, 0, 0, 0, 0, 0, 0, 0, 1, 0, 0, 0, 0, 0, 0, 0, 0, 0, 0, 0, 0, 0, 0, 0, 0, 0, 0, 0, 0, 0, 0, 0, 0, 0, 0, 0, 0, 0, 0, 0, 0, 0, 0, 0, 0, 0, 0, 0, 0, 0, 0, 0, 0, 0, 0, 0, 0, 0, 0, 0, 0, 0, 0, 0, 0, 0, 0, 0, 0, 0, 0, 0, 0, 0, 0, 0, 0, 0, 0, 1, 0, 0, 0, 0, 0, 0, 0, 0, 0, 0, 0, 0, 0, 0, 0, 0, 0, 0, 0, 0, 0, 0, 0, 0, 0, 0, 0, 0, 0, 0, 0, 0, 0, 0, 0, 0, 0, 0, 0, 0, 0, 0, 0, 0, 0, 0, 0, 0, 0, 0, 0, 0, 0, 0, 0, 0, 0, 0, 0, 0, 0, 0, 0, 0, 0, 0, 0, 0, 0, 0, 0, 0, 0, 0, 0, 0, 0, 0, 0, 0, 0, 0, 0, 0, 0, 0, 0, 0, 0, 0, 0, 0, 0, 0, 0, 0, 0, 0, 0, 0, 0, 0, 0, 0, 0, 0, 0, 0, 0, 0, 0, 0, 0, 0, 0, 0, 0, 0, 0, 0, 0, 0, 0, 0, 0, 0, 0, 0, 0, 0, 0, 0, 0, 0, 0, 0, 0, 0, 0, 0, 0, 0, 0, 0, 0, 0, 0, 0, 0, 0, 0, 0, 0, 0, 0, 0, 0, 0, 0, 0, 0, 0, 0, 0, 0, 0, 0, 0, 0, 0, 0, 0, 0, 0, 0, 0, 0, 0, 0, 0, 0, 0, 0, 0, 0, 0, 0, 0, 0, 0, 0, 0, 0, 0, 0, 0, 0, 0, 0, 0, 0, 0, 0, 0, 0, 0, 0, 0, 0, 0, 0, 0, 0, 0, 0, 0, 0, 0, 0, 0, 0, 0, 0, 0, 0, 0, 0, 0, 0, 0, 0, 0, 0, 0, 0, 0, 0, 0, 0, 0, 0, 0, 0, 0, 0, 0, 0, 0, 0, 0, 0, 0, 0, 0, 0, 0, 0, 0, 0, 0, 1, 0, 0, 0, 0, 0, 0, 0, 0, 0, 0, 0, 0, 0, 0, 0, 0, 0, 0, 0, 0, 0, 0, 0, 0, 0, 0, 0, 0, 0, 0, 0, 0, 0, 0, 0, 0, 0, 0, 0, 0, 0, 0, 0, 0, 0, 0, 0, 0, 0, 0, 0, 0, 0, 0, 0, 0, 0, 0, 0, 0, 0, 0, 0, 0, 0, 0, 0, 0, 0, 0, 0, 0, 0, 0, 0, 0, 0, 0, 0, 0, 0, 0, 0, 0, 0, 0, 0, 0, 0, 0, 0, 0, 0, 0, 0, 0, 0, 0, 0, 0, 0, 0, 0, 0, 0, 0, 0, 0, 1, 0, 0, 0, 0, 0, 0, 0, 0, 0, 0, 0, 0, 0, 0, 0, 0, 0, 0, 0, 0, 0, 0, 0, 0, 0, 0, 0, 0, 0, 0, 0, 0, 0, 0, 0, 0, 0, 0, 0, 0, 0, 0, 0, 0, 0, 0, 0, 0, 0, 0, 0, 0, 0, 0, 0, 0, 0, 0, 0, 0, 0, 0, 0, 0, 0, 0, 0, 0, 0, 0, 0, 0, 0, 0, 0, 0, 0, 0, 0, 0, 0, 0, 0, 0, 0, 0, 0, 0, 0, 0, 0, 0, 0, 0, 0, 1, 0, 0, 0, 0, 0, 0, 0, 0, 0, 0, 0, 0, 0, 0, 0, 0, 0, 0, 0, 0, 0, 0, 0, 0, 0, 0, 0, 0, 0, 0, 0, 0, 0, 0, 0, 0, 0, 0, 0, 0, 0, 0, 0, 0, 0, 0, 0, 0, 0, 0, 0, 0, 0, 0, 0, 0, 0, 0, 0, 0, 0, 0, 0, 0, 0, 0, 0, 0, 0, 0, 0, 0, 0, 0, 0, 0, 0, 0, 0, 0, 0, 0, 0, 0, 0, 0, 0, 0, 0, 0, 0, 0, 0, 0, 1, 0, 0, 0, 0, 0, 0, 0, 0, 0, 0, 0, 0, 0, 0, 0, 0, 0, 0, 0, 0, 0, 0, 0, 0, 0, 0, 0, 0, 0, 0, 0, 0, 0, 0, 0, 0, 0, 0, 0, 0, 0, 0, 0, 0, 0, 0, 0, 0, 0, 0, 0, 0, 0, 0, 0, 0, 0, 0, 0, 0, 0, 0, 0, 0, 0, 0, 0, 0, 0, 0, 0, 0, 0, 0, 0, 0, 0, 0, 0, 0, 0, 0, 0, 0, 0, 0, 0, 0, 0, 0, 0, 0, 0, 0, 0, 0, 0, 0, 0, 0, 0, 0, 0, 0, 0, 0, 0, 0, 0, 0, 0, 0, 0, 0, 0, 0, 0, 0, 0, 0, 0, 0, 0, 0, 0, 0, 0, 0, 0, 0, 0, 0, 0, 0, 0, 0, 0, 0, 0, 0, 0, 0, 0, 0, 0, 0, 0, 0, 0, 0, 0, 0, 0, 0, 0, 0, 0, 0, 0, 0, 0, 0, 0, 0, 0, 0, 0, 0, 0, 0, 0, 0, 0, 0, 0, 0, 0, 0, 0, 0, 0, 0, 0, 0, 0, 0, 0, 0, 0, 0, 0, 0, 0, 0, 0, 0, 0, 0, 0, 0, 0, 0, 0, 0, 0, 0, 0, 0, 0, 0, 0, 0, 0, 0, 0, 0, 0, 0, 0, 0, 0, 0, 0, 0, 0, 0, 0, 0, 0, 0, 0, 0, 0, 0, 0, 0, 0, 0, 0, 0, 0, 0, 0, 0, 0, 0, 0, 0, 0, 0, 0, 0, 0, 0, 0, 0, 0, 0, 0, 0, 0, 0, 0, 0, 0, 0, 0, 0, 0, 0, 0, 0, 0, 0, 0, 0, 0, 0, 0, 0, 0, 0, 0, 0, 0, 0, 0, 0, 0, 0, 0, 0, 0, 0, 0, 0, 0, 0, 0, 0, 0, 0, 0, 0, 0, 0, 0, 0, 0, 0, 0, 0, 0, 0, 0, 0, 0, 0, 0, 0, 0, 0, 0, 0, 0, 0, 0, 0, 0, 0, 0, 0, 0, 0, 0, 0, 0, 0, 0, 0, 0, 0, 0, 0, 0, 0, 0, 0, 0, 0, 0, 0, 0, 0, 0, 0, 0, 0, 0, 0, 0, 0, 0, 0, 0, 0, 0, 0, 0, 0, 0, 0, 0, 0, 0, 0, 0, 0, 0, 0, 0, 0, 0, 0, 0, 0, 0, 0, 0, 0, 0, 0, 0, 0, 0, 0, 0, 0, 0, 0, 0, 0, 0, 0, 0, 0, 0, 0, 0, 0, 0, 0, 0, 0, 0, 0, 0, 0, 0, 0, 0, 0, 0, 0, 0, 0, 0, 0, 0, 0, 0, 0, 0, 0, 0, 0, 0, 0, 0, 0, 0, 0, 0, 0, 0, 0, 0, 0, 0, 0, 0, 0, 0, 0, 0, 0, 0, 0, 0, 0, 0, 0, 0, 0, 0, 0, 0, 0, 0, 0, 0, 0, 0, 0, 0, 0, 0, 0, 0, 0, 0, 0, 0, 0, 0, 0, 0, 0, 0, 0, 0, 0, 0, 0, 0, 0, 0, 0, 0, 0, 0, 0, 0, 0, 0, 0, 0, 0, 0, 0, 0, 0, 0, 0, 0, 0, 0, 0, 0, 0, 0, 0, 0, 0, 0, 0, 0, 0, 0, 0, 0, 0, 0, 0, 0, 0, 0, 0, 0, 0, 0, 0, 0, 0, 0, 0, 0, 0, 0, 0, 0, 0, 0, 0, 0, 0, 0, 0, 0, 0, 0, 0, 0, 0, 0, 0, 0, 0, 0, 0, 0, 0, 0, 0, 0, 0, 0, 0, 0, 0, 0, 0, 0, 0, 0, 0, 0, 1, 0, 0, 0, 0, 0, 0, 0, 0, 0, 0, 0, 0, 0, 0, 0, 0, 0, 0, 0, 0, 0, 0, 0, 0, 0, 0, 0, 0, 0, 0, 0, 0, 0, 0, 0, 0, 0, 0, 0, 0, 0, 0, 0, 0, 0, 0, 0, 0, 0, 0, 0, 0, 0, 0, 0, 0, 0, 0, 0, 0, 0, 0, 0, 0, 0, 0, 0, 0, 0, 0, 0, 0, 0, 0, 0, 0, 0, 0, 0, 0, 0, 0, 0, 0, 0, 0, 0, 0, 0, 0, 0, 0, 0, 0, 0, 0, 0, 0, 0, 0, 0, 0, 0, 0, 0, 0, 0, 0, 0, 0, 0, 0, 0, 0, 0, 0, 0, 0, 0, 0, 0, 0, 0, 0, 0, 0, 0, 0, 0, 0, 0, 0, 0, 0, 0, 0, 0, 0, 0, 0, 0, 0, 0, 0, 0, 0, 0, 0, 0, 0, 0, 0, 0, 0, 0, 0, 0, 0, 0, 0, 0, 0, 0, 0, 0, 0, 0, 0, 0, 0, 0, 0, 0, 0, 1, 0, 0, 0, 0, 0, 0, 0, 0, 0, 0, 0, 0, 0, 0, 0, 0, 0, 0, 0, 0, 0, 0, 0, 0, 0, 0, 0, 0, 0, 0, 0, 0, 0, 0, 0, 0, 0, 0, 0, 0, 0, 0, 0, 0, 0, 0, 0, 0, 0, 0, 0, 0, 0, 0, 0, 0, 0, 0, 0, 0, 0, 0, 0, 0, 0, 0, 0, 0, 0, 0, 0, 0, 0, 0, 0, 0, 0, 0, 0, 0, 0, 0, 0, 0, 0, 0, 0, 0, 0, 0, 0, 0, 0, 0, 0, 0, 0, 0, 0, 0, 0, 0, 0, 0, 0, 0, 0, 0, 0, 0, 0, 0, 0, 0, 0, 0, 0, 0, 0, 0, 0, 0, 0, 0, 0, 0, 0, 0, 0, 0, 0, 0, 0, 0, 0, 0, 0, 0, 0, 0, 0, 0, 0, 0, 0, 0, 0, 0, 0, 0, 0, 0, 0, 0, 0, 0, 0, 0, 0, 0, 0, 0, 0, 0, 0, 0, 0, 0, 0, 0, 0, 0, 0, 0, 0, 0, 0, 0, 0, 0, 0, 0, 0, 0, 0, 0, 0, 0, 0, 0, 0, 0, 0, 0, 0, 0, 0, 0, 0, 0, 0, 0, 0, 0, 0, 0, 0, 0, 0, 0, 0, 0, 0, 0, 0, 0, 0, 0, 0, 0, 0, 0, 0, 0, 0, 0, 0, 0, 0, 0, 0, 0, 0, 0, 0, 0, 0, 0, 0, 0, 0, 0, 0, 0, 0, 0, 0, 0, 0, 0, 0, 0, 0, 0, 0, 0, 0, 0, 0, 0, 0, 0, 0, 0, 0, 1, 0, 0, 0, 0, 0, 0, 0, 0, 0, 0, 0, 0, 0, 0, 0, 0, 0, 0, 0, 0, 0, 0, 0, 0, 0, 0, 0, 0, 0, 0, 0, 0, 0, 0, 0, 0, 0, 0, 0, 0, 0, 0, 0, 0, 0, 0, 0, 0, 0, 0, 0, 0, 0, 0, 0, 0, 0, 0, 0, 0, 0, 0, 0, 0, 0, 0, 0, 0, 0, 0, 0, 0, 0, 0, 0, 0, 0, 0, 0, 0, 0, 0, 0, 0, 0, 0, 0, 0, 0, 0, 0, 0, 0, 0, 0, 0, 0, 0, 0, 0, 0, 0, 0, 0, 0, 0, 0, 0, 0, 0, 0, 0, 0, 0, 0, 0, 0, 0, 0, 0, 0, 0, 0, 0, 0, 0, 0, 0, 0, 0, 0, 0, 0, 0, 0, 0, 0, 0, 0, 0, 0, 0, 0, 0, 0, 0, 0, 0, 0, 0, 0, 0, 0, 0, 0, 0, 0, 0, 0, 0, 0, 0, 0, 0, 0, 0, 0, 0, 0, 0, 0, 0, 0, 0, 0, 0, 0, 0, 0, 0, 0, 0, 0, 0, 0, 0, 1, 0, 0, 0, 0, 0, 0, 0, 0, 0, 0, 0, 0, 0, 0, 0, 0, 0, 0, 0, 0, 0, 0, 0, 0, 0, 0, 0, 0, 0, 0, 0, 0, 0, 0, 0, 0, 0, 0, 0, 0, 0, 0, 0, 0, 0, 0, 0, 0, 0, 0, 0, 0, 0, 0, 0, 0, 0, 0, 0, 0, 0, 0, 0, 0, 0, 0, 0, 0, 0, 0, 0, 0, 0, 0, 0, 0, 0, 0, 0, 0, 0, 0, 0, 0, 0, 0, 0, 0, 0, 0, 0, 0, 0, 0, 0, 0, 0, 0, 0, 0, 0, 0, 0, 0, 0, 0, 0, 0, 0, 0, 0, 0, 0, 0, 0, 0, 0, 0, 0, 0, 0, 0, 0, 0, 0, 0, 0, 0, 0, 0, 0, 0, 0, 0, 0, 0, 0, 0, 0, 0, 0, 0, 0, 0, 0, 0, 0, 0, 0, 0, 0, 0, 0, 0, 0, 0, 0, 0, 0, 0, 0, 0, 0, 0, 0, 0, 0, 0, 0, 0, 0, 0, 0, 0, 0, 0, 0, 0, 0, 0, 0, 0, 0, 0, 0, 0, 0, 0, 0, 0, 0, 0, 0, 0, 0, 0, 0, 0, 0, 0, 0, 0, 0, 0, 1, 0, 0, 0, 0, 0, 0, 0, 0, 0, 0, 0, 0, 0, 0, 0, 0, 1, 0, 0, 0, 0, 0, 0, 0, 0, 0, 0, 0, 0, 0, 0, 0, 0, 0, 0, 0, 0, 0, 0, 0, 0, 0, 0, 0, 0, 0, 0, 0, 0, 0, 0, 0, 0, 0, 0, 0, 0, 0, 0, 0, 0, 0, 0, 0, 0, 0, 0, 0, 0, 0, 0, 0, 0, 0, 0, 0, 0, 0, 0, 0, 0, 0, 0, 0, 0, 0, 0, 0, 0, 0, 0, 0, 0, 0, 0, 0, 0, 0, 0, 0, 0, 0, 0, 0, 0, 0, 0, 0, 0, 0, 0, 0, 0, 0, 0, 0, 0, 0, 0, 0, 0, 0, 0, 0, 0, 0, 0, 0, 0, 0, 0, 0, 0, 0, 0, 0, 0, 0, 0, 0, 0, 0, 0, 0, 0, 0, 0, 0, 0, 0, 0, 0, 0, 0, 0, 0, 0, 0, 0, 0, 0, 0, 0, 0, 0, 0, 0, 0, 0, 0, 0, 0, 0, 0, 0, 0, 0, 0, 0, 0, 0, 0, 0, 0, 0, 0, 0, 0, 0, 0, 0, 0, 0, 0, 0, 0, 0, 0, 0, 0, 0, 0, 0, 0, 0, 0, 0, 0, 0, 0, 0, 0, 0, 0, 0, 0, 0, 0, 0, 0, 0, 0, 0, 0, 0, 0, 0, 0, 0, 0, 0, 0, 0, 0, 0, 0, 0, 0, 0, 0, 0, 0, 0, 0, 0, 0, 0, 0, 0, 0, 0, 0, 0, 0, 0, 0, 0, 0, 0, 0, 0, 0, 0, 0, 0, 0, 0, 0, 0, 0, 0, 0, 0, 0, 0, 0, 0, 1, 0, 0, 0, 0, 0, 0, 0, 0, 0, 0, 0, 0, 0, 0, 0, 0, 0, 0, 0, 0, 0, 0, 0, 0, 0, 0, 0, 0, 0, 0, 0, 0, 0, 0, 0, 0, 0, 0, 0, 0, 0, 0, 0, 0, 0, 0, 0, 0, 0, 0, 0, 0, 0, 0, 0, 0, 0, 0, 0, 0, 0, 0, 0, 0, 0, 0, 0, 0, 0, 0, 0, 0, 0, 0, 0, 0, 0, 0, 0, 0, 0, 0, 0, 0, 0, 0, 0, 0, 0, 0, 0, 0, 0, 0, 0, 0, 0, 0, 0, 0, 0, 0, 0, 0, 0, 0, 0, 0, 0, 0, 0, 0, 0, 0, 0, 0, 0, 0, 0, 0, 0, 0, 0, 0, 0, 0, 0, 0, 0, 0, 0, 0, 0, 0, 0, 0, 0, 0, 0, 0, 0, 0, 0, 0, 0, 0, 0, 0, 0, 0, 0, 0, 0, 0, 0, 0, 0, 0, 0, 0, 0, 0, 0, 0, 0, 0, 0, 0, 0, 0, 0, 0, 0, 0, 0, 0, 0, 0, 0, 0, 0, 0, 0, 0, 0, 0, 0, 0, 0, 0, 0, 0, 0, 0, 0, 0, 0, 0, 0, 0, 0, 0, 0, 0, 1, 0, 0, 0, 0, 0, 0, 0, 0, 0, 0, 0, 0, 0, 0, 0, 0, 0, 0, 0, 0, 1, 0, 0, 0, 0, 0, 0, 0, 0, 0, 0, 0, 0, 0, 0, 0, 0, 0, 0, 0, 0, 0, 0, 0, 0, 0, 0, 0, 0, 0, 0, 0, 0, 0, 0, 0, 0, 0, 0, 0, 0, 0, 0, 0, 0, 0, 0, 0, 0, 0, 0, 0, 0, 0, 0, 0, 0, 0, 0, 0, 0, 0, 0, 0, 0, 0, 0, 0, 0, 0, 0, 0, 0, 0, 0, 0, 0, 0, 0, 0, 0, 0, 0, 0, 0, 0, 0, 0, 0, 0, 0, 0, 0, 0, 0, 0, 0, 0, 0, 0, 1, 0, 0, 0, 0, 0, 0, 0, 0, 0, 0, 0, 0, 0, 0, 0, 0, 0, 0, 0, 0, 0, 0, 0, 0, 0, 1, 0, 0, 0, 0, 0, 0, 0, 0, 0, 0, 0, 0, 0, 0, 0, 0, 0, 0, 0, 0, 0, 0, 0, 0, 0, 0, 0, 0, 0, 0, 0, 0, 0, 0, 0, 0, 0, 0, 0, 0, 0, 0, 0, 0, 0, 0, 0, 0, 0, 0, 0, 0, 0, 0, 0, 0, 0, 0, 0, 0, 0, 0, 0, 0, 0, 0, 0, 0, 0, 0, 0, 0, 0, 0, 0, 0, 0, 0, 0, 0, 0, 0, 0, 0, 0, 0, 0, 0, 0, 0, 0, 0, 0, 0, 0, 0, 0, 1, 0, 0, 0, 0, 0, 0, 0, 0, 0, 0, 0, 0, 0, 0, 0, 0, 0, 0, 0, 0, 0, 0, 0, 0, 0, 0, 0, 0, 0, 0, 0, 0, 0, 0, 0, 0, 0, 0, 0, 0, 0, 0, 0, 0, 0, 0, 0, 0, 0, 0, 0, 0, 0, 0, 0, 0, 0, 0, 0, 0, 0, 0, 0, 0, 0, 0, 1, 0, 0, 0, 0, 0, 0, 0, 0, 0, 0, 0, 0, 0, 0, 0, 0, 0, 0, 0, 0, 0, 0, 0, 0, 0, 0, 0, 0, 0, 0, 0, 0, 0, 0, 0, 0, 0, 0, 0, 0, 0, 0, 0, 0, 0, 0, 0, 0, 0, 0, 0, 0, 0, 0, 0, 0, 0, 0, 0, 0, 0, 0, 0, 0, 0, 0, 0, 0, 0, 0, 0, 0, 0, 0, 0, 0, 0, 0, 0, 0, 0, 0, 0, 0, 0, 0, 0, 0, 0, 0, 0, 0, 0, 0, 0, 0, 0, 0, 0, 0, 0, 0, 0, 0, 0, 0, 0, 0, 0, 0, 0, 0, 0, 0, 0, 0, 0, 0, 0, 0, 0, 0, 0, 0, 0, 0, 0, 0, 0, 0, 0, 0, 0, 0, 0, 0, 0, 0, 0, 0, 0, 0, 0, 0, 0, 0, 0, 0, 1, 0, 0, 0, 0, 0, 0, 0, 0, 0, 0, 0, 0, 0, 0, 0, 0, 0, 0, 0, 0, 0, 0, 0, 0, 0, 0, 0, 0, 0, 0, 0, 0, 0, 0, 0, 0, 0, 0, 0, 0, 0, 0, 0, 0, 0, 0, 0, 0, 1, 0, 0, 0, 0, 0, 0, 0, 0, 0, 0, 0, 0, 0, 0, 0, 0, 0, 0, 0, 0, 0, 0, 0, 0, 0, 0, 0, 0, 0, 0, 0, 0, 1, 0, 0, 0, 0, 0, 0, 0, 0, 0, 0, 0, 0, 0, 0, 0, 0, 0, 0, 0, 0, 0, 0, 0, 0, 0, 0, 0, 0, 0, 0, 0, 0, 0, 0, 0, 0, 1, 0, 0, 0, 0, 0, 0, 0, 0, 0, 0, 0, 0, 0, 0, 0, 0, 0, 0, 0, 0, 0, 0, 0, 0, 0, 0, 0, 0, 0, 0, 0, 0, 0, 0, 0, 0, 0, 0, 0, 0, 0, 0, 0, 0, 0, 0, 0, 0, 0, 0, 0, 0, 0, 0, 0, 0, 0, 0, 0, 0, 0, 0, 0, 0, 0, 0, 0, 0, 0, 0, 0, 0, 0, 0, 0, 0, 0, 0, 0, 0, 0, 0, 0, 0, 0, 0, 1, 0, 0, 0, 0, 0, 0, 0, 0, 0, 0, 0, 0, 0, 0, 0, 0, 0, 0, 0, 0, 0, 0, 0, 0, 0, 0, 0, 0, 0, 0, 0, 0, 0, 0, 0, 0, 0, 0, 0, 0, 0, 0, 0, 0, 0, 0, 0, 0, 0, 0, 0, 0, 0, 0, 0, 0, 0, 0, 0, 0, 0, 0, 0, 0, 0, 0, 0, 0, 0, 0, 0, 0, 0, 0, 0, 0, 0, 0, 0, 0, 0, 0, 0, 0, 0, 0, 0, 0, 0, 0, 0, 0, 0, 0, 0, 0, 0, 0, 0, 0, 1, 0, 0, 0, 0, 0, 0, 0, 0, 0, 0, 0, 0, 0, 0, 0, 0, 0, 0, 0, 0, 0, 0, 0, 0, 0, 0, 0, 0, 0, 0, 0, 0, 0, 0, 0, 0, 0, 0, 0, 0, 0, 0, 0, 0, 0, 0, 0, 0, 0, 0, 0, 0, 0, 0, 0, 0, 0, 0, 0, 0, 0, 0, 0, 0, 0, 0, 0, 0, 0, 0, 0, 0, 0, 0, 0, 0, 0, 0, 0, 0, 0, 0, 0, 0, 0, 0, 0, 0, 0, 0, 0, 0, 0, 0, 1, 0, 0, 0, 0, 0, 0, 1, 0, 0, 0, 0, 1, 0, 0, 0, 0, 0, 0, 0, 0, 0, 0, 0, 0, 0, 0, 0, 0, 1, 0, 0, 0, 0, 0, 0, 0, 0, 0, 0, 0, 0, 0, 0, 0, 0, 0, 0, 0, 0, 0, 0, 0, 0, 0, 0, 0, 0, 0, 0, 0, 0, 0, 0, 0, 0, 0, 0, 0, 0, 0, 0, 0, 0, 0, 0, 0, 0, 1, 0, 0, 0, 0, 0, 0, 0, 0, 0, 0, 0, 0, 0, 0, 0, 0, 0, 0, 0, 0, 0, 0, 0, 0, 0, 0, 0, 0, 0, 0, 0, 0, 0, 1, 0, 0, 0, 0, 0, 0, 0, 0, 0, 0, 0, 0, 0, 0, 0, 0, 0, 0, 0, 0, 0, 0, 0, 0, 0, 0, 0, 0, 0, 0, 0, 0, 0, 0, 0, 0, 0, 0, 0, 0, 0, 0, 0, 0, 0, 0, 0, 0, 0, 0, 0, 0, 0, 0, 0, 0, 0, 0, 0, 0, 0, 0, 0, 0, 0, 0, 0, 0, 0, 0, 0, 0, 0, 0, 0, 0, 0, 0, 0, 0, 0, 0, 0, 0, 0, 0, 0, 0, 0, 0, 0, 0, 0, 0, 0, 0, 0, 0, 0, 0, 0, 0, 0, 0, 0, 0, 0, 1, 0, 0, 0, 0, 0, 0, 0, 0, 0, 0, 0, 0, 0, 0, 0, 0, 0, 0, 0, 0, 0, 0, 0, 0, 0, 0, 0, 0, 0, 0, 0, 0, 0, 0, 0, 0, 0, 0, 0, 0, 0, 0, 0, 0, 0, 0, 0, 0, 0, 0, 0, 0, 0, 0, 0, 0, 0, 0, 0, 0, 0, 0, 0, 0, 0, 0, 0, 0, 0, 0, 0, 0, 0, 0, 0, 0, 0, 0, 0, 0, 0, 0, 0, 0, 0, 0, 0, 0, 0, 0, 0, 0, 0, 0, 0, 0, 0, 0, 0, 0, 0, 0, 0, 0, 0, 0, 0, 0, 0, 0, 0, 0, 0, 0, 0, 0, 0, 0, 0, 0, 0, 0, 0, 0, 0, 0, 0, 0, 0, 0, 0, 0, 0, 0, 0, 0, 0, 0, 0, 0, 0, 0, 0, 0, 0, 0, 0, 0, 0, 0, 0, 0, 0, 0, 0, 0, 0, 0, 0, 0, 0, 0, 0, 0, 0, 0, 0, 0, 0, 0, 0, 0, 0, 0, 0, 0, 0, 0, 0, 0, 0, 0, 0, 0, 0, 0, 0, 0, 0, 0, 0, 0, 0, 0, 0, 0, 0, 0, 0, 0, 0, 0, 0, 0, 0, 0, 0, 0, 0, 0, 0, 0, 0, 0, 0, 0, 0, 0, 0, 0, 0, 0, 0, 0, 0, 0, 0, 0, 0, 0, 0, 0, 0, 0, 0, 0, 0, 0, 0, 0, 0, 0, 0, 0, 0, 0, 0, 0, 0, 0, 0, 0, 0, 0, 0, 0, 0, 0, 0, 0, 0, 0, 0, 0, 0, 0, 0, 0, 0, 0, 0, 0, 0, 0, 0, 0, 0, 0, 0, 0, 0, 0, 0, 0, 0, 1, 0, 0, 0, 0, 0, 0, 0, 0, 0, 0, 0, 0, 0, 0, 0, 0, 0, 0, 0, 0, 0, 0, 0, 1, 0, 0, 0, 0, 0, 0, 0, 0, 0, 0, 0, 0, 0, 0, 0, 0, 0, 0, 0, 0, 0, 0, 0, 0, 0, 0, 0, 0, 0, 0, 0, 0, 0, 0, 0, 0, 0, 0, 0, 0, 0, 0, 0, 0, 0, 0, 0, 0, 0, 0, 0, 0, 0, 0, 0, 0, 0, 0, 0, 0, 0, 0, 0, 0, 0, 0, 0, 0, 0, 0, 0, 0, 0, 0, 0, 0, 0, 0, 1, 0, 1, 0, 0, 0, 0, 0, 0, 0, 0, 0, 0, 0, 0, 0, 0, 0, 0, 0, 1, 0, 0, 0, 0, 0, 0, 0, 0, 0, 0, 0, 0, 0, 0, 0, 0, 0, 0, 0, 0, 0, 0, 0, 0, 0, 0, 0, 0, 0, 0, 0, 0, 0, 0, 0, 0, 0, 0, 0, 0, 0, 0, 0, 0, 0, 0, 0, 0, 0, 0, 0, 0, 0, 0, 0, 0, 0, 0, 0, 0, 0, 0, 0, 0, 0, 0, 0, 0, 0, 0, 0, 1, 0, 0, 0, 0, 0, 0, 0, 0, 0, 0, 0, 0, 0, 0, 0, 0, 0, 0, 0, 0, 0, 0, 0, 0, 0, 0, 0, 0, 0, 0, 0, 0, 0, 0, 0, 0, 0, 0, 0, 0, 0, 0, 0, 0, 0, 0, 0, 0, 1, 0, 0, 0, 0, 0, 0, 0, 0, 0, 0, 0, 0, 0, 0, 0, 0, 0, 0, 0, 0, 0, 0, 0, 0, 0, 0, 0, 0, 0, 0, 0, 0, 0, 0, 0, 0, 0, 0, 0, 0, 0, 0, 0, 0, 0, 0, 0, 0, 0, 0, 0, 0, 0, 0, 0, 0, 0, 0, 0, 0, 0, 0, 0, 0, 0, 0, 0, 0, 0, 0, 0, 0, 0, 0, 0, 0, 0, 0, 0, 0, 0, 0, 0, 0, 0, 0, 0, 0, 0, 0, 0, 0, 0, 0, 0, 0, 0, 0, 0, 0, 0, 0, 0, 0, 0, 0, 0, 0, 0, 0, 0, 0, 0, 0, 0, 0, 0, 0, 0, 0, 0, 0, 0, 0, 0, 0, 0, 0, 0, 0, 0, 0, 0, 0, 0, 0, 0, 0, 0, 0, 0, 0, 0, 0, 0, 0, 0, 1, 0, 0, 0, 0, 0, 0, 0, 0, 0, 0, 0, 0, 0, 0, 0, 0, 0, 0, 0, 0, 0, 0, 0, 0, 0, 0, 0, 0, 0, 0, 0, 0, 0, 0, 0, 0, 0, 0, 0, 0, 0, 0, 0, 0, 0, 0, 0, 0, 0, 0, 0, 0, 0, 0, 0, 0, 0, 0, 0, 0, 0, 0, 0, 0, 0, 0, 0, 0, 0, 0, 0, 0, 0, 0, 0, 0, 0, 0, 0, 0, 0, 0, 0, 0, 0, 0, 0, 0, 0, 0, 0, 0, 0, 0, 0, 0, 0, 0, 0, 0, 0, 0, 0, 0, 0, 0, 0, 0, 0, 0, 0, 0, 0, 0, 0, 0, 0, 0, 0, 0, 0, 0, 0, 0, 0, 0, 0, 0, 0, 0, 0, 0, 0, 0, 0, 0, 0, 0, 0, 0, 0, 0, 0, 0, 0, 0, 0, 0, 0, 0, 0, 0, 0, 0, 0, 0, 0, 0, 0, 0, 0, 0, 0, 0, 0, 0, 0, 0, 0, 0, 0, 0, 0, 0, 0, 0, 0, 0, 0, 0, 0, 0, 0, 0, 0, 0, 0, 0, 0, 0, 0, 0, 0, 0, 0, 0, 0, 0, 0, 0, 0, 0, 0, 0, 0, 0, 0, 0, 0, 0, 0, 0, 0, 0, 0, 0, 1, 0, 0, 0, 0, 0, 0, 0, 0, 0, 0, 0, 0, 0, 0, 0, 0, 0, 0, 0, 0, 0, 0, 0, 0, 0, 0, 0, 0, 0, 0, 0, 0, 0, 0, 0, 0, 0, 0, 0, 0, 0, 0, 0, 0, 0, 0, 0, 0, 0, 0, 0, 0, 0, 0, 0, 0, 0, 0, 0, 0, 0, 0, 0, 0, 0, 0, 0, 0, 0, 0, 0, 0, 0, 0, 0, 0, 0, 0, 0, 0, 0, 0, 0, 0, 0, 0, 0, 0, 0, 0, 0, 0, 0, 0, 0, 0, 0, 0, 0, 0, 0, 0, 0, 0, 0, 0, 0, 0, 0, 0, 0, 0, 0, 0, 0, 0, 0, 0, 0, 0, 0, 0, 0, 0, 0, 0, 0, 0, 0, 0, 0, 0, 0, 0, 0, 0, 0, 0, 0, 0, 0, 0, 0, 0, 0, 0, 0, 0, 0, 0, 0, 0, 0, 0, 0, 0, 0, 0, 0, 0, 0, 0, 0, 0, 0, 0, 0, 0, 0, 0, 0, 0, 0, 0, 0, 0, 0, 0, 0, 0, 0, 0, 0, 0, 0, 0, 0, 0, 0, 0, 0, 0, 0, 0, 0, 0, 0, 0, 0, 0, 0, 0, 0, 0, 0, 0, 0, 0, 0, 0, 0, 0, 0, 0, 0, 0, 0, 0, 0, 0, 0, 0, 0, 0, 0, 0, 0, 0, 0, 0, 0, 0, 0, 0, 0, 0, 0, 0, 0, 0, 0, 0, 0, 1, 0, 0, 0, 0, 0, 1, 0, 0, 0, 0, 0, 0, 0, 0, 0, 0, 0, 0, 0, 0, 0, 0, 0, 0, 0, 0, 0, 0, 0, 0, 0, 0, 0, 0, 0, 0, 0, 0, 0, 0, 0, 0, 0, 0, 0, 0, 0, 0, 0, 0, 0, 0, 0, 0, 0, 0, 0, 0, 0, 0, 0, 0, 0, 0, 0, 0, 0, 0, 0, 0, 0, 0, 0, 0, 0, 0, 0, 0, 0, 0, 0, 0, 0, 0, 0, 0, 0, 0, 0, 0, 0, 0, 0, 0, 0, 0, 0, 0, 0, 0, 0, 0, 0, 0, 0, 0, 0, 0, 0, 0, 0, 0, 0, 0, 0, 0, 0, 0, 0, 0, 0, 0, 0, 0, 0, 0, 0, 0, 0, 0, 0, 0, 0, 0, 0, 0, 0, 0, 0, 0, 0, 0, 0, 0, 0, 0, 0, 0, 0, 0, 0, 0, 0, 0, 0, 0, 0, 0, 0, 0, 0, 0, 0, 0, 0, 0, 0, 0, 0, 0, 0, 0, 0, 0, 0, 0, 0, 0, 0, 0, 0, 0, 0, 0, 0, 0, 0, 0, 0, 0, 0, 0, 0, 0, 0, 0, 0, 0, 0, 0, 0, 0, 0, 0, 0, 0, 0, 0, 0, 0, 0, 0, 0, 0, 0, 0, 0, 0, 0, 0, 0, 0, 0, 0, 0, 0, 0, 0, 0, 0, 0, 0, 0, 0, 0, 0, 0, 0, 0, 0, 0, 0, 0, 1, 0, 0, 0, 0, 0, 0, 0, 0, 0, 0, 0, 0, 0, 0, 0, 0, 0, 0, 0, 0, 0, 0, 0, 0, 0, 0, 0, 0, 0, 0, 0, 0, 0, 0, 0, 0, 0, 0, 0, 0, 0, 0, 0, 0, 0, 0, 0, 0, 0, 0, 0, 0, 0, 0, 0, 0, 0, 0, 1, 0, 0, 0, 0, 0, 0, 0, 0, 0, 0, 0, 0, 0, 0, 0, 0, 0, 0, 0, 0, 0, 0, 0, 0, 0, 0, 0, 0, 0, 0, 0, 0, 0, 0, 0, 0, 0, 0, 0, 0, 0, 0, 0, 0, 0, 0, 0, 0, 0, 0, 0, 0, 0, 0, 0, 0, 0, 0, 0, 0, 0, 0, 0, 0, 0, 0, 0, 0, 0, 0, 0, 0, 0, 0, 0, 0, 0, 0, 0, 0, 0, 0, 0, 0, 0, 0, 0, 0, 0, 0, 0, 0, 0, 0, 0, 0, 0, 0, 0, 0, 0, 0, 0, 0, 0, 0, 0, 0, 0, 0, 0, 0, 0, 0, 0, 0, 0, 0, 0, 0, 0, 0, 0, 0, 0, 0, 0, 0, 0, 0, 0, 0, 0, 0, 0, 0, 0, 0, 0, 0, 0, 0, 0, 0, 0, 0, 0, 0, 0, 0, 0, 0, 0, 0, 0, 0, 0, 0, 0, 0, 0, 0, 0, 1, 0, 0, 0, 0, 0, 0, 0, 0, 0, 0, 0, 0, 0, 0, 0, 0, 0, 0, 0, 0, 0, 0, 0, 0, 0, 0, 0, 0, 0, 0, 0, 0, 0, 0, 0, 0, 0, 0, 0, 0, 0, 0, 0, 0, 0, 0, 0, 0, 0, 0, 0, 0, 0, 0, 0, 0, 0, 0, 0, 0, 0, 0, 0, 0, 0, 0, 0, 0, 0, 0, 0, 0, 0, 0, 0, 0, 0, 0, 0, 0, 0, 0, 0, 0, 0, 0, 0, 0, 0, 0, 0, 0, 0, 0, 0, 0, 0, 0, 0, 0, 0, 0, 0, 0, 0, 0, 0, 0, 0, 0, 0, 0, 0, 0, 0, 0, 0, 0, 0, 0, 0, 0, 0, 0, 0, 0, 0, 0, 0, 0, 0, 0, 0, 0, 0, 0, 0, 0, 0, 0, 0, 0, 0, 0, 0, 0, 0, 0, 0, 0, 0, 0, 0, 0, 0, 0, 0, 0, 0, 0, 0, 0, 0, 0, 0, 0, 0, 0, 0, 0, 0, 0, 0, 0, 0, 0, 0, 0, 0, 0, 0, 0, 0, 0, 0, 0, 0, 0, 0, 0, 0, 0, 0, 0, 0, 0, 0, 0, 0, 0, 0, 0, 0, 0, 0, 0, 0, 0, 0, 0, 0, 0, 0, 0, 0, 0, 0, 0, 0, 0, 0, 0, 0, 0, 0, 0, 0, 0, 0, 0, 0, 0, 0, 0, 0, 0, 0, 0, 0, 0, 0, 0, 0, 0, 0, 0, 0, 0, 0, 0, 0, 1, 0, 0, 0, 0, 0, 0, 0, 0, 0, 0, 0, 0, 0, 0, 0, 0, 0, 0, 0, 0, 0, 0, 0, 0, 0, 0, 0, 0, 0, 0, 0, 0, 0, 0, 0, 0, 0, 0, 0, 0, 0, 0, 0, 0, 0, 0, 0, 0, 0, 0, 0, 0, 0, 0, 0, 0, 0, 0, 0, 0, 0, 0, 0, 0, 0, 0, 0, 0, 0, 0, 0, 0, 0, 0, 0, 0, 0, 0, 0, 0, 0, 0, 0, 0, 0, 0, 0, 0, 0, 0, 0, 0, 0, 0, 0, 0, 0, 0, 0, 0, 0, 0, 0, 0, 0, 0, 0, 0, 0, 0, 0, 0, 0, 0, 0, 0, 0, 0, 0, 0, 0, 0, 0, 0, 0, 0, 0, 0, 0, 0, 0, 0, 0, 0, 0, 0, 0, 0, 0, 0, 0, 0, 0, 0, 0, 0, 0, 0, 0, 0, 0, 0, 0, 0, 0, 0, 0, 0, 0, 0, 0, 0, 0, 0, 0, 0, 0, 0, 0, 0, 0, 0, 0, 0, 0, 0, 0, 0, 0, 0, 1, 0, 0, 0, 0, 0, 0, 0, 0, 0, 0, 0, 0, 0, 0, 0, 0, 0, 0, 0, 0, 0, 0, 0, 0, 0, 0, 0, 0, 0, 0, 0, 0, 0, 0, 0, 0, 0, 0, 0, 0, 0, 0, 0, 0, 0, 0, 0, 0, 0, 0, 0, 0, 0, 0, 0, 0, 0, 0, 0, 0, 0, 0, 0, 0, 0, 0, 0, 0, 0, 0, 0, 0, 0, 0, 0, 0, 0, 1, 0, 0, 0, 0, 0, 0, 0, 0, 0, 0, 0, 0, 0, 0, 0, 0, 0, 0, 0, 0, 0, 0, 0, 0, 0, 0, 0, 0, 0, 0, 0, 0, 0, 0, 0, 0, 0, 0, 0, 0, 0, 0, 0, 0, 0, 0, 0, 0, 0, 0, 0, 0, 0, 0, 0, 0, 0, 0, 0, 0, 0, 0, 0, 0, 0, 0, 0, 0, 0, 0, 0, 0, 0, 0, 0, 0, 0, 0, 0, 0, 0, 0, 0, 0, 0, 0, 0, 0, 0, 0, 0, 0, 0, 0, 0, 1, 0, 0, 0, 0, 0, 0, 0, 0, 0, 0, 0, 0, 0, 0, 0, 0, 0, 0, 0, 0, 0, 0, 0, 0, 0, 0, 0, 0, 0, 0, 0, 0, 0, 0, 0, 0, 0, 0, 0, 0, 0, 0, 0, 0, 0, 0, 0, 0, 0, 0, 0, 0, 0, 0, 0, 0, 0, 0, 0, 0, 0, 0, 0, 0, 0, 0, 0, 0, 0, 0, 0, 0, 1, 0, 0, 0, 0, 0, 0, 0, 0, 0, 0, 0, 0, 0, 0, 0, 0, 0, 0, 0, 0, 0, 0, 0, 0, 0, 0, 0, 0, 0, 0, 0, 0, 0, 0, 0, 0, 0, 0, 0, 0, 0, 0, 0, 0, 0, 0, 0, 0, 0, 0, 0, 0, 0, 0, 0, 0, 0, 0, 0, 0, 0, 0, 0, 0, 0, 0, 0, 0, 0, 0, 0, 0, 0, 0, 0, 0, 0, 0, 0, 0, 0, 0, 0, 0, 0, 0, 0, 0, 0, 0, 0, 0, 0, 0, 0, 0, 0, 0, 0, 0, 0, 0, 0, 0, 0, 0, 0, 0, 0, 0, 0, 0, 0, 0, 0, 0, 0, 0, 0, 0, 0, 0, 0, 0, 0, 0, 0, 0, 0, 0, 1, 0, 0, 0, 0, 0, 0, 0, 0, 0, 0, 0, 0, 0, 0, 0, 0, 0, 0, 0, 0, 0, 0, 0, 0, 0, 0, 0, 0, 0, 0, 0, 0, 0, 0, 0, 0, 0, 0, 0, 0, 0, 0, 0, 0, 0, 0, 0, 0, 0, 0, 0, 0, 0, 0, 0, 0, 0, 0, 0, 0, 0, 0, 0, 0, 0, 0, 0, 0, 0, 0, 0, 0, 0, 0, 0, 0, 0, 0, 0, 0, 0, 0, 0, 0, 0, 0, 0, 0, 0, 0, 0, 0, 0, 0, 0, 0, 0, 0, 0, 0, 0, 0, 0, 0, 0, 0, 0, 0, 0, 0, 0, 0, 0, 0, 0, 0, 0, 0, 0, 0, 0, 0, 0, 0, 0, 0, 0, 0, 0, 0, 0, 0, 0, 0, 0, 0, 0, 0, 0, 0, 0, 0, 0, 0, 0, 0, 0, 0, 0, 0, 0, 0, 0, 0, 0, 0, 0, 0, 0, 0, 0, 0, 0, 0, 0, 0, 0, 0, 0, 0, 0, 0, 0, 0, 0, 0, 0, 0, 0, 0, 0, 0, 0, 0, 0, 0, 0, 0, 0, 0, 0, 0, 0, 0, 0, 0, 0, 0, 0, 0, 0, 0, 0, 0, 0, 0, 0, 0, 0, 0, 0, 0, 0, 0, 0, 0, 0, 0, 0, 0, 0, 0, 0, 0, 0, 0, 0, 0, 0, 1, 0, 0, 0, 0, 0, 0, 0, 0, 0, 0, 0, 0, 0, 0, 0, 0, 0, 0, 0, 0, 0, 0, 0, 0, 0, 0, 0, 0, 0, 0, 0, 0, 0, 0, 0, 0, 0, 1, 0, 0, 0, 0, 0, 0, 0, 0, 0, 0, 0, 0, 0, 0, 0, 0, 0, 0, 0, 0, 0, 0, 0, 0, 0, 0, 0, 0, 0, 0, 0, 0, 0, 0, 0, 0, 0, 0, 0, 0, 0, 0, 0, 0, 0, 0, 0, 0, 0, 0, 0, 0, 0, 0, 0, 0, 0, 0, 0, 0, 0, 0, 0, 0, 0, 0, 0, 0, 0, 0, 0, 0, 0, 0, 0, 0, 0, 0, 0, 0, 0, 0, 0, 0, 0, 0, 0, 0, 0, 0, 0, 0, 0, 0, 0, 0, 0, 0, 0, 0, 0, 0, 0, 0, 0, 0, 0, 0, 0, 0, 0, 0, 0, 0, 0, 0, 0, 0, 0, 0, 0, 0, 1, 0, 0, 0, 0, 0, 0, 0, 0, 0, 0, 0, 0, 0, 0, 0, 0, 0, 0, 0, 0, 0, 0, 0, 0, 0, 0, 0, 0, 0, 0, 0, 0, 0, 0, 0, 0, 0, 0, 0, 0, 0, 0, 0, 0, 0, 0, 0, 0, 0, 0, 0, 0, 0, 0, 0, 0, 0, 0, 0, 0, 0, 0, 0, 0, 0, 0, 0, 0, 0, 0, 0, 0, 0, 0, 0, 0, 0, 0, 0, 0, 0, 0, 0, 0, 0, 0, 0, 0, 0, 0, 0, 0, 0, 0, 0, 0, 0, 0, 0, 0, 0, 0, 0, 0, 0, 0, 1, 0, 0, 0, 0, 0, 0, 0, 0, 0, 0, 0, 0, 0, 0, 0, 0, 0, 0, 0, 0, 0, 0, 0, 0, 0, 0, 0, 0, 0, 0, 0, 0, 0, 0, 0, 0, 0, 0, 0, 0, 1, 0, 0, 0, 0, 0, 0, 0, 0, 0, 0, 0, 0, 0, 0, 0, 0, 0, 0, 0, 0, 0, 0, 0, 0, 1, 0, 0, 0, 0, 0, 0, 0, 0, 0, 0, 0, 1, 0, 0, 0, 1, 0, 0, 0, 0, 0, 0, 0, 0, 0, 0, 0, 0, 0, 0, 0, 0, 0, 0, 0, 0, 0, 0, 0, 0, 0, 0, 0, 0, 0, 0, 0, 0, 0, 0, 0, 0, 0, 0, 0, 0, 0, 0, 0, 0, 0, 0, 0, 0, 0, 0, 0, 0, 0, 0, 0, 0, 0, 0, 0, 0, 0, 0, 0, 0, 0, 0, 0, 0, 0, 0, 0, 0, 0, 0, 0, 0, 0, 0, 0, 0, 0, 0, 0, 0, 0, 0, 0, 0, 0, 0, 0, 0, 0, 0, 0, 0, 0, 0, 0, 0, 0, 0, 0, 0, 0, 0, 0, 0, 0, 0, 0, 0, 0, 0, 0, 0, 1, 0, 0, 0, 0, 0, 0, 0, 0, 0, 0, 0, 0, 0, 0, 0, 0, 0, 0, 0, 0, 0, 0, 0, 0, 0, 0, 0, 0, 0, 0, 0, 0, 0, 0, 0, 0, 0, 0, 0, 0, 0, 0, 0, 0, 0, 0, 0, 0, 1, 0, 0, 0, 0, 0, 0, 0, 0, 0, 0, 0, 0, 0, 0, 0, 0, 0, 0, 0, 0, 0, 0, 0, 0, 0, 0, 0, 0, 0, 0, 0, 0, 0, 0, 0, 0, 0, 0, 1, 0, 0, 1, 0, 0, 0, 0, 0, 0, 0, 0, 0, 0, 0, 0, 0, 0, 0, 0, 0, 0, 0, 0, 0, 0, 0, 0, 0, 0, 0, 0, 0, 0, 0, 0, 0, 0, 1, 0, 0, 0, 0, 0, 0, 0, 0, 0, 0, 0, 0, 0, 0, 0, 0, 0, 0, 0, 0, 0, 0, 0, 0, 0, 0, 0, 0, 0, 0, 0, 0, 0, 0, 0, 0, 0, 0, 0, 0, 0, 0, 0, 0, 0, 0, 0, 0, 0, 0, 0, 0, 0, 0, 0, 0, 0, 0, 0, 0, 0, 0, 0, 0, 0, 0, 0, 0, 1, 0, 0, 0, 0, 0, 0, 0, 0, 0, 0, 0, 0, 0, 0, 0, 0, 0, 0, 0, 0, 0, 0, 0, 0, 0, 0, 0, 0, 0, 0, 0, 0, 0, 0, 0, 0, 0, 0, 0, 0, 0, 0, 1, 0, 0, 0, 0, 0, 0, 0, 0, 0, 0, 0, 0, 0, 0, 0, 0, 0, 0, 0, 0, 0, 0, 0, 0, 0, 0, 0, 0, 0, 0, 0, 0, 0, 0, 0, 0, 0, 0, 0, 0, 0, 0, 0, 0, 0, 0, 0, 0, 0, 0, 0, 0, 0, 0, 0, 0, 0, 0, 0, 0, 0, 0, 0, 0, 0, 0, 0, 0, 0, 0, 0, 0, 0, 0, 0, 0, 0, 0, 0, 0, 0, 0, 0, 0, 0, 0, 0, 0, 0, 0, 0, 0, 0, 0, 0, 0, 0, 0, 0, 0, 0, 0, 0, 0, 0, 0, 0, 0, 0, 0, 0, 0, 0, 0, 0, 0, 0, 0, 0, 0, 0, 0, 0, 0, 0, 0, 0, 0, 0, 0, 0, 0, 0, 0, 0, 0, 0, 0, 0, 0, 0, 0, 0, 0, 0, 0, 0, 0, 0, 0, 0, 0, 0, 0, 0, 0, 0, 0, 0, 0, 0, 0, 0, 0, 0, 0, 0, 0, 0, 0, 0, 0, 0, 0, 0, 0, 0, 1, 0, 0, 0, 0, 0, 0, 0, 0, 0, 0, 0, 0, 0, 0, 0, 0, 0, 0, 0, 0, 0, 0, 1, 0, 0, 0, 0, 0, 0, 0, 0, 0, 0, 0, 0, 0, 0, 0, 0, 0, 0, 0, 0, 0, 0, 0, 0, 0, 0, 0, 0, 0, 0, 0, 0, 0, 0, 0, 0, 0, 0, 0, 0, 0, 0, 0, 0, 0, 0, 0, 0, 0, 0, 0, 0, 0, 0, 0, 0, 0, 0, 0, 0, 0, 0, 0, 0, 0, 0, 0, 0, 0, 0, 0, 0, 0, 0, 0, 0, 0, 0, 0, 0, 0, 0, 0, 0, 0, 0, 0, 0, 0, 0, 0, 0, 0, 0, 0, 0, 0, 0, 0, 0, 0, 0, 0, 0, 0, 0, 0, 0, 0, 0, 0, 0, 0, 0, 0, 0, 0, 0, 0, 0, 0, 0, 0, 0, 0, 0, 0, 0, 0, 0, 0, 0, 0, 0, 0, 0, 0, 0, 0, 0, 0, 0, 0, 0, 0, 0, 0, 0, 0, 0, 0, 0, 0, 0, 0, 0, 0, 0, 0, 1, 0, 0, 0, 0, 0, 0, 0, 0, 0, 0, 0, 0, 0, 0, 0, 0, 0, 0, 0, 0, 0, 0, 0, 0, 0, 0, 0, 0, 0, 0, 0, 0, 0, 0, 0, 0, 0, 0, 0, 0, 0, 0, 0, 0, 0, 0, 0, 0, 1, 0, 0, 0, 0, 0, 0, 0, 1, 0, 0, 0, 0, 0, 0, 0, 0, 0, 0, 0, 0, 0, 0, 0, 0, 0, 0, 0, 0, 0, 0, 0, 0, 0, 0, 0, 0, 0, 0, 0, 0, 0, 0, 0, 0, 0, 0, 0, 0, 0, 0, 0, 0, 0, 0, 0, 0, 0, 0, 0, 0, 0, 0, 0, 0, 0, 0, 0, 0, 0, 0, 0, 0, 0, 0, 0, 0, 0, 0, 0, 0, 0, 0, 0, 0, 0, 0, 0, 0, 0, 0, 0, 0, 0, 0, 0, 0, 0, 0, 0, 0, 0, 0, 0, 0, 0, 0, 0, 0, 0, 0, 0, 0, 0, 0, 0, 0, 0, 0, 0, 0, 0, 0, 0, 0, 0, 0, 0, 0, 0, 0, 0, 0, 0, 0, 0, 0, 0, 0, 0, 0, 0, 0, 0, 0, 0, 0, 0, 0, 0, 0, 0, 0, 0, 0, 0, 0, 0, 0, 0, 0, 0, 0, 0, 0, 0, 0, 0, 0, 0, 0, 0, 0, 0, 0, 0, 0, 0, 0, 0, 0, 0, 0, 0, 0, 0, 0, 0, 0, 0, 0, 0, 0, 0, 0, 0, 0, 0, 0, 0, 0, 0, 0, 0, 0, 0, 0, 0, 0, 0, 0, 0, 0, 0, 0, 0, 0, 0, 0, 0, 0, 0, 0, 0, 0, 0, 0, 0, 0, 0, 0, 0, 0, 0, 0, 0, 0, 0, 0, 0, 0, 0, 0, 0, 0, 0, 0, 0, 0, 0, 0, 0, 0, 0, 1, 0, 0, 0, 0, 0, 0, 0, 0, 0, 0, 0, 0, 0, 1, 0, 0, 0, 0, 0, 0, 0, 0, 0, 0, 0, 0, 0, 0, 0, 0, 0, 0, 0, 0, 0, 1, 0, 0, 0, 0, 0, 0, 0, 0, 0, 0, 0, 0, 0, 1, 0, 0, 0, 0, 0, 0, 0, 0, 0, 0, 0, 0, 0, 0, 0, 0, 0, 0, 0, 0, 0, 0, 0, 0, 0, 0, 0, 0, 0, 0, 0, 0, 0, 0, 0, 0, 0, 0, 0, 0, 0, 0, 0, 0, 0, 0, 0, 0, 0, 0, 0, 0, 0, 0, 0, 0, 0, 0, 0, 0, 0, 0, 0, 0, 0, 0, 0, 0, 0, 0, 0, 0, 0, 0, 0, 0, 0, 0, 0, 0, 0, 0, 0, 0, 0, 0, 0, 0, 0, 0, 0, 0, 0, 0, 0, 0, 0, 0, 0, 0, 0, 0, 0, 0, 0, 0, 0, 0, 0, 0, 0, 0, 0, 0, 0, 0, 0, 0, 0, 0, 0, 0, 0, 0, 0, 0, 0, 0, 0, 0, 0, 0, 0, 0, 0, 0, 0, 0, 0, 0, 0, 0, 0, 0, 0, 0, 0, 0, 0, 0, 0, 0, 0, 0, 0, 0, 0, 0, 0, 0, 0, 0, 0, 0, 0, 0, 0, 0, 0, 0, 0, 0, 0, 0, 0, 0, 0, 0, 0, 0, 0, 0, 0, 0, 0, 0, 0, 0, 0, 0, 0, 0, 0, 0, 0, 0, 0, 0, 0, 0, 0, 0, 0, 0, 0, 0, 0, 0, 0, 0, 0, 0, 0, 0, 0, 0, 0, 0, 0, 0, 0, 0, 0, 0, 0, 0, 0, 0, 0, 0, 0, 0, 0, 0, 0, 0, 0, 0, 0, 0, 0, 0, 0, 0, 0, 0, 0, 0, 1, 0, 0, 0, 0, 0, 0, 0, 0, 0, 0, 0, 0, 0, 0, 0, 0, 0, 0, 0, 0, 0, 0, 0, 0, 0, 0, 0, 0, 0, 0, 0, 0, 0, 0, 0, 0, 0, 0, 0, 0, 0, 0, 0, 0, 0, 0, 0, 0, 0, 0, 0, 1, 0, 0, 0, 0, 0, 0, 0, 0, 0, 1, 0, 0, 0, 0, 0, 0, 0, 0, 0, 0, 0, 0, 0, 0, 0, 0, 0, 0, 0, 0, 0, 0, 0, 0, 0, 0, 0, 0, 0, 0, 0, 0, 0, 0, 0, 0, 0, 0, 0, 0, 0, 0, 0, 0, 0, 0, 0, 0, 0, 0, 0, 0, 0, 0, 0, 0, 0, 0, 0, 0, 0, 0, 0, 0, 0, 0, 0, 0, 0, 0, 0, 0, 0, 0, 0, 0, 0, 0, 0, 0, 0, 0, 0, 0, 0, 0, 0, 0, 0, 0, 0, 0, 0, 0, 0, 0, 0, 0, 0, 0, 1, 0, 0, 0, 0, 0, 0, 0, 0, 0, 0, 0, 0, 0, 0, 0, 0, 0, 0, 0, 0, 0, 0, 0, 0, 0, 0, 0, 0, 0, 0, 0, 0, 0, 0, 0, 0, 0, 0, 0, 0, 0, 0, 0, 0, 0, 0, 0, 0, 0, 0, 0, 0, 0, 0, 0, 0, 0, 0, 0, 0, 0, 0, 1, 0, 0, 0, 0, 0, 0, 0, 0, 0, 0, 0, 0, 0, 0, 0, 0, 0, 0, 0, 0, 0, 0, 0, 0, 0, 0, 0, 0, 0, 0, 0, 0, 0, 0, 0, 0, 0, 0, 0, 0, 0, 0, 0, 0, 0, 0, 0, 0, 0, 0, 0, 0, 0, 0, 0, 0, 0, 0, 0, 0, 0, 0, 0, 0, 0, 0, 0, 0, 0, 0, 0, 0, 0, 0, 0, 0, 1, 1, 1, 1, 1, 1, 1, 1, 1, 1, 1, 1, 1, 1, 1, 1, 1, 1, 1, 1, 1, 1, 1, 1, 1, 1, 1, 1, 1, 1, 1, 1, 1, 1, 1, 1, 1, 1, 1, 1, 1, 1, 1, 1, 1, 1, 1, 1, 1, 1, 1, 1, 1, 1, 1, 1, 1, 1, 1, 1, 1, 1, 1, 1, 1, 1, 1, 1, 1, 1, 1, 1, 1, 1, 1, 1, 1, 1, 1, 1, 1, 1, 1, 1, 1, 1, 1, 1, 1, 1, 1, 1, 1, 1, 1, 1, 1], \"yaxis\": \"y\"}, {\"alignmentgroup\": \"True\", \"hoverlabel\": {\"namelength\": 0}, \"hovertemplate\": \"Housing_Type=Municipal apartment<br>Gender=%{x}<br>occurrences=%{y}\", \"legendgroup\": \"Housing_Type=Municipal apartment\", \"marker\": {\"color\": \"#00cc96\"}, \"name\": \"Housing_Type=Municipal apartment\", \"offsetgroup\": \"Housing_Type=Municipal apartment\", \"orientation\": \"v\", \"showlegend\": true, \"textposition\": \"auto\", \"type\": \"bar\", \"x\": [\"F\", \"F\", \"M\", \"F\", \"M\", \"F\", \"M\", \"M\", \"F\", \"M\", \"F\", \"F\", \"F\", \"F\", \"F\", \"F\", \"F\", \"F\", \"F\", \"M\", \"F\", \"F\", \"F\", \"F\", \"M\", \"F\", \"F\", \"F\", \"F\", \"M\", \"F\", \"F\", \"F\", \"F\", \"F\", \"F\", \"F\", \"M\", \"F\", \"F\", \"F\", \"M\", \"M\", \"F\", \"M\", \"F\", \"M\", \"M\", \"F\", \"M\", \"F\", \"F\", \"F\", \"F\", \"F\", \"F\", \"M\", \"M\", \"M\", \"M\", \"M\", \"F\", \"M\", \"F\", \"F\", \"M\", \"M\", \"F\", \"F\", \"F\", \"F\", \"F\", \"M\", \"F\", \"M\", \"F\", \"M\", \"F\", \"F\", \"F\", \"F\", \"M\", \"M\", \"F\", \"F\", \"M\", \"F\", \"F\", \"F\", \"F\", \"F\", \"F\", \"F\", \"F\", \"M\", \"M\", \"F\", \"M\", \"F\", \"F\", \"F\", \"F\", \"F\", \"F\", \"F\", \"F\", \"F\", \"M\", \"M\", \"M\", \"F\", \"F\", \"M\", \"F\", \"F\", \"F\", \"M\", \"M\", \"F\", \"M\", \"F\", \"F\", \"F\", \"F\", \"M\", \"F\", \"F\", \"F\", \"M\", \"F\", \"M\", \"F\", \"M\", \"F\", \"F\", \"M\", \"F\", \"F\", \"F\", \"M\", \"F\", \"F\", \"F\", \"F\", \"F\", \"F\", \"F\", \"M\", \"F\", \"F\", \"M\", \"M\", \"F\", \"F\", \"F\", \"M\", \"F\", \"M\", \"M\", \"M\", \"M\", \"F\", \"M\", \"F\", \"F\", \"M\", \"F\", \"F\", \"F\", \"F\", \"F\", \"F\", \"F\", \"F\", \"M\", \"F\", \"F\", \"F\", \"F\", \"F\", \"M\", \"M\", \"F\", \"F\", \"F\", \"F\", \"M\", \"M\", \"F\", \"F\", \"F\", \"F\", \"F\", \"M\", \"F\", \"F\", \"F\", \"M\", \"M\", \"F\", \"M\", \"F\", \"M\", \"F\", \"F\", \"F\", \"F\", \"F\", \"F\", \"F\", \"F\", \"F\", \"M\", \"F\", \"F\", \"F\", \"F\", \"M\", \"F\", \"F\", \"F\", \"F\", \"F\", \"F\", \"F\", \"F\", \"M\", \"F\", \"F\", \"M\", \"F\", \"M\", \"F\", \"F\", \"F\", \"F\", \"F\", \"F\", \"F\", \"F\", \"M\", \"F\", \"F\", \"F\", \"F\", \"M\", \"F\", \"F\", \"F\", \"F\", \"F\", \"F\", \"F\", \"F\", \"F\", \"F\", \"F\", \"F\", \"F\", \"F\", \"F\", \"M\", \"F\", \"F\", \"M\", \"M\", \"F\", \"F\", \"F\", \"M\", \"M\", \"M\", \"F\", \"F\", \"F\", \"F\", \"F\", \"F\", \"F\", \"F\", \"F\", \"F\", \"M\", \"M\", \"M\", \"F\", \"F\", \"F\", \"F\", \"F\", \"F\", \"M\", \"M\", \"F\", \"F\", \"F\", \"M\", \"F\", \"F\", \"F\", \"F\", \"F\", \"F\", \"F\", \"M\", \"F\", \"F\", \"F\", \"M\", \"M\", \"F\", \"F\", \"F\", \"F\", \"F\", \"M\", \"M\", \"M\", \"F\", \"M\", \"M\", \"M\", \"F\"], \"xaxis\": \"x\", \"y\": [0, 0, 0, 0, 0, 0, 0, 0, 0, 0, 0, 0, 0, 0, 0, 0, 0, 0, 0, 0, 0, 0, 0, 0, 0, 0, 0, 0, 0, 0, 0, 0, 0, 0, 0, 0, 0, 0, 0, 0, 0, 0, 0, 0, 0, 0, 0, 0, 0, 0, 0, 0, 0, 0, 0, 0, 0, 0, 0, 0, 0, 0, 0, 0, 0, 0, 0, 0, 0, 0, 0, 0, 0, 0, 0, 0, 0, 0, 0, 0, 0, 0, 0, 0, 0, 0, 0, 0, 0, 0, 0, 0, 0, 0, 0, 0, 0, 0, 0, 0, 0, 0, 0, 0, 0, 0, 0, 0, 0, 0, 0, 0, 0, 0, 0, 0, 0, 0, 0, 0, 0, 0, 0, 0, 0, 0, 0, 0, 0, 0, 0, 1, 0, 0, 1, 0, 0, 0, 0, 0, 0, 0, 0, 0, 0, 0, 0, 0, 0, 0, 0, 0, 0, 0, 0, 0, 0, 0, 0, 0, 0, 0, 0, 0, 0, 0, 0, 0, 0, 0, 0, 0, 0, 0, 0, 0, 0, 0, 0, 0, 0, 0, 0, 0, 0, 0, 0, 0, 0, 0, 0, 0, 0, 0, 0, 0, 0, 0, 0, 0, 0, 0, 0, 0, 0, 0, 0, 0, 0, 0, 0, 0, 0, 0, 0, 0, 0, 0, 0, 0, 0, 0, 0, 0, 0, 0, 0, 0, 0, 0, 0, 0, 0, 0, 0, 0, 0, 0, 0, 0, 0, 0, 0, 0, 0, 0, 0, 0, 0, 0, 0, 0, 0, 0, 0, 0, 0, 0, 0, 0, 0, 0, 0, 0, 0, 0, 1, 0, 0, 0, 0, 0, 0, 0, 0, 0, 0, 0, 0, 0, 0, 0, 0, 0, 0, 0, 0, 0, 0, 0, 0, 0, 0, 0, 0, 0, 0, 0, 0, 0, 0, 0, 0, 0, 0, 0, 0, 0, 0, 0, 0, 0, 1, 1, 1, 1, 1, 1, 1, 1, 1, 1, 1], \"yaxis\": \"y\"}, {\"alignmentgroup\": \"True\", \"hoverlabel\": {\"namelength\": 0}, \"hovertemplate\": \"Housing_Type=With parents<br>Gender=%{x}<br>occurrences=%{y}\", \"legendgroup\": \"Housing_Type=With parents\", \"marker\": {\"color\": \"#ab63fa\"}, \"name\": \"Housing_Type=With parents\", \"offsetgroup\": \"Housing_Type=With parents\", \"orientation\": \"v\", \"showlegend\": true, \"textposition\": \"auto\", \"type\": \"bar\", \"x\": [\"M\", \"M\", \"F\", \"M\", \"F\", \"M\", \"M\", \"M\", \"M\", \"F\", \"M\", \"M\", \"F\", \"F\", \"M\", \"F\", \"M\", \"M\", \"F\", \"M\", \"F\", \"M\", \"F\", \"F\", \"M\", \"M\", \"F\", \"F\", \"F\", \"F\", \"F\", \"F\", \"M\", \"M\", \"F\", \"F\", \"F\", \"M\", \"M\", \"F\", \"M\", \"F\", \"M\", \"F\", \"F\", \"F\", \"F\", \"M\", \"M\", \"F\", \"M\", \"F\", \"M\", \"F\", \"M\", \"M\", \"M\", \"M\", \"F\", \"M\", \"M\", \"M\", \"M\", \"F\", \"F\", \"M\", \"M\", \"F\", \"F\", \"M\", \"M\", \"F\", \"M\", \"M\", \"M\", \"M\", \"F\", \"F\", \"M\", \"M\", \"F\", \"F\", \"M\", \"F\", \"F\", \"M\", \"F\", \"M\", \"F\", \"F\", \"M\", \"F\", \"F\", \"M\", \"F\", \"M\", \"F\", \"F\", \"F\", \"F\", \"F\", \"F\", \"F\", \"M\", \"F\", \"F\", \"M\", \"M\", \"F\", \"M\", \"F\", \"M\", \"F\", \"M\", \"F\", \"M\", \"F\", \"M\", \"F\", \"F\", \"F\", \"M\", \"F\", \"F\", \"F\", \"F\", \"F\", \"M\", \"F\", \"F\", \"F\", \"F\", \"M\", \"M\", \"F\", \"F\", \"M\", \"F\", \"M\", \"M\", \"F\", \"F\", \"M\", \"F\", \"M\", \"M\", \"F\", \"F\", \"F\", \"F\", \"F\", \"F\", \"M\", \"F\", \"F\", \"F\", \"M\", \"F\", \"M\", \"F\", \"M\", \"M\", \"M\", \"M\", \"M\", \"F\", \"M\", \"M\", \"F\", \"F\", \"F\", \"F\", \"M\", \"M\", \"F\", \"F\", \"F\", \"F\", \"M\", \"F\", \"F\", \"F\", \"F\", \"F\", \"F\", \"F\", \"F\", \"F\", \"M\", \"M\", \"F\", \"M\", \"F\", \"M\", \"F\", \"F\", \"M\", \"F\", \"M\", \"F\", \"F\", \"F\", \"F\", \"M\", \"F\", \"F\", \"M\", \"F\", \"M\", \"M\", \"F\", \"M\", \"M\", \"F\", \"F\", \"F\", \"M\", \"F\", \"F\", \"F\", \"M\", \"M\", \"M\", \"M\", \"F\", \"F\", \"M\", \"M\", \"F\", \"F\", \"M\", \"F\", \"F\", \"M\", \"F\", \"M\", \"M\", \"M\", \"F\", \"F\", \"M\", \"F\", \"F\", \"F\", \"M\", \"M\", \"M\", \"F\", \"M\", \"M\", \"F\", \"F\", \"M\", \"F\", \"F\", \"F\", \"F\", \"M\", \"M\", \"M\", \"F\", \"F\", \"F\", \"M\", \"M\", \"F\", \"M\", \"F\", \"M\", \"M\", \"M\", \"F\", \"F\", \"M\", \"F\", \"F\", \"F\", \"F\", \"F\", \"M\", \"F\", \"M\", \"F\", \"F\", \"F\", \"M\", \"M\", \"F\", \"F\", \"F\", \"M\", \"F\", \"F\", \"M\", \"M\", \"F\", \"F\", \"M\", \"F\", \"F\", \"F\", \"F\", \"M\", \"F\", \"F\", \"F\", \"M\", \"F\", \"F\", \"F\", \"F\", \"F\", \"F\", \"F\", \"M\", \"F\", \"F\", \"F\", \"F\", \"F\", \"M\", \"F\", \"F\", \"M\", \"M\", \"M\", \"M\", \"F\", \"F\", \"M\", \"F\", \"M\", \"M\", \"M\", \"M\", \"F\", \"F\", \"M\", \"M\", \"M\", \"F\", \"F\", \"F\", \"F\", \"F\", \"M\", \"F\", \"F\", \"F\", \"M\", \"F\", \"F\", \"F\", \"F\", \"M\", \"F\", \"F\", \"M\", \"M\", \"F\", \"M\", \"F\", \"M\", \"F\", \"M\", \"M\", \"F\", \"M\", \"M\", \"F\", \"M\", \"F\", \"M\", \"F\", \"F\", \"F\", \"F\", \"M\", \"F\", \"M\", \"M\", \"F\", \"F\", \"M\", \"F\", \"F\", \"M\", \"M\", \"M\", \"F\", \"F\", \"M\", \"M\", \"F\", \"M\", \"M\", \"M\", \"F\", \"F\", \"M\", \"M\", \"M\", \"F\", \"M\", \"M\", \"F\", \"M\", \"F\", \"F\", \"M\", \"F\", \"M\", \"M\", \"F\", \"M\", \"F\", \"M\", \"F\", \"F\", \"M\", \"F\", \"M\", \"M\", \"F\", \"M\", \"M\", \"M\", \"F\", \"F\", \"M\", \"F\", \"F\", \"M\", \"F\", \"F\", \"F\", \"F\", \"M\", \"M\", \"F\", \"F\", \"F\", \"M\", \"M\", \"M\", \"M\", \"M\", \"M\"], \"xaxis\": \"x\", \"y\": [0, 0, 0, 0, 0, 0, 0, 0, 0, 0, 0, 0, 0, 0, 0, 0, 0, 0, 0, 0, 0, 0, 0, 0, 0, 0, 0, 0, 0, 0, 0, 0, 0, 0, 0, 0, 0, 0, 0, 0, 0, 0, 0, 0, 0, 0, 0, 0, 0, 0, 0, 0, 0, 0, 0, 0, 0, 0, 0, 0, 0, 0, 0, 0, 0, 0, 0, 0, 0, 0, 0, 0, 0, 0, 0, 0, 0, 0, 0, 0, 0, 0, 0, 0, 0, 0, 0, 0, 0, 0, 0, 0, 0, 0, 0, 0, 0, 0, 0, 0, 0, 0, 0, 0, 0, 0, 0, 0, 0, 0, 0, 0, 0, 0, 0, 0, 0, 0, 0, 0, 0, 0, 0, 0, 0, 0, 0, 0, 0, 0, 0, 0, 0, 0, 0, 0, 0, 0, 0, 0, 0, 0, 0, 0, 0, 0, 0, 0, 0, 0, 0, 0, 0, 0, 0, 0, 0, 0, 0, 0, 0, 0, 0, 0, 0, 0, 0, 0, 0, 0, 0, 0, 0, 0, 0, 0, 0, 0, 0, 0, 0, 0, 0, 0, 0, 0, 0, 0, 0, 0, 0, 0, 0, 0, 0, 0, 0, 0, 0, 0, 0, 0, 0, 0, 0, 0, 0, 0, 0, 0, 0, 0, 0, 0, 0, 0, 0, 0, 0, 0, 0, 0, 0, 0, 0, 0, 0, 0, 0, 0, 0, 0, 0, 0, 0, 0, 0, 0, 0, 0, 0, 0, 0, 1, 0, 0, 0, 0, 0, 0, 0, 0, 0, 0, 0, 0, 0, 0, 0, 0, 0, 0, 0, 0, 0, 0, 0, 0, 0, 0, 0, 0, 0, 0, 0, 0, 0, 0, 0, 0, 0, 0, 0, 0, 0, 0, 0, 0, 0, 0, 0, 0, 0, 0, 0, 0, 0, 0, 0, 0, 0, 0, 0, 0, 0, 0, 0, 0, 0, 0, 0, 0, 0, 0, 0, 0, 0, 0, 0, 0, 0, 0, 0, 0, 0, 0, 0, 0, 0, 0, 0, 0, 0, 0, 0, 0, 0, 0, 0, 0, 0, 0, 0, 0, 0, 0, 0, 0, 0, 0, 0, 0, 0, 0, 0, 0, 0, 0, 0, 0, 0, 0, 0, 0, 0, 0, 0, 0, 0, 1, 0, 0, 0, 0, 0, 0, 0, 0, 0, 0, 0, 0, 0, 0, 0, 0, 1, 0, 0, 0, 0, 0, 0, 0, 0, 0, 0, 0, 0, 0, 0, 0, 0, 0, 0, 0, 0, 0, 0, 0, 0, 0, 0, 0, 0, 0, 0, 0, 0, 0, 0, 0, 0, 0, 0, 0, 0, 0, 0, 0, 0, 0, 0, 0, 0, 0, 0, 0, 0, 0, 0, 0, 1, 1, 1, 1, 1, 1], \"yaxis\": \"y\"}, {\"alignmentgroup\": \"True\", \"hoverlabel\": {\"namelength\": 0}, \"hovertemplate\": \"Housing_Type=Co-op apartment<br>Gender=%{x}<br>occurrences=%{y}\", \"legendgroup\": \"Housing_Type=Co-op apartment\", \"marker\": {\"color\": \"#FFA15A\"}, \"name\": \"Housing_Type=Co-op apartment\", \"offsetgroup\": \"Housing_Type=Co-op apartment\", \"orientation\": \"v\", \"showlegend\": true, \"textposition\": \"auto\", \"type\": \"bar\", \"x\": [\"M\", \"M\", \"M\", \"F\", \"M\", \"F\", \"M\", \"F\", \"F\", \"M\", \"F\", \"M\", \"M\", \"F\", \"M\", \"F\", \"F\", \"F\", \"F\", \"M\", \"M\", \"F\", \"M\", \"M\", \"F\", \"F\", \"M\", \"M\", \"F\", \"F\", \"F\", \"F\", \"M\", \"M\"], \"xaxis\": \"x\", \"y\": [0, 0, 0, 0, 0, 0, 0, 0, 0, 0, 0, 0, 0, 0, 0, 0, 0, 0, 0, 0, 0, 0, 0, 0, 0, 0, 0, 0, 0, 0, 0, 0, 0, 0], \"yaxis\": \"y\"}, {\"alignmentgroup\": \"True\", \"hoverlabel\": {\"namelength\": 0}, \"hovertemplate\": \"Housing_Type=Office apartment<br>Gender=%{x}<br>occurrences=%{y}\", \"legendgroup\": \"Housing_Type=Office apartment\", \"marker\": {\"color\": \"#19d3f3\"}, \"name\": \"Housing_Type=Office apartment\", \"offsetgroup\": \"Housing_Type=Office apartment\", \"orientation\": \"v\", \"showlegend\": true, \"textposition\": \"auto\", \"type\": \"bar\", \"x\": [\"M\", \"M\", \"M\", \"F\", \"M\", \"M\", \"F\", \"F\", \"M\", \"M\", \"F\", \"F\", \"M\", \"M\", \"F\", \"M\", \"F\", \"M\", \"F\", \"M\", \"M\", \"M\", \"M\", \"F\", \"F\", \"F\", \"F\", \"M\", \"F\", \"F\", \"M\", \"F\", \"F\", \"M\", \"F\", \"F\", \"M\", \"M\", \"F\", \"M\", \"M\", \"M\", \"M\", \"F\", \"M\", \"M\", \"M\", \"F\", \"F\", \"F\", \"M\", \"F\", \"F\", \"F\", \"M\", \"M\", \"M\", \"M\", \"F\", \"M\", \"F\", \"M\", \"M\", \"F\", \"M\", \"M\", \"F\", \"M\", \"M\", \"M\", \"F\", \"F\", \"F\", \"M\", \"M\", \"M\"], \"xaxis\": \"x\", \"y\": [0, 0, 0, 0, 0, 0, 0, 0, 0, 0, 0, 0, 0, 0, 0, 0, 0, 0, 0, 0, 0, 0, 0, 0, 0, 0, 0, 0, 0, 0, 0, 0, 0, 0, 0, 0, 0, 0, 0, 0, 0, 0, 0, 0, 0, 0, 0, 0, 0, 0, 0, 0, 0, 0, 0, 0, 0, 0, 0, 0, 0, 0, 0, 0, 0, 0, 0, 0, 0, 0, 0, 0, 0, 0, 0, 1], \"yaxis\": \"y\"}],\n",
              "                        {\"barmode\": \"group\", \"legend\": {\"tracegroupgap\": 0}, \"margin\": {\"t\": 60}, \"template\": {\"data\": {\"bar\": [{\"error_x\": {\"color\": \"#2a3f5f\"}, \"error_y\": {\"color\": \"#2a3f5f\"}, \"marker\": {\"line\": {\"color\": \"#E5ECF6\", \"width\": 0.5}}, \"type\": \"bar\"}], \"barpolar\": [{\"marker\": {\"line\": {\"color\": \"#E5ECF6\", \"width\": 0.5}}, \"type\": \"barpolar\"}], \"carpet\": [{\"aaxis\": {\"endlinecolor\": \"#2a3f5f\", \"gridcolor\": \"white\", \"linecolor\": \"white\", \"minorgridcolor\": \"white\", \"startlinecolor\": \"#2a3f5f\"}, \"baxis\": {\"endlinecolor\": \"#2a3f5f\", \"gridcolor\": \"white\", \"linecolor\": \"white\", \"minorgridcolor\": \"white\", \"startlinecolor\": \"#2a3f5f\"}, \"type\": \"carpet\"}], \"choropleth\": [{\"colorbar\": {\"outlinewidth\": 0, \"ticks\": \"\"}, \"type\": \"choropleth\"}], \"contour\": [{\"colorbar\": {\"outlinewidth\": 0, \"ticks\": \"\"}, \"colorscale\": [[0.0, \"#0d0887\"], [0.1111111111111111, \"#46039f\"], [0.2222222222222222, \"#7201a8\"], [0.3333333333333333, \"#9c179e\"], [0.4444444444444444, \"#bd3786\"], [0.5555555555555556, \"#d8576b\"], [0.6666666666666666, \"#ed7953\"], [0.7777777777777778, \"#fb9f3a\"], [0.8888888888888888, \"#fdca26\"], [1.0, \"#f0f921\"]], \"type\": \"contour\"}], \"contourcarpet\": [{\"colorbar\": {\"outlinewidth\": 0, \"ticks\": \"\"}, \"type\": \"contourcarpet\"}], \"heatmap\": [{\"colorbar\": {\"outlinewidth\": 0, \"ticks\": \"\"}, \"colorscale\": [[0.0, \"#0d0887\"], [0.1111111111111111, \"#46039f\"], [0.2222222222222222, \"#7201a8\"], [0.3333333333333333, \"#9c179e\"], [0.4444444444444444, \"#bd3786\"], [0.5555555555555556, \"#d8576b\"], [0.6666666666666666, \"#ed7953\"], [0.7777777777777778, \"#fb9f3a\"], [0.8888888888888888, \"#fdca26\"], [1.0, \"#f0f921\"]], \"type\": \"heatmap\"}], \"heatmapgl\": [{\"colorbar\": {\"outlinewidth\": 0, \"ticks\": \"\"}, \"colorscale\": [[0.0, \"#0d0887\"], [0.1111111111111111, \"#46039f\"], [0.2222222222222222, \"#7201a8\"], [0.3333333333333333, \"#9c179e\"], [0.4444444444444444, \"#bd3786\"], [0.5555555555555556, \"#d8576b\"], [0.6666666666666666, \"#ed7953\"], [0.7777777777777778, \"#fb9f3a\"], [0.8888888888888888, \"#fdca26\"], [1.0, \"#f0f921\"]], \"type\": \"heatmapgl\"}], \"histogram\": [{\"marker\": {\"colorbar\": {\"outlinewidth\": 0, \"ticks\": \"\"}}, \"type\": \"histogram\"}], \"histogram2d\": [{\"colorbar\": {\"outlinewidth\": 0, \"ticks\": \"\"}, \"colorscale\": [[0.0, \"#0d0887\"], [0.1111111111111111, \"#46039f\"], [0.2222222222222222, \"#7201a8\"], [0.3333333333333333, \"#9c179e\"], [0.4444444444444444, \"#bd3786\"], [0.5555555555555556, \"#d8576b\"], [0.6666666666666666, \"#ed7953\"], [0.7777777777777778, \"#fb9f3a\"], [0.8888888888888888, \"#fdca26\"], [1.0, \"#f0f921\"]], \"type\": \"histogram2d\"}], \"histogram2dcontour\": [{\"colorbar\": {\"outlinewidth\": 0, \"ticks\": \"\"}, \"colorscale\": [[0.0, \"#0d0887\"], [0.1111111111111111, \"#46039f\"], [0.2222222222222222, \"#7201a8\"], [0.3333333333333333, \"#9c179e\"], [0.4444444444444444, \"#bd3786\"], [0.5555555555555556, \"#d8576b\"], [0.6666666666666666, \"#ed7953\"], [0.7777777777777778, \"#fb9f3a\"], [0.8888888888888888, \"#fdca26\"], [1.0, \"#f0f921\"]], \"type\": \"histogram2dcontour\"}], \"mesh3d\": [{\"colorbar\": {\"outlinewidth\": 0, \"ticks\": \"\"}, \"type\": \"mesh3d\"}], \"parcoords\": [{\"line\": {\"colorbar\": {\"outlinewidth\": 0, \"ticks\": \"\"}}, \"type\": \"parcoords\"}], \"pie\": [{\"automargin\": true, \"type\": \"pie\"}], \"scatter\": [{\"marker\": {\"colorbar\": {\"outlinewidth\": 0, \"ticks\": \"\"}}, \"type\": \"scatter\"}], \"scatter3d\": [{\"line\": {\"colorbar\": {\"outlinewidth\": 0, \"ticks\": \"\"}}, \"marker\": {\"colorbar\": {\"outlinewidth\": 0, \"ticks\": \"\"}}, \"type\": \"scatter3d\"}], \"scattercarpet\": [{\"marker\": {\"colorbar\": {\"outlinewidth\": 0, \"ticks\": \"\"}}, \"type\": \"scattercarpet\"}], \"scattergeo\": [{\"marker\": {\"colorbar\": {\"outlinewidth\": 0, \"ticks\": \"\"}}, \"type\": \"scattergeo\"}], \"scattergl\": [{\"marker\": {\"colorbar\": {\"outlinewidth\": 0, \"ticks\": \"\"}}, \"type\": \"scattergl\"}], \"scattermapbox\": [{\"marker\": {\"colorbar\": {\"outlinewidth\": 0, \"ticks\": \"\"}}, \"type\": \"scattermapbox\"}], \"scatterpolar\": [{\"marker\": {\"colorbar\": {\"outlinewidth\": 0, \"ticks\": \"\"}}, \"type\": \"scatterpolar\"}], \"scatterpolargl\": [{\"marker\": {\"colorbar\": {\"outlinewidth\": 0, \"ticks\": \"\"}}, \"type\": \"scatterpolargl\"}], \"scatterternary\": [{\"marker\": {\"colorbar\": {\"outlinewidth\": 0, \"ticks\": \"\"}}, \"type\": \"scatterternary\"}], \"surface\": [{\"colorbar\": {\"outlinewidth\": 0, \"ticks\": \"\"}, \"colorscale\": [[0.0, \"#0d0887\"], [0.1111111111111111, \"#46039f\"], [0.2222222222222222, \"#7201a8\"], [0.3333333333333333, \"#9c179e\"], [0.4444444444444444, \"#bd3786\"], [0.5555555555555556, \"#d8576b\"], [0.6666666666666666, \"#ed7953\"], [0.7777777777777778, \"#fb9f3a\"], [0.8888888888888888, \"#fdca26\"], [1.0, \"#f0f921\"]], \"type\": \"surface\"}], \"table\": [{\"cells\": {\"fill\": {\"color\": \"#EBF0F8\"}, \"line\": {\"color\": \"white\"}}, \"header\": {\"fill\": {\"color\": \"#C8D4E3\"}, \"line\": {\"color\": \"white\"}}, \"type\": \"table\"}]}, \"layout\": {\"annotationdefaults\": {\"arrowcolor\": \"#2a3f5f\", \"arrowhead\": 0, \"arrowwidth\": 1}, \"coloraxis\": {\"colorbar\": {\"outlinewidth\": 0, \"ticks\": \"\"}}, \"colorscale\": {\"diverging\": [[0, \"#8e0152\"], [0.1, \"#c51b7d\"], [0.2, \"#de77ae\"], [0.3, \"#f1b6da\"], [0.4, \"#fde0ef\"], [0.5, \"#f7f7f7\"], [0.6, \"#e6f5d0\"], [0.7, \"#b8e186\"], [0.8, \"#7fbc41\"], [0.9, \"#4d9221\"], [1, \"#276419\"]], \"sequential\": [[0.0, \"#0d0887\"], [0.1111111111111111, \"#46039f\"], [0.2222222222222222, \"#7201a8\"], [0.3333333333333333, \"#9c179e\"], [0.4444444444444444, \"#bd3786\"], [0.5555555555555556, \"#d8576b\"], [0.6666666666666666, \"#ed7953\"], [0.7777777777777778, \"#fb9f3a\"], [0.8888888888888888, \"#fdca26\"], [1.0, \"#f0f921\"]], \"sequentialminus\": [[0.0, \"#0d0887\"], [0.1111111111111111, \"#46039f\"], [0.2222222222222222, \"#7201a8\"], [0.3333333333333333, \"#9c179e\"], [0.4444444444444444, \"#bd3786\"], [0.5555555555555556, \"#d8576b\"], [0.6666666666666666, \"#ed7953\"], [0.7777777777777778, \"#fb9f3a\"], [0.8888888888888888, \"#fdca26\"], [1.0, \"#f0f921\"]]}, \"colorway\": [\"#636efa\", \"#EF553B\", \"#00cc96\", \"#ab63fa\", \"#FFA15A\", \"#19d3f3\", \"#FF6692\", \"#B6E880\", \"#FF97FF\", \"#FECB52\"], \"font\": {\"color\": \"#2a3f5f\"}, \"geo\": {\"bgcolor\": \"white\", \"lakecolor\": \"white\", \"landcolor\": \"#E5ECF6\", \"showlakes\": true, \"showland\": true, \"subunitcolor\": \"white\"}, \"hoverlabel\": {\"align\": \"left\"}, \"hovermode\": \"closest\", \"mapbox\": {\"style\": \"light\"}, \"paper_bgcolor\": \"white\", \"plot_bgcolor\": \"#E5ECF6\", \"polar\": {\"angularaxis\": {\"gridcolor\": \"white\", \"linecolor\": \"white\", \"ticks\": \"\"}, \"bgcolor\": \"#E5ECF6\", \"radialaxis\": {\"gridcolor\": \"white\", \"linecolor\": \"white\", \"ticks\": \"\"}}, \"scene\": {\"xaxis\": {\"backgroundcolor\": \"#E5ECF6\", \"gridcolor\": \"white\", \"gridwidth\": 2, \"linecolor\": \"white\", \"showbackground\": true, \"ticks\": \"\", \"zerolinecolor\": \"white\"}, \"yaxis\": {\"backgroundcolor\": \"#E5ECF6\", \"gridcolor\": \"white\", \"gridwidth\": 2, \"linecolor\": \"white\", \"showbackground\": true, \"ticks\": \"\", \"zerolinecolor\": \"white\"}, \"zaxis\": {\"backgroundcolor\": \"#E5ECF6\", \"gridcolor\": \"white\", \"gridwidth\": 2, \"linecolor\": \"white\", \"showbackground\": true, \"ticks\": \"\", \"zerolinecolor\": \"white\"}}, \"shapedefaults\": {\"line\": {\"color\": \"#2a3f5f\"}}, \"ternary\": {\"aaxis\": {\"gridcolor\": \"white\", \"linecolor\": \"white\", \"ticks\": \"\"}, \"baxis\": {\"gridcolor\": \"white\", \"linecolor\": \"white\", \"ticks\": \"\"}, \"bgcolor\": \"#E5ECF6\", \"caxis\": {\"gridcolor\": \"white\", \"linecolor\": \"white\", \"ticks\": \"\"}}, \"title\": {\"x\": 0.05}, \"xaxis\": {\"automargin\": true, \"gridcolor\": \"white\", \"linecolor\": \"white\", \"ticks\": \"\", \"title\": {\"standoff\": 15}, \"zerolinecolor\": \"white\", \"zerolinewidth\": 2}, \"yaxis\": {\"automargin\": true, \"gridcolor\": \"white\", \"linecolor\": \"white\", \"ticks\": \"\", \"title\": {\"standoff\": 15}, \"zerolinecolor\": \"white\", \"zerolinewidth\": 2}}}, \"xaxis\": {\"anchor\": \"y\", \"domain\": [0.0, 1.0], \"title\": {\"text\": \"Gender\"}}, \"yaxis\": {\"anchor\": \"x\", \"domain\": [0.0, 1.0], \"title\": {\"text\": \"occurrences\"}}},\n",
              "                        {\"responsive\": true}\n",
              "                    ).then(function(){\n",
              "                            \n",
              "var gd = document.getElementById('afa5d97d-b979-4416-916c-645c0d78b5a8');\n",
              "var x = new MutationObserver(function (mutations, observer) {{\n",
              "        var display = window.getComputedStyle(gd).display;\n",
              "        if (!display || display === 'none') {{\n",
              "            console.log([gd, 'removed!']);\n",
              "            Plotly.purge(gd);\n",
              "            observer.disconnect();\n",
              "        }}\n",
              "}});\n",
              "\n",
              "// Listen for the removal of the full notebook cells\n",
              "var notebookContainer = gd.closest('#notebook-container');\n",
              "if (notebookContainer) {{\n",
              "    x.observe(notebookContainer, {childList: true});\n",
              "}}\n",
              "\n",
              "// Listen for the clearing of the current output cell\n",
              "var outputEl = gd.closest('.output');\n",
              "if (outputEl) {{\n",
              "    x.observe(outputEl, {childList: true});\n",
              "}}\n",
              "\n",
              "                        })\n",
              "                };\n",
              "                \n",
              "            </script>\n",
              "        </div>\n",
              "</body>\n",
              "</html>"
            ]
          },
          "metadata": {
            "tags": []
          }
        }
      ]
    },
    {
      "cell_type": "code",
      "metadata": {
        "id": "NzcXpyk21Q1-"
      },
      "source": [
        "fig = px.bar(df, x=\"Gender\",y=\"label\", color=\"Education\", barmode=\"group\")\r\n",
        "fig.show(renderer=\"colab\")"
      ],
      "execution_count": null,
      "outputs": []
    },
    {
      "cell_type": "code",
      "metadata": {
        "id": "wigkloiY1umA"
      },
      "source": [
        "fig = px.bar(df, x=\"Education\", y=\"label\", color=\"Occupation\", barmode=\"group\")\r\n",
        "fig.show(renderer=\"colab\")"
      ],
      "execution_count": null,
      "outputs": []
    },
    {
      "cell_type": "code",
      "metadata": {
        "id": "QcBSzF3UQ4zj"
      },
      "source": [
        "family = df.Family_Status.value_counts()\r\n",
        "sns.set(style=\"darkgrid\")\r\n",
        "sns.barplot(family.index, family.values, alpha=0.9)\r\n",
        "plt.title('Frequency Distribution of Family Status')\r\n",
        "plt.ylabel('Number of Occurrences', fontsize=12)\r\n",
        "plt.xlabel('Status', fontsize=12)\r\n",
        "plt.show()"
      ],
      "execution_count": null,
      "outputs": []
    },
    {
      "cell_type": "code",
      "metadata": {
        "id": "h7_oTmEWRWGZ"
      },
      "source": [
        "income = df.Income_Type.value_counts()\r\n",
        "sns.barplot(income.index, income.values, alpha=0.9)\r\n",
        "plt.title('Frequency Distribution of Income Status')\r\n",
        "plt.ylabel('Number of Occurrences', fontsize=12)\r\n",
        "plt.xlabel('Income', fontsize=12)\r\n",
        "plt.show()"
      ],
      "execution_count": null,
      "outputs": []
    },
    {
      "cell_type": "code",
      "metadata": {
        "id": "KAqQnviiRrZy"
      },
      "source": [
        "occup = df.Occupation.value_counts()\r\n",
        "sns.barplot( occup.values, occup.index,alpha=0.9)\r\n",
        "plt.title('Frequency Distribution of Occupation')\r\n",
        "plt.ylabel('Occupation', fontsize=12)\r\n",
        "plt.xlabel('Number of Occurrences', fontsize=12)\r\n",
        "plt.show( )"
      ],
      "execution_count": null,
      "outputs": []
    },
    {
      "cell_type": "code",
      "metadata": {
        "id": "mSn_5e95S5DW"
      },
      "source": [
        "fam_size = df.Family_Size.value_counts()\r\n",
        "sns.barplot(fam_size.index, fam_size.values, alpha=0.9)\r\n",
        "plt.title('Frequency Distribution of Family Size')\r\n",
        "plt.ylabel('Number of Occurrences', fontsize=12)\r\n",
        "plt.xlabel('Family Size', fontsize=12)\r\n",
        "plt.show()"
      ],
      "execution_count": null,
      "outputs": []
    },
    {
      "cell_type": "markdown",
      "metadata": {
        "id": "JX7TXxfUoqAA"
      },
      "source": [
        "## Data Preprocessing"
      ]
    },
    {
      "cell_type": "markdown",
      "metadata": {
        "id": "R4PbZjMFrEfC"
      },
      "source": [
        "We replace Male and Female denoted as \"M\" and \"F\" with 1 and 0 accordingly.\r\n",
        "We replace Yes and No denoted as \"Y\" and \"N\" with 1 and 0 accordingly. And we make Workphone,Phone and Email as factor."
      ]
    },
    {
      "cell_type": "code",
      "metadata": {
        "id": "kdPChUeV5HlC"
      },
      "source": [
        "df= df.replace('M', 1)\r\n",
        "df= df.replace('F', 0)\r\n",
        "df= df.replace('Y', 1)\r\n",
        "df= df.replace('N', 0)\r\n",
        "\r\n",
        "df['Email'] = pd.factorize(df.Email)[0]\r\n",
        "df['Phone'] = pd.factorize(df.Phone)[0]\r\n",
        "df['Workphone'] = pd.factorize(df.Workphone)[0]"
      ],
      "execution_count": null,
      "outputs": []
    },
    {
      "cell_type": "code",
      "metadata": {
        "id": "9t1FPO2Cnsmk"
      },
      "source": [
        "df.head(5)"
      ],
      "execution_count": null,
      "outputs": []
    },
    {
      "cell_type": "code",
      "metadata": {
        "id": "n0VIM7NPdWhB"
      },
      "source": [
        "X = df.iloc[:,1:-1]\r\n",
        "X = pd.get_dummies(X)\r\n",
        "X\r\n",
        "\r\n",
        "# Getting the target variable\r\n",
        "y = df.iloc[:,-1]\r\n",
        "label_encoder = LabelEncoder()\r\n",
        "y = label_encoder.fit_transform(y)"
      ],
      "execution_count": null,
      "outputs": []
    },
    {
      "cell_type": "markdown",
      "metadata": {
        "id": "tATJ_pv5eQFk"
      },
      "source": [
        "In this dataset we are dealing with 5 categorical variables, namely Income_Type,\tEducation,\tFamily_Status,\tHousing_Type and Occupation. We need to transform them into numerical values for further EDA and model building. We generate a label encoding scheme for mapping each category to a numeric value.<br>\r\n",
        "As encoding option, we use one-hot encoding. This will increase the feature space from 17 to 51 . This inherently induces a Dimensionality problem that will cause overfitting ( We will resolved it through PCA)"
      ]
    },
    {
      "cell_type": "code",
      "metadata": {
        "id": "xBWDDAN-oqav"
      },
      "source": [
        "sc = StandardScaler()\r\n",
        "X = sc.fit_transform(X)"
      ],
      "execution_count": null,
      "outputs": []
    },
    {
      "cell_type": "markdown",
      "metadata": {
        "id": "WKqyHrDyt8d7"
      },
      "source": [
        "## Balancing using SMOTE"
      ]
    },
    {
      "cell_type": "markdown",
      "metadata": {
        "id": "jn8tAN8puQWA"
      },
      "source": [
        "As we said, there is class imbalance problem in the dataset, since only 2% of the clients are classified as risk clients."
      ]
    },
    {
      "cell_type": "code",
      "metadata": {
        "id": "oS4kSezr3QSD"
      },
      "source": [
        "x_df = pd.DataFrame(X)\r\n",
        "y_df = pd.DataFrame(y, columns=['Target'])\r\n",
        "df_full = pd.concat([x_df,y_df],axis =1, sort = False)"
      ],
      "execution_count": null,
      "outputs": []
    },
    {
      "cell_type": "code",
      "metadata": {
        "id": "rW460A1n3QIc"
      },
      "source": [
        "## Redefining the 1 and 0 dataset after preprocessing \r\n",
        "T_0 = df_full[df_full['Target']==0]\r\n",
        "T_1 = df_full[df_full['Target']==1]\r\n",
        "print(T_0.shape, T_1.shape)\r\n",
        "\r\n",
        "# # Plotting the imbLanced dataset\r\n",
        "figure(num=None, figsize=(8, 5), dpi=80, facecolor='w', edgecolor='k')\r\n",
        "sns.distplot(df_full['Target'], hist=False, kde=True, \r\n",
        "             bins=2, color = 'blue',\r\n",
        "             hist_kws={\"rwidth\":1.0,'edgecolor':'black'})\r\n",
        "# Add labels\r\n",
        "plt.title('Original Imbalanced Distribution in Dataset')\r\n",
        "plt.xlabel('Good vs Bad')\r\n",
        "plt.ylabel('Density')"
      ],
      "execution_count": null,
      "outputs": []
    },
    {
      "cell_type": "code",
      "metadata": {
        "id": "XPapA7CG4cSK"
      },
      "source": [
        "# Setting the target and feature space for balanced dataset\r\n",
        "X = df_full.loc[:, df_full.columns != 'Target']\r\n",
        "Y = df_full['Target']\r\n",
        "\r\n",
        "# Handling Oversampling for the given dataset using SMOTE\r\n",
        "smt = SMOTE(random_state=42)\r\n",
        "x_smt, y_smt = smt.fit_sample(X,Y)"
      ],
      "execution_count": null,
      "outputs": []
    },
    {
      "cell_type": "code",
      "metadata": {
        "id": "CIGabwu_4cLM"
      },
      "source": [
        "# Defining the target and train variable\r\n",
        "Y_train = pd.DataFrame({'Target': y_smt[0:, ]})['Target']\r\n",
        "X_train = pd.DataFrame(data = x_smt,\r\n",
        "                 index=[i for i in range(x_smt.shape[0])],\r\n",
        "                 columns=['f'+ str(i) for i in range(x_smt.shape[1])])"
      ],
      "execution_count": null,
      "outputs": []
    },
    {
      "cell_type": "code",
      "metadata": {
        "id": "qLdTF1E84cC0"
      },
      "source": [
        "# After Oversampling we plot the baLanced dataset\r\n",
        "figure(num=None, figsize=(8, 5), dpi=80, facecolor='w', edgecolor='k')\r\n",
        "sns.distplot(Y_train, hist=False, kde=True, \r\n",
        "             bins=2, color = 'blue',\r\n",
        "             hist_kws={\"rwidth\":1.0,'edgecolor':'black'})\r\n",
        "# Add labels\r\n",
        "plt.title('Distribution of Dataset after SMOTE')\r\n",
        "plt.xlabel('Good vs Bad')\r\n",
        "plt.ylabel('Density')"
      ],
      "execution_count": null,
      "outputs": []
    },
    {
      "cell_type": "markdown",
      "metadata": {
        "id": "7Kutu-fTFJ27"
      },
      "source": [
        "## Train and Test split"
      ]
    },
    {
      "cell_type": "code",
      "metadata": {
        "id": "L5zdADqcFJhM"
      },
      "source": [
        "#i split to 40% in order to reduce overfitting\r\n",
        "X_train, X_test, Y_train, y_test = train_test_split(X_train, Y_train, test_size=0.25, random_state=0)"
      ],
      "execution_count": null,
      "outputs": []
    },
    {
      "cell_type": "markdown",
      "metadata": {
        "id": "ncfmQn4lokYX"
      },
      "source": [
        "## PCA (maybe)"
      ]
    },
    {
      "cell_type": "markdown",
      "metadata": {
        "id": "yb96jMc6gxqi"
      },
      "source": [
        "In order to avoid redundant information of features, we generate a new set of variables (principal components). Each principal component is a linear combination of the original variables. We know that principal components explain a part of the variance. After setting n_components=2, we observe that the PCA plot shows 2 separate clusters of samples and almost clearly distinguish between good and bad client. Also, the explained variance of only 2 components is 100% so there is no need to add another component."
      ]
    },
    {
      "cell_type": "code",
      "metadata": {
        "id": "WBAwfUf2oy_P"
      },
      "source": [
        "\"\"\"pca = PCA(n_components=2)\r\n",
        "\r\n",
        "X_train = pca.fit_transform(X_train)\r\n",
        "X_test = pca.transform(X_test)\r\n",
        "\r\n",
        "pca.fit(X_train)\r\n",
        "int_y_train = pd.DataFrame(y_train, columns= [\"Good/Bad Client\"])\r\n",
        "principalDf = pd.DataFrame(data = X_train\r\n",
        "             , columns = ['principal component 1', 'principal component 2'])\r\n",
        "finalDf = pd.concat([principalDf, int_y_train], axis = 1)\r\n",
        "\r\n",
        "fig = plt.figure(figsize = (10,7))\r\n",
        "ax = plt.axes(projection='3d')\r\n",
        "ax.set_xlabel('Principal Component 1', fontsize = 15)\r\n",
        "ax.set_ylabel('Principal Component 2', fontsize = 15)\r\n",
        "ax.set_zlabel(\"Good/Bad Client\")\r\n",
        "ax.set_title('2 component PCA', fontsize = 20)\r\n",
        "targets = [0, 1]\r\n",
        "colors = ['r', 'g']\r\n",
        "ax.scatter3D(finalDf['principal component 1'], finalDf['principal component 2'], finalDf[\"Good/Bad Client\"],\r\n",
        "             c = finalDf[\"Good/Bad Client\"], cmap=\"Set2_r\",s = 60)\r\n",
        "ax.grid()\r\n",
        "\r\n",
        "print('Explained variance: {}'.format(np.sum(pca.explained_variance_ratio_)))\"\"\""
      ],
      "execution_count": null,
      "outputs": []
    },
    {
      "cell_type": "markdown",
      "metadata": {
        "id": "_Gge9BVjhCNr"
      },
      "source": [
        "Typically, we want the explained variance to be between 95–99%. So we experimented by setting the n_components=0.95 and n_components=0.99. Unfortunately, we observed that all the classifiers still overfit and we could not overpass the dimensionality problem. "
      ]
    },
    {
      "cell_type": "markdown",
      "metadata": {
        "id": "Ft7vdUNx9lUj"
      },
      "source": [
        "## Defining Functions for Plotting"
      ]
    },
    {
      "cell_type": "code",
      "metadata": {
        "id": "Qg8MGDbHo3dn"
      },
      "source": [
        "# Building some visualization functions to be used for each model as well as model comparisions\r\n",
        "def roc_conf_plot(classifier, x_train = None, y_train = None, x_test = None,  y_test = None):\r\n",
        "    \r\n",
        "    # Fitting the model\r\n",
        "    classifier.fit(x_train, y_train)\r\n",
        "    y_pred = classifier.predict(x_test)\r\n",
        "    roc_score = roc_auc_score(y_test, y_pred)\r\n",
        "    prob = classifier.predict_proba(x_test)\r\n",
        "    \r\n",
        "    # Setting traces for the ROC plot\r\n",
        "    fpr,tpr,thresholds = roc_curve(y_test,prob[:,1])\r\n",
        "    trace1 = go.Scatter(x = fpr,y = tpr,\r\n",
        "                        name = \"Roc : \" + str(roc_score),\r\n",
        "                        line = dict(color = ('purple'),width = 2),\r\n",
        "                       )\r\n",
        "    trace2 = go.Scatter(x = [0,1],y=[0,1],\r\n",
        "                        line = dict(color = ('red'),width = 2,\r\n",
        "                        dash = 'dot'))\r\n",
        "    Layout = go.Layout(dict(title = \"Receiver Operator Characteristics Curve\",\r\n",
        "                           showlegend = False,\r\n",
        "                           xaxis = dict(title = \"False positive rate\",\r\n",
        "                                         domain=[0, 0.6],\r\n",
        "                                         ticklen=5,gridwidth=2),\r\n",
        "                            yaxis = dict(title = \"True positive rate\",\r\n",
        "                                         zerolinewidth=1,\r\n",
        "                                         ticklen=5,gridwidth=2)\r\n",
        "                           )\r\n",
        "                           )\r\n",
        "    data = [trace1, trace2]\r\n",
        "    figure(num=None, figsize=(8, 5), dpi=80, facecolor='w', edgecolor='k')\r\n",
        "    fig = go.Figure(data= data, layout = Layout)\r\n",
        "    py.iplot(fig)\r\n",
        "    print(\"Area under curve : \", roc_score)\r\n",
        "\r\n",
        "# Generates the threshold plot for the specified model\r\n",
        "def threshold_plot(algorithm, x, y):\r\n",
        "  figure(num=None, figsize=(8, 5), dpi=80, facecolor='w', edgecolor='k')\r\n",
        "  visualizer = DiscriminationThreshold(algorithm)\r\n",
        "  visualizer.fit(x,y)\r\n",
        "  visualizer.poof()\r\n",
        "\r\n",
        "# Creating row table for the metric comparision of each model.\r\n",
        "def model_metric(model, x_train, y_train, x_test, y_test, name):\r\n",
        "    \r\n",
        "    model.fit(x_train, y_train)\r\n",
        "    y_pred = model.predict(x_test)\r\n",
        "    roc = roc_auc_score(y_test, y_pred)\r\n",
        "    acc = accuracy_score(y_test, y_pred)\r\n",
        "    recall = recall_score(y_test, y_pred)\r\n",
        "    prec = precision_score(y_test, y_pred)\r\n",
        "    f1 = f1_score(y_test, y_pred)\r\n",
        "\r\n",
        "\r\n",
        "    row_df = pd.DataFrame({\r\n",
        "                       \"Model\"           : [name],\r\n",
        "                       \"Accuracy_score\"  : [acc],\r\n",
        "                       \"Recall_score\"    : [recall],\r\n",
        "                       \"Precision\"       : [prec],\r\n",
        "                       \"f1_score\"        : [f1],\r\n",
        "                       \"Area_under_curve\": [roc],\r\n",
        "                     \r\n",
        "    })\r\n",
        "    return row_df"
      ],
      "execution_count": null,
      "outputs": []
    },
    {
      "cell_type": "code",
      "metadata": {
        "id": "SDhrSl6-2FKm"
      },
      "source": [
        "def printTestTrainLoss(history, nrOfEpochs):\r\n",
        "  loss_train = history.history['loss']\r\n",
        "  loss_val = history.history['val_loss']\r\n",
        "  epochs = range(1,11)\r\n",
        "  plt.plot(epochs, loss_train, 'g', label='Training loss')\r\n",
        "  plt.plot(epochs, loss_val, 'b', label='validation loss')\r\n",
        "  plt.title('Training and Validation loss')\r\n",
        "  plt.xlabel('Epochs')\r\n",
        "  plt.ylabel('Loss')\r\n",
        "  plt.legend()\r\n",
        "  return plt"
      ],
      "execution_count": null,
      "outputs": []
    },
    {
      "cell_type": "code",
      "metadata": {
        "id": "sMYGt3W95BGq"
      },
      "source": [
        "def printTestTrainAccuracy(history, nrOfEpochs):\r\n",
        "  loss_train = history.history['accuracy']\r\n",
        "  loss_val = history.history['val_accuracy']\r\n",
        "  epochs = range(1,11)\r\n",
        "  plt.plot(epochs, loss_train, 'g', label='Training accuracy')\r\n",
        "  plt.plot(epochs, loss_val, 'b', label='validation accuracy')\r\n",
        "  plt.title('Training and Validation accuracy')\r\n",
        "  plt.xlabel('Epochs')\r\n",
        "  plt.ylabel('Accuracy')\r\n",
        "  plt.legend()\r\n",
        "  return plt"
      ],
      "execution_count": null,
      "outputs": []
    },
    {
      "cell_type": "code",
      "metadata": {
        "id": "1sYAvrIXFj13"
      },
      "source": [
        "def printAccAndLossSideBySide(history, nrOfEpochs):\n",
        "  fig, axes = plt.subplots(nrows=1, ncols=2, figsize=(10, 5))\n",
        "  epochs = range(1,11)\n",
        "\n",
        "\n",
        "  acc_train = history.history['accuracy']\n",
        "  acc_val = history.history['val_accuracy']\n",
        "  loss_train = history.history['loss']\n",
        "  loss_val = history.history['val_loss']\n",
        "\n",
        "  axes[0].plot(epochs, acc_train, 'g', label='Training accuracy')\n",
        "  axes[0].plot(epochs, acc_val, 'b', label='validation accuracy')\n",
        "  axes[0].set_title('Accuracy')\n",
        "  axes[0].set_xlabel('Epochs')\n",
        "  axes[0].set_ylabel('Accuracy')\n",
        "  axes[0].legend()\n",
        "\n",
        "  axes[1].plot(epochs, loss_train, 'g', label='Training loss')\n",
        "  axes[1].plot(epochs, loss_val, 'b', label='validation loss')\n",
        "  axes[1].set_title('Loss')\n",
        "  axes[1].set_xlabel('Epochs')\n",
        "  axes[1].set_ylabel('Loss')\n",
        "  axes[1].legend()\n",
        "  fig.tight_layout()\n",
        "  return fig"
      ],
      "execution_count": null,
      "outputs": []
    },
    {
      "cell_type": "markdown",
      "metadata": {
        "id": "ig9hmmxZo4I3"
      },
      "source": [
        "## Models"
      ]
    },
    {
      "cell_type": "markdown",
      "metadata": {
        "id": "z9EnqXboln18"
      },
      "source": [
        "### Logistic Regression"
      ]
    },
    {
      "cell_type": "code",
      "metadata": {
        "id": "wVc40ftl92iT"
      },
      "source": [
        "\"\"\"# Finding best paramters for Logistic Regression CV\r\n",
        "parameters = {'solver':('lbfgs', 'liblinear', 'sag', 'saga'),'fit_intercept':(True,False)}\r\n",
        "logreg = LogisticRegressionCV(max_iter = 1000000)\r\n",
        "logreg_cv = GridSearchCV(logreg, parameters)\r\n",
        "logreg_cv.fit(X_train, Y_train)\r\n",
        "print(\"Tuned hyperparameters :(best parameters) \",logreg_cv.best_params_)\"\"\""
      ],
      "execution_count": null,
      "outputs": []
    },
    {
      "cell_type": "code",
      "metadata": {
        "id": "baUsLBIc92Zr"
      },
      "source": [
        "# Fitting the model with the best parameters that were identified above.\r\n",
        "model_LCV = LogisticRegression(solver='lbfgs', fit_intercept=True, penalty = 'l2',C= 100.0, max_iter=1000000)\r\n",
        "history_LCV = model_LCV.fit(X_train, Y_train)\r\n",
        "y_pred_LCV = model_LCV.predict(X_test)"
      ],
      "execution_count": null,
      "outputs": []
    },
    {
      "cell_type": "code",
      "metadata": {
        "id": "ehksTnIq-HDz"
      },
      "source": [
        "print(recall_score(y_test, y_pred_LCV))\r\n",
        "print(precision_score(y_test, y_pred_LCV))\r\n",
        "print(accuracy_score(y_test, y_pred_LCV))\r\n",
        "print(confusion_matrix(y_test, y_pred_LCV))\r\n",
        "# Printing the classification report of the model.\r\n",
        "print(classification_report(y_test, y_pred_LCV))\r\n",
        "\r\n",
        "# Constructing the threshold plot and the ROC plot.\r\n",
        "#roc_conf_plot(model_LCV, X_train, Y_train,  X_test, y_test)\r\n",
        "#threshold_plot(model_LCV, X_train, Y_train)\r\n",
        "LCV_model = model_metric(model_LCV, X_train, Y_train, X_test, y_test, \"Logistic Regression CV\")"
      ],
      "execution_count": null,
      "outputs": []
    },
    {
      "cell_type": "code",
      "metadata": {
        "id": "O_zGwhjJ18rd"
      },
      "source": [
        "history_LCV#printTestTrainLoss(history_LCV, )"
      ],
      "execution_count": null,
      "outputs": []
    },
    {
      "cell_type": "markdown",
      "metadata": {
        "id": "Kn_xaKwbl6U6"
      },
      "source": [
        "### Support Vector Machines"
      ]
    },
    {
      "cell_type": "code",
      "metadata": {
        "id": "U7pbhfXuduW5"
      },
      "source": [
        ""
      ],
      "execution_count": null,
      "outputs": []
    },
    {
      "cell_type": "code",
      "metadata": {
        "id": "_a4IX-rbGiys"
      },
      "source": [
        "\"\"\"# Finding the best parameters for SVM\r\n",
        "parameters = {'kernel':( 'linear','rbf','sigmoid'), 'C':[1e-2,1e-1,1e0,1e1,1e2,3,10]}\r\n",
        "model_SVC = SVC()\r\n",
        "svclassifier_cv = GridSearchCV(model_SVC,parameters)\r\n",
        "svclassifier_cv.fit(X_train, Y_train)\r\n",
        "print(\"Tuned hyperparameters :(best parameters) \",svclassifier_cv.best_params_)\"\"\""
      ],
      "execution_count": null,
      "outputs": []
    },
    {
      "cell_type": "code",
      "metadata": {
        "id": "AQbdraqbGiru"
      },
      "source": [
        "# Use the best parameters to fit the model\r\n",
        "model_SVC = SVC(kernel='rbf',C=100, probability = True)\r\n",
        "history_SVC=model_SVC.fit(X_train, Y_train)\r\n",
        "model_SVC.score(X_test, y_test)\r\n",
        "y_pred_SVC = model_SVC.predict(X_test)"
      ],
      "execution_count": null,
      "outputs": []
    },
    {
      "cell_type": "code",
      "metadata": {
        "id": "CQ_Szw8AGiRs"
      },
      "source": [
        "print(recall_score(y_test, y_pred_SVC))\r\n",
        "print(precision_score(y_test, y_pred_SVC))\r\n",
        "print(accuracy_score(y_test, y_pred_SVC))\r\n",
        "print(confusion_matrix(y_test, y_pred_SVC))\r\n",
        "\r\n",
        "# Printing the classification report of the model.\r\n",
        "print(classification_report(y_test,y_pred_SVC))\r\n",
        "\r\n",
        "# Constructing the threshold plot and the ROC plot.\r\n",
        "#roc_conf_plot(model_SVC, X_train, Y_train, X_test, y_test)\r\n",
        "# threshold_plot(model_SVC, X_train, Y_train)\r\n",
        "SVM_model = model_metric(model_SVC, X_train, Y_train, X_test, y_test, \"Support Vector Machine\")"
      ],
      "execution_count": null,
      "outputs": []
    },
    {
      "cell_type": "code",
      "metadata": {
        "id": "NQxc-seR3Dl2"
      },
      "source": [
        "history_SVC"
      ],
      "execution_count": null,
      "outputs": []
    },
    {
      "cell_type": "markdown",
      "metadata": {
        "id": "j7A_NY3U7Uzj"
      },
      "source": [
        "### Decision Trees"
      ]
    },
    {
      "cell_type": "code",
      "metadata": {
        "id": "O-WpIgklstxY"
      },
      "source": [
        "parameters = {'criterion':('gini','entropy'),'max_depth': range(1,20,1)}\r\n",
        "dectree = DecisionTreeClassifier()\r\n",
        "dectree_cv = GridSearchCV(dectree,parameters)\r\n",
        "dectree_cv.fit(X_train,Y_train)\r\n",
        "print(\"Tuned hyperparameters :(best parameters) \",dectree_cv.best_params_)"
      ],
      "execution_count": null,
      "outputs": []
    },
    {
      "cell_type": "code",
      "metadata": {
        "id": "y_0dUwMlA5lB"
      },
      "source": [
        "# Use the best parameters to fit the model\r\n",
        "model_DT = DecisionTreeClassifier(criterion=\"entropy\",random_state=0, max_depth=18)\r\n",
        "model_DT.fit(X_train,Y_train)\r\n",
        "y_pred_DT = model_DT.predict(X_test)"
      ],
      "execution_count": null,
      "outputs": []
    },
    {
      "cell_type": "code",
      "metadata": {
        "id": "eqfj_D3qzacm"
      },
      "source": [
        "export_graphviz(model_DT, out_file='tree_max.dot', feature_names = X_train.columns,\r\n",
        "                rounded = True, proportion = False, precision = 2, filled = True)"
      ],
      "execution_count": null,
      "outputs": []
    },
    {
      "cell_type": "code",
      "metadata": {
        "id": "mWb6NneYA5lC"
      },
      "source": [
        "!dot -Tpng tree_max.dot -o tree_max.png\r\n"
      ],
      "execution_count": null,
      "outputs": []
    },
    {
      "cell_type": "code",
      "metadata": {
        "id": "TIT4GiX1zi1Z"
      },
      "source": [
        "# Display in jupyter notebook\r\n",
        "Image(filename = 'tree_max.png')"
      ],
      "execution_count": null,
      "outputs": []
    },
    {
      "cell_type": "code",
      "metadata": {
        "id": "vKiLwpbEJxOI"
      },
      "source": [
        "# Use the best parameters to fit the model\r\n",
        "model_DT = DecisionTreeClassifier(criterion=\"entropy\",random_state=0, max_depth=3)\r\n",
        "model_DT.fit(X_train,Y_train)\r\n",
        "y_pred_DT = model_DT.predict(X_test)\r\n",
        "plt.figure(figsize=(25,10))\r\n",
        "tree.plot_tree(model_DT);"
      ],
      "execution_count": null,
      "outputs": []
    },
    {
      "cell_type": "code",
      "metadata": {
        "id": "xilGWL_FM-wK"
      },
      "source": [
        "export_graphviz(model_DT, out_file='tree_limited.dot', feature_names = X_train.columns,\r\n",
        "                rounded = True, proportion = False, precision = 2, filled = True)"
      ],
      "execution_count": null,
      "outputs": []
    },
    {
      "cell_type": "code",
      "metadata": {
        "id": "KjBbS2dbNOYY"
      },
      "source": [
        "!dot -Tpng tree_limited.dot -o tree_limited.png"
      ],
      "execution_count": null,
      "outputs": []
    },
    {
      "cell_type": "code",
      "metadata": {
        "id": "wSrBy02eNSAp"
      },
      "source": [
        "# Display in jupyter notebook\r\n",
        "Image(filename = 'tree_limited.png')"
      ],
      "execution_count": null,
      "outputs": []
    },
    {
      "cell_type": "code",
      "metadata": {
        "id": "g4ylnbECJ9hC"
      },
      "source": [
        "print(recall_score(y_test, y_pred_DT))\r\n",
        "print(precision_score(y_test, y_pred_DT))\r\n",
        "print(accuracy_score(y_test, y_pred_DT))\r\n",
        "print(confusion_matrix(y_test,y_pred_DT))\r\n",
        "print(classification_report(y_test,y_pred_DT))\r\n",
        "\r\n",
        "# Constructing the threshold plot and the ROC plot\r\n",
        "#roc_conf_plot(model_DT, X_train, Y_train, X_test, y_test)\r\n",
        "#threshold_plot(model_DT, X_train, Y_train)\r\n",
        "DT_model = model_metric(model_DT, X_train, Y_train, X_test,y_test, \"Decision Tree\")"
      ],
      "execution_count": null,
      "outputs": []
    },
    {
      "cell_type": "markdown",
      "metadata": {
        "id": "phD-kDjxlhxa"
      },
      "source": [
        "### Random Forest"
      ]
    },
    {
      "cell_type": "code",
      "metadata": {
        "id": "kV0qI-iGo8WX"
      },
      "source": [
        "parameters= {'n_estimators':[10,50,100],'max_depth': range(1,20,2)}\r\n",
        "RFC = RandomForestClassifier()\r\n",
        "RFC_cv = GridSearchCV(RFC,parameters)\r\n",
        "RFC_cv.fit(X_train,Y_train)\r\n",
        "print(\"Tuned hyperparameters :(best parameters) \",RFC_cv.best_params_)"
      ],
      "execution_count": null,
      "outputs": []
    },
    {
      "cell_type": "code",
      "metadata": {
        "id": "n8rDA6jolDHB"
      },
      "source": [
        "model_RFC = RandomForestClassifier(n_estimators=1000, max_depth=10, random_state=1)\r\n",
        "model_RFC.fit(X_train, Y_train)\r\n",
        "y_pred_RFC = model_RFC.predict(X_test)"
      ],
      "execution_count": null,
      "outputs": []
    },
    {
      "cell_type": "code",
      "metadata": {
        "id": "aDTnlYDDlK5Z"
      },
      "source": [
        "print(recall_score(y_test, y_pred_RFC))\r\n",
        "print(precision_score(y_test, y_pred_RFC))\r\n",
        "print(accuracy_score(y_test, y_pred_RFC))\r\n",
        "print(confusion_matrix(y_test,y_pred_RFC))\r\n",
        "print(classification_report(y_test,y_pred_RFC)) \r\n",
        "\r\n",
        "# Constructing the threshold plot and the ROC plot\r\n",
        "#roc_conf_plot(model_RFC, X_train, Y_train, X_test, y_test)\r\n",
        "#threshold_plot(model_RFC, X_train, Y_train)\r\n",
        "RF_model = model_metric(model_RFC, X_train, Y_train, X_test, y_test, \"Random Forest\")"
      ],
      "execution_count": null,
      "outputs": []
    },
    {
      "cell_type": "markdown",
      "metadata": {
        "id": "-0nDSXhRmFay"
      },
      "source": [
        "### Neural Network"
      ]
    },
    {
      "cell_type": "code",
      "metadata": {
        "id": "3TB3w1pZl_0_"
      },
      "source": [
        "# Building the NN architecture\r\n",
        "model_NN = Sequential()\r\n",
        "classes = 1\r\n",
        "model_NN.add(Dense(24,activation='relu',input_dim=50,kernel_initializer='glorot_uniform', bias_initializer='zeros')) \r\n",
        "model_NN.add(Dense(24,activation='relu',kernel_initializer='glorot_uniform', bias_initializer='zeros')) \r\n",
        "model_NN.add(Dense(classes, activation='sigmoid'))\r\n",
        "\r\n",
        "model_NN.compile(loss='binary_crossentropy',\r\n",
        "              optimizer='adam',\r\n",
        "              metrics=['accuracy'])"
      ],
      "execution_count": null,
      "outputs": []
    },
    {
      "cell_type": "code",
      "metadata": {
        "id": "rIGK3VhV-qO4"
      },
      "source": [
        "# Training the neural network\r\n",
        "np.random.seed(7)\r\n",
        "history = model_NN.fit(X_train, Y_train, shuffle=True,\r\n",
        "          batch_size=5, epochs=10,verbose=1,validation_split=0.2)\r\n",
        "y_pred_NN = model_NN.predict(X_test)\r\n",
        "y_pred_NN =(y_pred_NN > 0.5)   \r\n",
        "eval_model = model_NN.evaluate(X_test, y_test, verbose=0)"
      ],
      "execution_count": null,
      "outputs": []
    },
    {
      "cell_type": "code",
      "metadata": {
        "id": "DPhIFJTk-ql0"
      },
      "source": [
        "# Printing the classification report of the model.\r\n",
        "print(classification_report(y_test,y_pred_NN))\r\n",
        "\r\n",
        "# Getting the confusion matrix of the NN separately.\r\n",
        "cmap = sns.cm.rocket_r\r\n",
        "sns.set(font_scale=1.4)\r\n",
        "conf_df = pd.DataFrame(confusion_matrix(y_test,y_pred_NN).tolist(), columns = ['Positive','Negative'], index = ['Positive','Negative'])\r\n",
        "sns.heatmap(conf_df, annot=True, annot_kws={\"size\": 16}, fmt=\".0f\", vmin=-0.05, cmap = cmap)\r\n",
        "plt.savefig('/content/drive/MyDrive/ML4EconProject/sns.png')\r\n",
        "plt.show()\r\n",
        "\r\n",
        "# Plotting the AUC curve\r\n",
        "roc_score = roc_auc_score(y_test, y_pred_NN)\r\n",
        "prob = model_NN.predict_proba(X_test)\r\n",
        "\r\n",
        "# Setting traces for the ROC plot\r\n",
        "fpr,tpr,thresholds = roc_curve(np.array(y_test), prob)\r\n",
        "trace1 = go.Scatter(x = fpr,y = tpr,\r\n",
        "                    name = \"Roc : \" + str(roc_score),\r\n",
        "                    line = dict(color = ('purple'),width = 2),\r\n",
        "                   )\r\n",
        "trace2 = go.Scatter(x = [0,1],y=[0,1],\r\n",
        "                    line = dict(color = ('red'),width = 2,\r\n",
        "                    dash = 'dot'))\r\n",
        "Layout = go.Layout(dict(title = \"Receiver Operator Characteristics Curve\",\r\n",
        "                       showlegend = False,\r\n",
        "                       xaxis = dict(title = \"False positive rate\",\r\n",
        "                                     domain=[0, 0.6],\r\n",
        "                                     ticklen=5,gridwidth=2),\r\n",
        "                        yaxis = dict(title = \"True positive rate\",\r\n",
        "                                     zerolinewidth=1,\r\n",
        "                                     ticklen=5,gridwidth=2)\r\n",
        "                       )\r\n",
        "                       )\r\n",
        "data = [trace1, trace2]\r\n",
        "figure(num=None, figsize=(8, 5), dpi=80, facecolor='w', edgecolor='k')\r\n",
        "fig = go.Figure(data= data, layout = Layout)\r\n",
        "py.iplot(fig)\r\n",
        "print(\"Area under curve : \", roc_score)\r\n",
        "\r\n",
        "# Collecting model metrics for Neural Network\r\n",
        "NN_df = pd.DataFrame({\r\n",
        "                       \"Model\"           : [\"Neural Network\"],\r\n",
        "                       \"Accuracy_score\"  : [accuracy_score(y_test,y_pred_NN)],\r\n",
        "                       \"Recall_score\"    : [recall_score(y_test,y_pred_NN)],\r\n",
        "                       \"Precision\"       : [precision_score(y_test,y_pred_NN)],\r\n",
        "                       \"f1_score\"        : [f1_score(y_test,y_pred_NN)],\r\n",
        "                       \"Area_under_curve\": [roc_auc_score(y_test, y_pred_NN)],\r\n",
        "                      \r\n",
        "})"
      ],
      "execution_count": null,
      "outputs": []
    },
    {
      "cell_type": "code",
      "metadata": {
        "id": "md6Ag5ac5cIz"
      },
      "source": [
        "pltAccuracy = printTestTrainAccuracy(history, 11)\r\n",
        "pltAccuracy.savefig('/content/drive/MyDrive/ML4EconProject/NN_accuracy.png')\r\n",
        "pltAccuracy.show()\r\n",
        "pltLoss = printTestTrainLoss(history, 11)\r\n",
        "pltLoss.savefig('/content/drive/MyDrive/ML4EconProject/NN_loss.png')\r\n",
        "pltLoss.show()"
      ],
      "execution_count": null,
      "outputs": []
    },
    {
      "cell_type": "code",
      "metadata": {
        "id": "DhA6ZGJTGKnw"
      },
      "source": [
        "fig = printAccAndLossSideBySide(history, 11)\n",
        "fig.savefig('/content/drive/MyDrive/ML4EconProject/NN_lossAndAcc.png')\n",
        "fig.show()"
      ],
      "execution_count": null,
      "outputs": []
    },
    {
      "cell_type": "code",
      "metadata": {
        "id": "EBvvydXKMHvB"
      },
      "source": [
        "from keras.utils.vis_utils import plot_model\n",
        "plot_model(model_NN, to_file='/content/drive/MyDrive/ML4EconProject/model_plot.png', show_shapes=True, show_layer_names=True)"
      ],
      "execution_count": null,
      "outputs": []
    },
    {
      "cell_type": "markdown",
      "metadata": {
        "id": "DfJjoIYD5slU"
      },
      "source": [
        "###Neural Network with feature selection"
      ]
    },
    {
      "cell_type": "markdown",
      "metadata": {
        "id": "eAfiqGoi5xqc"
      },
      "source": [
        "In order to reduce the runtime we reduce the list of features using f_classit feature selection.\r\n",
        "\r\n",
        "By removing 10 features we achieve an accuracy similar to the previous model with less time, which can be detrimental for larger datasets"
      ]
    },
    {
      "cell_type": "code",
      "metadata": {
        "id": "ZCizKMVN5wxy"
      },
      "source": [
        "from sklearn.feature_selection import SelectKBest\r\n",
        "from sklearn.feature_selection import f_classif, chi2\r\n",
        "\r\n",
        "selector = SelectKBest(f_classif, k=50)\r\n",
        "selected_features = selector.fit_transform(X_train, Y_train)\r\n",
        "\r\n",
        "X_train2 = X_train.iloc[:, (-selector.scores_).argsort()[:40]]\r\n",
        "X_train2.head\r\n",
        "\r\n",
        "X_test2 = X_test.iloc[:, (-selector.scores_).argsort()[:40]]\r\n",
        "X_test2.head"
      ],
      "execution_count": null,
      "outputs": []
    },
    {
      "cell_type": "code",
      "metadata": {
        "id": "rpBiJOK6Db_B"
      },
      "source": [
        "df.columns"
      ],
      "execution_count": null,
      "outputs": []
    },
    {
      "cell_type": "code",
      "metadata": {
        "id": "BY78ONDo6FqY"
      },
      "source": [
        "# Building the NN architecture\r\n",
        "model_NN2 = Sequential()\r\n",
        "classes = 1\r\n",
        "model_NN2.add(Dense(24,activation='relu',input_dim=40,kernel_initializer='glorot_uniform', bias_initializer='zeros')) \r\n",
        "model_NN2.add(Dense(24,activation='relu',kernel_initializer='glorot_uniform', bias_initializer='zeros')) \r\n",
        "model_NN2.add(Dense(classes, activation='sigmoid'))\r\n",
        "\r\n",
        "model_NN2.compile(loss='binary_crossentropy',\r\n",
        "              optimizer='adam',\r\n",
        "              metrics=['accuracy'])"
      ],
      "execution_count": null,
      "outputs": []
    },
    {
      "cell_type": "code",
      "metadata": {
        "id": "r0PLNalH6LUj"
      },
      "source": [
        "# Training the neural network\r\n",
        "np.random.seed(7)\r\n",
        "history2 = model_NN2.fit(X_train2, Y_train, shuffle=True,\r\n",
        "          batch_size=5, epochs=10,verbose=1,validation_split=0.2)\r\n",
        "y_pred_NN2 = model_NN2.predict(X_test2)\r\n",
        "y_pred_NN2 =(y_pred_NN2 > 0.5)   \r\n",
        "eval_model2 = model_NN2.evaluate(X_test2, y_test, verbose=0)"
      ],
      "execution_count": null,
      "outputs": []
    },
    {
      "cell_type": "code",
      "metadata": {
        "id": "U6PAWbvD6ee8"
      },
      "source": [
        "# Printing the classification report of the model.\r\n",
        "print(classification_report(y_test,y_pred_NN2))\r\n",
        "\r\n",
        "# Getting the confusion matrix of the NN separately.\r\n",
        "cmap = sns.cm.rocket_r\r\n",
        "sns.set(font_scale=1.4)\r\n",
        "conf_df = pd.DataFrame(confusion_matrix(y_test,y_pred_NN2).tolist(), columns = ['Positive','Negative'], index = ['Positive','Negative'])\r\n",
        "sns.heatmap(conf_df, annot=True, annot_kws={\"size\": 16}, fmt=\".0f\", vmin=-0.05, cmap = cmap)\r\n",
        "plt.savefig('/content/drive/MyDrive/ML4EconProject/sns_feature_sel.png')\r\n",
        "plt.show()\r\n",
        "\r\n",
        "# Plotting the AUC curve\r\n",
        "roc_score = roc_auc_score(y_test, y_pred_NN2)\r\n",
        "prob = model_NN2.predict_proba(X_test2)\r\n",
        "\r\n",
        "# Setting traces for the ROC plot\r\n",
        "fpr,tpr,thresholds = roc_curve(np.array(y_test), prob)\r\n",
        "trace1 = go.Scatter(x = fpr,y = tpr,\r\n",
        "                    name = \"Roc : \" + str(roc_score),\r\n",
        "                    line = dict(color = ('purple'),width = 2),\r\n",
        "                   )\r\n",
        "trace2 = go.Scatter(x = [0,1],y=[0,1],\r\n",
        "                    line = dict(color = ('red'),width = 2,\r\n",
        "                    dash = 'dot'))\r\n",
        "Layout = go.Layout(dict(title = \"Receiver Operator Characteristics Curve\",\r\n",
        "                       showlegend = False,\r\n",
        "                       xaxis = dict(title = \"False positive rate\",\r\n",
        "                                     domain=[0, 0.6],\r\n",
        "                                     ticklen=5,gridwidth=2),\r\n",
        "                        yaxis = dict(title = \"True positive rate\",\r\n",
        "                                     zerolinewidth=1,\r\n",
        "                                     ticklen=5,gridwidth=2)\r\n",
        "                       )\r\n",
        "                       )\r\n",
        "data = [trace1, trace2]\r\n",
        "figure(num=None, figsize=(8, 5), dpi=80, facecolor='w', edgecolor='k')\r\n",
        "fig = go.Figure(data= data, layout = Layout)\r\n",
        "py.iplot(fig)\r\n",
        "print(\"Area under curve : \", roc_score)\r\n",
        "\r\n",
        "# Collecting model metrics for Neural Network\r\n",
        "NN_df2 = pd.DataFrame({\r\n",
        "                       \"Model\"           : [\"Neural Network with feature sel.\"],\r\n",
        "                       \"Accuracy_score\"  : [accuracy_score(y_test,y_pred_NN2)],\r\n",
        "                       \"Recall_score\"    : [recall_score(y_test,y_pred_NN2)],\r\n",
        "                       \"Precision\"       : [precision_score(y_test,y_pred_NN2)],\r\n",
        "                       \"f1_score\"        : [f1_score(y_test,y_pred_NN2)],\r\n",
        "                       \"Area_under_curve\": [roc_auc_score(y_test, y_pred_NN2)],\r\n",
        "                      \r\n",
        "})"
      ],
      "execution_count": null,
      "outputs": []
    },
    {
      "cell_type": "code",
      "metadata": {
        "id": "eeizTR7X6MD_"
      },
      "source": [
        "pltAccuracyFea = printTestTrainAccuracy(history2, 11)\r\n",
        "pltAccuracyFea.savefig('/content/drive/MyDrive/ML4EconProject/NN_accuracy_fea.png')\r\n",
        "pltAccuracyFea.show()\r\n",
        "pltLossFea = printTestTrainLoss(history2, 11)\r\n",
        "pltLossFea.savefig('/content/drive/MyDrive/ML4EconProject/NN_loss_fea.png')\r\n",
        "pltLossFea.show()"
      ],
      "execution_count": null,
      "outputs": []
    },
    {
      "cell_type": "code",
      "metadata": {
        "id": "GryytCHwI60F"
      },
      "source": [
        "fig = printAccAndLossSideBySide(history2, 11)\n",
        "fig.savefig('/content/drive/MyDrive/ML4EconProject/NN_lossAndAcc_fea.png')\n",
        "fig.show()"
      ],
      "execution_count": null,
      "outputs": []
    },
    {
      "cell_type": "markdown",
      "metadata": {
        "id": "zvfx17bMo9GH"
      },
      "source": [
        "# Evaluation Metric"
      ]
    },
    {
      "cell_type": "markdown",
      "metadata": {
        "id": "IqnyU00eAPfb"
      },
      "source": [
        "## Overall Comparison"
      ]
    },
    {
      "cell_type": "code",
      "metadata": {
        "id": "6g1GcphTAOxD"
      },
      "source": [
        "# We used the model comparision function after each model to record model performance\r\n",
        "# Now concatinating the all models to make a combined dataframe\r\n",
        "model_comparison_df = pd.concat([LCV_model, DT_model, SVM_model, RF_model ,NN_df, NN_df2], ignore_index=True,axis= 0, sort= False)\r\n",
        "model_comparison_df = model_comparison_df.sort_values('Accuracy_score')\r\n",
        "display(model_comparison_df)"
      ],
      "execution_count": null,
      "outputs": []
    },
    {
      "cell_type": "markdown",
      "metadata": {
        "id": "vALzp80eAU1l"
      },
      "source": [
        "## AUC and Accuracy Comparison"
      ]
    },
    {
      "cell_type": "code",
      "metadata": {
        "id": "r3vKaz7PpAFf"
      },
      "source": [
        "# Plotting Accuracy scores and Area under curve comparison plots\r\n",
        "fig = make_subplots(rows=1, cols=2, specs=[[{}, {}]], shared_xaxes=True,\r\n",
        "                    shared_yaxes=False, vertical_spacing=0.001)\r\n",
        "\r\n",
        "fig.append_trace(go.Bar(\r\n",
        "    x = model_comparison_df['Accuracy_score'].tolist(),\r\n",
        "    y = model_comparison_df['Model'].tolist(),\r\n",
        "    marker=dict(\r\n",
        "        color='rgba(50, 171, 96, 0.6)',\r\n",
        "        line=dict(\r\n",
        "            color='rgba(50, 171, 96, 1.0)',\r\n",
        "            width=1)),\r\n",
        "#     size = 15,\r\n",
        "    name='Accuracy score of each model',\r\n",
        "    orientation='h',\r\n",
        "), 1, 1)\r\n",
        "\r\n",
        "fig.append_trace(go.Scatter(\r\n",
        "    x= model_comparison_df['f1_score'].tolist(), \r\n",
        "    y= model_comparison_df['Model'].tolist(),\r\n",
        "    mode = 'lines+markers',\r\n",
        "    line_color = 'rgb(128, 0, 128)',\r\n",
        "    name = 'F1 Score of each model',\r\n",
        "    textfont = dict(size = 200),\r\n",
        "), 1, 2)\r\n",
        "\r\n",
        "fig.update_layout(\r\n",
        "    title='Accuracy score and F1-score of each Model',\r\n",
        "    yaxis=dict(\r\n",
        "        showgrid=False,\r\n",
        "        showline=False,\r\n",
        "        showticklabels=True,\r\n",
        "        domain=[0, 0.85],\r\n",
        "    ),\r\n",
        "    yaxis2=dict(\r\n",
        "        showgrid=False,\r\n",
        "        showline=True,\r\n",
        "        showticklabels=False,\r\n",
        "        linecolor='rgba(102, 102, 102, 0.8)',\r\n",
        "        linewidth=2,\r\n",
        "        domain=[0, 0.85],\r\n",
        "    ),\r\n",
        "    xaxis=dict(\r\n",
        "        zeroline=False,\r\n",
        "        showline=False,\r\n",
        "        showticklabels=True,\r\n",
        "        showgrid=True,\r\n",
        "        domain=[0.05, 0.42],\r\n",
        "        dtick=0.25,\r\n",
        "    ),\r\n",
        "    xaxis2=dict(\r\n",
        "        zeroline=False,\r\n",
        "        showline=False,\r\n",
        "        range=[0.75, 1.0],\r\n",
        "        showticklabels=True,\r\n",
        "        showgrid=True,\r\n",
        "        domain=[0.47, 1],\r\n",
        "        side='top',\r\n",
        "        dtick=0.05,\r\n",
        "    ),\r\n",
        "    legend=dict(x=0.029, y=1.038, font_size=8),\r\n",
        "    margin=dict(l=100, r=20, t=70, b=70),\r\n",
        "    paper_bgcolor='rgb(248, 248, 255)',\r\n",
        "    plot_bgcolor='rgb(248, 248, 255)',\r\n",
        ")\r\n",
        "\r\n",
        "annotations = []\r\n",
        "\r\n",
        "y_s = np.round(model_comparison_df['Accuracy_score'].tolist(), decimals=4)\r\n",
        "y_nw = np.round(model_comparison_df['f1_score'].tolist(), decimals=4)\r\n",
        "\r\n",
        "# Adding labels\r\n",
        "for ydn, yd, xd in zip(y_nw, y_s, model_comparison_df['Model']):\r\n",
        "    # labeling the scatter savings\r\n",
        "    annotations.append(dict(xref='x2', yref='y2',\r\n",
        "                            y=xd, x=ydn + 0.02,\r\n",
        "                            text='{:.3f}'.format(ydn),\r\n",
        "                            font=dict(family='Arial', size=12,\r\n",
        "                                      color='rgb(128, 0, 128)'),\r\n",
        "                            showarrow=False))\r\n",
        "    # labeling the bar net worth\r\n",
        "    annotations.append(dict(xref='x1', yref='y1',\r\n",
        "                            y=xd, x=yd + 0.08,\r\n",
        "                            text='{:.3f}'.format(yd),\r\n",
        "                            font=dict(family='Arial', size=12,\r\n",
        "                                      color='rgb(128, 0, 128)'),\r\n",
        "                            showarrow=False))\r\n",
        "# Source\r\n",
        "annotations.append(dict(xref='paper', yref='paper',\r\n",
        "                        x=-0.08, y=-0.109,\r\n",
        "                        text='Telco Churn Dataset\"' +\r\n",
        "                             '(Accessed on 05 March 2020)',\r\n",
        "                        font=dict(family='Arial', size=10, color='rgb(150,150,150)'),\r\n",
        "                        showarrow=False))\r\n",
        "\r\n",
        "fig.update_layout(annotations=annotations)\r\n",
        "fig.show()"
      ],
      "execution_count": null,
      "outputs": []
    },
    {
      "cell_type": "code",
      "metadata": {
        "id": "qa8_XjmHqMJH"
      },
      "source": [
        "data = pd.read_csv('/content/drive/MyDrive/ML4EconProject/application_record.csv') \r\n",
        "data.head()\r\n",
        "data.shape"
      ],
      "execution_count": null,
      "outputs": []
    },
    {
      "cell_type": "code",
      "metadata": {
        "id": "w3FnjhuKYtal"
      },
      "source": [
        "evalData = data\n",
        "evalData.rename(columns={'ID':'ClientID','CODE_GENDER':'Gender','FLAG_OWN_CAR':'Car','FLAG_OWN_REALTY':'Reality',\n",
        "                   'CNT_CHILDREN':'Children','AMT_INCOME_TOTAL':'Total_Income', 'NAME_INCOME_TYPE':'Income_Type',\n",
        "                    'NAME_EDUCATION_TYPE':'Education','NAME_FAMILY_STATUS':'Family_Status',\n",
        "                    'NAME_HOUSING_TYPE':'Housing_Type', 'DAYS_BIRTH':'Birthday', 'DAYS_EMPLOYED':'Employment_Day', \n",
        "                   \t'FLAG_MOBIL': 'Has_Mobile', 'FLAG_EMAIL':'Email','FLAG_WORK_PHONE':'Workphone',\n",
        "                    'FLAG_PHONE':'Phone','CNT_FAM_MEMBERS':'Family_Size',\n",
        "                   'OCCUPATION_TYPE':'Occupation' },inplace=True)\n",
        "\n",
        "evalData.describe(include='all') \n",
        "evalData= evalData.drop(['Has_Mobile'], axis=1)\n",
        "evalData['Employment_Day']=-evalData['Employment_Day']//365\n",
        "evalData=evalData.rename(columns={\"Employment_Day\": \"Employment_Years\"})\n",
        "evalData['Birthday']= - evalData['Birthday'] //365\n",
        "evalData=evalData.rename(columns={\"Birthday\": \"Age\"})\n",
        "evalData= evalData.replace('M', 1)\n",
        "evalData= evalData.replace('F', 0)\n",
        "evalData= evalData.replace('Y', 1)\n",
        "evalData= evalData.replace('N', 0)\n",
        "\n",
        "evalData['Email'] = pd.factorize(evalData.Email)[0]\n",
        "evalData['Phone'] = pd.factorize(evalData.Phone)[0]\n",
        "evalData['Workphone'] = pd.factorize(evalData.Workphone)[0]\n",
        "\n",
        "#X = df.iloc[:,1:-1]\n",
        "X = pd.get_dummies(X)\n",
        "X\n",
        "\n",
        "sc = StandardScaler()\n",
        "X = sc.fit_transform(X)"
      ],
      "execution_count": null,
      "outputs": []
    },
    {
      "cell_type": "code",
      "metadata": {
        "id": "kueZ1ycNOlCp"
      },
      "source": [
        "X.shape"
      ],
      "execution_count": null,
      "outputs": []
    },
    {
      "cell_type": "code",
      "metadata": {
        "id": "7oMaVMW7bG1G"
      },
      "source": [
        "predictions_SVC = model_SVC.predict(X)\n",
        "predictions_NN = model_NN.predict(X)\n",
        "predictons_DT = model_DT.predict(X)\n",
        "predictions_RF = model_RFC.predict(X)\n",
        "predictions_LR = model_LCV.predict(X)\n"
      ],
      "execution_count": null,
      "outputs": []
    },
    {
      "cell_type": "code",
      "metadata": {
        "id": "Qr5U9g58PyUU"
      },
      "source": [
        "predictions_SVC.sum()\n",
        "yes = (predictions_SVC.sum(), predictions_LR.sum(), predictions_NN.sum(), predictions_RF.sum(), predictons_DT.sum())\n",
        "yes"
      ],
      "execution_count": null,
      "outputs": []
    },
    {
      "cell_type": "code",
      "metadata": {
        "id": "jlprRrdkTAqu"
      },
      "source": [
        "N = 5\n",
        "risk = (predictions_SVC.sum(), predictions_LR.sum(), predictions_NN.sum(), predictions_RF.sum(), predictons_DT.sum())\n",
        "noRisk = (len(predictions_SVC)-predictions_SVC.sum(), len(predictions_LR)-predictions_LR.sum(), len(predictions_NN)-predictions_NN.sum(), len(predictions_RF)-predictions_RF.sum(), len(predictons_DT)-predictons_DT.sum())\n",
        "\n",
        "\n",
        "ind = np.arange(N) # the x locations for the groups\n",
        "width = 0.35\n",
        "fig = plt.figure(figsize=(5,5))\n",
        "ax = fig.add_axes([0,0,1,1])\n",
        "ax.bar(ind, risk, width, color='r')\n",
        "ax.bar(ind, noRisk, width,bottom=yes, color='b')\n",
        "ax.set_ylabel('Number of applicants')\n",
        "ax.set_title('Prediction of viable applicants')\n",
        "ax.set_xticks(ind, ('G1', 'G2', 'G3', 'G4', 'G5'))\n",
        "ax.set_xticklabels(['','SVC','LR','NN','RF','DT'])\n",
        "\n",
        "\n",
        "#ax.set_yticks(np.arange(0, 81, 10))\n",
        "#plt.legend(loc='upper right',labels=['Risk', 'No Risk'])\n",
        "plt.legend(bbox_to_anchor=(1.5, 1), loc='upper right', labels=['Risk', 'No Risk'])\n",
        "plt.savefig('/content/drive/MyDrive/ML4EconProject/resultsApplicants.png')\n",
        "plt.show()"
      ],
      "execution_count": null,
      "outputs": []
    },
    {
      "cell_type": "code",
      "metadata": {
        "id": "s1SO9qbsZ8C1"
      },
      "source": [
        "N = 5\n",
        "gain = 213\n",
        "riskSavings = -1000\n",
        "risk = [predictions_SVC.sum(), predictions_LR.sum(), predictions_NN.sum(), predictions_RF.sum(), predictons_DT.sum()]\n",
        "noRisk = (len(predictions_SVC)-predictions_SVC.sum(), len(predictions_LR)-predictions_LR.sum(), len(predictions_NN)-predictions_NN.sum(), len(predictions_RF)-predictions_RF.sum(), len(predictons_DT)-predictons_DT.sum())\n",
        "accuracyList = [0.988, 0.693, 0.981, 0.987, 0.974]\n",
        "\n",
        "\n",
        "risk = [element * riskSavings for element in risk]\n",
        "noRisk = [element * gain for element in noRisk]\n",
        "total = np.add(risk, noRisk)\n",
        "\n",
        "total = np.multiply(total, accuracyList)\n",
        "#total = [element * riskSavings for element in risk] total.dot(accuracyList)\n",
        "print(total)\n",
        "ind = np.arange(N) # the x locations for the groups\n",
        "width = 0.35\n",
        "fig = plt.figure(figsize=(5,5))\n",
        "ax = fig.add_axes([0,0,1,1])\n",
        "ax.bar(ind, total, width, color='g')\n",
        "ax.set_ylabel('Net benefit')\n",
        "ax.set_title('Prediction of net benefit')\n",
        "ax.set_xticks(ind, ('G1', 'G2', 'G3', 'G4', 'G5'))\n",
        "ax.set_xticklabels(['','SVC','LR','NN','RF','DT'])\n",
        "\n",
        "\n",
        "#ax.set_yticks(np.arange(0, 81, 10))\n",
        "#plt.legend(loc='upper right',labels=['Risk', 'No Risk'])\n",
        "#plt.legend(bbox_to_anchor=(1.5, 1), loc='upper right', labels=['Risk', 'No Risk'])\n",
        "plt.savefig('/content/drive/MyDrive/ML4EconProject/resultsNetBenefit.png')\n",
        "plt.show()"
      ],
      "execution_count": null,
      "outputs": []
    },
    {
      "cell_type": "code",
      "metadata": {
        "id": "t9Gidw3FUQCr"
      },
      "source": [
        "# Assumption 1: Viable applicants bring in 213$ per year on average\n",
        "# Assumption 2: Non-viable applicants save us $1,000 for each credit card debt default "
      ],
      "execution_count": null,
      "outputs": []
    }
  ]
}